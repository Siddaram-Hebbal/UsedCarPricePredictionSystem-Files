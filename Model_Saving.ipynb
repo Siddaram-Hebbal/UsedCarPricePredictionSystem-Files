{
  "nbformat": 4,
  "nbformat_minor": 0,
  "metadata": {
    "colab": {
      "name": "Model Saving.ipynb",
      "provenance": [],
      "mount_file_id": "17jhhvNu-4OzNV1pWQ71G9KbUcynfH3md",
      "authorship_tag": "ABX9TyP0oemVjKGM6QjmkLWTqrv2",
      "include_colab_link": true
    },
    "kernelspec": {
      "name": "python3",
      "display_name": "Python 3"
    }
  },
  "cells": [
    {
      "cell_type": "markdown",
      "metadata": {
        "id": "view-in-github",
        "colab_type": "text"
      },
      "source": [
        "<a href=\"https://colab.research.google.com/github/Tanu-N-Prabhu/UsedCarPricePredictionSystem-Files/blob/master/Model_Saving.ipynb\" target=\"_parent\"><img src=\"https://colab.research.google.com/assets/colab-badge.svg\" alt=\"Open In Colab\"/></a>"
      ]
    },
    {
      "cell_type": "markdown",
      "metadata": {
        "id": "OooyiblX3hMW",
        "colab_type": "text"
      },
      "source": [
        "# **Model Saving**\n",
        "\n",
        "In this notebook the model will be save as a `.sav` file. This is dumped with the helo of pickle. You can save this file anywhere in your local system. With the help a [tutorial](https://machinelearningmastery.com/save-load-machine-learning-models-python-scikit-learn/) I could easily save the model"
      ]
    },
    {
      "cell_type": "code",
      "metadata": {
        "id": "esJuNgcN3fEZ",
        "colab_type": "code",
        "colab": {}
      },
      "source": [
        "import pandas as pd    \n",
        "from sklearn.preprocessing import StandardScaler\n",
        "from sklearn.ensemble import RandomForestRegressor\n",
        "from sklearn.metrics import r2_score     \n",
        "from sklearn.metrics import mean_absolute_error\n",
        "from sklearn.metrics import mean_squared_error           # Loading the dataset into a dataframe and performing the desired operations\n",
        "from sklearn.model_selection import train_test_split\n",
        "import pickle   "
      ],
      "execution_count": 0,
      "outputs": []
    },
    {
      "cell_type": "code",
      "metadata": {
        "id": "JLY2qE2D4AMR",
        "colab_type": "code",
        "colab": {
          "base_uri": "https://localhost:8080/",
          "height": 222
        },
        "outputId": "9c36c58b-e9ef-4d7e-d90f-229a167d49fd"
      },
      "source": [
        "# Storing the dataset (CSV file) as a pandas dataframe\n",
        "\n",
        "df = pd.read_csv(\"/content/drive/My Drive/Dataset/CleanedData.csv\")   # Storing the CSV file into a dataframe\n",
        "df.head(5)"
      ],
      "execution_count": 2,
      "outputs": [
        {
          "output_type": "execute_result",
          "data": {
            "text/html": [
              "<div>\n",
              "<style scoped>\n",
              "    .dataframe tbody tr th:only-of-type {\n",
              "        vertical-align: middle;\n",
              "    }\n",
              "\n",
              "    .dataframe tbody tr th {\n",
              "        vertical-align: top;\n",
              "    }\n",
              "\n",
              "    .dataframe thead th {\n",
              "        text-align: right;\n",
              "    }\n",
              "</style>\n",
              "<table border=\"1\" class=\"dataframe\">\n",
              "  <thead>\n",
              "    <tr style=\"text-align: right;\">\n",
              "      <th></th>\n",
              "      <th>price</th>\n",
              "      <th>yearOfRegistration</th>\n",
              "      <th>powerPS</th>\n",
              "      <th>model</th>\n",
              "      <th>kilometer</th>\n",
              "      <th>monthOfRegistration</th>\n",
              "      <th>fuelType</th>\n",
              "      <th>brand</th>\n",
              "      <th>postalCode</th>\n",
              "      <th>vehicleType_0</th>\n",
              "      <th>vehicleType_1</th>\n",
              "      <th>vehicleType_2</th>\n",
              "      <th>vehicleType_3</th>\n",
              "      <th>vehicleType_4</th>\n",
              "      <th>vehicleType_5</th>\n",
              "      <th>vehicleType_6</th>\n",
              "      <th>vehicleType_7</th>\n",
              "      <th>gearbox_0</th>\n",
              "      <th>gearbox_1</th>\n",
              "    </tr>\n",
              "  </thead>\n",
              "  <tbody>\n",
              "    <tr>\n",
              "      <th>0</th>\n",
              "      <td>650</td>\n",
              "      <td>1995</td>\n",
              "      <td>102</td>\n",
              "      <td>11</td>\n",
              "      <td>150000</td>\n",
              "      <td>10</td>\n",
              "      <td>1</td>\n",
              "      <td>2</td>\n",
              "      <td>33775</td>\n",
              "      <td>0</td>\n",
              "      <td>0</td>\n",
              "      <td>0</td>\n",
              "      <td>0</td>\n",
              "      <td>0</td>\n",
              "      <td>0</td>\n",
              "      <td>1</td>\n",
              "      <td>0</td>\n",
              "      <td>0</td>\n",
              "      <td>1</td>\n",
              "    </tr>\n",
              "    <tr>\n",
              "      <th>1</th>\n",
              "      <td>2000</td>\n",
              "      <td>2004</td>\n",
              "      <td>105</td>\n",
              "      <td>10</td>\n",
              "      <td>150000</td>\n",
              "      <td>12</td>\n",
              "      <td>1</td>\n",
              "      <td>19</td>\n",
              "      <td>96224</td>\n",
              "      <td>0</td>\n",
              "      <td>0</td>\n",
              "      <td>0</td>\n",
              "      <td>0</td>\n",
              "      <td>0</td>\n",
              "      <td>0</td>\n",
              "      <td>1</td>\n",
              "      <td>0</td>\n",
              "      <td>0</td>\n",
              "      <td>1</td>\n",
              "    </tr>\n",
              "    <tr>\n",
              "      <th>2</th>\n",
              "      <td>2799</td>\n",
              "      <td>2005</td>\n",
              "      <td>140</td>\n",
              "      <td>160</td>\n",
              "      <td>150000</td>\n",
              "      <td>12</td>\n",
              "      <td>3</td>\n",
              "      <td>37</td>\n",
              "      <td>57290</td>\n",
              "      <td>0</td>\n",
              "      <td>0</td>\n",
              "      <td>0</td>\n",
              "      <td>0</td>\n",
              "      <td>0</td>\n",
              "      <td>1</td>\n",
              "      <td>0</td>\n",
              "      <td>0</td>\n",
              "      <td>0</td>\n",
              "      <td>1</td>\n",
              "    </tr>\n",
              "    <tr>\n",
              "      <th>3</th>\n",
              "      <td>999</td>\n",
              "      <td>1995</td>\n",
              "      <td>115</td>\n",
              "      <td>160</td>\n",
              "      <td>150000</td>\n",
              "      <td>11</td>\n",
              "      <td>1</td>\n",
              "      <td>37</td>\n",
              "      <td>37269</td>\n",
              "      <td>0</td>\n",
              "      <td>0</td>\n",
              "      <td>0</td>\n",
              "      <td>0</td>\n",
              "      <td>0</td>\n",
              "      <td>1</td>\n",
              "      <td>0</td>\n",
              "      <td>0</td>\n",
              "      <td>0</td>\n",
              "      <td>1</td>\n",
              "    </tr>\n",
              "    <tr>\n",
              "      <th>4</th>\n",
              "      <td>2500</td>\n",
              "      <td>2004</td>\n",
              "      <td>131</td>\n",
              "      <td>160</td>\n",
              "      <td>150000</td>\n",
              "      <td>2</td>\n",
              "      <td>1</td>\n",
              "      <td>37</td>\n",
              "      <td>90762</td>\n",
              "      <td>0</td>\n",
              "      <td>0</td>\n",
              "      <td>0</td>\n",
              "      <td>0</td>\n",
              "      <td>0</td>\n",
              "      <td>1</td>\n",
              "      <td>0</td>\n",
              "      <td>0</td>\n",
              "      <td>0</td>\n",
              "      <td>1</td>\n",
              "    </tr>\n",
              "  </tbody>\n",
              "</table>\n",
              "</div>"
            ],
            "text/plain": [
              "   price  yearOfRegistration  powerPS  ...  vehicleType_7  gearbox_0  gearbox_1\n",
              "0    650                1995      102  ...              0          0          1\n",
              "1   2000                2004      105  ...              0          0          1\n",
              "2   2799                2005      140  ...              0          0          1\n",
              "3    999                1995      115  ...              0          0          1\n",
              "4   2500                2004      131  ...              0          0          1\n",
              "\n",
              "[5 rows x 19 columns]"
            ]
          },
          "metadata": {
            "tags": []
          },
          "execution_count": 2
        }
      ]
    },
    {
      "cell_type": "code",
      "metadata": {
        "id": "SK26BPfr4FMp",
        "colab_type": "code",
        "colab": {}
      },
      "source": [
        "selectedFeatures = ['yearOfRegistration','powerPS','model','kilometer','monthOfRegistration','fuelType','brand','postalCode','vehicleType_0','vehicleType_1','vehicleType_2','vehicleType_3','vehicleType_4','vehicleType_5','vehicleType_6','vehicleType_7','gearbox_0','gearbox_1']"
      ],
      "execution_count": 0,
      "outputs": []
    },
    {
      "cell_type": "code",
      "metadata": {
        "id": "kmuO0dKq4C3g",
        "colab_type": "code",
        "colab": {}
      },
      "source": [
        "X = df[selectedFeatures]\n",
        "y = df['price']"
      ],
      "execution_count": 0,
      "outputs": []
    },
    {
      "cell_type": "code",
      "metadata": {
        "id": "tDyZNefk4HjD",
        "colab_type": "code",
        "colab": {}
      },
      "source": [
        "X_train, X_test, y_train, y_test = train_test_split(X, y, test_size=0.1, random_state=1)\n",
        "X_train, X_val, y_train, y_val = train_test_split(X_train, y_train, test_size=0.15, random_state=1) # 0.25 x 0.8 = 0.2"
      ],
      "execution_count": 0,
      "outputs": []
    },
    {
      "cell_type": "code",
      "metadata": {
        "id": "JFTyKhf-4Jku",
        "colab_type": "code",
        "colab": {}
      },
      "source": [
        "rfr = RandomForestRegressor(max_depth= 16, max_features=10, min_samples_leaf=2, n_estimators=350).fit(X_train, y_train)"
      ],
      "execution_count": 0,
      "outputs": []
    },
    {
      "cell_type": "code",
      "metadata": {
        "id": "bdjOMPsb4kcE",
        "colab_type": "code",
        "colab": {}
      },
      "source": [
        "# save the model to disk\n",
        "filename = '/content/drive/My Drive/Models/regressionmodel.sav'\n",
        "pickle.dump(rfr, open(filename, 'wb'))"
      ],
      "execution_count": 0,
      "outputs": []
    },
    {
      "cell_type": "code",
      "metadata": {
        "id": "zzdEBdI94tFH",
        "colab_type": "code",
        "colab": {
          "base_uri": "https://localhost:8080/",
          "height": 35
        },
        "outputId": "1d338be3-e90c-459a-8d4c-32bec68eaf0c"
      },
      "source": [
        "# load the model from disk\n",
        "loaded_model = pickle.load(open(filename, 'rb'))\n",
        "result = loaded_model.score(X_test, y_test)\n",
        "print(result)"
      ],
      "execution_count": 12,
      "outputs": [
        {
          "output_type": "stream",
          "text": [
            "0.8670148409018903\n"
          ],
          "name": "stdout"
        }
      ]
    },
    {
      "cell_type": "markdown",
      "metadata": {
        "id": "pnQfnpOb5C3j",
        "colab_type": "text"
      },
      "source": [
        "Also, the original model file can be found [here](https://github.com/Tanu-N-Prabhu/Used_Car_Price_Prediction_System1/blob/master/model1.sav)"
      ]
    },
    {
      "cell_type": "markdown",
      "metadata": {
        "id": "NhkjRnMC5B5f",
        "colab_type": "text"
      },
      "source": [
        "\n",
        "\n",
        "---\n",
        "\n"
      ]
    }
  ]
}