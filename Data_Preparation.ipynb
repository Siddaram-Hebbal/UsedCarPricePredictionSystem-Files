{
  "nbformat": 4,
  "nbformat_minor": 0,
  "metadata": {
    "colab": {
      "name": "Data Preparation.ipynb",
      "provenance": [],
      "collapsed_sections": [],
      "mount_file_id": "1TjSY5N0LHEMXWeoXIBslaInMaA-bdAaV",
      "authorship_tag": "ABX9TyOdCJulimXavbjQ4O//N2jO",
      "include_colab_link": true
    },
    "kernelspec": {
      "name": "python3",
      "display_name": "Python 3"
    }
  },
  "cells": [
    {
      "cell_type": "markdown",
      "metadata": {
        "id": "view-in-github",
        "colab_type": "text"
      },
      "source": [
        "<a href=\"https://colab.research.google.com/github/Tanu-N-Prabhu/UsedCarPricePredictionSystem-Files/blob/master/Data_Preparation.ipynb\" target=\"_parent\"><img src=\"https://colab.research.google.com/assets/colab-badge.svg\" alt=\"Open In Colab\"/></a>"
      ]
    },
    {
      "cell_type": "markdown",
      "metadata": {
        "id": "e8-b2Pi1423X",
        "colab_type": "text"
      },
      "source": [
        "# **Data Preparation**"
      ]
    },
    {
      "cell_type": "markdown",
      "metadata": {
        "id": "57ZBQ9cW6zIE",
        "colab_type": "text"
      },
      "source": [
        "## **Accessing the Data**"
      ]
    },
    {
      "cell_type": "markdown",
      "metadata": {
        "id": "p3xDvlS96M4z",
        "colab_type": "text"
      },
      "source": [
        "### **Importing and installing the necessary libraries**\n",
        "\n",
        "#### This section comprises only importing the necessary libraries required for this data science project.\n"
      ]
    },
    {
      "cell_type": "code",
      "metadata": {
        "id": "jOhIqtOC3nd-",
        "colab_type": "code",
        "outputId": "55e1aefe-8f7c-42db-81d9-c9fe04894216",
        "colab": {
          "base_uri": "https://localhost:8080/",
          "height": 280
        }
      },
      "source": [
        "# Importing the necessary libraries\n",
        "\n",
        "import pandas as pd                                  # Loading the dataset into a dataframe and performing the desired operations\n",
        "import numpy as np                                   # Performing the mathematical operations on the dataframes when required\n",
        "import time                                          # Used to measure the time taken to load the data as a dataframe\n",
        "import sys                                           # Used to get the size of the object\n",
        "import warnings                                      # Hides all warnings in ipython\n",
        "warnings.filterwarnings('ignore')                    # Ignoring all the warnings\n",
        "from sklearn.feature_selection import SelectKBest    # Used to select the best features for the model\n",
        "from sklearn.feature_selection import chi2           # Used to perform Chi Square test on the datatest (gives the important features)\n",
        "import matplotlib.pyplot as plt                      # Used for visualization\n",
        "!pip install googletrans              # Install googletrans using pip. This is for translating the data\n",
        "import googletrans                    # Google translation methods\n",
        "from googletrans import Translator"
      ],
      "execution_count": 0,
      "outputs": [
        {
          "output_type": "stream",
          "text": [
            "Collecting googletrans\n",
            "  Downloading https://files.pythonhosted.org/packages/fd/f0/a22d41d3846d1f46a4f20086141e0428ccc9c6d644aacbfd30990cf46886/googletrans-2.4.0.tar.gz\n",
            "Requirement already satisfied: requests in /usr/local/lib/python3.6/dist-packages (from googletrans) (2.21.0)\n",
            "Requirement already satisfied: certifi>=2017.4.17 in /usr/local/lib/python3.6/dist-packages (from requests->googletrans) (2019.11.28)\n",
            "Requirement already satisfied: chardet<3.1.0,>=3.0.2 in /usr/local/lib/python3.6/dist-packages (from requests->googletrans) (3.0.4)\n",
            "Requirement already satisfied: idna<2.9,>=2.5 in /usr/local/lib/python3.6/dist-packages (from requests->googletrans) (2.8)\n",
            "Requirement already satisfied: urllib3<1.25,>=1.21.1 in /usr/local/lib/python3.6/dist-packages (from requests->googletrans) (1.24.3)\n",
            "Building wheels for collected packages: googletrans\n",
            "  Building wheel for googletrans (setup.py) ... \u001b[?25l\u001b[?25hdone\n",
            "  Created wheel for googletrans: filename=googletrans-2.4.0-cp36-none-any.whl size=15777 sha256=b0fa9d5ac98c28a2c03d601484a7f2146d55e5af2802bbf1f4b309e15c01986b\n",
            "  Stored in directory: /root/.cache/pip/wheels/50/d6/e7/a8efd5f2427d5eb258070048718fa56ee5ac57fd6f53505f95\n",
            "Successfully built googletrans\n",
            "Installing collected packages: googletrans\n",
            "Successfully installed googletrans-2.4.0\n"
          ],
          "name": "stdout"
        }
      ]
    },
    {
      "cell_type": "markdown",
      "metadata": {
        "id": "H14MabOv6sZE",
        "colab_type": "text"
      },
      "source": [
        "\n",
        "\n",
        "---\n",
        "\n"
      ]
    },
    {
      "cell_type": "markdown",
      "metadata": {
        "id": "WOqq4z526tRj",
        "colab_type": "text"
      },
      "source": [
        "### **Storing the dataset into a pandas dataframe**\n",
        "\n",
        "#### In this section, we will read the data from the CSV (Comma Seperated Value) file and then store it into a dataframe.\n",
        "\n",
        "\n",
        "**To avoid the `utf-8` error we need to use a different way to read the CSV file**\n",
        "\n",
        "**Error description**: `'utf-8' codec can't decode byte 0xdc in position 14: invalid continuation byte`. It is mainly because the actual data set CSV file doesn't actually contain **utf-8 encoded data**, it contains some other encoding. We will manually encode it to **cp1252**\n",
        "\n",
        "\n",
        "\n",
        "> **Hint**: `The header in the below code is not compulsory`\n"
      ]
    },
    {
      "cell_type": "code",
      "metadata": {
        "id": "7lRc9-DO7daj",
        "colab_type": "code",
        "outputId": "6be82fb3-95f3-4dc5-eb5d-3e687dc13cad",
        "colab": {
          "base_uri": "https://localhost:8080/",
          "height": 35
        }
      },
      "source": [
        "# Storing the dataset (CSV file) as a pandas dataframe\n",
        "start_time = time.time()                                                                                  # Calculating the time taken to convert the dataset from CSV to dataframe\n",
        "df = pd.read_csv(\"/content/drive/My Drive/Dataset/autos.csv\", sep = ',', header = 0, encoding='cp1252')   # Storing the CSV file into a dataframe\n",
        "print(\"--- %s seconds ---\" % (time.time() - start_time))                                                  # Displaying the time in seconds"
      ],
      "execution_count": 0,
      "outputs": [
        {
          "output_type": "stream",
          "text": [
            "--- 4.003186464309692 seconds ---\n"
          ],
          "name": "stdout"
        }
      ]
    },
    {
      "cell_type": "markdown",
      "metadata": {
        "id": "ZJqB9fp57wRl",
        "colab_type": "text"
      },
      "source": [
        "I am using the [python time library](https://docs.python.org/3/library/time.html) to calculate the total time taken to load the entire dataset and display it in seconds.\n",
        "\n",
        "\n",
        "\n",
        "---\n",
        "\n"
      ]
    },
    {
      "cell_type": "markdown",
      "metadata": {
        "id": "QLJlvjXN7xDT",
        "colab_type": "text"
      },
      "source": [
        "### **Displaying the dataframe**\n",
        "\n",
        "#### In this section, we will have a look at the stored dataframe.\n",
        "\n",
        "We will use the pandas `head()` and the `tail()` methods which displays the top and the bottom rows of the dataframe respectively."
      ]
    },
    {
      "cell_type": "code",
      "metadata": {
        "id": "uJtyA2uT77ZG",
        "colab_type": "code",
        "outputId": "899f1692-2e4a-4fdc-cf1d-48ecba544b97",
        "colab": {
          "base_uri": "https://localhost:8080/",
          "height": 395
        }
      },
      "source": [
        "df.head(5)                   # Display top 5 rows of the dataframe"
      ],
      "execution_count": 0,
      "outputs": [
        {
          "output_type": "execute_result",
          "data": {
            "text/html": [
              "<div>\n",
              "<style scoped>\n",
              "    .dataframe tbody tr th:only-of-type {\n",
              "        vertical-align: middle;\n",
              "    }\n",
              "\n",
              "    .dataframe tbody tr th {\n",
              "        vertical-align: top;\n",
              "    }\n",
              "\n",
              "    .dataframe thead th {\n",
              "        text-align: right;\n",
              "    }\n",
              "</style>\n",
              "<table border=\"1\" class=\"dataframe\">\n",
              "  <thead>\n",
              "    <tr style=\"text-align: right;\">\n",
              "      <th></th>\n",
              "      <th>dateCrawled</th>\n",
              "      <th>name</th>\n",
              "      <th>seller</th>\n",
              "      <th>offerType</th>\n",
              "      <th>price</th>\n",
              "      <th>abtest</th>\n",
              "      <th>vehicleType</th>\n",
              "      <th>yearOfRegistration</th>\n",
              "      <th>gearbox</th>\n",
              "      <th>powerPS</th>\n",
              "      <th>model</th>\n",
              "      <th>kilometer</th>\n",
              "      <th>monthOfRegistration</th>\n",
              "      <th>fuelType</th>\n",
              "      <th>brand</th>\n",
              "      <th>notRepairedDamage</th>\n",
              "      <th>dateCreated</th>\n",
              "      <th>nrOfPictures</th>\n",
              "      <th>postalCode</th>\n",
              "      <th>lastSeen</th>\n",
              "    </tr>\n",
              "  </thead>\n",
              "  <tbody>\n",
              "    <tr>\n",
              "      <th>0</th>\n",
              "      <td>2016-03-24 11:52:17</td>\n",
              "      <td>Golf_3_1.6</td>\n",
              "      <td>privat</td>\n",
              "      <td>Angebot</td>\n",
              "      <td>480</td>\n",
              "      <td>test</td>\n",
              "      <td>NaN</td>\n",
              "      <td>1993</td>\n",
              "      <td>manuell</td>\n",
              "      <td>0</td>\n",
              "      <td>golf</td>\n",
              "      <td>150000</td>\n",
              "      <td>0</td>\n",
              "      <td>benzin</td>\n",
              "      <td>volkswagen</td>\n",
              "      <td>NaN</td>\n",
              "      <td>2016-03-24 00:00:00</td>\n",
              "      <td>0</td>\n",
              "      <td>70435</td>\n",
              "      <td>2016-04-07 03:16:57</td>\n",
              "    </tr>\n",
              "    <tr>\n",
              "      <th>1</th>\n",
              "      <td>2016-03-24 10:58:45</td>\n",
              "      <td>A5_Sportback_2.7_Tdi</td>\n",
              "      <td>privat</td>\n",
              "      <td>Angebot</td>\n",
              "      <td>18300</td>\n",
              "      <td>test</td>\n",
              "      <td>coupe</td>\n",
              "      <td>2011</td>\n",
              "      <td>manuell</td>\n",
              "      <td>190</td>\n",
              "      <td>NaN</td>\n",
              "      <td>125000</td>\n",
              "      <td>5</td>\n",
              "      <td>diesel</td>\n",
              "      <td>audi</td>\n",
              "      <td>ja</td>\n",
              "      <td>2016-03-24 00:00:00</td>\n",
              "      <td>0</td>\n",
              "      <td>66954</td>\n",
              "      <td>2016-04-07 01:46:50</td>\n",
              "    </tr>\n",
              "    <tr>\n",
              "      <th>2</th>\n",
              "      <td>2016-03-14 12:52:21</td>\n",
              "      <td>Jeep_Grand_Cherokee_\"Overland\"</td>\n",
              "      <td>privat</td>\n",
              "      <td>Angebot</td>\n",
              "      <td>9800</td>\n",
              "      <td>test</td>\n",
              "      <td>suv</td>\n",
              "      <td>2004</td>\n",
              "      <td>automatik</td>\n",
              "      <td>163</td>\n",
              "      <td>grand</td>\n",
              "      <td>125000</td>\n",
              "      <td>8</td>\n",
              "      <td>diesel</td>\n",
              "      <td>jeep</td>\n",
              "      <td>NaN</td>\n",
              "      <td>2016-03-14 00:00:00</td>\n",
              "      <td>0</td>\n",
              "      <td>90480</td>\n",
              "      <td>2016-04-05 12:47:46</td>\n",
              "    </tr>\n",
              "    <tr>\n",
              "      <th>3</th>\n",
              "      <td>2016-03-17 16:54:04</td>\n",
              "      <td>GOLF_4_1_4__3TÜRER</td>\n",
              "      <td>privat</td>\n",
              "      <td>Angebot</td>\n",
              "      <td>1500</td>\n",
              "      <td>test</td>\n",
              "      <td>kleinwagen</td>\n",
              "      <td>2001</td>\n",
              "      <td>manuell</td>\n",
              "      <td>75</td>\n",
              "      <td>golf</td>\n",
              "      <td>150000</td>\n",
              "      <td>6</td>\n",
              "      <td>benzin</td>\n",
              "      <td>volkswagen</td>\n",
              "      <td>nein</td>\n",
              "      <td>2016-03-17 00:00:00</td>\n",
              "      <td>0</td>\n",
              "      <td>91074</td>\n",
              "      <td>2016-03-17 17:40:17</td>\n",
              "    </tr>\n",
              "    <tr>\n",
              "      <th>4</th>\n",
              "      <td>2016-03-31 17:25:20</td>\n",
              "      <td>Skoda_Fabia_1.4_TDI_PD_Classic</td>\n",
              "      <td>privat</td>\n",
              "      <td>Angebot</td>\n",
              "      <td>3600</td>\n",
              "      <td>test</td>\n",
              "      <td>kleinwagen</td>\n",
              "      <td>2008</td>\n",
              "      <td>manuell</td>\n",
              "      <td>69</td>\n",
              "      <td>fabia</td>\n",
              "      <td>90000</td>\n",
              "      <td>7</td>\n",
              "      <td>diesel</td>\n",
              "      <td>skoda</td>\n",
              "      <td>nein</td>\n",
              "      <td>2016-03-31 00:00:00</td>\n",
              "      <td>0</td>\n",
              "      <td>60437</td>\n",
              "      <td>2016-04-06 10:17:21</td>\n",
              "    </tr>\n",
              "  </tbody>\n",
              "</table>\n",
              "</div>"
            ],
            "text/plain": [
              "           dateCrawled  ...             lastSeen\n",
              "0  2016-03-24 11:52:17  ...  2016-04-07 03:16:57\n",
              "1  2016-03-24 10:58:45  ...  2016-04-07 01:46:50\n",
              "2  2016-03-14 12:52:21  ...  2016-04-05 12:47:46\n",
              "3  2016-03-17 16:54:04  ...  2016-03-17 17:40:17\n",
              "4  2016-03-31 17:25:20  ...  2016-04-06 10:17:21\n",
              "\n",
              "[5 rows x 20 columns]"
            ]
          },
          "metadata": {
            "tags": []
          },
          "execution_count": 3
        }
      ]
    },
    {
      "cell_type": "code",
      "metadata": {
        "id": "beRNGUTP7-wJ",
        "colab_type": "code",
        "outputId": "3441c744-7d59-48da-930f-7f10a8e59841",
        "colab": {
          "base_uri": "https://localhost:8080/",
          "height": 395
        }
      },
      "source": [
        "df.tail(5)                    # Display last 5 rows of the dataframe"
      ],
      "execution_count": 0,
      "outputs": [
        {
          "output_type": "execute_result",
          "data": {
            "text/html": [
              "<div>\n",
              "<style scoped>\n",
              "    .dataframe tbody tr th:only-of-type {\n",
              "        vertical-align: middle;\n",
              "    }\n",
              "\n",
              "    .dataframe tbody tr th {\n",
              "        vertical-align: top;\n",
              "    }\n",
              "\n",
              "    .dataframe thead th {\n",
              "        text-align: right;\n",
              "    }\n",
              "</style>\n",
              "<table border=\"1\" class=\"dataframe\">\n",
              "  <thead>\n",
              "    <tr style=\"text-align: right;\">\n",
              "      <th></th>\n",
              "      <th>dateCrawled</th>\n",
              "      <th>name</th>\n",
              "      <th>seller</th>\n",
              "      <th>offerType</th>\n",
              "      <th>price</th>\n",
              "      <th>abtest</th>\n",
              "      <th>vehicleType</th>\n",
              "      <th>yearOfRegistration</th>\n",
              "      <th>gearbox</th>\n",
              "      <th>powerPS</th>\n",
              "      <th>model</th>\n",
              "      <th>kilometer</th>\n",
              "      <th>monthOfRegistration</th>\n",
              "      <th>fuelType</th>\n",
              "      <th>brand</th>\n",
              "      <th>notRepairedDamage</th>\n",
              "      <th>dateCreated</th>\n",
              "      <th>nrOfPictures</th>\n",
              "      <th>postalCode</th>\n",
              "      <th>lastSeen</th>\n",
              "    </tr>\n",
              "  </thead>\n",
              "  <tbody>\n",
              "    <tr>\n",
              "      <th>371523</th>\n",
              "      <td>2016-03-14 17:48:27</td>\n",
              "      <td>Suche_t4___vito_ab_6_sitze</td>\n",
              "      <td>privat</td>\n",
              "      <td>Angebot</td>\n",
              "      <td>2200</td>\n",
              "      <td>test</td>\n",
              "      <td>NaN</td>\n",
              "      <td>2005</td>\n",
              "      <td>NaN</td>\n",
              "      <td>0</td>\n",
              "      <td>NaN</td>\n",
              "      <td>20000</td>\n",
              "      <td>1</td>\n",
              "      <td>NaN</td>\n",
              "      <td>sonstige_autos</td>\n",
              "      <td>NaN</td>\n",
              "      <td>2016-03-14 00:00:00</td>\n",
              "      <td>0</td>\n",
              "      <td>39576</td>\n",
              "      <td>2016-04-06 00:46:52</td>\n",
              "    </tr>\n",
              "    <tr>\n",
              "      <th>371524</th>\n",
              "      <td>2016-03-05 19:56:21</td>\n",
              "      <td>Smart_smart_leistungssteigerung_100ps</td>\n",
              "      <td>privat</td>\n",
              "      <td>Angebot</td>\n",
              "      <td>1199</td>\n",
              "      <td>test</td>\n",
              "      <td>cabrio</td>\n",
              "      <td>2000</td>\n",
              "      <td>automatik</td>\n",
              "      <td>101</td>\n",
              "      <td>fortwo</td>\n",
              "      <td>125000</td>\n",
              "      <td>3</td>\n",
              "      <td>benzin</td>\n",
              "      <td>smart</td>\n",
              "      <td>nein</td>\n",
              "      <td>2016-03-05 00:00:00</td>\n",
              "      <td>0</td>\n",
              "      <td>26135</td>\n",
              "      <td>2016-03-11 18:17:12</td>\n",
              "    </tr>\n",
              "    <tr>\n",
              "      <th>371525</th>\n",
              "      <td>2016-03-19 18:57:12</td>\n",
              "      <td>Volkswagen_Multivan_T4_TDI_7DC_UY2</td>\n",
              "      <td>privat</td>\n",
              "      <td>Angebot</td>\n",
              "      <td>9200</td>\n",
              "      <td>test</td>\n",
              "      <td>bus</td>\n",
              "      <td>1996</td>\n",
              "      <td>manuell</td>\n",
              "      <td>102</td>\n",
              "      <td>transporter</td>\n",
              "      <td>150000</td>\n",
              "      <td>3</td>\n",
              "      <td>diesel</td>\n",
              "      <td>volkswagen</td>\n",
              "      <td>nein</td>\n",
              "      <td>2016-03-19 00:00:00</td>\n",
              "      <td>0</td>\n",
              "      <td>87439</td>\n",
              "      <td>2016-04-07 07:15:26</td>\n",
              "    </tr>\n",
              "    <tr>\n",
              "      <th>371526</th>\n",
              "      <td>2016-03-20 19:41:08</td>\n",
              "      <td>VW_Golf_Kombi_1_9l_TDI</td>\n",
              "      <td>privat</td>\n",
              "      <td>Angebot</td>\n",
              "      <td>3400</td>\n",
              "      <td>test</td>\n",
              "      <td>kombi</td>\n",
              "      <td>2002</td>\n",
              "      <td>manuell</td>\n",
              "      <td>100</td>\n",
              "      <td>golf</td>\n",
              "      <td>150000</td>\n",
              "      <td>6</td>\n",
              "      <td>diesel</td>\n",
              "      <td>volkswagen</td>\n",
              "      <td>NaN</td>\n",
              "      <td>2016-03-20 00:00:00</td>\n",
              "      <td>0</td>\n",
              "      <td>40764</td>\n",
              "      <td>2016-03-24 12:45:21</td>\n",
              "    </tr>\n",
              "    <tr>\n",
              "      <th>371527</th>\n",
              "      <td>2016-03-07 19:39:19</td>\n",
              "      <td>BMW_M135i_vollausgestattet_NP_52.720____Euro</td>\n",
              "      <td>privat</td>\n",
              "      <td>Angebot</td>\n",
              "      <td>28990</td>\n",
              "      <td>control</td>\n",
              "      <td>limousine</td>\n",
              "      <td>2013</td>\n",
              "      <td>manuell</td>\n",
              "      <td>320</td>\n",
              "      <td>m_reihe</td>\n",
              "      <td>50000</td>\n",
              "      <td>8</td>\n",
              "      <td>benzin</td>\n",
              "      <td>bmw</td>\n",
              "      <td>nein</td>\n",
              "      <td>2016-03-07 00:00:00</td>\n",
              "      <td>0</td>\n",
              "      <td>73326</td>\n",
              "      <td>2016-03-22 03:17:10</td>\n",
              "    </tr>\n",
              "  </tbody>\n",
              "</table>\n",
              "</div>"
            ],
            "text/plain": [
              "                dateCrawled  ...             lastSeen\n",
              "371523  2016-03-14 17:48:27  ...  2016-04-06 00:46:52\n",
              "371524  2016-03-05 19:56:21  ...  2016-03-11 18:17:12\n",
              "371525  2016-03-19 18:57:12  ...  2016-04-07 07:15:26\n",
              "371526  2016-03-20 19:41:08  ...  2016-03-24 12:45:21\n",
              "371527  2016-03-07 19:39:19  ...  2016-03-22 03:17:10\n",
              "\n",
              "[5 rows x 20 columns]"
            ]
          },
          "metadata": {
            "tags": []
          },
          "execution_count": 4
        }
      ]
    },
    {
      "cell_type": "markdown",
      "metadata": {
        "id": "yT8MtZZS8Wbq",
        "colab_type": "text"
      },
      "source": [
        "\n",
        "\n",
        "---\n",
        "\n"
      ]
    },
    {
      "cell_type": "markdown",
      "metadata": {
        "id": "-Izxr_IT8XAI",
        "colab_type": "text"
      },
      "source": [
        "### **Number of instances and features**\n",
        "\n",
        "#### In this section, we will determine the number of instances and the features of the dataframe.\n",
        "\n",
        "As we all know a dataset is a collection of labelled examples i.e. \n",
        "\\begin{equation*}\n",
        " {\\{(x_i, y_i)\\}_{i=1}^N} \n",
        "\\end{equation*}\n",
        "\n",
        "Each element `xi` among `N` is called a feature vector. The feature vector is a value that describes the example in a dataset. This value is called as a feature which is represented as shown below: \\begin{equation*}\n",
        "{x^j}\n",
        "\\end{equation*}\n",
        "\n",
        "A feature vector is a vector in which each dimension `j = 1, . . . , D` contains a value that describes the example somehow.\n",
        "\n",
        "\n"
      ]
    },
    {
      "cell_type": "code",
      "metadata": {
        "id": "T0vzD6qh8eqP",
        "colab_type": "code",
        "outputId": "3b7aaa6d-c304-42bc-926a-b371c7361d36",
        "colab": {
          "base_uri": "https://localhost:8080/",
          "height": 35
        }
      },
      "source": [
        "df.shape                    # The shape method the total number of rows and columns of the dataframe"
      ],
      "execution_count": 0,
      "outputs": [
        {
          "output_type": "execute_result",
          "data": {
            "text/plain": [
              "(371528, 20)"
            ]
          },
          "metadata": {
            "tags": []
          },
          "execution_count": 5
        }
      ]
    },
    {
      "cell_type": "markdown",
      "metadata": {
        "id": "3MYo6e-B8lHo",
        "colab_type": "text"
      },
      "source": [
        "There are 371, 528 instances and 20 columns\n",
        "\n",
        "**In other words**\n",
        "\n",
        "* Rows = 371, 528\n",
        "* Columns = 20"
      ]
    },
    {
      "cell_type": "markdown",
      "metadata": {
        "id": "HADVL3dv8nhP",
        "colab_type": "text"
      },
      "source": [
        "**Total number of elements in the object (dataframe)**\n"
      ]
    },
    {
      "cell_type": "code",
      "metadata": {
        "id": "OkabE-is8i5U",
        "colab_type": "code",
        "outputId": "2f5d43dc-634f-4fce-c4f5-51b77121b252",
        "colab": {
          "base_uri": "https://localhost:8080/",
          "height": 35
        }
      },
      "source": [
        "totalElements = df.size\n",
        "print(f\"{totalElements:,d}\")"
      ],
      "execution_count": 0,
      "outputs": [
        {
          "output_type": "stream",
          "text": [
            "7,430,560\n"
          ],
          "name": "stdout"
        }
      ]
    },
    {
      "cell_type": "markdown",
      "metadata": {
        "id": "vNNHJT_Q8vPD",
        "colab_type": "text"
      },
      "source": [
        "**Size of the object in bytes**\n",
        "\n"
      ]
    },
    {
      "cell_type": "code",
      "metadata": {
        "id": "W29Iggd88vp9",
        "colab_type": "code",
        "outputId": "c5b960a7-afbd-4152-8b8d-49d3752d66ac",
        "colab": {
          "base_uri": "https://localhost:8080/",
          "height": 35
        }
      },
      "source": [
        "sys.getsizeof(df) "
      ],
      "execution_count": 0,
      "outputs": [
        {
          "output_type": "execute_result",
          "data": {
            "text/plain": [
              "344749766"
            ]
          },
          "metadata": {
            "tags": []
          },
          "execution_count": 7
        }
      ]
    },
    {
      "cell_type": "markdown",
      "metadata": {
        "id": "XfdUAMo380n5",
        "colab_type": "text"
      },
      "source": [
        "**Getting the features and their count**"
      ]
    },
    {
      "cell_type": "code",
      "metadata": {
        "id": "wneGrYk282ZF",
        "colab_type": "code",
        "outputId": "15ad6dcd-f027-4260-fce4-4f1af643a1c8",
        "colab": {
          "base_uri": "https://localhost:8080/",
          "height": 35
        }
      },
      "source": [
        "featureCount = len(df.columns)\n",
        "featureCount"
      ],
      "execution_count": 0,
      "outputs": [
        {
          "output_type": "execute_result",
          "data": {
            "text/plain": [
              "20"
            ]
          },
          "metadata": {
            "tags": []
          },
          "execution_count": 8
        }
      ]
    },
    {
      "cell_type": "code",
      "metadata": {
        "id": "MlNIojW684rC",
        "colab_type": "code",
        "outputId": "037cfdb7-3418-4ab1-c23d-300de7ec8bbf",
        "colab": {
          "base_uri": "https://localhost:8080/",
          "height": 364
        }
      },
      "source": [
        "features = list(df.columns.values)\n",
        "features"
      ],
      "execution_count": 0,
      "outputs": [
        {
          "output_type": "execute_result",
          "data": {
            "text/plain": [
              "['dateCrawled',\n",
              " 'name',\n",
              " 'seller',\n",
              " 'offerType',\n",
              " 'price',\n",
              " 'abtest',\n",
              " 'vehicleType',\n",
              " 'yearOfRegistration',\n",
              " 'gearbox',\n",
              " 'powerPS',\n",
              " 'model',\n",
              " 'kilometer',\n",
              " 'monthOfRegistration',\n",
              " 'fuelType',\n",
              " 'brand',\n",
              " 'notRepairedDamage',\n",
              " 'dateCreated',\n",
              " 'nrOfPictures',\n",
              " 'postalCode',\n",
              " 'lastSeen']"
            ]
          },
          "metadata": {
            "tags": []
          },
          "execution_count": 9
        }
      ]
    },
    {
      "cell_type": "markdown",
      "metadata": {
        "id": "_AncUeYy86uE",
        "colab_type": "text"
      },
      "source": [
        "\n",
        "**Below is the details of the features**\n",
        "\n",
        "* **dateCrawled** : when this ad was first crawled, all field-values are taken from this date\n",
        "* **name** : \"name\" of the car\n",
        "* **seller** : private or dealer\n",
        "* **offerType**: With offer or without offer\n",
        "* **price** : the price on the ad to sell the car\n",
        "* **abtest**: Test on the car\n",
        "* **vehicleType**: Type of the car (Sedan, truck, etc.)\n",
        "* **yearOfRegistration** : at which year the car was first registered\n",
        "* **gearbox**: Automatic or manual transmission\n",
        "* **powerPS** : power of the car in PS\n",
        "* **model**: Model of the car\n",
        "* **kilometer** : how many kilometers the car has driven\n",
        "* **monthOfRegistration** : at which month the car was first registered\n",
        "* **fuelType**: Gas, Petrol, Diesel, etc.\n",
        "* **brand**: Mercedes, Audi, BMW, etc.\n",
        "* **notRepairedDamage** : if the car has a damage which is not repaired yet\n",
        "* **dateCreated** : the date for which the ad at ebay was created\n",
        "* **nrOfPictures** : number of pictures in the ad (unfortunately this field * contains everywhere a 0 and is thus useless (bug in crawler!) )\n",
        "* **postalCode**: Area wise postal code\n",
        "* **lastSeenOnline** : when the crawler saw this ad last online\n",
        "\n",
        "\n",
        "\n",
        "---\n",
        "\n"
      ]
    },
    {
      "cell_type": "markdown",
      "metadata": {
        "id": "0qUPJFFI-tS6",
        "colab_type": "text"
      },
      "source": [
        "### **Getting some more insights from the dataframe**\n",
        "\n",
        "#### In this section, we will try to get more information from the dataframe. Lets explore more about the dataframe.\n",
        "\n"
      ]
    },
    {
      "cell_type": "code",
      "metadata": {
        "id": "5MQsRX8a-8EF",
        "colab_type": "code",
        "outputId": "ecded9d2-720e-4749-cdac-ec0c97dc4f68",
        "colab": {
          "base_uri": "https://localhost:8080/",
          "height": 485
        }
      },
      "source": [
        "df.info()                                     # Getting information about the datatypes alternative to df.dtypes()"
      ],
      "execution_count": 0,
      "outputs": [
        {
          "output_type": "stream",
          "text": [
            "<class 'pandas.core.frame.DataFrame'>\n",
            "RangeIndex: 371528 entries, 0 to 371527\n",
            "Data columns (total 20 columns):\n",
            " #   Column               Non-Null Count   Dtype \n",
            "---  ------               --------------   ----- \n",
            " 0   dateCrawled          371528 non-null  object\n",
            " 1   name                 371528 non-null  object\n",
            " 2   seller               371528 non-null  object\n",
            " 3   offerType            371528 non-null  object\n",
            " 4   price                371528 non-null  int64 \n",
            " 5   abtest               371528 non-null  object\n",
            " 6   vehicleType          333659 non-null  object\n",
            " 7   yearOfRegistration   371528 non-null  int64 \n",
            " 8   gearbox              351319 non-null  object\n",
            " 9   powerPS              371528 non-null  int64 \n",
            " 10  model                351044 non-null  object\n",
            " 11  kilometer            371528 non-null  int64 \n",
            " 12  monthOfRegistration  371528 non-null  int64 \n",
            " 13  fuelType             338142 non-null  object\n",
            " 14  brand                371528 non-null  object\n",
            " 15  notRepairedDamage    299468 non-null  object\n",
            " 16  dateCreated          371528 non-null  object\n",
            " 17  nrOfPictures         371528 non-null  int64 \n",
            " 18  postalCode           371528 non-null  int64 \n",
            " 19  lastSeen             371528 non-null  object\n",
            "dtypes: int64(7), object(13)\n",
            "memory usage: 56.7+ MB\n"
          ],
          "name": "stdout"
        }
      ]
    },
    {
      "cell_type": "markdown",
      "metadata": {
        "id": "S4bKO9pq_DH1",
        "colab_type": "text"
      },
      "source": [
        "As seen from the above results, we the dataframe comprises two different data types such as `int` and `object`. Totally there are **7** integer datatypes and **13** object datatypes. Here the `object` data type can actually contain multiple different types. In this case, the feature `name` comrpises both string and integer such as **Golf_3_1.6**. \n",
        "\n"
      ]
    },
    {
      "cell_type": "code",
      "metadata": {
        "id": "1VZPrCS8_DqP",
        "colab_type": "code",
        "outputId": "b78c724b-abbe-4905-fea7-4500de1ac2dd",
        "colab": {
          "base_uri": "https://localhost:8080/",
          "height": 294
        }
      },
      "source": [
        "df.describe()                            # Getting the descriptive statistics of the dataframe."
      ],
      "execution_count": 0,
      "outputs": [
        {
          "output_type": "execute_result",
          "data": {
            "text/html": [
              "<div>\n",
              "<style scoped>\n",
              "    .dataframe tbody tr th:only-of-type {\n",
              "        vertical-align: middle;\n",
              "    }\n",
              "\n",
              "    .dataframe tbody tr th {\n",
              "        vertical-align: top;\n",
              "    }\n",
              "\n",
              "    .dataframe thead th {\n",
              "        text-align: right;\n",
              "    }\n",
              "</style>\n",
              "<table border=\"1\" class=\"dataframe\">\n",
              "  <thead>\n",
              "    <tr style=\"text-align: right;\">\n",
              "      <th></th>\n",
              "      <th>price</th>\n",
              "      <th>yearOfRegistration</th>\n",
              "      <th>powerPS</th>\n",
              "      <th>kilometer</th>\n",
              "      <th>monthOfRegistration</th>\n",
              "      <th>nrOfPictures</th>\n",
              "      <th>postalCode</th>\n",
              "    </tr>\n",
              "  </thead>\n",
              "  <tbody>\n",
              "    <tr>\n",
              "      <th>count</th>\n",
              "      <td>3.715280e+05</td>\n",
              "      <td>371528.000000</td>\n",
              "      <td>371528.000000</td>\n",
              "      <td>371528.000000</td>\n",
              "      <td>371528.000000</td>\n",
              "      <td>371528.0</td>\n",
              "      <td>371528.00000</td>\n",
              "    </tr>\n",
              "    <tr>\n",
              "      <th>mean</th>\n",
              "      <td>1.729514e+04</td>\n",
              "      <td>2004.577997</td>\n",
              "      <td>115.549477</td>\n",
              "      <td>125618.688228</td>\n",
              "      <td>5.734445</td>\n",
              "      <td>0.0</td>\n",
              "      <td>50820.66764</td>\n",
              "    </tr>\n",
              "    <tr>\n",
              "      <th>std</th>\n",
              "      <td>3.587954e+06</td>\n",
              "      <td>92.866598</td>\n",
              "      <td>192.139578</td>\n",
              "      <td>40112.337051</td>\n",
              "      <td>3.712412</td>\n",
              "      <td>0.0</td>\n",
              "      <td>25799.08247</td>\n",
              "    </tr>\n",
              "    <tr>\n",
              "      <th>min</th>\n",
              "      <td>0.000000e+00</td>\n",
              "      <td>1000.000000</td>\n",
              "      <td>0.000000</td>\n",
              "      <td>5000.000000</td>\n",
              "      <td>0.000000</td>\n",
              "      <td>0.0</td>\n",
              "      <td>1067.00000</td>\n",
              "    </tr>\n",
              "    <tr>\n",
              "      <th>25%</th>\n",
              "      <td>1.150000e+03</td>\n",
              "      <td>1999.000000</td>\n",
              "      <td>70.000000</td>\n",
              "      <td>125000.000000</td>\n",
              "      <td>3.000000</td>\n",
              "      <td>0.0</td>\n",
              "      <td>30459.00000</td>\n",
              "    </tr>\n",
              "    <tr>\n",
              "      <th>50%</th>\n",
              "      <td>2.950000e+03</td>\n",
              "      <td>2003.000000</td>\n",
              "      <td>105.000000</td>\n",
              "      <td>150000.000000</td>\n",
              "      <td>6.000000</td>\n",
              "      <td>0.0</td>\n",
              "      <td>49610.00000</td>\n",
              "    </tr>\n",
              "    <tr>\n",
              "      <th>75%</th>\n",
              "      <td>7.200000e+03</td>\n",
              "      <td>2008.000000</td>\n",
              "      <td>150.000000</td>\n",
              "      <td>150000.000000</td>\n",
              "      <td>9.000000</td>\n",
              "      <td>0.0</td>\n",
              "      <td>71546.00000</td>\n",
              "    </tr>\n",
              "    <tr>\n",
              "      <th>max</th>\n",
              "      <td>2.147484e+09</td>\n",
              "      <td>9999.000000</td>\n",
              "      <td>20000.000000</td>\n",
              "      <td>150000.000000</td>\n",
              "      <td>12.000000</td>\n",
              "      <td>0.0</td>\n",
              "      <td>99998.00000</td>\n",
              "    </tr>\n",
              "  </tbody>\n",
              "</table>\n",
              "</div>"
            ],
            "text/plain": [
              "              price  yearOfRegistration  ...  nrOfPictures    postalCode\n",
              "count  3.715280e+05       371528.000000  ...      371528.0  371528.00000\n",
              "mean   1.729514e+04         2004.577997  ...           0.0   50820.66764\n",
              "std    3.587954e+06           92.866598  ...           0.0   25799.08247\n",
              "min    0.000000e+00         1000.000000  ...           0.0    1067.00000\n",
              "25%    1.150000e+03         1999.000000  ...           0.0   30459.00000\n",
              "50%    2.950000e+03         2003.000000  ...           0.0   49610.00000\n",
              "75%    7.200000e+03         2008.000000  ...           0.0   71546.00000\n",
              "max    2.147484e+09         9999.000000  ...           0.0   99998.00000\n",
              "\n",
              "[8 rows x 7 columns]"
            ]
          },
          "metadata": {
            "tags": []
          },
          "execution_count": 11
        }
      ]
    },
    {
      "cell_type": "markdown",
      "metadata": {
        "id": "DquOn0_K_RA0",
        "colab_type": "text"
      },
      "source": [
        "\n",
        "\n",
        "---\n",
        "\n"
      ]
    },
    {
      "cell_type": "markdown",
      "metadata": {
        "id": "1QQ02NTZACdP",
        "colab_type": "text"
      },
      "source": [
        "## **Data Exploration** "
      ]
    },
    {
      "cell_type": "markdown",
      "metadata": {
        "id": "OBMhjXd-ALt5",
        "colab_type": "text"
      },
      "source": [
        "### **Removing Outliers** \n",
        "When we see the above results there are few things that catches our attentions and these things need to be fixed immediately such as:\n",
        "\n",
        "1. How can the minumum value of a price be **0**?\n",
        "2. How can the year of registration of a vehicle be **1000**?\n",
        "3. How can the minimum power of a vehicle be **0**?\n",
        "4. How can the month of registration of a vehicle be **0**?\n",
        "\n",
        "So there is no point in keeping these equivalent rows lets remove them. Lets set a threshold value for all these above features and remove them accordingly. For example,\n",
        "\n",
        "1. Lets keep the vehicle whose year of registration is between 1950 and 2019 and remove the rest. \n",
        "2. Lets keep the power of the vehicle between 100, 1500. This is because the one of lowest power car is [Mitsubishi Mirage](https://www.cars.com/research/mitsubishi-mirage-2019/trims/), its power is 78 ps and the car with the highest power is [Lotus Evija](https://driving.ca/lotus/auto-news/news/the-lotus-evija-is-a-2000-hp-electric-hypercar). Setting the threshold according to these cars will help us in our exploration. Because there is no way there is a car with power lower than 78 or higher than 20000 in the market.\n",
        "3. Lets keep the price of the vehicle between 100 to 200,000. Because one of the most expensive cars in europe is [Maybach 62](http://www.cartodrive.eu/carfinder/Maybach/62/S-6.0-V12-Automatic/Specifications/) which is 423,000 euros. And there are no such cars in the data frame.\n",
        "\n",
        "4. Lets remove the vehicles who's month of registration is 0.\n",
        "\n"
      ]
    },
    {
      "cell_type": "code",
      "metadata": {
        "id": "X5SrHYRh_Rkz",
        "colab_type": "code",
        "colab": {}
      },
      "source": [
        "# Cleaning the expectional values from the dataframe. The threshold values can be set using the df[].between methods.\n",
        "\n",
        "df_clean = df[\n",
        "                (df[\"yearOfRegistration\"].between(1950, 2019, inclusive=True)) &  \n",
        "                (df[\"powerPS\"].between(100, 1500, inclusive=True)) &\n",
        "                (df[\"price\"].between(100, 200000, inclusive=True))\n",
        "             ]"
      ],
      "execution_count": 0,
      "outputs": []
    },
    {
      "cell_type": "markdown",
      "metadata": {
        "id": "MXm07Hs0BBQO",
        "colab_type": "text"
      },
      "source": [
        "Now let first remove the vehicles who's month of registration is 0. Because this does'nt seem right."
      ]
    },
    {
      "cell_type": "code",
      "metadata": {
        "id": "CY6BIZp1A-e8",
        "colab_type": "code",
        "colab": {}
      },
      "source": [
        "# Storing all the indexes who's month of registration is 0\n",
        "\n",
        "monthOfRegistration = df_clean[df_clean['monthOfRegistration'] == 0 ].index"
      ],
      "execution_count": 0,
      "outputs": []
    },
    {
      "cell_type": "code",
      "metadata": {
        "id": "JPA_BupaBEIy",
        "colab_type": "code",
        "colab": {}
      },
      "source": [
        "# Removing all the desired index values using drop()\n",
        "\n",
        "df_clean.drop(monthOfRegistration , inplace=True)"
      ],
      "execution_count": 0,
      "outputs": []
    },
    {
      "cell_type": "markdown",
      "metadata": {
        "id": "3y8Y7stBBRC_",
        "colab_type": "text"
      },
      "source": [
        "\n",
        "\n",
        "---\n",
        "\n"
      ]
    },
    {
      "cell_type": "markdown",
      "metadata": {
        "id": "AOtv2CFlBRoy",
        "colab_type": "text"
      },
      "source": [
        "### **Removing irrelevant columns as of now**\n",
        "\n",
        "#### In this section, we will remove irrelevant columns that do not contribute for prediction.\n"
      ]
    },
    {
      "cell_type": "markdown",
      "metadata": {
        "id": "oyXo6cyTBapZ",
        "colab_type": "text"
      },
      "source": [
        "For some reason the code `df.sum(axis = 0)` is not working, it is taking more time and yet not executing, making the notebook to crash."
      ]
    },
    {
      "cell_type": "code",
      "metadata": {
        "id": "YpTcKHJkBXmm",
        "colab_type": "code",
        "outputId": "1ab0c870-2c28-46c0-ee0d-b809dedfc8bf",
        "colab": {
          "base_uri": "https://localhost:8080/",
          "height": 139
        }
      },
      "source": [
        "# Taking the sum to see if any columns has 0 values in it\n",
        "print(df_clean['kilometer'].sum())\n",
        "print(df_clean['price'].sum())\n",
        "print(df_clean['yearOfRegistration'].sum())\n",
        "print(df_clean['powerPS'].sum())\n",
        "print(df_clean['monthOfRegistration'].sum())\n",
        "print(df_clean['nrOfPictures'].sum())\n",
        "print(df_clean['postalCode'].sum())"
      ],
      "execution_count": 0,
      "outputs": [
        {
          "output_type": "stream",
          "text": [
            "25393270000\n",
            "1669773090\n",
            "401813515\n",
            "31318400\n",
            "1286709\n",
            "0\n",
            "10555500224\n"
          ],
          "name": "stdout"
        }
      ]
    },
    {
      "cell_type": "markdown",
      "metadata": {
        "id": "iA6SG3sCBeK1",
        "colab_type": "text"
      },
      "source": [
        "As seen above the sum of `nrOfPictures` resulting to 0 meaning that there are no pictures. So I will just remove the column."
      ]
    },
    {
      "cell_type": "code",
      "metadata": {
        "id": "XyAgbfXuBfNA",
        "colab_type": "code",
        "colab": {}
      },
      "source": [
        "df_clean = df_clean.drop(columns= ['nrOfPictures'])"
      ],
      "execution_count": 0,
      "outputs": []
    },
    {
      "cell_type": "markdown",
      "metadata": {
        "id": "BUhByAAGBiZs",
        "colab_type": "text"
      },
      "source": [
        "**Using `groupby()` to see for any column to drop**"
      ]
    },
    {
      "cell_type": "code",
      "metadata": {
        "id": "XWNrALBjBjWT",
        "colab_type": "code",
        "outputId": "b0bebf5d-b9f1-4fe0-eaba-c281b7f9aacb",
        "colab": {
          "base_uri": "https://localhost:8080/",
          "height": 161
        }
      },
      "source": [
        "df_clean.groupby('seller').count()"
      ],
      "execution_count": 0,
      "outputs": [
        {
          "output_type": "execute_result",
          "data": {
            "text/html": [
              "<div>\n",
              "<style scoped>\n",
              "    .dataframe tbody tr th:only-of-type {\n",
              "        vertical-align: middle;\n",
              "    }\n",
              "\n",
              "    .dataframe tbody tr th {\n",
              "        vertical-align: top;\n",
              "    }\n",
              "\n",
              "    .dataframe thead th {\n",
              "        text-align: right;\n",
              "    }\n",
              "</style>\n",
              "<table border=\"1\" class=\"dataframe\">\n",
              "  <thead>\n",
              "    <tr style=\"text-align: right;\">\n",
              "      <th></th>\n",
              "      <th>dateCrawled</th>\n",
              "      <th>name</th>\n",
              "      <th>offerType</th>\n",
              "      <th>price</th>\n",
              "      <th>abtest</th>\n",
              "      <th>vehicleType</th>\n",
              "      <th>yearOfRegistration</th>\n",
              "      <th>gearbox</th>\n",
              "      <th>powerPS</th>\n",
              "      <th>model</th>\n",
              "      <th>kilometer</th>\n",
              "      <th>monthOfRegistration</th>\n",
              "      <th>fuelType</th>\n",
              "      <th>brand</th>\n",
              "      <th>notRepairedDamage</th>\n",
              "      <th>dateCreated</th>\n",
              "      <th>postalCode</th>\n",
              "      <th>lastSeen</th>\n",
              "    </tr>\n",
              "    <tr>\n",
              "      <th>seller</th>\n",
              "      <th></th>\n",
              "      <th></th>\n",
              "      <th></th>\n",
              "      <th></th>\n",
              "      <th></th>\n",
              "      <th></th>\n",
              "      <th></th>\n",
              "      <th></th>\n",
              "      <th></th>\n",
              "      <th></th>\n",
              "      <th></th>\n",
              "      <th></th>\n",
              "      <th></th>\n",
              "      <th></th>\n",
              "      <th></th>\n",
              "      <th></th>\n",
              "      <th></th>\n",
              "      <th></th>\n",
              "    </tr>\n",
              "  </thead>\n",
              "  <tbody>\n",
              "    <tr>\n",
              "      <th>gewerblich</th>\n",
              "      <td>1</td>\n",
              "      <td>1</td>\n",
              "      <td>1</td>\n",
              "      <td>1</td>\n",
              "      <td>1</td>\n",
              "      <td>1</td>\n",
              "      <td>1</td>\n",
              "      <td>1</td>\n",
              "      <td>1</td>\n",
              "      <td>1</td>\n",
              "      <td>1</td>\n",
              "      <td>1</td>\n",
              "      <td>1</td>\n",
              "      <td>1</td>\n",
              "      <td>1</td>\n",
              "      <td>1</td>\n",
              "      <td>1</td>\n",
              "      <td>1</td>\n",
              "    </tr>\n",
              "    <tr>\n",
              "      <th>privat</th>\n",
              "      <td>200458</td>\n",
              "      <td>200458</td>\n",
              "      <td>200458</td>\n",
              "      <td>200458</td>\n",
              "      <td>200458</td>\n",
              "      <td>191784</td>\n",
              "      <td>200458</td>\n",
              "      <td>198592</td>\n",
              "      <td>200458</td>\n",
              "      <td>193902</td>\n",
              "      <td>200458</td>\n",
              "      <td>200458</td>\n",
              "      <td>192039</td>\n",
              "      <td>200458</td>\n",
              "      <td>178967</td>\n",
              "      <td>200458</td>\n",
              "      <td>200458</td>\n",
              "      <td>200458</td>\n",
              "    </tr>\n",
              "  </tbody>\n",
              "</table>\n",
              "</div>"
            ],
            "text/plain": [
              "            dateCrawled    name  offerType  ...  dateCreated  postalCode  lastSeen\n",
              "seller                                      ...                                   \n",
              "gewerblich            1       1          1  ...            1           1         1\n",
              "privat           200458  200458     200458  ...       200458      200458    200458\n",
              "\n",
              "[2 rows x 18 columns]"
            ]
          },
          "metadata": {
            "tags": []
          },
          "execution_count": 17
        }
      ]
    },
    {
      "cell_type": "markdown",
      "metadata": {
        "id": "YZMcG0ohBl3n",
        "colab_type": "text"
      },
      "source": [
        "There is only one instance of the seller \"gewerblich\". So let's remove this. Since all the values in this coloumns seller are private, so there are no other mixed value, removing is the only option."
      ]
    },
    {
      "cell_type": "code",
      "metadata": {
        "id": "MwapnRtwBm0X",
        "colab_type": "code",
        "outputId": "2d73f6c0-1d0f-4091-a304-2184ab704696",
        "colab": {
          "base_uri": "https://localhost:8080/",
          "height": 35
        }
      },
      "source": [
        "seller = df_clean[((df_clean.seller == 'gewerblich'))].index\n",
        "seller"
      ],
      "execution_count": 0,
      "outputs": [
        {
          "output_type": "execute_result",
          "data": {
            "text/plain": [
              "Int64Index([186181], dtype='int64')"
            ]
          },
          "metadata": {
            "tags": []
          },
          "execution_count": 18
        }
      ]
    },
    {
      "cell_type": "code",
      "metadata": {
        "id": "MepAOD3eBoVt",
        "colab_type": "code",
        "colab": {}
      },
      "source": [
        "df_clean = df_clean.drop(seller)"
      ],
      "execution_count": 0,
      "outputs": []
    },
    {
      "cell_type": "code",
      "metadata": {
        "id": "NzICoMIyBpmR",
        "colab_type": "code",
        "colab": {}
      },
      "source": [
        "df_clean = df_clean.drop(columns=['seller'])"
      ],
      "execution_count": 0,
      "outputs": []
    },
    {
      "cell_type": "markdown",
      "metadata": {
        "id": "wQsxYyKUBs4p",
        "colab_type": "text"
      },
      "source": [
        "Now let's see what to do with the offerType. Since there is only one category of offerType callde `Angebot` which is `offer`. There is no point of keeping this column."
      ]
    },
    {
      "cell_type": "code",
      "metadata": {
        "id": "dHeI1JeRBrlW",
        "colab_type": "code",
        "outputId": "60c8467b-62f5-4cfb-92d9-ef682ac3ad1e",
        "colab": {
          "base_uri": "https://localhost:8080/",
          "height": 130
        }
      },
      "source": [
        "df_clean.groupby('offerType').count()"
      ],
      "execution_count": 0,
      "outputs": [
        {
          "output_type": "execute_result",
          "data": {
            "text/html": [
              "<div>\n",
              "<style scoped>\n",
              "    .dataframe tbody tr th:only-of-type {\n",
              "        vertical-align: middle;\n",
              "    }\n",
              "\n",
              "    .dataframe tbody tr th {\n",
              "        vertical-align: top;\n",
              "    }\n",
              "\n",
              "    .dataframe thead th {\n",
              "        text-align: right;\n",
              "    }\n",
              "</style>\n",
              "<table border=\"1\" class=\"dataframe\">\n",
              "  <thead>\n",
              "    <tr style=\"text-align: right;\">\n",
              "      <th></th>\n",
              "      <th>dateCrawled</th>\n",
              "      <th>name</th>\n",
              "      <th>price</th>\n",
              "      <th>abtest</th>\n",
              "      <th>vehicleType</th>\n",
              "      <th>yearOfRegistration</th>\n",
              "      <th>gearbox</th>\n",
              "      <th>powerPS</th>\n",
              "      <th>model</th>\n",
              "      <th>kilometer</th>\n",
              "      <th>monthOfRegistration</th>\n",
              "      <th>fuelType</th>\n",
              "      <th>brand</th>\n",
              "      <th>notRepairedDamage</th>\n",
              "      <th>dateCreated</th>\n",
              "      <th>postalCode</th>\n",
              "      <th>lastSeen</th>\n",
              "    </tr>\n",
              "    <tr>\n",
              "      <th>offerType</th>\n",
              "      <th></th>\n",
              "      <th></th>\n",
              "      <th></th>\n",
              "      <th></th>\n",
              "      <th></th>\n",
              "      <th></th>\n",
              "      <th></th>\n",
              "      <th></th>\n",
              "      <th></th>\n",
              "      <th></th>\n",
              "      <th></th>\n",
              "      <th></th>\n",
              "      <th></th>\n",
              "      <th></th>\n",
              "      <th></th>\n",
              "      <th></th>\n",
              "      <th></th>\n",
              "    </tr>\n",
              "  </thead>\n",
              "  <tbody>\n",
              "    <tr>\n",
              "      <th>Angebot</th>\n",
              "      <td>200458</td>\n",
              "      <td>200458</td>\n",
              "      <td>200458</td>\n",
              "      <td>200458</td>\n",
              "      <td>191784</td>\n",
              "      <td>200458</td>\n",
              "      <td>198592</td>\n",
              "      <td>200458</td>\n",
              "      <td>193902</td>\n",
              "      <td>200458</td>\n",
              "      <td>200458</td>\n",
              "      <td>192039</td>\n",
              "      <td>200458</td>\n",
              "      <td>178967</td>\n",
              "      <td>200458</td>\n",
              "      <td>200458</td>\n",
              "      <td>200458</td>\n",
              "    </tr>\n",
              "  </tbody>\n",
              "</table>\n",
              "</div>"
            ],
            "text/plain": [
              "           dateCrawled    name   price  ...  dateCreated  postalCode  lastSeen\n",
              "offerType                               ...                                   \n",
              "Angebot         200458  200458  200458  ...       200458      200458    200458\n",
              "\n",
              "[1 rows x 17 columns]"
            ]
          },
          "metadata": {
            "tags": []
          },
          "execution_count": 21
        }
      ]
    },
    {
      "cell_type": "code",
      "metadata": {
        "id": "hi_itjX6Bx3m",
        "colab_type": "code",
        "colab": {}
      },
      "source": [
        "del df_clean['offerType']"
      ],
      "execution_count": 0,
      "outputs": []
    },
    {
      "cell_type": "code",
      "metadata": {
        "id": "lDeOPTHaB1O2",
        "colab_type": "code",
        "outputId": "0607f108-deee-411f-de20-b3b2baeb904b",
        "colab": {
          "base_uri": "https://localhost:8080/",
          "height": 345
        }
      },
      "source": [
        "df_clean.groupby('vehicleType').count()"
      ],
      "execution_count": 0,
      "outputs": [
        {
          "output_type": "execute_result",
          "data": {
            "text/html": [
              "<div>\n",
              "<style scoped>\n",
              "    .dataframe tbody tr th:only-of-type {\n",
              "        vertical-align: middle;\n",
              "    }\n",
              "\n",
              "    .dataframe tbody tr th {\n",
              "        vertical-align: top;\n",
              "    }\n",
              "\n",
              "    .dataframe thead th {\n",
              "        text-align: right;\n",
              "    }\n",
              "</style>\n",
              "<table border=\"1\" class=\"dataframe\">\n",
              "  <thead>\n",
              "    <tr style=\"text-align: right;\">\n",
              "      <th></th>\n",
              "      <th>dateCrawled</th>\n",
              "      <th>name</th>\n",
              "      <th>price</th>\n",
              "      <th>abtest</th>\n",
              "      <th>yearOfRegistration</th>\n",
              "      <th>gearbox</th>\n",
              "      <th>powerPS</th>\n",
              "      <th>model</th>\n",
              "      <th>kilometer</th>\n",
              "      <th>monthOfRegistration</th>\n",
              "      <th>fuelType</th>\n",
              "      <th>brand</th>\n",
              "      <th>notRepairedDamage</th>\n",
              "      <th>dateCreated</th>\n",
              "      <th>postalCode</th>\n",
              "      <th>lastSeen</th>\n",
              "    </tr>\n",
              "    <tr>\n",
              "      <th>vehicleType</th>\n",
              "      <th></th>\n",
              "      <th></th>\n",
              "      <th></th>\n",
              "      <th></th>\n",
              "      <th></th>\n",
              "      <th></th>\n",
              "      <th></th>\n",
              "      <th></th>\n",
              "      <th></th>\n",
              "      <th></th>\n",
              "      <th></th>\n",
              "      <th></th>\n",
              "      <th></th>\n",
              "      <th></th>\n",
              "      <th></th>\n",
              "      <th></th>\n",
              "    </tr>\n",
              "  </thead>\n",
              "  <tbody>\n",
              "    <tr>\n",
              "      <th>andere</th>\n",
              "      <td>1195</td>\n",
              "      <td>1195</td>\n",
              "      <td>1195</td>\n",
              "      <td>1195</td>\n",
              "      <td>1195</td>\n",
              "      <td>1184</td>\n",
              "      <td>1195</td>\n",
              "      <td>1089</td>\n",
              "      <td>1195</td>\n",
              "      <td>1195</td>\n",
              "      <td>1127</td>\n",
              "      <td>1195</td>\n",
              "      <td>888</td>\n",
              "      <td>1195</td>\n",
              "      <td>1195</td>\n",
              "      <td>1195</td>\n",
              "    </tr>\n",
              "    <tr>\n",
              "      <th>bus</th>\n",
              "      <td>21205</td>\n",
              "      <td>21205</td>\n",
              "      <td>21205</td>\n",
              "      <td>21205</td>\n",
              "      <td>21205</td>\n",
              "      <td>21002</td>\n",
              "      <td>21205</td>\n",
              "      <td>20727</td>\n",
              "      <td>21205</td>\n",
              "      <td>21205</td>\n",
              "      <td>20823</td>\n",
              "      <td>21205</td>\n",
              "      <td>19533</td>\n",
              "      <td>21205</td>\n",
              "      <td>21205</td>\n",
              "      <td>21205</td>\n",
              "    </tr>\n",
              "    <tr>\n",
              "      <th>cabrio</th>\n",
              "      <td>16444</td>\n",
              "      <td>16444</td>\n",
              "      <td>16444</td>\n",
              "      <td>16444</td>\n",
              "      <td>16444</td>\n",
              "      <td>16279</td>\n",
              "      <td>16444</td>\n",
              "      <td>15889</td>\n",
              "      <td>16444</td>\n",
              "      <td>16444</td>\n",
              "      <td>16132</td>\n",
              "      <td>16444</td>\n",
              "      <td>15234</td>\n",
              "      <td>16444</td>\n",
              "      <td>16444</td>\n",
              "      <td>16444</td>\n",
              "    </tr>\n",
              "    <tr>\n",
              "      <th>coupe</th>\n",
              "      <td>14676</td>\n",
              "      <td>14676</td>\n",
              "      <td>14676</td>\n",
              "      <td>14676</td>\n",
              "      <td>14676</td>\n",
              "      <td>14540</td>\n",
              "      <td>14676</td>\n",
              "      <td>13982</td>\n",
              "      <td>14676</td>\n",
              "      <td>14676</td>\n",
              "      <td>14329</td>\n",
              "      <td>14676</td>\n",
              "      <td>13318</td>\n",
              "      <td>14676</td>\n",
              "      <td>14676</td>\n",
              "      <td>14676</td>\n",
              "    </tr>\n",
              "    <tr>\n",
              "      <th>kleinwagen</th>\n",
              "      <td>8054</td>\n",
              "      <td>8054</td>\n",
              "      <td>8054</td>\n",
              "      <td>8054</td>\n",
              "      <td>8054</td>\n",
              "      <td>7983</td>\n",
              "      <td>8054</td>\n",
              "      <td>7801</td>\n",
              "      <td>8054</td>\n",
              "      <td>8054</td>\n",
              "      <td>7804</td>\n",
              "      <td>8054</td>\n",
              "      <td>7100</td>\n",
              "      <td>8054</td>\n",
              "      <td>8054</td>\n",
              "      <td>8054</td>\n",
              "    </tr>\n",
              "    <tr>\n",
              "      <th>kombi</th>\n",
              "      <td>51745</td>\n",
              "      <td>51745</td>\n",
              "      <td>51745</td>\n",
              "      <td>51745</td>\n",
              "      <td>51745</td>\n",
              "      <td>51372</td>\n",
              "      <td>51745</td>\n",
              "      <td>50657</td>\n",
              "      <td>51745</td>\n",
              "      <td>51745</td>\n",
              "      <td>50298</td>\n",
              "      <td>51745</td>\n",
              "      <td>46386</td>\n",
              "      <td>51745</td>\n",
              "      <td>51745</td>\n",
              "      <td>51745</td>\n",
              "    </tr>\n",
              "    <tr>\n",
              "      <th>limousine</th>\n",
              "      <td>66236</td>\n",
              "      <td>66236</td>\n",
              "      <td>66236</td>\n",
              "      <td>66236</td>\n",
              "      <td>66236</td>\n",
              "      <td>65766</td>\n",
              "      <td>66236</td>\n",
              "      <td>64633</td>\n",
              "      <td>66236</td>\n",
              "      <td>66236</td>\n",
              "      <td>64685</td>\n",
              "      <td>66236</td>\n",
              "      <td>59709</td>\n",
              "      <td>66236</td>\n",
              "      <td>66236</td>\n",
              "      <td>66236</td>\n",
              "    </tr>\n",
              "    <tr>\n",
              "      <th>suv</th>\n",
              "      <td>12229</td>\n",
              "      <td>12229</td>\n",
              "      <td>12229</td>\n",
              "      <td>12229</td>\n",
              "      <td>12229</td>\n",
              "      <td>12164</td>\n",
              "      <td>12229</td>\n",
              "      <td>11660</td>\n",
              "      <td>12229</td>\n",
              "      <td>12229</td>\n",
              "      <td>12023</td>\n",
              "      <td>12229</td>\n",
              "      <td>11323</td>\n",
              "      <td>12229</td>\n",
              "      <td>12229</td>\n",
              "      <td>12229</td>\n",
              "    </tr>\n",
              "  </tbody>\n",
              "</table>\n",
              "</div>"
            ],
            "text/plain": [
              "             dateCrawled   name  price  ...  dateCreated  postalCode  lastSeen\n",
              "vehicleType                             ...                                   \n",
              "andere              1195   1195   1195  ...         1195        1195      1195\n",
              "bus                21205  21205  21205  ...        21205       21205     21205\n",
              "cabrio             16444  16444  16444  ...        16444       16444     16444\n",
              "coupe              14676  14676  14676  ...        14676       14676     14676\n",
              "kleinwagen          8054   8054   8054  ...         8054        8054      8054\n",
              "kombi              51745  51745  51745  ...        51745       51745     51745\n",
              "limousine          66236  66236  66236  ...        66236       66236     66236\n",
              "suv                12229  12229  12229  ...        12229       12229     12229\n",
              "\n",
              "[8 rows x 16 columns]"
            ]
          },
          "metadata": {
            "tags": []
          },
          "execution_count": 23
        }
      ]
    },
    {
      "cell_type": "markdown",
      "metadata": {
        "id": "BQmDC8mOB3R8",
        "colab_type": "text"
      },
      "source": [
        "This is totally fine because this columns has a mixture of values."
      ]
    },
    {
      "cell_type": "markdown",
      "metadata": {
        "id": "TIopLG1yB4uZ",
        "colab_type": "text"
      },
      "source": [
        "The reason for dropping all the below columns is that any meaning insights could not be drawn from the data. Such as the date crawled and created do not contribute nothing because these are used indicated the scraping details of the data. Similarly, the abtest columns is not known. I also contact to the original author, no information was provided on this. Lastly, the lastseen indicated the status of the vehicle on the e-bay website, so this will not help in the price prediction. Similarly let's remove the name of the car, because we have `model`, `brand` which are the supporting features."
      ]
    },
    {
      "cell_type": "code",
      "metadata": {
        "id": "lnIflOiqB6Ag",
        "colab_type": "code",
        "colab": {}
      },
      "source": [
        "# dropping columns\n",
        "\n",
        "df_clean = df_clean.drop(columns= ['dateCrawled', 'name', 'abtest', 'dateCreated', 'lastSeen'])"
      ],
      "execution_count": 0,
      "outputs": []
    },
    {
      "cell_type": "markdown",
      "metadata": {
        "id": "udjv5OggCSvI",
        "colab_type": "text"
      },
      "source": [
        "As there are more null values in the `notRepairedDamage` columns, anyways rather than fill it with `nein` lets remove it."
      ]
    },
    {
      "cell_type": "code",
      "metadata": {
        "id": "eM9yyzITCT7k",
        "colab_type": "code",
        "outputId": "1f09f9a2-f78e-4c75-ac67-6d9e2e9c1e11",
        "colab": {
          "base_uri": "https://localhost:8080/",
          "height": 35
        }
      },
      "source": [
        "df_clean['notRepairedDamage'].isnull().sum()"
      ],
      "execution_count": 0,
      "outputs": [
        {
          "output_type": "execute_result",
          "data": {
            "text/plain": [
              "21491"
            ]
          },
          "metadata": {
            "tags": []
          },
          "execution_count": 25
        }
      ]
    },
    {
      "cell_type": "code",
      "metadata": {
        "id": "eYIWq7zRCXMs",
        "colab_type": "code",
        "colab": {}
      },
      "source": [
        "del df_clean['notRepairedDamage']"
      ],
      "execution_count": 0,
      "outputs": []
    },
    {
      "cell_type": "markdown",
      "metadata": {
        "id": "1ZATdDgeCZJo",
        "colab_type": "text"
      },
      "source": [
        "The mostly cleaned dataframe can be seen below:"
      ]
    },
    {
      "cell_type": "code",
      "metadata": {
        "id": "kLZlgFAXCfOV",
        "colab_type": "code",
        "outputId": "d8567134-4e7b-4738-8a0e-ac1e1ea28eb5",
        "colab": {
          "base_uri": "https://localhost:8080/",
          "height": 202
        }
      },
      "source": [
        "df_clean.head(5)"
      ],
      "execution_count": 0,
      "outputs": [
        {
          "output_type": "execute_result",
          "data": {
            "text/html": [
              "<div>\n",
              "<style scoped>\n",
              "    .dataframe tbody tr th:only-of-type {\n",
              "        vertical-align: middle;\n",
              "    }\n",
              "\n",
              "    .dataframe tbody tr th {\n",
              "        vertical-align: top;\n",
              "    }\n",
              "\n",
              "    .dataframe thead th {\n",
              "        text-align: right;\n",
              "    }\n",
              "</style>\n",
              "<table border=\"1\" class=\"dataframe\">\n",
              "  <thead>\n",
              "    <tr style=\"text-align: right;\">\n",
              "      <th></th>\n",
              "      <th>price</th>\n",
              "      <th>vehicleType</th>\n",
              "      <th>yearOfRegistration</th>\n",
              "      <th>gearbox</th>\n",
              "      <th>powerPS</th>\n",
              "      <th>model</th>\n",
              "      <th>kilometer</th>\n",
              "      <th>monthOfRegistration</th>\n",
              "      <th>fuelType</th>\n",
              "      <th>brand</th>\n",
              "      <th>postalCode</th>\n",
              "    </tr>\n",
              "  </thead>\n",
              "  <tbody>\n",
              "    <tr>\n",
              "      <th>1</th>\n",
              "      <td>18300</td>\n",
              "      <td>coupe</td>\n",
              "      <td>2011</td>\n",
              "      <td>manuell</td>\n",
              "      <td>190</td>\n",
              "      <td>NaN</td>\n",
              "      <td>125000</td>\n",
              "      <td>5</td>\n",
              "      <td>diesel</td>\n",
              "      <td>audi</td>\n",
              "      <td>66954</td>\n",
              "    </tr>\n",
              "    <tr>\n",
              "      <th>2</th>\n",
              "      <td>9800</td>\n",
              "      <td>suv</td>\n",
              "      <td>2004</td>\n",
              "      <td>automatik</td>\n",
              "      <td>163</td>\n",
              "      <td>grand</td>\n",
              "      <td>125000</td>\n",
              "      <td>8</td>\n",
              "      <td>diesel</td>\n",
              "      <td>jeep</td>\n",
              "      <td>90480</td>\n",
              "    </tr>\n",
              "    <tr>\n",
              "      <th>5</th>\n",
              "      <td>650</td>\n",
              "      <td>limousine</td>\n",
              "      <td>1995</td>\n",
              "      <td>manuell</td>\n",
              "      <td>102</td>\n",
              "      <td>3er</td>\n",
              "      <td>150000</td>\n",
              "      <td>10</td>\n",
              "      <td>benzin</td>\n",
              "      <td>bmw</td>\n",
              "      <td>33775</td>\n",
              "    </tr>\n",
              "    <tr>\n",
              "      <th>6</th>\n",
              "      <td>2200</td>\n",
              "      <td>cabrio</td>\n",
              "      <td>2004</td>\n",
              "      <td>manuell</td>\n",
              "      <td>109</td>\n",
              "      <td>2_reihe</td>\n",
              "      <td>150000</td>\n",
              "      <td>8</td>\n",
              "      <td>benzin</td>\n",
              "      <td>peugeot</td>\n",
              "      <td>67112</td>\n",
              "    </tr>\n",
              "    <tr>\n",
              "      <th>8</th>\n",
              "      <td>14500</td>\n",
              "      <td>bus</td>\n",
              "      <td>2014</td>\n",
              "      <td>manuell</td>\n",
              "      <td>125</td>\n",
              "      <td>c_max</td>\n",
              "      <td>30000</td>\n",
              "      <td>8</td>\n",
              "      <td>benzin</td>\n",
              "      <td>ford</td>\n",
              "      <td>94505</td>\n",
              "    </tr>\n",
              "  </tbody>\n",
              "</table>\n",
              "</div>"
            ],
            "text/plain": [
              "   price vehicleType  yearOfRegistration  ... fuelType    brand postalCode\n",
              "1  18300       coupe                2011  ...   diesel     audi      66954\n",
              "2   9800         suv                2004  ...   diesel     jeep      90480\n",
              "5    650   limousine                1995  ...   benzin      bmw      33775\n",
              "6   2200      cabrio                2004  ...   benzin  peugeot      67112\n",
              "8  14500         bus                2014  ...   benzin     ford      94505\n",
              "\n",
              "[5 rows x 11 columns]"
            ]
          },
          "metadata": {
            "tags": []
          },
          "execution_count": 27
        }
      ]
    },
    {
      "cell_type": "markdown",
      "metadata": {
        "id": "uHhn_W0SCjqN",
        "colab_type": "text"
      },
      "source": [
        "\n",
        "\n",
        "---\n",
        "\n"
      ]
    },
    {
      "cell_type": "markdown",
      "metadata": {
        "id": "3E5XbuCACkVz",
        "colab_type": "text"
      },
      "source": [
        "### **Dealing with the missing values**\n",
        "#### In this section, we will use a technique to find and deal with missing values.\n",
        "\n",
        "**Missing value count in the dataframe**"
      ]
    },
    {
      "cell_type": "code",
      "metadata": {
        "id": "WzCRfeXoCtdm",
        "colab_type": "code",
        "outputId": "33f2bbcf-9667-494f-9835-b2fdd4d5f95d",
        "colab": {
          "base_uri": "https://localhost:8080/",
          "height": 225
        }
      },
      "source": [
        "df_clean.isnull().sum()"
      ],
      "execution_count": 0,
      "outputs": [
        {
          "output_type": "execute_result",
          "data": {
            "text/plain": [
              "price                     0\n",
              "vehicleType            8674\n",
              "yearOfRegistration        0\n",
              "gearbox                1866\n",
              "powerPS                   0\n",
              "model                  6556\n",
              "kilometer                 0\n",
              "monthOfRegistration       0\n",
              "fuelType               8419\n",
              "brand                     0\n",
              "postalCode                0\n",
              "dtype: int64"
            ]
          },
          "metadata": {
            "tags": []
          },
          "execution_count": 28
        }
      ]
    },
    {
      "cell_type": "markdown",
      "metadata": {
        "id": "K9LAAY2xCv4E",
        "colab_type": "text"
      },
      "source": [
        "As seen from the above results, there are many missing values in `vehicleType`, `gearbox`, `model`, `fuelType`, `notRepairedDamage`. Now rather than deleting all the null values let's follow a alternative approach. Because deleting would a lame and useless method. Also, now of the [Data Impuatation](https://www.dropbox.com/s/nije38rerpfa18o/Chapter5.pdf?dl=0) techniques mentioned in the text book **100 page machine learning book** such as replacing the mean values, using a learning algorithm, or even interpolating cannot be applied. This is because of the datatyes of the dataframe. All these are not integer values, they are strings. So below is the approach that I would be following to handle the missing values:\n"
      ]
    },
    {
      "cell_type": "code",
      "metadata": {
        "id": "RxDEaHOtCxXs",
        "colab_type": "code",
        "outputId": "3116f6e1-4c50-4dde-aa82-72d1f04d91bc",
        "colab": {
          "base_uri": "https://localhost:8080/",
          "height": 69
        }
      },
      "source": [
        "df_clean['gearbox'].value_counts()"
      ],
      "execution_count": 0,
      "outputs": [
        {
          "output_type": "execute_result",
          "data": {
            "text/plain": [
              "manuell      138237\n",
              "automatik     60355\n",
              "Name: gearbox, dtype: int64"
            ]
          },
          "metadata": {
            "tags": []
          },
          "execution_count": 29
        }
      ]
    },
    {
      "cell_type": "markdown",
      "metadata": {
        "id": "kwVhH5z6CzE6",
        "colab_type": "text"
      },
      "source": [
        "So lets use the column `brand` to fill the gearbox values. Because as seen above the `manuell` is more when compared to `automatik` so fill the maximum frequency value would not make any sense."
      ]
    },
    {
      "cell_type": "code",
      "metadata": {
        "id": "MOHcx9XXDkr0",
        "colab_type": "code",
        "outputId": "1d8d413c-3fc9-4875-9645-d472f267dc8b",
        "colab": {
          "base_uri": "https://localhost:8080/",
          "height": 243
        }
      },
      "source": [
        "df_clean.groupby(\"brand\")[\"gearbox\"].value_counts()"
      ],
      "execution_count": 0,
      "outputs": [
        {
          "output_type": "execute_result",
          "data": {
            "text/plain": [
              "brand       gearbox  \n",
              "alfa_romeo  manuell       1665\n",
              "            automatik      125\n",
              "audi        manuell      16823\n",
              "            automatik     9619\n",
              "bmw         manuell      21648\n",
              "                         ...  \n",
              "toyota      automatik      307\n",
              "volkswagen  manuell      28231\n",
              "            automatik     8019\n",
              "volvo       manuell       1821\n",
              "            automatik      880\n",
              "Name: gearbox, Length: 76, dtype: int64"
            ]
          },
          "metadata": {
            "tags": []
          },
          "execution_count": 30
        }
      ]
    },
    {
      "cell_type": "code",
      "metadata": {
        "id": "_if4j5KqDmN2",
        "colab_type": "code",
        "colab": {}
      },
      "source": [
        "# Using brand values to fill the gearbox values\n",
        "\n",
        "gearbox = df_clean[\"gearbox\"].unique()\n",
        "brand = df_clean[\"brand\"].unique()\n",
        "d = {}\n",
        "\n",
        "for i in brand :\n",
        "    m = 0\n",
        "    for j in gearbox :\n",
        "        if df_clean[(df_clean.gearbox == j) & (df_clean.brand == i)].shape[0] > m :\n",
        "            m = df_clean[(df_clean.gearbox == j) & (df_clean.brand == i)].shape[0]\n",
        "            d[i] = j"
      ],
      "execution_count": 0,
      "outputs": []
    },
    {
      "cell_type": "code",
      "metadata": {
        "id": "pf-XCcaNDpBs",
        "colab_type": "code",
        "colab": {}
      },
      "source": [
        "for i in brand :\n",
        "    df_clean.loc[(df_clean.brand == i) & (df_clean.gearbox.isnull()) ,\"gearbox\" ] = d[i]"
      ],
      "execution_count": 0,
      "outputs": []
    },
    {
      "cell_type": "code",
      "metadata": {
        "id": "FOVtrjaVDqTt",
        "colab_type": "code",
        "outputId": "84fad544-3dda-4336-dbfc-f9dbeb90c1d5",
        "colab": {
          "base_uri": "https://localhost:8080/",
          "height": 35
        }
      },
      "source": [
        "df_clean['gearbox'].isnull().sum()"
      ],
      "execution_count": 0,
      "outputs": [
        {
          "output_type": "execute_result",
          "data": {
            "text/plain": [
              "0"
            ]
          },
          "metadata": {
            "tags": []
          },
          "execution_count": 33
        }
      ]
    },
    {
      "cell_type": "markdown",
      "metadata": {
        "id": "1LFfzlJpDsFx",
        "colab_type": "text"
      },
      "source": [
        "Now the null values in the gearbox columns is zero."
      ]
    },
    {
      "cell_type": "markdown",
      "metadata": {
        "id": "6KllEzjWDuBJ",
        "colab_type": "text"
      },
      "source": [
        "**Let's use the same technique to deal with `fuelType` column**"
      ]
    },
    {
      "cell_type": "code",
      "metadata": {
        "id": "SOVUC73NDunH",
        "colab_type": "code",
        "outputId": "bfe84a98-c162-430c-9b85-0e3fb39b52ea",
        "colab": {
          "base_uri": "https://localhost:8080/",
          "height": 156
        }
      },
      "source": [
        "df_clean[\"fuelType\"].value_counts()        "
      ],
      "execution_count": 0,
      "outputs": [
        {
          "output_type": "execute_result",
          "data": {
            "text/plain": [
              "benzin     106498\n",
              "diesel      81277\n",
              "lpg          3831\n",
              "cng           262\n",
              "hybrid        113\n",
              "andere         35\n",
              "elektro        23\n",
              "Name: fuelType, dtype: int64"
            ]
          },
          "metadata": {
            "tags": []
          },
          "execution_count": 34
        }
      ]
    },
    {
      "cell_type": "markdown",
      "metadata": {
        "id": "xLtfNIJUDxGO",
        "colab_type": "text"
      },
      "source": [
        "As seen above from the above result, the most common value is `benzin` and `diesel`. Petrol (benzin) would be replaced for the null values.\n"
      ]
    },
    {
      "cell_type": "code",
      "metadata": {
        "id": "yPmMKMoSDyIb",
        "colab_type": "code",
        "colab": {}
      },
      "source": [
        "df_clean[\"fuelType\"].fillna(\"benzin\",inplace = True)"
      ],
      "execution_count": 0,
      "outputs": []
    },
    {
      "cell_type": "code",
      "metadata": {
        "id": "NcIiksOTDzvy",
        "colab_type": "code",
        "outputId": "0f3f5adc-ae90-430f-e198-fc7e0449e60a",
        "colab": {
          "base_uri": "https://localhost:8080/",
          "height": 35
        }
      },
      "source": [
        "df_clean['fuelType'].isnull().sum()"
      ],
      "execution_count": 0,
      "outputs": [
        {
          "output_type": "execute_result",
          "data": {
            "text/plain": [
              "0"
            ]
          },
          "metadata": {
            "tags": []
          },
          "execution_count": 36
        }
      ]
    },
    {
      "cell_type": "markdown",
      "metadata": {
        "id": "gs2suvMSD1e9",
        "colab_type": "text"
      },
      "source": [
        "Now we have dealt with all the null values."
      ]
    },
    {
      "cell_type": "markdown",
      "metadata": {
        "id": "pPzqZjkdD3Nt",
        "colab_type": "text"
      },
      "source": [
        "**Let's now deal with the `vehicleType` column**"
      ]
    },
    {
      "cell_type": "code",
      "metadata": {
        "id": "z6xQIzaFD3pU",
        "colab_type": "code",
        "outputId": "113d68d8-a96a-46de-8136-28cc21a7ccef",
        "colab": {
          "base_uri": "https://localhost:8080/",
          "height": 173
        }
      },
      "source": [
        "df_clean[\"vehicleType\"].value_counts()"
      ],
      "execution_count": 0,
      "outputs": [
        {
          "output_type": "execute_result",
          "data": {
            "text/plain": [
              "limousine     66236\n",
              "kombi         51745\n",
              "bus           21205\n",
              "cabrio        16444\n",
              "coupe         14676\n",
              "suv           12229\n",
              "kleinwagen     8054\n",
              "andere         1195\n",
              "Name: vehicleType, dtype: int64"
            ]
          },
          "metadata": {
            "tags": []
          },
          "execution_count": 37
        }
      ]
    },
    {
      "cell_type": "markdown",
      "metadata": {
        "id": "ri-rRpoJD675",
        "colab_type": "text"
      },
      "source": [
        "Here we cannot replace any value here because almost all have equal shares here. So `maxfreq` technique cannot be applied here. Rather we will use the `fuelType` to fill all the null values for the `vehicleTupe`. This is because as we all know both these columns are interdependent."
      ]
    },
    {
      "cell_type": "code",
      "metadata": {
        "id": "lWBakxl0D8D6",
        "colab_type": "code",
        "outputId": "f1447fb7-b68d-419f-87f6-6004ed51e546",
        "colab": {
          "base_uri": "https://localhost:8080/",
          "height": 953
        }
      },
      "source": [
        "df_clean.groupby(\"fuelType\")[\"vehicleType\"].value_counts()"
      ],
      "execution_count": 0,
      "outputs": [
        {
          "output_type": "execute_result",
          "data": {
            "text/plain": [
              "fuelType  vehicleType\n",
              "andere    limousine          9\n",
              "          kombi              8\n",
              "          bus                4\n",
              "          suv                4\n",
              "          andere             3\n",
              "          cabrio             2\n",
              "          kleinwagen         2\n",
              "          coupe              1\n",
              "benzin    limousine      42195\n",
              "          kombi          21284\n",
              "          cabrio         14724\n",
              "          coupe          11946\n",
              "          bus             7087\n",
              "          kleinwagen      6435\n",
              "          suv             3924\n",
              "          andere           625\n",
              "cng       bus              118\n",
              "          kombi             93\n",
              "          limousine         25\n",
              "          andere             7\n",
              "          kleinwagen         3\n",
              "          cabrio             1\n",
              "          coupe              1\n",
              "          suv                1\n",
              "diesel    kombi          29424\n",
              "          limousine      22632\n",
              "          bus            13572\n",
              "          suv             7759\n",
              "          coupe           2438\n",
              "          kleinwagen      1553\n",
              "          cabrio          1532\n",
              "          andere           537\n",
              "elektro   limousine         11\n",
              "          coupe              3\n",
              "          kleinwagen         3\n",
              "          kombi              3\n",
              "          cabrio             1\n",
              "hybrid    limousine         52\n",
              "          suv               20\n",
              "          coupe             16\n",
              "          kombi              8\n",
              "          bus                6\n",
              "          kleinwagen         5\n",
              "          andere             2\n",
              "lpg       limousine       1312\n",
              "          kombi            925\n",
              "          suv              521\n",
              "          bus              418\n",
              "          coupe            271\n",
              "          cabrio           184\n",
              "          kleinwagen        53\n",
              "          andere            21\n",
              "Name: vehicleType, dtype: int64"
            ]
          },
          "metadata": {
            "tags": []
          },
          "execution_count": 38
        }
      ]
    },
    {
      "cell_type": "markdown",
      "metadata": {
        "id": "Z8k1JPxJD_LR",
        "colab_type": "text"
      },
      "source": [
        "Let's now map the `fuelType` to `vehicleType`, this is know as one-to-one mapping."
      ]
    },
    {
      "cell_type": "code",
      "metadata": {
        "id": "QRbwm8ElEAW3",
        "colab_type": "code",
        "outputId": "753202f5-fcf4-480b-bbe2-f2d3fe432a03",
        "colab": {
          "base_uri": "https://localhost:8080/",
          "height": 69
        }
      },
      "source": [
        "vehicleType = df_clean[\"vehicleType\"].unique()\n",
        "fuelType = df_clean[\"fuelType\"].unique()\n",
        "print(fuelType)\n",
        "print(vehicleType)\n",
        "vehicleType = np.delete(vehicleType,0)"
      ],
      "execution_count": 0,
      "outputs": [
        {
          "output_type": "stream",
          "text": [
            "['diesel' 'benzin' 'lpg' 'andere' 'hybrid' 'cng' 'elektro']\n",
            "['coupe' 'suv' 'limousine' 'cabrio' 'bus' 'kombi' nan 'andere'\n",
            " 'kleinwagen']\n"
          ],
          "name": "stdout"
        }
      ]
    },
    {
      "cell_type": "code",
      "metadata": {
        "id": "q9fVXeUlECTl",
        "colab_type": "code",
        "colab": {}
      },
      "source": [
        "d = {}\n",
        "for i in fuelType :\n",
        "    m = 0\n",
        "    for j in vehicleType :\n",
        "        if df_clean[(df_clean.vehicleType == j) & (df_clean.fuelType == i)].shape[0] > m :\n",
        "            m = df_clean[(df_clean.vehicleType == j) & (df_clean.fuelType == i)].shape[0]\n",
        "            d[i] = j"
      ],
      "execution_count": 0,
      "outputs": []
    },
    {
      "cell_type": "code",
      "metadata": {
        "id": "QpY3eaJkEEDc",
        "colab_type": "code",
        "colab": {}
      },
      "source": [
        "for i in fuelType :\n",
        "    df_clean.loc[(df_clean.fuelType == i) & (df_clean.vehicleType.isnull()) ,\"vehicleType\" ] = d[i]"
      ],
      "execution_count": 0,
      "outputs": []
    },
    {
      "cell_type": "code",
      "metadata": {
        "id": "zD9OgGnbEFgi",
        "colab_type": "code",
        "outputId": "433330eb-a01f-477a-bd2b-d9f9c0e29d70",
        "colab": {
          "base_uri": "https://localhost:8080/",
          "height": 35
        }
      },
      "source": [
        "df_clean[\"vehicleType\"].isnull().sum()"
      ],
      "execution_count": 0,
      "outputs": [
        {
          "output_type": "execute_result",
          "data": {
            "text/plain": [
              "0"
            ]
          },
          "metadata": {
            "tags": []
          },
          "execution_count": 42
        }
      ]
    },
    {
      "cell_type": "markdown",
      "metadata": {
        "id": "aOMQnmOpEHNh",
        "colab_type": "text"
      },
      "source": [
        "Now we have dealt with all the null values. "
      ]
    },
    {
      "cell_type": "markdown",
      "metadata": {
        "id": "5O_Wt5A3EIxx",
        "colab_type": "text"
      },
      "source": [
        "**Let's us deal with the null values of `model` column**"
      ]
    },
    {
      "cell_type": "code",
      "metadata": {
        "id": "rEFaR6vEEKP6",
        "colab_type": "code",
        "outputId": "6d193b7d-7187-4743-fda9-80251a52e892",
        "colab": {
          "base_uri": "https://localhost:8080/",
          "height": 225
        }
      },
      "source": [
        "df_clean['model'].value_counts()"
      ],
      "execution_count": 0,
      "outputs": [
        {
          "output_type": "execute_result",
          "data": {
            "text/plain": [
              "3er                17152\n",
              "andere             14756\n",
              "golf               14084\n",
              "a4                  8692\n",
              "passat              7917\n",
              "                   ...  \n",
              "discovery_sport        1\n",
              "agila                  1\n",
              "picanto                1\n",
              "kalos                  1\n",
              "up                     1\n",
              "Name: model, Length: 235, dtype: int64"
            ]
          },
          "metadata": {
            "tags": []
          },
          "execution_count": 43
        }
      ]
    },
    {
      "cell_type": "markdown",
      "metadata": {
        "id": "Qn5YmSgrEL0m",
        "colab_type": "text"
      },
      "source": [
        "Let's fill all the value with `3er` because of maximum shares."
      ]
    },
    {
      "cell_type": "code",
      "metadata": {
        "id": "L5xldqevEM-z",
        "colab_type": "code",
        "colab": {}
      },
      "source": [
        "df_clean[\"model\"].fillna(\"3er\",inplace =True)"
      ],
      "execution_count": 0,
      "outputs": []
    },
    {
      "cell_type": "markdown",
      "metadata": {
        "id": "ipFe3xXwEhyF",
        "colab_type": "text"
      },
      "source": [
        "### **Dealing with the duplicate values**\n",
        "#### In this section, we will use a technique to find and deal with duplicate values."
      ]
    },
    {
      "cell_type": "code",
      "metadata": {
        "id": "TqXbbv9EEOkF",
        "colab_type": "code",
        "outputId": "a1c87014-a0c1-4e9b-b9bb-27e95f467481",
        "colab": {
          "base_uri": "https://localhost:8080/",
          "height": 415
        }
      },
      "source": [
        "duplicateRows = df_clean[df_clean.duplicated(['postalCode', 'brand', 'model', 'powerPS', 'kilometer', 'price'])]\n",
        "df_clean = df_clean.drop_duplicates(['postalCode', 'brand', 'model', 'powerPS', 'kilometer', 'price'])\n",
        "duplicateRows"
      ],
      "execution_count": 0,
      "outputs": [
        {
          "output_type": "execute_result",
          "data": {
            "text/html": [
              "<div>\n",
              "<style scoped>\n",
              "    .dataframe tbody tr th:only-of-type {\n",
              "        vertical-align: middle;\n",
              "    }\n",
              "\n",
              "    .dataframe tbody tr th {\n",
              "        vertical-align: top;\n",
              "    }\n",
              "\n",
              "    .dataframe thead th {\n",
              "        text-align: right;\n",
              "    }\n",
              "</style>\n",
              "<table border=\"1\" class=\"dataframe\">\n",
              "  <thead>\n",
              "    <tr style=\"text-align: right;\">\n",
              "      <th></th>\n",
              "      <th>price</th>\n",
              "      <th>vehicleType</th>\n",
              "      <th>yearOfRegistration</th>\n",
              "      <th>gearbox</th>\n",
              "      <th>powerPS</th>\n",
              "      <th>model</th>\n",
              "      <th>kilometer</th>\n",
              "      <th>monthOfRegistration</th>\n",
              "      <th>fuelType</th>\n",
              "      <th>brand</th>\n",
              "      <th>postalCode</th>\n",
              "    </tr>\n",
              "  </thead>\n",
              "  <tbody>\n",
              "    <tr>\n",
              "      <th>1097</th>\n",
              "      <td>11890</td>\n",
              "      <td>bus</td>\n",
              "      <td>2011</td>\n",
              "      <td>manuell</td>\n",
              "      <td>116</td>\n",
              "      <td>c_max</td>\n",
              "      <td>150000</td>\n",
              "      <td>4</td>\n",
              "      <td>diesel</td>\n",
              "      <td>ford</td>\n",
              "      <td>97737</td>\n",
              "    </tr>\n",
              "    <tr>\n",
              "      <th>2937</th>\n",
              "      <td>1999</td>\n",
              "      <td>limousine</td>\n",
              "      <td>2001</td>\n",
              "      <td>manuell</td>\n",
              "      <td>116</td>\n",
              "      <td>3er</td>\n",
              "      <td>150000</td>\n",
              "      <td>8</td>\n",
              "      <td>benzin</td>\n",
              "      <td>bmw</td>\n",
              "      <td>44359</td>\n",
              "    </tr>\n",
              "    <tr>\n",
              "      <th>3964</th>\n",
              "      <td>2999</td>\n",
              "      <td>limousine</td>\n",
              "      <td>2002</td>\n",
              "      <td>manuell</td>\n",
              "      <td>101</td>\n",
              "      <td>golf</td>\n",
              "      <td>150000</td>\n",
              "      <td>6</td>\n",
              "      <td>diesel</td>\n",
              "      <td>volkswagen</td>\n",
              "      <td>32756</td>\n",
              "    </tr>\n",
              "    <tr>\n",
              "      <th>4332</th>\n",
              "      <td>18750</td>\n",
              "      <td>limousine</td>\n",
              "      <td>2014</td>\n",
              "      <td>manuell</td>\n",
              "      <td>150</td>\n",
              "      <td>golf</td>\n",
              "      <td>20000</td>\n",
              "      <td>9</td>\n",
              "      <td>diesel</td>\n",
              "      <td>volkswagen</td>\n",
              "      <td>38518</td>\n",
              "    </tr>\n",
              "    <tr>\n",
              "      <th>4424</th>\n",
              "      <td>14500</td>\n",
              "      <td>kombi</td>\n",
              "      <td>2007</td>\n",
              "      <td>manuell</td>\n",
              "      <td>140</td>\n",
              "      <td>a6</td>\n",
              "      <td>100000</td>\n",
              "      <td>3</td>\n",
              "      <td>diesel</td>\n",
              "      <td>audi</td>\n",
              "      <td>94060</td>\n",
              "    </tr>\n",
              "    <tr>\n",
              "      <th>...</th>\n",
              "      <td>...</td>\n",
              "      <td>...</td>\n",
              "      <td>...</td>\n",
              "      <td>...</td>\n",
              "      <td>...</td>\n",
              "      <td>...</td>\n",
              "      <td>...</td>\n",
              "      <td>...</td>\n",
              "      <td>...</td>\n",
              "      <td>...</td>\n",
              "      <td>...</td>\n",
              "    </tr>\n",
              "    <tr>\n",
              "      <th>371490</th>\n",
              "      <td>13850</td>\n",
              "      <td>kombi</td>\n",
              "      <td>2012</td>\n",
              "      <td>manuell</td>\n",
              "      <td>156</td>\n",
              "      <td>accord</td>\n",
              "      <td>125000</td>\n",
              "      <td>10</td>\n",
              "      <td>benzin</td>\n",
              "      <td>honda</td>\n",
              "      <td>91301</td>\n",
              "    </tr>\n",
              "    <tr>\n",
              "      <th>371498</th>\n",
              "      <td>699</td>\n",
              "      <td>limousine</td>\n",
              "      <td>1999</td>\n",
              "      <td>manuell</td>\n",
              "      <td>101</td>\n",
              "      <td>vectra</td>\n",
              "      <td>150000</td>\n",
              "      <td>3</td>\n",
              "      <td>benzin</td>\n",
              "      <td>opel</td>\n",
              "      <td>65936</td>\n",
              "    </tr>\n",
              "    <tr>\n",
              "      <th>371510</th>\n",
              "      <td>6500</td>\n",
              "      <td>limousine</td>\n",
              "      <td>2003</td>\n",
              "      <td>automatik</td>\n",
              "      <td>145</td>\n",
              "      <td>e_klasse</td>\n",
              "      <td>150000</td>\n",
              "      <td>3</td>\n",
              "      <td>diesel</td>\n",
              "      <td>mercedes_benz</td>\n",
              "      <td>60437</td>\n",
              "    </tr>\n",
              "    <tr>\n",
              "      <th>371513</th>\n",
              "      <td>4400</td>\n",
              "      <td>limousine</td>\n",
              "      <td>2008</td>\n",
              "      <td>manuell</td>\n",
              "      <td>105</td>\n",
              "      <td>leon</td>\n",
              "      <td>150000</td>\n",
              "      <td>7</td>\n",
              "      <td>diesel</td>\n",
              "      <td>seat</td>\n",
              "      <td>45896</td>\n",
              "    </tr>\n",
              "    <tr>\n",
              "      <th>371519</th>\n",
              "      <td>5250</td>\n",
              "      <td>limousine</td>\n",
              "      <td>2016</td>\n",
              "      <td>automatik</td>\n",
              "      <td>150</td>\n",
              "      <td>159</td>\n",
              "      <td>150000</td>\n",
              "      <td>12</td>\n",
              "      <td>benzin</td>\n",
              "      <td>alfa_romeo</td>\n",
              "      <td>51371</td>\n",
              "    </tr>\n",
              "  </tbody>\n",
              "</table>\n",
              "<p>19268 rows × 11 columns</p>\n",
              "</div>"
            ],
            "text/plain": [
              "        price vehicleType  ...          brand postalCode\n",
              "1097    11890         bus  ...           ford      97737\n",
              "2937     1999   limousine  ...            bmw      44359\n",
              "3964     2999   limousine  ...     volkswagen      32756\n",
              "4332    18750   limousine  ...     volkswagen      38518\n",
              "4424    14500       kombi  ...           audi      94060\n",
              "...       ...         ...  ...            ...        ...\n",
              "371490  13850       kombi  ...          honda      91301\n",
              "371498    699   limousine  ...           opel      65936\n",
              "371510   6500   limousine  ...  mercedes_benz      60437\n",
              "371513   4400   limousine  ...           seat      45896\n",
              "371519   5250   limousine  ...     alfa_romeo      51371\n",
              "\n",
              "[19268 rows x 11 columns]"
            ]
          },
          "metadata": {
            "tags": []
          },
          "execution_count": 45
        }
      ]
    },
    {
      "cell_type": "code",
      "metadata": {
        "id": "-Ipmyr603EDG",
        "colab_type": "code",
        "outputId": "3b9e1df1-4e53-4c4b-c151-1c1a787705b0",
        "colab": {
          "base_uri": "https://localhost:8080/",
          "height": 728
        }
      },
      "source": [
        "df_clean.groupby('brand').size()"
      ],
      "execution_count": 0,
      "outputs": [
        {
          "output_type": "execute_result",
          "data": {
            "text/plain": [
              "brand\n",
              "alfa_romeo         1660\n",
              "audi              24153\n",
              "bmw               30566\n",
              "chevrolet           857\n",
              "chrysler           1035\n",
              "citroen            1677\n",
              "dacia               223\n",
              "daewoo              103\n",
              "daihatsu             48\n",
              "fiat               1621\n",
              "ford              10126\n",
              "honda              1211\n",
              "hyundai            1603\n",
              "jaguar              504\n",
              "jeep                610\n",
              "kia                1303\n",
              "lada                  2\n",
              "lancia              142\n",
              "land_rover          582\n",
              "mazda              3037\n",
              "mercedes_benz     24332\n",
              "mini               2018\n",
              "mitsubishi         1321\n",
              "nissan             1839\n",
              "opel              14361\n",
              "peugeot            4255\n",
              "porsche            1809\n",
              "renault            4619\n",
              "rover               224\n",
              "saab                417\n",
              "seat               2510\n",
              "skoda              2696\n",
              "smart                73\n",
              "sonstige_autos     1575\n",
              "subaru              409\n",
              "suzuki              410\n",
              "toyota             1942\n",
              "volkswagen        32867\n",
              "volvo              2450\n",
              "dtype: int64"
            ]
          },
          "metadata": {
            "tags": []
          },
          "execution_count": 46
        }
      ]
    },
    {
      "cell_type": "code",
      "metadata": {
        "id": "XFUDcJ4C6xPb",
        "colab_type": "code",
        "outputId": "30431c26-df86-4036-df08-375ad8e424d0",
        "colab": {
          "base_uri": "https://localhost:8080/",
          "height": 641
        }
      },
      "source": [
        "df_clean['model'].unique()"
      ],
      "execution_count": 0,
      "outputs": [
        {
          "output_type": "execute_result",
          "data": {
            "text/plain": [
              "array(['3er', 'grand', '2_reihe', 'c_max', '3_reihe', 'passat', 'navara',\n",
              "       'a_klasse', 'scirocco', '5er', 'andere', 'c4', 'e_klasse', '1er',\n",
              "       'b_klasse', 'golf', 'a8', 'jetta', 'astra', 'c_klasse', 'sprinter',\n",
              "       'forester', 'xc_reihe', 'scenic', 'focus', 'a4', 'tt', 'a6',\n",
              "       'transporter', 'omega', 'slk', '7er', '80', 'civic', '147', 'glk',\n",
              "       'z_reihe', 'sportage', 'sorento', 'mustang', 'eos', 'vito',\n",
              "       'fabia', 'touran', 'insignia', 'almera', 'megane', 'a3', 'mondeo',\n",
              "       'a1', 'vectra', 'clio', 'm_klasse', 'tiguan', '6_reihe', 'i_reihe',\n",
              "       '5_reihe', 'yeti', 'octavia', 'zafira', 'rx_reihe', '6er',\n",
              "       'beetle', 'touareg', 'ibiza', 'spider', 's_max', 'x_reihe', 'a5',\n",
              "       'galaxy', 'c3', 'viano', 's_klasse', 'sharan', 'avensis', 'sl',\n",
              "       'q5', 'santa', 'leon', 'cooper', '4_reihe', 'ptcruiser', 'clk',\n",
              "       'primera', 'espace', 'exeo', 'polo', '159', 'transit', 'juke',\n",
              "       'v40', 'escort', 'accord', 'corolla', 'phaeton', 'boxster',\n",
              "       'verso', 'rav', 'kuga', 'caddy', 'qashqai', 'superb', 'stilo',\n",
              "       'alhambra', '911', 'one', 'm_reihe', 'fiesta', 'galant', 'impreza',\n",
              "       '90', 'sirion', 'signum', 'crossfire', 'duster', 'v50', 'mx_reihe',\n",
              "       'discovery', 'c_reihe', 'v_klasse', 'c5', 'cc', 'carnival', 'bora',\n",
              "       'modus', 'meriva', 'cl', '156', '300c', '100', 'q3', 'cr_reihe',\n",
              "       'x_type', 'ducato', 's_type', 'x_trail', 'toledo', 'altea',\n",
              "       'voyager', 'v70', 'bravo', 'range_rover', 'ceed', 'tucson', 'q7',\n",
              "       'cx_reihe', 'cayenne', 'corsa', 'wrangler', 'lybra',\n",
              "       'range_rover_sport', 'freelander', 'captiva', 'fusion', 'laguna',\n",
              "       'range_rover_evoque', '500', 'note', 'antara', '900', 'defender',\n",
              "       'clubman', 'a2', 'fortwo', 'combo', 'lancer', 'legacy', 'roomster',\n",
              "       'berlingo', 'colt', 'auris', 'c2', 'tigra', 'swift', 's60',\n",
              "       'pajero', 'nubira', 'vivaro', 'kadett', 'lupo', 'g_klasse',\n",
              "       'twingo', 'carisma', 'getz', 'cherokee', 'lodgy', '850', 'rio',\n",
              "       'cordoba', 'matiz', 'serie_2', 'calibra', 'croma', 'outlander',\n",
              "       'gl', 'doblo', 'ypsilon', 'amarok', '9000', 'v60', 'forfour',\n",
              "       'yaris', '200', '145', 'kangoo', 'ka', '1_reihe', 'delta', 'logan',\n",
              "       'punto', 'b_max', 'micra', 'aveo', 'panda', 'rangerover',\n",
              "       'materia', 'terios', 'jazz', 'roadster', 'i3', 'kaefer', 'lanos',\n",
              "       'sandero', 'kappa', 'r19', 'picanto', 'up', 'cuore', 'arosa',\n",
              "       'agila', 'kalos', 'charade', 'fox', 'discovery_sport', 'justy'],\n",
              "      dtype=object)"
            ]
          },
          "metadata": {
            "tags": []
          },
          "execution_count": 47
        }
      ]
    },
    {
      "cell_type": "markdown",
      "metadata": {
        "id": "kxXbVKCwFQju",
        "colab_type": "text"
      },
      "source": [
        "\n",
        "\n",
        "---\n",
        "\n"
      ]
    },
    {
      "cell_type": "markdown",
      "metadata": {
        "id": "w948bC0ocyQ8",
        "colab_type": "text"
      },
      "source": [
        "### **Translating the dataframe from german to english**\n",
        "\n",
        "#### In this section, we need to translate the dataframe only then we will understand what's in the dataframe. \n",
        "\n",
        "Rather than manually translating the values using google translate one by one it might take years due to the size of the dataframe. Rather with the help of my traslator function the entire dataframe can be passed into the function. As a end result the dataframe would be translated into English. Thanks to [googletrans Python API](https://pypi.org/project/googletrans/), all this can steps could be done in ease."
      ]
    },
    {
      "cell_type": "code",
      "metadata": {
        "id": "0qkf242pc0b0",
        "colab_type": "code",
        "colab": {}
      },
      "source": [
        "missing_values = [\"n/a\", \"na\", \"--\", \"\"]\n",
        "df = pd.read_csv(\"/content/drive/My Drive/Dataset/autos.csv\", sep = ',', header = 0, encoding='cp1252', na_values = missing_values)"
      ],
      "execution_count": 0,
      "outputs": []
    },
    {
      "cell_type": "code",
      "metadata": {
        "id": "tH5GVNcNc2aQ",
        "colab_type": "code",
        "colab": {}
      },
      "source": [
        "df = df.dropna()\n",
        "df = df.drop(['name', 'dateCrawled','price', 'yearOfRegistration','powerPS', 'kilometer', 'monthOfRegistration', 'dateCreated', 'nrOfPictures','postalCode', 'lastSeen'], axis=1)"
      ],
      "execution_count": 0,
      "outputs": []
    },
    {
      "cell_type": "code",
      "metadata": {
        "id": "tcu_5vLwc64i",
        "colab_type": "code",
        "outputId": "4d1b50b9-a12e-4719-e722-f50cf6f2c999",
        "colab": {
          "base_uri": "https://localhost:8080/",
          "height": 55
        }
      },
      "source": [
        "translator = Translator()\n",
        "translations = {}\n",
        "for column in df.columns:\n",
        "    # unique elements of the column\n",
        "    unique_elements = df[column].unique()\n",
        "    for element in unique_elements:\n",
        "        # add translation to the dictionary\n",
        "        translations[element] = translator.translate(element).text\n",
        "print(translations)"
      ],
      "execution_count": 0,
      "outputs": [
        {
          "output_type": "stream",
          "text": [
            "{'privat': 'private', 'gewerblich': 'commercial', 'Angebot': 'offer', 'Gesuch': 'petition', 'test': 'test', 'control': 'control', 'kleinwagen': 'small car', 'limousine': 'limousine', 'cabrio': 'cabrio', 'kombi': 'combi', 'suv': 'suv', 'bus': 'bus', 'coupe': 'coupe', 'andere': 'Others', 'manuell': 'manually', 'automatik': 'automatic', 'golf': 'golf', 'fabia': 'fabia', '3er': 'Presentation', '2_reihe': '2_reihe', '3_reihe': '3_reihe', 'passat': 'passat', 'navara': 'navara', 'twingo': 'twingo', 'c_max': 'c_max', 'a_klasse': 'a_klasse', 'scirocco': 'scirocco', '5er': 'Good', 'arosa': 'arosa', 'civic': 'civic', 'transporter': 'transporter', 'punto': 'point', 'e_klasse': 'e_klasse', 'one': 'one', 'clio': 'clio', '1er': '1er', 'b_klasse': 'b_klasse', 'astra': 'astra', 'fortwo': 'fortwo', 'a8': 'a8', 'jetta': 'jetta', 'polo': 'polo', 'fiesta': 'fiesta', 'c_klasse': 'c_klasse', 'micra': 'micra', 'vito': 'vito', 'sprinter': 'sprinter', '156': '156', 'escort': 'escort', 'forester': 'forester', 'scenic': 'scenic', 'a1': 'a1', 'combo': 'combo', 'focus': 'focus', 'tt': 'tt', 'a6': 'Ash', 'jazz': 'jazz', 'slk': 'slk', '7er': 'free', '80': '80', '147': '147', 'glk': 'glk', 'meriva': 'meriva', 'z_reihe': 'z_reihe', 'v40': 'v40', 'ibiza': 'ibiza', 'mustang': 'mustang', 'eos': 'eos', 'a4': 'a4', 'touran': 'touran', 'getz': 'getz', 'insignia': 'insignia', 'megane': 'megane', 'a3': 'I', 'lupo': 'wolf', 'r19': 'r19', 'colt': 'colt', 'corsa': 'corsa', 'vectra': 'vectra', 'berlingo': 'berlingo', 'm_klasse': 'm_klasse', 'tiguan': 'Tiguan', 'sharan': 'asylum', '6_reihe': '6_reihe', 'c4': 'Number 4', 'panda': 'panda', 'up': 'up', 'i_reihe': 'i_reihe', 'ceed': 'ceed', 'kangoo': 'kangoo', '5_reihe': '5_reihe', 'yeti': 'yeti', 'octavia': 'octavia', 'zafira': 'zafira', 'mii': 'thousands', 'rx_reihe': 'rx_reihe', 'mondeo': 'mondeo', '6er': '6er', 'fox': 'fox', 'matiz': 'Matiz', 'beetle': 'beetle', 'rio': 'rio', 'touareg': 'touareg', 'logan': 'logan', 'omega': 'omega', 'cuore': 'heart', 's_max': 's_max', 'modus': 'modus', 'a2': 'DONC', 'x_reihe': 'x_reihe', 'a5': 'Brother', 'galaxy': 'galaxy', 'c3': 'Kaa', 'viano': 'viano', 's_klasse': 's_klasse', 'avensis': 'avensis', 'sl': 'sl', 'roomster': 'roomster', 'q5': 'q5', 'kaefer': 'kaefer', 'santa': 'santa', 'cooper': 'cooper', 'leon': 'leon', 'sportage': 'sportage', 'caddy': 'caddy', 'clk': 'clk', 'primera': 'first', '4_reihe': '4_reihe', 'espace': 'space', 'exeo': 'exeo', 'juke': 'juke', '1_reihe': '1st row', 'accord': 'accord', 'corolla': 'corolla', 'grand': 'grand', 'phaeton': 'phaeton', 'boxster': 'boxster', 'cordoba': 'cordoba', 'verso': 'towards', 'swift': 'swift', 'rav': 'rav', 'kuga': 'plague', 'qashqai': 'qashqai', '159': '159', 'picanto': 'picanto', 'stilo': 'Stilo', 'alhambra': 'alhambra', 'laguna': 'laguna', '911': '911', 'ka': 'Or', 'm_reihe': 'm_reihe', 'transit': 'transit', 'roadster': 'roadster', 'ypsilon': 'ypsilon', 'galant': 'galant', 'impreza': 'impreza', 'sirion': 'sirion', 'signum': 'signum', 'crossfire': 'crossfire', 'agila': 'agile', 'duster': 'duster', 'sorento': 'sorento', 'v50': 'v50', 'mx_reihe': 'mx_reihe', '500': '500', 'discovery': 'discovery', 'c_reihe': 'c_reihe', 'v_klasse': 'v_klasse', 'yaris': 'yaris', 'c5': 'Kkh', 'aygo': 'aygo', 'almera': 'almera', 'cc': 'cc', 'bora': 'bora', 'forfour': 'forfour', '100': '100', 'cl': 'cl', 'tigra': 'Tigra', '300c': '300c', 'ptcruiser': 'ptcruiser', 'cr_reihe': 'cr_reihe', 'xc_reihe': 'xc_reihe', 'spark': 'spark', 'x_type': 'x_type', 'ducato': 'duchy', 's_type': 's_type', 'x_trail': 'x_trail', 'toledo': 'toledo', 'altea': 'altea', 'voyager': 'voyager', 'carnival': 'carnival', 'v70': 'B70', 'bravo': 'bravo', 'range_rover': 'range rover', 'carisma': 'charisma', 'antara': 'Among', 'q7': 'Qah', 'c1': 'c1', 'kadett': 'Cadets', 'citigo': 'Citigo', 'jimny': 'jimny', 'cx_reihe': 'cx_reihe', 'cayenne': 'cayenne', 'wrangler': 'wrangler', 'lybra': 'lybra', 'lancer': 'lancer', 'freelander': 'freelander', 'captiva': 'captiva', 'fusion': 'fusion', 'range_rover_evoque': 'range rover evoque', 'sandero': 'sandero', 'note': 'note', 'q3': 'Qa', 'spider': 'spider', '90': '90', 'defender': 'defender', 'cherokee': 'cherokee', 'seicento': 'six hundred', 'clubman': 'clubman', 'legacy': 'legacy', 'pajero': 'Pajero', 'c2': 'c2', 'niva': 'field', 's60': 'C60', '900': '900', 'nubira': 'Nubira', 'vivaro': 'vivaro', 'lanos': 'lanos', 'tucson': 'tucson', 'g_klasse': 'g_klasse', 'auris': 'auris', 'lodgy': 'Lodgy', '850': '850', 'range_rover_sport': 'range_rover_sport', '601': '601', 'superb': 'superb', 'justy': 'justy', 'serie_2': 'serie_2', 'calibra': 'calibra', 'charade': 'charade', 'croma': 'Croma', 'outlander': 'outlander', 'gl': 'gl', 'doblo': 'doblo', 'amarok': 'Amarok', 'musa': 'musa', '9000': '9000', 'kalos': 'well', 'v60': 'B60', '200': '200', 'b_max': 'b_max', 'delta': 'delta', '145': '145', 'aveo': 'aveo', 'terios': 'Terios', 'move': 'move', 'materia': 'matter', 'kalina': 'viburnum', 'samara': 'samara', 'elefantino': 'elephantine', 'i3': 'i3', 'rangerover': 'ranger over', 'serie_3': 'serie_3', 'kappa': 'kappa', 'discovery_sport': 'discovery_sport', 'benzin': 'gasoline', 'diesel': 'diesel', 'lpg': 'lPG', 'hybrid': 'hybrid', 'cng': 'cng', 'elektro': 'electro', 'volkswagen': 'volkswagen', 'skoda': 'skoda', 'bmw': 'bmw', 'peugeot': 'peugeot', 'mazda': 'mazda', 'nissan': 'nissan', 'renault': 'renault', 'ford': 'ford', 'mercedes_benz': 'Mercedes Benz', 'seat': 'seat', 'honda': 'honda', 'fiat': 'fiat', 'mini': 'mini', 'opel': 'opel', 'smart': 'smart', 'audi': 'audi', 'alfa_romeo': 'Alfa Romeo', 'subaru': 'subaru', 'mitsubishi': 'mitsubishi', 'hyundai': 'hyundai', 'volvo': 'volvo', 'lancia': 'lancia', 'porsche': 'porsche', 'citroen': 'citroen', 'toyota': 'toyota', 'kia': 'that', 'chevrolet': 'chevrolet', 'dacia': 'Dacia', 'suzuki': 'suzuki', 'daihatsu': 'daihatsu', 'chrysler': 'chrysler', 'jaguar': 'jaguar', 'rover': 'rover', 'jeep': 'jeep', 'saab': 'saab', 'daewoo': 'daewoo', 'land_rover': 'land rover', 'trabant': 'trabant', 'lada': 'frets', 'nein': 'No', 'ja': 'and'}\n"
          ],
          "name": "stdout"
        }
      ]
    },
    {
      "cell_type": "code",
      "metadata": {
        "id": "w1Hp4sLJc8IG",
        "colab_type": "code",
        "colab": {}
      },
      "source": [
        "translations['ja'] = 'yes'"
      ],
      "execution_count": 0,
      "outputs": []
    },
    {
      "cell_type": "code",
      "metadata": {
        "id": "qQonI5dAc97Q",
        "colab_type": "code",
        "outputId": "0027c4bc-ef7e-4e06-e40f-f8bff44309d0",
        "colab": {
          "base_uri": "https://localhost:8080/",
          "height": 355
        }
      },
      "source": [
        "df.replace(translations, inplace = True)\n",
        "# check translation\n",
        "df.head(10)"
      ],
      "execution_count": 0,
      "outputs": [
        {
          "output_type": "execute_result",
          "data": {
            "text/html": [
              "<div>\n",
              "<style scoped>\n",
              "    .dataframe tbody tr th:only-of-type {\n",
              "        vertical-align: middle;\n",
              "    }\n",
              "\n",
              "    .dataframe tbody tr th {\n",
              "        vertical-align: top;\n",
              "    }\n",
              "\n",
              "    .dataframe thead th {\n",
              "        text-align: right;\n",
              "    }\n",
              "</style>\n",
              "<table border=\"1\" class=\"dataframe\">\n",
              "  <thead>\n",
              "    <tr style=\"text-align: right;\">\n",
              "      <th></th>\n",
              "      <th>seller</th>\n",
              "      <th>offerType</th>\n",
              "      <th>abtest</th>\n",
              "      <th>vehicleType</th>\n",
              "      <th>gearbox</th>\n",
              "      <th>model</th>\n",
              "      <th>fuelType</th>\n",
              "      <th>brand</th>\n",
              "      <th>notRepairedDamage</th>\n",
              "    </tr>\n",
              "  </thead>\n",
              "  <tbody>\n",
              "    <tr>\n",
              "      <th>3</th>\n",
              "      <td>private</td>\n",
              "      <td>offer</td>\n",
              "      <td>test</td>\n",
              "      <td>small car</td>\n",
              "      <td>manually</td>\n",
              "      <td>golf</td>\n",
              "      <td>gasoline</td>\n",
              "      <td>volkswagen</td>\n",
              "      <td>No</td>\n",
              "    </tr>\n",
              "    <tr>\n",
              "      <th>4</th>\n",
              "      <td>private</td>\n",
              "      <td>offer</td>\n",
              "      <td>test</td>\n",
              "      <td>small car</td>\n",
              "      <td>manually</td>\n",
              "      <td>fabia</td>\n",
              "      <td>diesel</td>\n",
              "      <td>skoda</td>\n",
              "      <td>No</td>\n",
              "    </tr>\n",
              "    <tr>\n",
              "      <th>5</th>\n",
              "      <td>private</td>\n",
              "      <td>offer</td>\n",
              "      <td>test</td>\n",
              "      <td>limousine</td>\n",
              "      <td>manually</td>\n",
              "      <td>Presentation</td>\n",
              "      <td>gasoline</td>\n",
              "      <td>bmw</td>\n",
              "      <td>yes</td>\n",
              "    </tr>\n",
              "    <tr>\n",
              "      <th>6</th>\n",
              "      <td>private</td>\n",
              "      <td>offer</td>\n",
              "      <td>test</td>\n",
              "      <td>cabrio</td>\n",
              "      <td>manually</td>\n",
              "      <td>2_reihe</td>\n",
              "      <td>gasoline</td>\n",
              "      <td>peugeot</td>\n",
              "      <td>No</td>\n",
              "    </tr>\n",
              "    <tr>\n",
              "      <th>7</th>\n",
              "      <td>private</td>\n",
              "      <td>offer</td>\n",
              "      <td>test</td>\n",
              "      <td>limousine</td>\n",
              "      <td>manually</td>\n",
              "      <td>Others</td>\n",
              "      <td>gasoline</td>\n",
              "      <td>volkswagen</td>\n",
              "      <td>No</td>\n",
              "    </tr>\n",
              "    <tr>\n",
              "      <th>10</th>\n",
              "      <td>private</td>\n",
              "      <td>offer</td>\n",
              "      <td>control</td>\n",
              "      <td>limousine</td>\n",
              "      <td>manually</td>\n",
              "      <td>3_reihe</td>\n",
              "      <td>gasoline</td>\n",
              "      <td>mazda</td>\n",
              "      <td>No</td>\n",
              "    </tr>\n",
              "    <tr>\n",
              "      <th>11</th>\n",
              "      <td>private</td>\n",
              "      <td>offer</td>\n",
              "      <td>control</td>\n",
              "      <td>combi</td>\n",
              "      <td>manually</td>\n",
              "      <td>passat</td>\n",
              "      <td>diesel</td>\n",
              "      <td>volkswagen</td>\n",
              "      <td>yes</td>\n",
              "    </tr>\n",
              "    <tr>\n",
              "      <th>14</th>\n",
              "      <td>private</td>\n",
              "      <td>offer</td>\n",
              "      <td>control</td>\n",
              "      <td>suv</td>\n",
              "      <td>manually</td>\n",
              "      <td>navara</td>\n",
              "      <td>diesel</td>\n",
              "      <td>nissan</td>\n",
              "      <td>No</td>\n",
              "    </tr>\n",
              "    <tr>\n",
              "      <th>17</th>\n",
              "      <td>private</td>\n",
              "      <td>offer</td>\n",
              "      <td>control</td>\n",
              "      <td>small car</td>\n",
              "      <td>automatic</td>\n",
              "      <td>twingo</td>\n",
              "      <td>gasoline</td>\n",
              "      <td>renault</td>\n",
              "      <td>No</td>\n",
              "    </tr>\n",
              "    <tr>\n",
              "      <th>18</th>\n",
              "      <td>private</td>\n",
              "      <td>offer</td>\n",
              "      <td>test</td>\n",
              "      <td>bus</td>\n",
              "      <td>manually</td>\n",
              "      <td>c_max</td>\n",
              "      <td>diesel</td>\n",
              "      <td>ford</td>\n",
              "      <td>No</td>\n",
              "    </tr>\n",
              "  </tbody>\n",
              "</table>\n",
              "</div>"
            ],
            "text/plain": [
              "     seller offerType   abtest  ...  fuelType       brand notRepairedDamage\n",
              "3   private     offer     test  ...  gasoline  volkswagen                No\n",
              "4   private     offer     test  ...    diesel       skoda                No\n",
              "5   private     offer     test  ...  gasoline         bmw               yes\n",
              "6   private     offer     test  ...  gasoline     peugeot                No\n",
              "7   private     offer     test  ...  gasoline  volkswagen                No\n",
              "10  private     offer  control  ...  gasoline       mazda                No\n",
              "11  private     offer  control  ...    diesel  volkswagen               yes\n",
              "14  private     offer  control  ...    diesel      nissan                No\n",
              "17  private     offer  control  ...  gasoline     renault                No\n",
              "18  private     offer     test  ...    diesel        ford                No\n",
              "\n",
              "[10 rows x 9 columns]"
            ]
          },
          "metadata": {
            "tags": []
          },
          "execution_count": 52
        }
      ]
    },
    {
      "cell_type": "code",
      "metadata": {
        "id": "znMxjaGk2ggt",
        "colab_type": "code",
        "outputId": "83959274-f165-4e8c-97c1-0b3d95c6e1ad",
        "colab": {
          "base_uri": "https://localhost:8080/",
          "height": 139
        }
      },
      "source": [
        "df.brand.unique()"
      ],
      "execution_count": 0,
      "outputs": [
        {
          "output_type": "execute_result",
          "data": {
            "text/plain": [
              "array(['volkswagen', 'skoda', 'bmw', 'peugeot', 'mazda', 'nissan',\n",
              "       'renault', 'ford', 'Mercedes Benz', 'seat', 'honda', 'fiat',\n",
              "       'mini', 'opel', 'smart', 'audi', 'Alfa Romeo', 'subaru',\n",
              "       'mitsubishi', 'hyundai', 'volvo', 'lancia', 'porsche', 'citroen',\n",
              "       'toyota', 'that', 'chevrolet', 'Dacia', 'suzuki', 'daihatsu',\n",
              "       'chrysler', 'jaguar', 'rover', 'jeep', 'saab', 'daewoo',\n",
              "       'land rover', 'trabant', 'frets'], dtype=object)"
            ]
          },
          "metadata": {
            "tags": []
          },
          "execution_count": 53
        }
      ]
    },
    {
      "cell_type": "code",
      "metadata": {
        "id": "S0NFmaP5c_UA",
        "colab_type": "code",
        "outputId": "53a329e4-0ab4-41b4-d410-aa5d3ba6f644",
        "colab": {
          "base_uri": "https://localhost:8080/",
          "height": 355
        }
      },
      "source": [
        "df.tail(10)"
      ],
      "execution_count": 0,
      "outputs": [
        {
          "output_type": "execute_result",
          "data": {
            "text/html": [
              "<div>\n",
              "<style scoped>\n",
              "    .dataframe tbody tr th:only-of-type {\n",
              "        vertical-align: middle;\n",
              "    }\n",
              "\n",
              "    .dataframe tbody tr th {\n",
              "        vertical-align: top;\n",
              "    }\n",
              "\n",
              "    .dataframe thead th {\n",
              "        text-align: right;\n",
              "    }\n",
              "</style>\n",
              "<table border=\"1\" class=\"dataframe\">\n",
              "  <thead>\n",
              "    <tr style=\"text-align: right;\">\n",
              "      <th></th>\n",
              "      <th>seller</th>\n",
              "      <th>offerType</th>\n",
              "      <th>abtest</th>\n",
              "      <th>vehicleType</th>\n",
              "      <th>gearbox</th>\n",
              "      <th>model</th>\n",
              "      <th>fuelType</th>\n",
              "      <th>brand</th>\n",
              "      <th>notRepairedDamage</th>\n",
              "    </tr>\n",
              "  </thead>\n",
              "  <tbody>\n",
              "    <tr>\n",
              "      <th>371512</th>\n",
              "      <td>private</td>\n",
              "      <td>offer</td>\n",
              "      <td>test</td>\n",
              "      <td>limousine</td>\n",
              "      <td>automatic</td>\n",
              "      <td>e_klasse</td>\n",
              "      <td>diesel</td>\n",
              "      <td>Mercedes Benz</td>\n",
              "      <td>yes</td>\n",
              "    </tr>\n",
              "    <tr>\n",
              "      <th>371513</th>\n",
              "      <td>private</td>\n",
              "      <td>offer</td>\n",
              "      <td>control</td>\n",
              "      <td>limousine</td>\n",
              "      <td>manually</td>\n",
              "      <td>leon</td>\n",
              "      <td>diesel</td>\n",
              "      <td>seat</td>\n",
              "      <td>No</td>\n",
              "    </tr>\n",
              "    <tr>\n",
              "      <th>371516</th>\n",
              "      <td>private</td>\n",
              "      <td>offer</td>\n",
              "      <td>control</td>\n",
              "      <td>small car</td>\n",
              "      <td>manually</td>\n",
              "      <td>wolf</td>\n",
              "      <td>gasoline</td>\n",
              "      <td>volkswagen</td>\n",
              "      <td>No</td>\n",
              "    </tr>\n",
              "    <tr>\n",
              "      <th>371517</th>\n",
              "      <td>private</td>\n",
              "      <td>offer</td>\n",
              "      <td>test</td>\n",
              "      <td>limousine</td>\n",
              "      <td>manually</td>\n",
              "      <td>golf</td>\n",
              "      <td>diesel</td>\n",
              "      <td>volkswagen</td>\n",
              "      <td>No</td>\n",
              "    </tr>\n",
              "    <tr>\n",
              "      <th>371518</th>\n",
              "      <td>private</td>\n",
              "      <td>offer</td>\n",
              "      <td>test</td>\n",
              "      <td>combi</td>\n",
              "      <td>manually</td>\n",
              "      <td>Presentation</td>\n",
              "      <td>diesel</td>\n",
              "      <td>bmw</td>\n",
              "      <td>No</td>\n",
              "    </tr>\n",
              "    <tr>\n",
              "      <th>371520</th>\n",
              "      <td>private</td>\n",
              "      <td>offer</td>\n",
              "      <td>control</td>\n",
              "      <td>limousine</td>\n",
              "      <td>manually</td>\n",
              "      <td>leon</td>\n",
              "      <td>gasoline</td>\n",
              "      <td>seat</td>\n",
              "      <td>yes</td>\n",
              "    </tr>\n",
              "    <tr>\n",
              "      <th>371521</th>\n",
              "      <td>private</td>\n",
              "      <td>offer</td>\n",
              "      <td>control</td>\n",
              "      <td>bus</td>\n",
              "      <td>manually</td>\n",
              "      <td>zafira</td>\n",
              "      <td>gasoline</td>\n",
              "      <td>opel</td>\n",
              "      <td>No</td>\n",
              "    </tr>\n",
              "    <tr>\n",
              "      <th>371524</th>\n",
              "      <td>private</td>\n",
              "      <td>offer</td>\n",
              "      <td>test</td>\n",
              "      <td>cabrio</td>\n",
              "      <td>automatic</td>\n",
              "      <td>fortwo</td>\n",
              "      <td>gasoline</td>\n",
              "      <td>smart</td>\n",
              "      <td>No</td>\n",
              "    </tr>\n",
              "    <tr>\n",
              "      <th>371525</th>\n",
              "      <td>private</td>\n",
              "      <td>offer</td>\n",
              "      <td>test</td>\n",
              "      <td>bus</td>\n",
              "      <td>manually</td>\n",
              "      <td>transporter</td>\n",
              "      <td>diesel</td>\n",
              "      <td>volkswagen</td>\n",
              "      <td>No</td>\n",
              "    </tr>\n",
              "    <tr>\n",
              "      <th>371527</th>\n",
              "      <td>private</td>\n",
              "      <td>offer</td>\n",
              "      <td>control</td>\n",
              "      <td>limousine</td>\n",
              "      <td>manually</td>\n",
              "      <td>m_reihe</td>\n",
              "      <td>gasoline</td>\n",
              "      <td>bmw</td>\n",
              "      <td>No</td>\n",
              "    </tr>\n",
              "  </tbody>\n",
              "</table>\n",
              "</div>"
            ],
            "text/plain": [
              "         seller offerType   abtest  ...  fuelType          brand notRepairedDamage\n",
              "371512  private     offer     test  ...    diesel  Mercedes Benz               yes\n",
              "371513  private     offer  control  ...    diesel           seat                No\n",
              "371516  private     offer  control  ...  gasoline     volkswagen                No\n",
              "371517  private     offer     test  ...    diesel     volkswagen                No\n",
              "371518  private     offer     test  ...    diesel            bmw                No\n",
              "371520  private     offer  control  ...  gasoline           seat               yes\n",
              "371521  private     offer  control  ...  gasoline           opel                No\n",
              "371524  private     offer     test  ...  gasoline          smart                No\n",
              "371525  private     offer     test  ...    diesel     volkswagen                No\n",
              "371527  private     offer  control  ...  gasoline            bmw                No\n",
              "\n",
              "[10 rows x 9 columns]"
            ]
          },
          "metadata": {
            "tags": []
          },
          "execution_count": 54
        }
      ]
    },
    {
      "cell_type": "markdown",
      "metadata": {
        "id": "swXif8UdFRDy",
        "colab_type": "text"
      },
      "source": [
        "### **Dealing with the datatypes**\n",
        "#### In this section, we will use a technique to encode and the convert all the object data into categorical."
      ]
    },
    {
      "cell_type": "code",
      "metadata": {
        "id": "jY9JmRtuFwbx",
        "colab_type": "code",
        "colab": {}
      },
      "source": [
        "for col in ['brand','vehicleType', 'gearbox', 'model', 'fuelType']:\n",
        "    df_clean[col] = df_clean[col].astype('category')"
      ],
      "execution_count": 0,
      "outputs": []
    },
    {
      "cell_type": "code",
      "metadata": {
        "id": "9tAtrcbRF0X4",
        "colab_type": "code",
        "colab": {}
      },
      "source": [
        "# Assign codes to categorical attribues instead of strings\n",
        "\n",
        "df_cloumns = df_clean.select_dtypes(['category']).columns\n",
        "\n",
        "df_clean[df_cloumns] = df_clean[df_cloumns].apply(lambda x: x.cat.codes)\n",
        "        "
      ],
      "execution_count": 0,
      "outputs": []
    },
    {
      "cell_type": "code",
      "metadata": {
        "id": "AGOOpLEQOcme",
        "colab_type": "code",
        "outputId": "efd42bcd-94c7-4d11-9651-748b7e5bdb80",
        "colab": {
          "base_uri": "https://localhost:8080/",
          "height": 202
        }
      },
      "source": [
        "df_clean.head(5)"
      ],
      "execution_count": 0,
      "outputs": [
        {
          "output_type": "execute_result",
          "data": {
            "text/html": [
              "<div>\n",
              "<style scoped>\n",
              "    .dataframe tbody tr th:only-of-type {\n",
              "        vertical-align: middle;\n",
              "    }\n",
              "\n",
              "    .dataframe tbody tr th {\n",
              "        vertical-align: top;\n",
              "    }\n",
              "\n",
              "    .dataframe thead th {\n",
              "        text-align: right;\n",
              "    }\n",
              "</style>\n",
              "<table border=\"1\" class=\"dataframe\">\n",
              "  <thead>\n",
              "    <tr style=\"text-align: right;\">\n",
              "      <th></th>\n",
              "      <th>price</th>\n",
              "      <th>vehicleType</th>\n",
              "      <th>yearOfRegistration</th>\n",
              "      <th>gearbox</th>\n",
              "      <th>powerPS</th>\n",
              "      <th>model</th>\n",
              "      <th>kilometer</th>\n",
              "      <th>monthOfRegistration</th>\n",
              "      <th>fuelType</th>\n",
              "      <th>brand</th>\n",
              "      <th>postalCode</th>\n",
              "    </tr>\n",
              "  </thead>\n",
              "  <tbody>\n",
              "    <tr>\n",
              "      <th>1</th>\n",
              "      <td>18300</td>\n",
              "      <td>3</td>\n",
              "      <td>2011</td>\n",
              "      <td>1</td>\n",
              "      <td>190</td>\n",
              "      <td>11</td>\n",
              "      <td>125000</td>\n",
              "      <td>5</td>\n",
              "      <td>3</td>\n",
              "      <td>1</td>\n",
              "      <td>66954</td>\n",
              "    </tr>\n",
              "    <tr>\n",
              "      <th>2</th>\n",
              "      <td>9800</td>\n",
              "      <td>7</td>\n",
              "      <td>2004</td>\n",
              "      <td>0</td>\n",
              "      <td>163</td>\n",
              "      <td>114</td>\n",
              "      <td>125000</td>\n",
              "      <td>8</td>\n",
              "      <td>3</td>\n",
              "      <td>14</td>\n",
              "      <td>90480</td>\n",
              "    </tr>\n",
              "    <tr>\n",
              "      <th>5</th>\n",
              "      <td>650</td>\n",
              "      <td>6</td>\n",
              "      <td>1995</td>\n",
              "      <td>1</td>\n",
              "      <td>102</td>\n",
              "      <td>11</td>\n",
              "      <td>150000</td>\n",
              "      <td>10</td>\n",
              "      <td>1</td>\n",
              "      <td>2</td>\n",
              "      <td>33775</td>\n",
              "    </tr>\n",
              "    <tr>\n",
              "      <th>6</th>\n",
              "      <td>2200</td>\n",
              "      <td>2</td>\n",
              "      <td>2004</td>\n",
              "      <td>1</td>\n",
              "      <td>109</td>\n",
              "      <td>8</td>\n",
              "      <td>150000</td>\n",
              "      <td>8</td>\n",
              "      <td>1</td>\n",
              "      <td>25</td>\n",
              "      <td>67112</td>\n",
              "    </tr>\n",
              "    <tr>\n",
              "      <th>8</th>\n",
              "      <td>14500</td>\n",
              "      <td>1</td>\n",
              "      <td>2014</td>\n",
              "      <td>1</td>\n",
              "      <td>125</td>\n",
              "      <td>58</td>\n",
              "      <td>30000</td>\n",
              "      <td>8</td>\n",
              "      <td>1</td>\n",
              "      <td>10</td>\n",
              "      <td>94505</td>\n",
              "    </tr>\n",
              "  </tbody>\n",
              "</table>\n",
              "</div>"
            ],
            "text/plain": [
              "   price  vehicleType  yearOfRegistration  ...  fuelType  brand  postalCode\n",
              "1  18300            3                2011  ...         3      1       66954\n",
              "2   9800            7                2004  ...         3     14       90480\n",
              "5    650            6                1995  ...         1      2       33775\n",
              "6   2200            2                2004  ...         1     25       67112\n",
              "8  14500            1                2014  ...         1     10       94505\n",
              "\n",
              "[5 rows x 11 columns]"
            ]
          },
          "metadata": {
            "tags": []
          },
          "execution_count": 57
        }
      ]
    },
    {
      "cell_type": "code",
      "metadata": {
        "id": "NOqt1cMbdcYm",
        "colab_type": "code",
        "outputId": "e02ddd2e-f3d3-44a9-dbcd-857b5b42f257",
        "colab": {
          "base_uri": "https://localhost:8080/",
          "height": 173
        }
      },
      "source": [
        "df_clean.groupby('fuelType').size()"
      ],
      "execution_count": 0,
      "outputs": [
        {
          "output_type": "execute_result",
          "data": {
            "text/plain": [
              "fuelType\n",
              "0        30\n",
              "1    104156\n",
              "2       235\n",
              "3     73273\n",
              "4        20\n",
              "5       105\n",
              "6      3371\n",
              "dtype: int64"
            ]
          },
          "metadata": {
            "tags": []
          },
          "execution_count": 58
        }
      ]
    },
    {
      "cell_type": "markdown",
      "metadata": {
        "id": "fn1gi5_5JjyI",
        "colab_type": "text"
      },
      "source": [
        "### **Feature Selection**\n",
        "\n",
        "#### Feature selection techniques that are easy to use and also gives good results."
      ]
    },
    {
      "cell_type": "markdown",
      "metadata": {
        "id": "FPtkYYLUKN7D",
        "colab_type": "text"
      },
      "source": [
        "**Univariate Selection**\n",
        "\n",
        "Statistical tests can be used to select those features that have the strongest relationship with the output variable.\n",
        "\n",
        "The scikit-learn library provides the SelectKBest class that can be used with a suite of different statistical tests to select a specific number of features.\n",
        "\n",
        "The example below uses the chi-squared (chi²) statistical test for non-negative features to select 10 of the best features "
      ]
    },
    {
      "cell_type": "code",
      "metadata": {
        "id": "E2C13jrPJf6s",
        "colab_type": "code",
        "colab": {}
      },
      "source": [
        "#X = df_clean.drop('price', axis=1)\n",
        "#y = df_clean['price']"
      ],
      "execution_count": 0,
      "outputs": []
    },
    {
      "cell_type": "code",
      "metadata": {
        "id": "AmzaeiDjKeE5",
        "colab_type": "code",
        "colab": {}
      },
      "source": [
        "#apply SelectKBest class to extract top 10 best features\n",
        "#bestfeatures = SelectKBest(score_func=chi2, k=10)\n",
        "#fit = bestfeatures.fit(X,y)"
      ],
      "execution_count": 0,
      "outputs": []
    },
    {
      "cell_type": "code",
      "metadata": {
        "id": "1WfoLaC4Kg1M",
        "colab_type": "code",
        "colab": {}
      },
      "source": [
        "#dfscores = pd.DataFrame(fit.scores_)\n",
        "#dfcolumns = pd.DataFrame(X.columns)"
      ],
      "execution_count": 0,
      "outputs": []
    },
    {
      "cell_type": "code",
      "metadata": {
        "id": "pRw2pHsQO9z5",
        "colab_type": "code",
        "colab": {}
      },
      "source": [
        "#concat two dataframes for better visualization \n",
        "#featureScores = pd.concat([dfcolumns,dfscores],axis=1)\n",
        "#featureScores.columns = ['Features','Score']  #naming the dataframe columns"
      ],
      "execution_count": 0,
      "outputs": []
    },
    {
      "cell_type": "code",
      "metadata": {
        "id": "r6rW3aOoO0jm",
        "colab_type": "code",
        "colab": {}
      },
      "source": [
        "#featureScores.nlargest(10,'Score')  #print 10 best features"
      ],
      "execution_count": 0,
      "outputs": []
    },
    {
      "cell_type": "markdown",
      "metadata": {
        "id": "nV5sqbt0eD4D",
        "colab_type": "text"
      },
      "source": [
        "**Correlation Matrix with Heatmap**\n",
        "\n",
        "Correlation states how the features are related to each other or the target variable.\n",
        "\n",
        "Correlation can be positive (increase in one value of feature increases the value of the target variable) or negative (increase in one value of feature decreases the value of the target variable)\n",
        "\n",
        "Heatmap makes it easy to identify which features are most related to the target variable, we will plot heatmap of correlated features using the seaborn library."
      ]
    },
    {
      "cell_type": "code",
      "metadata": {
        "id": "1cShhVsYdldV",
        "colab_type": "code",
        "outputId": "8d6addf5-70c3-4a0a-9593-032502c740d7",
        "colab": {
          "base_uri": "https://localhost:8080/",
          "height": 689
        }
      },
      "source": [
        "import seaborn as sns\n",
        "#get correlations of each features in dataset\n",
        "corrmat = df_clean.corr()\n",
        "top_corr_features = corrmat.index\n",
        "plt.figure(figsize=(10,10))\n",
        "g=sns.heatmap(df_clean[top_corr_features].corr(),annot=True,cmap=\"RdYlGn\")"
      ],
      "execution_count": 0,
      "outputs": [
        {
          "output_type": "display_data",
          "data": {
            "image/png": "[encoded data removed]",
            "text/plain": [
              "<Figure size 720x720 with 2 Axes>"
            ]
          },
          "metadata": {
            "tags": []
          }
        }
      ]
    },
    {
      "cell_type": "markdown",
      "metadata": {
        "id": "rFG3O9ZWQueh",
        "colab_type": "text"
      },
      "source": [
        "\n",
        "\n",
        "---\n",
        "\n"
      ]
    },
    {
      "cell_type": "markdown",
      "metadata": {
        "id": "kGbCFB73F5a8",
        "colab_type": "text"
      },
      "source": [
        "### **One hot encoding**\n",
        "\n",
        "This approach was suitable because proiorly I used `OneHotEncoding`, but the problem it encoded every possible values into different columns. Then at the end there were 301 columns. It was very hard to process and render this data into the model. As it was taking a lot of time. So I decided not to encode all the columns using onehot encoding. I will use one hot encoding only on `vehicleType` and `gearbox`.\n",
        "\n",
        "**Using Onehotencoding on all the features**\n",
        "\n",
        "```\n",
        "\n",
        "df_clean=pd.get_dummies(data=df_clean,columns=['notRepairedDamage','vehicleType','model','brand','gearbox','fuelType'])\n",
        "#cars_dummies = cars_updated.drop(columns=['notRepairedDamage','vehicleType','model','brand','gearbox','fuelType'])\n",
        "\n",
        "```\n",
        "\n",
        "![alt text](https://i.imgur.com/qXuivbr.png)\n",
        "\n",
        "\n",
        "\n",
        "\n"
      ]
    },
    {
      "cell_type": "code",
      "metadata": {
        "id": "MiTwJ615Q42x",
        "colab_type": "code",
        "colab": {}
      },
      "source": [
        "df_clean=pd.get_dummies(data=df_clean,columns=['vehicleType','gearbox'])"
      ],
      "execution_count": 0,
      "outputs": []
    },
    {
      "cell_type": "code",
      "metadata": {
        "id": "Hp5ZE9viRHa3",
        "colab_type": "code",
        "outputId": "1294cb49-22cc-4b2e-c9ff-ae002be74071",
        "colab": {
          "base_uri": "https://localhost:8080/",
          "height": 222
        }
      },
      "source": [
        "df_clean.head(5)"
      ],
      "execution_count": 0,
      "outputs": [
        {
          "output_type": "execute_result",
          "data": {
            "text/html": [
              "<div>\n",
              "<style scoped>\n",
              "    .dataframe tbody tr th:only-of-type {\n",
              "        vertical-align: middle;\n",
              "    }\n",
              "\n",
              "    .dataframe tbody tr th {\n",
              "        vertical-align: top;\n",
              "    }\n",
              "\n",
              "    .dataframe thead th {\n",
              "        text-align: right;\n",
              "    }\n",
              "</style>\n",
              "<table border=\"1\" class=\"dataframe\">\n",
              "  <thead>\n",
              "    <tr style=\"text-align: right;\">\n",
              "      <th></th>\n",
              "      <th>price</th>\n",
              "      <th>yearOfRegistration</th>\n",
              "      <th>powerPS</th>\n",
              "      <th>model</th>\n",
              "      <th>kilometer</th>\n",
              "      <th>monthOfRegistration</th>\n",
              "      <th>fuelType</th>\n",
              "      <th>brand</th>\n",
              "      <th>postalCode</th>\n",
              "      <th>vehicleType_0</th>\n",
              "      <th>vehicleType_1</th>\n",
              "      <th>vehicleType_2</th>\n",
              "      <th>vehicleType_3</th>\n",
              "      <th>vehicleType_4</th>\n",
              "      <th>vehicleType_5</th>\n",
              "      <th>vehicleType_6</th>\n",
              "      <th>vehicleType_7</th>\n",
              "      <th>gearbox_0</th>\n",
              "      <th>gearbox_1</th>\n",
              "    </tr>\n",
              "  </thead>\n",
              "  <tbody>\n",
              "    <tr>\n",
              "      <th>1</th>\n",
              "      <td>18300</td>\n",
              "      <td>2011</td>\n",
              "      <td>190</td>\n",
              "      <td>11</td>\n",
              "      <td>125000</td>\n",
              "      <td>5</td>\n",
              "      <td>3</td>\n",
              "      <td>1</td>\n",
              "      <td>66954</td>\n",
              "      <td>0</td>\n",
              "      <td>0</td>\n",
              "      <td>0</td>\n",
              "      <td>1</td>\n",
              "      <td>0</td>\n",
              "      <td>0</td>\n",
              "      <td>0</td>\n",
              "      <td>0</td>\n",
              "      <td>0</td>\n",
              "      <td>1</td>\n",
              "    </tr>\n",
              "    <tr>\n",
              "      <th>2</th>\n",
              "      <td>9800</td>\n",
              "      <td>2004</td>\n",
              "      <td>163</td>\n",
              "      <td>114</td>\n",
              "      <td>125000</td>\n",
              "      <td>8</td>\n",
              "      <td>3</td>\n",
              "      <td>14</td>\n",
              "      <td>90480</td>\n",
              "      <td>0</td>\n",
              "      <td>0</td>\n",
              "      <td>0</td>\n",
              "      <td>0</td>\n",
              "      <td>0</td>\n",
              "      <td>0</td>\n",
              "      <td>0</td>\n",
              "      <td>1</td>\n",
              "      <td>1</td>\n",
              "      <td>0</td>\n",
              "    </tr>\n",
              "    <tr>\n",
              "      <th>5</th>\n",
              "      <td>650</td>\n",
              "      <td>1995</td>\n",
              "      <td>102</td>\n",
              "      <td>11</td>\n",
              "      <td>150000</td>\n",
              "      <td>10</td>\n",
              "      <td>1</td>\n",
              "      <td>2</td>\n",
              "      <td>33775</td>\n",
              "      <td>0</td>\n",
              "      <td>0</td>\n",
              "      <td>0</td>\n",
              "      <td>0</td>\n",
              "      <td>0</td>\n",
              "      <td>0</td>\n",
              "      <td>1</td>\n",
              "      <td>0</td>\n",
              "      <td>0</td>\n",
              "      <td>1</td>\n",
              "    </tr>\n",
              "    <tr>\n",
              "      <th>6</th>\n",
              "      <td>2200</td>\n",
              "      <td>2004</td>\n",
              "      <td>109</td>\n",
              "      <td>8</td>\n",
              "      <td>150000</td>\n",
              "      <td>8</td>\n",
              "      <td>1</td>\n",
              "      <td>25</td>\n",
              "      <td>67112</td>\n",
              "      <td>0</td>\n",
              "      <td>0</td>\n",
              "      <td>1</td>\n",
              "      <td>0</td>\n",
              "      <td>0</td>\n",
              "      <td>0</td>\n",
              "      <td>0</td>\n",
              "      <td>0</td>\n",
              "      <td>0</td>\n",
              "      <td>1</td>\n",
              "    </tr>\n",
              "    <tr>\n",
              "      <th>8</th>\n",
              "      <td>14500</td>\n",
              "      <td>2014</td>\n",
              "      <td>125</td>\n",
              "      <td>58</td>\n",
              "      <td>30000</td>\n",
              "      <td>8</td>\n",
              "      <td>1</td>\n",
              "      <td>10</td>\n",
              "      <td>94505</td>\n",
              "      <td>0</td>\n",
              "      <td>1</td>\n",
              "      <td>0</td>\n",
              "      <td>0</td>\n",
              "      <td>0</td>\n",
              "      <td>0</td>\n",
              "      <td>0</td>\n",
              "      <td>0</td>\n",
              "      <td>0</td>\n",
              "      <td>1</td>\n",
              "    </tr>\n",
              "  </tbody>\n",
              "</table>\n",
              "</div>"
            ],
            "text/plain": [
              "   price  yearOfRegistration  powerPS  ...  vehicleType_7  gearbox_0  gearbox_1\n",
              "1  18300                2011      190  ...              0          0          1\n",
              "2   9800                2004      163  ...              1          1          0\n",
              "5    650                1995      102  ...              0          0          1\n",
              "6   2200                2004      109  ...              0          0          1\n",
              "8  14500                2014      125  ...              0          0          1\n",
              "\n",
              "[5 rows x 19 columns]"
            ]
          },
          "metadata": {
            "tags": []
          },
          "execution_count": 66
        }
      ]
    },
    {
      "cell_type": "markdown",
      "metadata": {
        "id": "2iTmvzOCHndH",
        "colab_type": "text"
      },
      "source": [
        "\n",
        "\n",
        "---\n",
        "\n"
      ]
    },
    {
      "cell_type": "markdown",
      "metadata": {
        "id": "RUZDFXUog9Yl",
        "colab_type": "text"
      },
      "source": [
        "### **Removing the outliers using IQR technique**\n",
        "A commonly used rule says that a data point is an outlier if it is more than 1.5*IQR above the third quartile or below the first quartile. Said differently, low outliers are below Q1 - 1.5 * IQR and high outliers are above Q3 + 1.5 *IQR"
      ]
    },
    {
      "cell_type": "code",
      "metadata": {
        "id": "H0qDVYQlfbD6",
        "colab_type": "code",
        "outputId": "f6631aa4-2ae4-4583-85ea-e88653bf6ddb",
        "colab": {
          "base_uri": "https://localhost:8080/",
          "height": 297
        }
      },
      "source": [
        "sns.boxplot(x=df_clean['powerPS'])"
      ],
      "execution_count": 0,
      "outputs": [
        {
          "output_type": "execute_result",
          "data": {
            "text/plain": [
              "<matplotlib.axes._subplots.AxesSubplot at 0x7f49ad96ae48>"
            ]
          },
          "metadata": {
            "tags": []
          },
          "execution_count": 67
        },
        {
          "output_type": "display_data",
          "data": {
            "image/png": "[encoded data removed]",
            "text/plain": [
              "<Figure size 432x288 with 1 Axes>"
            ]
          },
          "metadata": {
            "tags": []
          }
        }
      ]
    },
    {
      "cell_type": "code",
      "metadata": {
        "id": "QC-CFhmOh2j5",
        "colab_type": "code",
        "outputId": "acef9dc0-d371-48e5-db6d-4734c877b1f2",
        "colab": {
          "base_uri": "https://localhost:8080/",
          "height": 364
        }
      },
      "source": [
        "Q1 = df_clean.quantile(0.25)\n",
        "Q3 = df_clean.quantile(0.75)\n",
        "IQR = Q3 - Q1\n",
        "IQR"
      ],
      "execution_count": 0,
      "outputs": [
        {
          "output_type": "execute_result",
          "data": {
            "text/plain": [
              "price                   8599.0\n",
              "yearOfRegistration         9.0\n",
              "powerPS                   59.0\n",
              "model                    121.0\n",
              "kilometer              25000.0\n",
              "monthOfRegistration        5.0\n",
              "fuelType                   2.0\n",
              "brand                     27.0\n",
              "postalCode             41902.0\n",
              "vehicleType_0              0.0\n",
              "vehicleType_1              0.0\n",
              "vehicleType_2              0.0\n",
              "vehicleType_3              0.0\n",
              "vehicleType_4              0.0\n",
              "vehicleType_5              1.0\n",
              "vehicleType_6              1.0\n",
              "vehicleType_7              0.0\n",
              "gearbox_0                  1.0\n",
              "gearbox_1                  1.0\n",
              "dtype: float64"
            ]
          },
          "metadata": {
            "tags": []
          },
          "execution_count": 68
        }
      ]
    },
    {
      "cell_type": "code",
      "metadata": {
        "id": "irvQMv8Wh-uU",
        "colab_type": "code",
        "outputId": "f3eaab59-ce8f-4e5c-a03c-d60a2655cd1f",
        "colab": {
          "base_uri": "https://localhost:8080/",
          "height": 35
        }
      },
      "source": [
        "df_clean = df_clean[~((df_clean < (Q1-1.5 * IQR)) |(df_clean > (Q3 + 1.5 * IQR))).any(axis=1)]\n",
        "df_clean.shape"
      ],
      "execution_count": 0,
      "outputs": [
        {
          "output_type": "execute_result",
          "data": {
            "text/plain": [
              "(94157, 19)"
            ]
          },
          "metadata": {
            "tags": []
          },
          "execution_count": 69
        }
      ]
    },
    {
      "cell_type": "markdown",
      "metadata": {
        "id": "FKDgzxTKiOdW",
        "colab_type": "text"
      },
      "source": [
        "\n",
        "\n",
        "---\n",
        "\n"
      ]
    },
    {
      "cell_type": "markdown",
      "metadata": {
        "id": "Xy2JfQ8EibWV",
        "colab_type": "text"
      },
      "source": [
        "## **Visualization** "
      ]
    },
    {
      "cell_type": "code",
      "metadata": {
        "id": "DkXXQH5oiz0R",
        "colab_type": "code",
        "outputId": "a4a9c4a9-cecd-47dc-84f1-76c78f660e4c",
        "colab": {
          "base_uri": "https://localhost:8080/",
          "height": 273
        }
      },
      "source": [
        "df_clean.plot.hexbin(x = 'price', y = 'yearOfRegistration', gridsize = 20)"
      ],
      "execution_count": 0,
      "outputs": [
        {
          "output_type": "execute_result",
          "data": {
            "text/plain": [
              "<matplotlib.axes._subplots.AxesSubplot at 0x7f49af3077f0>"
            ]
          },
          "metadata": {
            "tags": []
          },
          "execution_count": 70
        },
        {
          "output_type": "display_data",
          "data": {
            "image/png": "[encoded data removed]",
            "text/plain": [
              "<Figure size 432x288 with 2 Axes>"
            ]
          },
          "metadata": {
            "tags": []
          }
        }
      ]
    },
    {
      "cell_type": "code",
      "metadata": {
        "id": "uswgyUWOkTx1",
        "colab_type": "code",
        "outputId": "28028159-45f4-40b2-d600-44dbfcd802e9",
        "colab": {
          "base_uri": "https://localhost:8080/",
          "height": 812
        }
      },
      "source": [
        "num_attributes = [\"price\", \"yearOfRegistration\", \"powerPS\", \"kilometer\"]\n",
        "%matplotlib inline\n",
        "pd.plotting.scatter_matrix(df_clean[num_attributes], figsize = (12,8), alpha = 0.1)"
      ],
      "execution_count": 0,
      "outputs": [
        {
          "output_type": "execute_result",
          "data": {
            "text/plain": [
              "array([[<matplotlib.axes._subplots.AxesSubplot object at 0x7f49b06fa6d8>,\n",
              "        <matplotlib.axes._subplots.AxesSubplot object at 0x7f49b19be0b8>,\n",
              "        <matplotlib.axes._subplots.AxesSubplot object at 0x7f49b1a62320>,\n",
              "        <matplotlib.axes._subplots.AxesSubplot object at 0x7f49b1a96588>],\n",
              "       [<matplotlib.axes._subplots.AxesSubplot object at 0x7f49b1a477f0>,\n",
              "        <matplotlib.axes._subplots.AxesSubplot object at 0x7f49b1984a58>,\n",
              "        <matplotlib.axes._subplots.AxesSubplot object at 0x7f49b1935cc0>,\n",
              "        <matplotlib.axes._subplots.AxesSubplot object at 0x7f49b18ecef0>],\n",
              "       [<matplotlib.axes._subplots.AxesSubplot object at 0x7f49b18ecf60>,\n",
              "        <matplotlib.axes._subplots.AxesSubplot object at 0x7f49b18df438>,\n",
              "        <matplotlib.axes._subplots.AxesSubplot object at 0x7f49b18926a0>,\n",
              "        <matplotlib.axes._subplots.AxesSubplot object at 0x7f49b0d4d908>],\n",
              "       [<matplotlib.axes._subplots.AxesSubplot object at 0x7f49b0d03b70>,\n",
              "        <matplotlib.axes._subplots.AxesSubplot object at 0x7f49b0cb6dd8>,\n",
              "        <matplotlib.axes._subplots.AxesSubplot object at 0x7f49b0c7a080>,\n",
              "        <matplotlib.axes._subplots.AxesSubplot object at 0x7f49b0c2c2e8>]],\n",
              "      dtype=object)"
            ]
          },
          "metadata": {
            "tags": []
          },
          "execution_count": 71
        },
        {
          "output_type": "display_data",
          "data": {
            "image/png": "[encoded data removed]",
            "text/plain": [
              "<Figure size 864x576 with 16 Axes>"
            ]
          },
          "metadata": {
            "tags": []
          }
        }
      ]
    }
  ]
}