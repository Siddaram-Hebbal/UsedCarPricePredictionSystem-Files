{
  "nbformat": 4,
  "nbformat_minor": 0,
  "metadata": {
    "colab": {
      "name": "Random Forest Manual tuning of parameters.ipynb",
      "provenance": [],
      "collapsed_sections": [],
      "mount_file_id": "12el7cPttod_ui5Hk-MEi_OwGFtL01Pxi",
      "authorship_tag": "ABX9TyNcLJoW/w5HP1uCr+lTei8z",
      "include_colab_link": true
    },
    "kernelspec": {
      "name": "python3",
      "display_name": "Python 3"
    }
  },
  "cells": [
    {
      "cell_type": "markdown",
      "metadata": {
        "id": "view-in-github",
        "colab_type": "text"
      },
      "source": [
        "<a href=\"https://colab.research.google.com/github/Tanu-N-Prabhu/UsedCarPricePredictionSystem-Files/blob/master/Random_Forest_Manual_tuning_of_parameters.ipynb\" target=\"_parent\"><img src=\"https://colab.research.google.com/assets/colab-badge.svg\" alt=\"Open In Colab\"/></a>"
      ]
    },
    {
      "cell_type": "code",
      "metadata": {
        "id": "wQ3h0jATh3vh",
        "colab_type": "code",
        "colab": {}
      },
      "source": [
        "import pandas as pd    \n",
        "from sklearn.preprocessing import StandardScaler\n",
        "from sklearn.pipeline import Pipeline\n",
        "from sklearn.ensemble import RandomForestRegressor\n",
        "from sklearn.tree import DecisionTreeRegressor\n",
        "from sklearn.linear_model import LinearRegression\n",
        "from sklearn import svm\n",
        "import seaborn as sns\n",
        "from sklearn.preprocessing import MinMaxScaler\n",
        "from sklearn.metrics import r2_score     \n",
        "from sklearn.metrics import mean_absolute_error\n",
        "from sklearn.metrics import mean_squared_error           # Loading the dataset into a dataframe and performing the desired operations"
      ],
      "execution_count": 0,
      "outputs": []
    },
    {
      "cell_type": "code",
      "metadata": {
        "id": "Mx-F8ueLh82W",
        "colab_type": "code",
        "outputId": "729010ce-a59f-41f3-cade-7b0b61a7a7a9",
        "colab": {
          "base_uri": "https://localhost:8080/",
          "height": 222
        }
      },
      "source": [
        "# Storing the dataset (CSV file) as a pandas dataframe\n",
        "\n",
        "df = pd.read_csv(\"/content/drive/My Drive/Dataset/CleanedData.csv\")   # Storing the CSV file into a dataframe\n",
        "df.head(5)"
      ],
      "execution_count": 0,
      "outputs": [
        {
          "output_type": "execute_result",
          "data": {
            "text/html": [
              "<div>\n",
              "<style scoped>\n",
              "    .dataframe tbody tr th:only-of-type {\n",
              "        vertical-align: middle;\n",
              "    }\n",
              "\n",
              "    .dataframe tbody tr th {\n",
              "        vertical-align: top;\n",
              "    }\n",
              "\n",
              "    .dataframe thead th {\n",
              "        text-align: right;\n",
              "    }\n",
              "</style>\n",
              "<table border=\"1\" class=\"dataframe\">\n",
              "  <thead>\n",
              "    <tr style=\"text-align: right;\">\n",
              "      <th></th>\n",
              "      <th>price</th>\n",
              "      <th>yearOfRegistration</th>\n",
              "      <th>powerPS</th>\n",
              "      <th>model</th>\n",
              "      <th>kilometer</th>\n",
              "      <th>monthOfRegistration</th>\n",
              "      <th>fuelType</th>\n",
              "      <th>brand</th>\n",
              "      <th>postalCode</th>\n",
              "      <th>vehicleType_0</th>\n",
              "      <th>vehicleType_1</th>\n",
              "      <th>vehicleType_2</th>\n",
              "      <th>vehicleType_3</th>\n",
              "      <th>vehicleType_4</th>\n",
              "      <th>vehicleType_5</th>\n",
              "      <th>vehicleType_6</th>\n",
              "      <th>vehicleType_7</th>\n",
              "      <th>gearbox_0</th>\n",
              "      <th>gearbox_1</th>\n",
              "    </tr>\n",
              "  </thead>\n",
              "  <tbody>\n",
              "    <tr>\n",
              "      <th>0</th>\n",
              "      <td>650</td>\n",
              "      <td>1995</td>\n",
              "      <td>102</td>\n",
              "      <td>11</td>\n",
              "      <td>150000</td>\n",
              "      <td>10</td>\n",
              "      <td>1</td>\n",
              "      <td>2</td>\n",
              "      <td>33775</td>\n",
              "      <td>0</td>\n",
              "      <td>0</td>\n",
              "      <td>0</td>\n",
              "      <td>0</td>\n",
              "      <td>0</td>\n",
              "      <td>0</td>\n",
              "      <td>1</td>\n",
              "      <td>0</td>\n",
              "      <td>0</td>\n",
              "      <td>1</td>\n",
              "    </tr>\n",
              "    <tr>\n",
              "      <th>1</th>\n",
              "      <td>2000</td>\n",
              "      <td>2004</td>\n",
              "      <td>105</td>\n",
              "      <td>10</td>\n",
              "      <td>150000</td>\n",
              "      <td>12</td>\n",
              "      <td>1</td>\n",
              "      <td>19</td>\n",
              "      <td>96224</td>\n",
              "      <td>0</td>\n",
              "      <td>0</td>\n",
              "      <td>0</td>\n",
              "      <td>0</td>\n",
              "      <td>0</td>\n",
              "      <td>0</td>\n",
              "      <td>1</td>\n",
              "      <td>0</td>\n",
              "      <td>0</td>\n",
              "      <td>1</td>\n",
              "    </tr>\n",
              "    <tr>\n",
              "      <th>2</th>\n",
              "      <td>2799</td>\n",
              "      <td>2005</td>\n",
              "      <td>140</td>\n",
              "      <td>160</td>\n",
              "      <td>150000</td>\n",
              "      <td>12</td>\n",
              "      <td>3</td>\n",
              "      <td>37</td>\n",
              "      <td>57290</td>\n",
              "      <td>0</td>\n",
              "      <td>0</td>\n",
              "      <td>0</td>\n",
              "      <td>0</td>\n",
              "      <td>0</td>\n",
              "      <td>1</td>\n",
              "      <td>0</td>\n",
              "      <td>0</td>\n",
              "      <td>0</td>\n",
              "      <td>1</td>\n",
              "    </tr>\n",
              "    <tr>\n",
              "      <th>3</th>\n",
              "      <td>999</td>\n",
              "      <td>1995</td>\n",
              "      <td>115</td>\n",
              "      <td>160</td>\n",
              "      <td>150000</td>\n",
              "      <td>11</td>\n",
              "      <td>1</td>\n",
              "      <td>37</td>\n",
              "      <td>37269</td>\n",
              "      <td>0</td>\n",
              "      <td>0</td>\n",
              "      <td>0</td>\n",
              "      <td>0</td>\n",
              "      <td>0</td>\n",
              "      <td>1</td>\n",
              "      <td>0</td>\n",
              "      <td>0</td>\n",
              "      <td>0</td>\n",
              "      <td>1</td>\n",
              "    </tr>\n",
              "    <tr>\n",
              "      <th>4</th>\n",
              "      <td>2500</td>\n",
              "      <td>2004</td>\n",
              "      <td>131</td>\n",
              "      <td>160</td>\n",
              "      <td>150000</td>\n",
              "      <td>2</td>\n",
              "      <td>1</td>\n",
              "      <td>37</td>\n",
              "      <td>90762</td>\n",
              "      <td>0</td>\n",
              "      <td>0</td>\n",
              "      <td>0</td>\n",
              "      <td>0</td>\n",
              "      <td>0</td>\n",
              "      <td>1</td>\n",
              "      <td>0</td>\n",
              "      <td>0</td>\n",
              "      <td>0</td>\n",
              "      <td>1</td>\n",
              "    </tr>\n",
              "  </tbody>\n",
              "</table>\n",
              "</div>"
            ],
            "text/plain": [
              "   price  yearOfRegistration  powerPS  ...  vehicleType_7  gearbox_0  gearbox_1\n",
              "0    650                1995      102  ...              0          0          1\n",
              "1   2000                2004      105  ...              0          0          1\n",
              "2   2799                2005      140  ...              0          0          1\n",
              "3    999                1995      115  ...              0          0          1\n",
              "4   2500                2004      131  ...              0          0          1\n",
              "\n",
              "[5 rows x 19 columns]"
            ]
          },
          "metadata": {
            "tags": []
          },
          "execution_count": 125
        }
      ]
    },
    {
      "cell_type": "code",
      "metadata": {
        "id": "RNqt_YmIGpDc",
        "colab_type": "code",
        "outputId": "4e0ced7f-3736-4fda-9bd6-dd63bee35df5",
        "colab": {
          "base_uri": "https://localhost:8080/",
          "height": 35
        }
      },
      "source": [
        "df.shape"
      ],
      "execution_count": 0,
      "outputs": [
        {
          "output_type": "execute_result",
          "data": {
            "text/plain": [
              "(94157, 19)"
            ]
          },
          "metadata": {
            "tags": []
          },
          "execution_count": 126
        }
      ]
    },
    {
      "cell_type": "code",
      "metadata": {
        "id": "5HS4__NJh_Tn",
        "colab_type": "code",
        "colab": {}
      },
      "source": [
        "selectedFeatures = ['yearOfRegistration','powerPS','model','kilometer','monthOfRegistration','fuelType','brand','postalCode','vehicleType_0','vehicleType_1','vehicleType_2','vehicleType_3','vehicleType_4','vehicleType_5','vehicleType_6','vehicleType_7','gearbox_0','gearbox_1']"
      ],
      "execution_count": 0,
      "outputs": []
    },
    {
      "cell_type": "code",
      "metadata": {
        "id": "r7LloiuHiAgk",
        "colab_type": "code",
        "colab": {}
      },
      "source": [
        "X = df[selectedFeatures]\n",
        "y = df['price']"
      ],
      "execution_count": 0,
      "outputs": []
    },
    {
      "cell_type": "code",
      "metadata": {
        "id": "32VqD0eViFqE",
        "colab_type": "code",
        "colab": {}
      },
      "source": [
        "from sklearn.model_selection import train_test_split\n",
        "\n",
        "X_train, X_test, y_train, y_test = train_test_split(X, y, test_size=0.1, random_state=1)\n",
        "\n",
        "X_train, X_val, y_train, y_val = train_test_split(X_train, y_train, test_size=0.15, random_state=1) # 0.25 x 0.8 = 0.2"
      ],
      "execution_count": 0,
      "outputs": []
    },
    {
      "cell_type": "code",
      "metadata": {
        "id": "npfxVxlaGJ2j",
        "colab_type": "code",
        "outputId": "7eaccc7b-e6a2-4a81-dbc8-df67b34889ae",
        "colab": {
          "base_uri": "https://localhost:8080/",
          "height": 35
        }
      },
      "source": [
        "X_train.shape"
      ],
      "execution_count": 0,
      "outputs": [
        {
          "output_type": "execute_result",
          "data": {
            "text/plain": [
              "(72029, 18)"
            ]
          },
          "metadata": {
            "tags": []
          },
          "execution_count": 130
        }
      ]
    },
    {
      "cell_type": "code",
      "metadata": {
        "id": "Jwgi1HH4GSaH",
        "colab_type": "code",
        "outputId": "0307931e-99f2-4b81-86fb-d07f3968ef11",
        "colab": {
          "base_uri": "https://localhost:8080/",
          "height": 35
        }
      },
      "source": [
        "y_test.shape"
      ],
      "execution_count": 0,
      "outputs": [
        {
          "output_type": "execute_result",
          "data": {
            "text/plain": [
              "(9416,)"
            ]
          },
          "metadata": {
            "tags": []
          },
          "execution_count": 131
        }
      ]
    },
    {
      "cell_type": "code",
      "metadata": {
        "id": "5di5mMX9GNJP",
        "colab_type": "code",
        "outputId": "7dd39715-9cd9-478f-a594-e0cfafb8b876",
        "colab": {
          "base_uri": "https://localhost:8080/",
          "height": 35
        }
      },
      "source": [
        "X_val.shape"
      ],
      "execution_count": 0,
      "outputs": [
        {
          "output_type": "execute_result",
          "data": {
            "text/plain": [
              "(12712, 18)"
            ]
          },
          "metadata": {
            "tags": []
          },
          "execution_count": 132
        }
      ]
    },
    {
      "cell_type": "code",
      "metadata": {
        "id": "BtxBSs-pGWcr",
        "colab_type": "code",
        "outputId": "1f91f807-7e53-4fd0-dd0e-b2748f5f0d22",
        "colab": {
          "base_uri": "https://localhost:8080/",
          "height": 35
        }
      },
      "source": [
        "y_val.shape"
      ],
      "execution_count": 0,
      "outputs": [
        {
          "output_type": "execute_result",
          "data": {
            "text/plain": [
              "(12712,)"
            ]
          },
          "metadata": {
            "tags": []
          },
          "execution_count": 134
        }
      ]
    },
    {
      "cell_type": "code",
      "metadata": {
        "id": "CnK6epnnGPNu",
        "colab_type": "code",
        "outputId": "8fad5692-ff22-4e73-d924-76cba9195219",
        "colab": {
          "base_uri": "https://localhost:8080/",
          "height": 35
        }
      },
      "source": [
        "X_test.shape"
      ],
      "execution_count": 0,
      "outputs": [
        {
          "output_type": "execute_result",
          "data": {
            "text/plain": [
              "(9416, 18)"
            ]
          },
          "metadata": {
            "tags": []
          },
          "execution_count": 133
        }
      ]
    },
    {
      "cell_type": "code",
      "metadata": {
        "id": "imoKmcxczjD3",
        "colab_type": "code",
        "colab": {}
      },
      "source": [
        "save = y_val.to_csv('/content/drive/My Drive/Dataset/y_val.csv', index = None, header=True)"
      ],
      "execution_count": 0,
      "outputs": []
    },
    {
      "cell_type": "code",
      "metadata": {
        "id": "vEhLkAzhiHO3",
        "colab_type": "code",
        "colab": {}
      },
      "source": [
        "# Feature Scaling\n",
        "from sklearn.preprocessing import StandardScaler\n",
        "import time\n",
        "sc = StandardScaler()\n",
        "X_train = sc.fit_transform(X_train)\n",
        "X_test = sc.transform(X_test)"
      ],
      "execution_count": 0,
      "outputs": []
    },
    {
      "cell_type": "code",
      "metadata": {
        "id": "qYRUna_WiCKQ",
        "colab_type": "code",
        "outputId": "98979dd5-ddf0-4395-9b60-821d6622817e",
        "colab": {
          "base_uri": "https://localhost:8080/",
          "height": 52
        }
      },
      "source": [
        "from sklearn.ensemble import RandomForestRegressor\n",
        "start_time = time.time()                                                                                  # Calculating the time taken to convert the dataset from CSV to dataframe\n",
        "\n",
        "rfr = RandomForestRegressor(n_estimators= 100, max_depth= 5, max_features = 10, min_samples_leaf = 2).fit(X_train, y_train)\n",
        "pred = rfr.predict(X_test)\n",
        "print(r2_score(y_test, pred)* 100)\n",
        "print(\"--- %s seconds ---\" % (time.time() - start_time))                                                  # Displaying the time in seconds"
      ],
      "execution_count": 0,
      "outputs": [
        {
          "output_type": "stream",
          "text": [
            "71.84328553065123\n",
            "--- 2.5351788997650146 seconds ---\n"
          ],
          "name": "stdout"
        }
      ]
    },
    {
      "cell_type": "code",
      "metadata": {
        "id": "ddzQ4m1ciTJM",
        "colab_type": "code",
        "outputId": "a8af8662-479e-4e21-c31b-b6701b3220fa",
        "colab": {
          "base_uri": "https://localhost:8080/",
          "height": 69
        }
      },
      "source": [
        "print(\"Mean Absolute Error is :\", mean_absolute_error(y_test, pred))\n",
        "print(\" — — — — — — — — — — — — — — — — — — — — — — — \")\n",
        "print(\"Mean Squared Error is :\", mean_squared_error(y_test, pred))"
      ],
      "execution_count": 0,
      "outputs": [
        {
          "output_type": "stream",
          "text": [
            "Mean Absolute Error is : 1485.5237501232773\n",
            " — — — — — — — — — — — — — — — — — — — — — — — \n",
            "Mean Squared Error is : 4474156.97292161\n"
          ],
          "name": "stdout"
        }
      ]
    },
    {
      "cell_type": "code",
      "metadata": {
        "id": "l1sx-8t9iUa2",
        "colab_type": "code",
        "outputId": "7233e590-4f41-4c1d-97cc-8ea7f34eb53e",
        "colab": {
          "base_uri": "https://localhost:8080/",
          "height": 52
        }
      },
      "source": [
        "from sklearn.ensemble import RandomForestRegressor\n",
        "start_time = time.time()                                                                                  # Calculating the time taken to convert the dataset from CSV to dataframe\n",
        "\n",
        "rfr = RandomForestRegressor(n_estimators= 150, max_depth= 6, max_features = 11, min_samples_leaf = 3).fit(X_train, y_train)\n",
        "pred = rfr.predict(X_test)\n",
        "print(r2_score(y_test, pred)* 100)\n",
        "print(\"--- %s seconds ---\" % (time.time() - start_time))                                                  # Displaying the time in seconds"
      ],
      "execution_count": 0,
      "outputs": [
        {
          "output_type": "stream",
          "text": [
            "79.58496725254449\n",
            "--- 7.769359588623047 seconds ---\n"
          ],
          "name": "stdout"
        }
      ]
    },
    {
      "cell_type": "code",
      "metadata": {
        "id": "ccPq73GfiX47",
        "colab_type": "code",
        "outputId": "158fefda-2434-42b2-8808-2450058ca34c",
        "colab": {
          "base_uri": "https://localhost:8080/",
          "height": 69
        }
      },
      "source": [
        "print(\"Mean Absolute Error is :\", mean_absolute_error(y_test, pred))\n",
        "print(\" — — — — — — — — — — — — — — — — — — — — — — — \")\n",
        "print(\"Mean Squared Error is :\", mean_squared_error(y_test, pred))"
      ],
      "execution_count": 0,
      "outputs": [
        {
          "output_type": "stream",
          "text": [
            "Mean Absolute Error is : 1388.5920299852435\n",
            " — — — — — — — — — — — — — — — — — — — — — — — \n",
            "Mean Squared Error is : 3939498.416712833\n"
          ],
          "name": "stdout"
        }
      ]
    },
    {
      "cell_type": "code",
      "metadata": {
        "id": "zndZlvq4ibeb",
        "colab_type": "code",
        "outputId": "a1132aef-ceae-4da6-eaa9-fb1332953dd1",
        "colab": {
          "base_uri": "https://localhost:8080/",
          "height": 35
        }
      },
      "source": [
        "from sklearn.ensemble import RandomForestRegressor\n",
        "start_time = time.time()                                                                                  # Calculating the time taken to convert the dataset from CSV to dataframe\n",
        "\n",
        "rfr = RandomForestRegressor(n_estimators= 200, max_depth= 7, max_features = 12, min_samples_leaf = 4).fit(X_train, y_train)\n",
        "pred = rfr.predict(X_test)\n",
        "print(r2_score(y_test, pred)* 100)\n",
        "print(\"--- %s seconds ---\" % (time.time() - start_time))                                                  # Displaying the time in seconds"
      ],
      "execution_count": 0,
      "outputs": [
        {
          "output_type": "stream",
          "text": [
            "85.99273761157714\n"
          ],
          "name": "stdout"
        }
      ]
    },
    {
      "cell_type": "code",
      "metadata": {
        "id": "2_pMOF5pigCh",
        "colab_type": "code",
        "outputId": "2ccd684e-9d68-4ef9-b969-0e90d9893a3e",
        "colab": {
          "base_uri": "https://localhost:8080/",
          "height": 69
        }
      },
      "source": [
        "print(\"Mean Absolute Error is :\", mean_absolute_error(y_test, pred))\n",
        "print(\" — — — — — — — — — — — — — — — — — — — — — — — \")\n",
        "print(\"Mean Squared Error is :\", mean_squared_error(y_test, pred))"
      ],
      "execution_count": 0,
      "outputs": [
        {
          "output_type": "stream",
          "text": [
            "Mean Absolute Error is : 1320.321085333402\n",
            " — — — — — — — — — — — — — — — — — — — — — — — \n",
            "Mean Squared Error is : 3616265.9053388224\n"
          ],
          "name": "stdout"
        }
      ]
    },
    {
      "cell_type": "code",
      "metadata": {
        "id": "X_3f-EFpilqT",
        "colab_type": "code",
        "outputId": "0be5cb70-ef9a-496b-e91b-36875880b98c",
        "colab": {
          "base_uri": "https://localhost:8080/",
          "height": 52
        }
      },
      "source": [
        "from sklearn.ensemble import RandomForestRegressor\n",
        "start_time = time.time()                                                                                  # Calculating the time taken to convert the dataset from CSV to dataframe\n",
        "\n",
        "rfr = RandomForestRegressor(n_estimators= 210, max_depth= 8, max_features = 13, min_samples_leaf = 5).fit(X_train, y_train)\n",
        "pred = rfr.predict(X_test)\n",
        "print(r2_score(y_test, pred)* 100)\n",
        "print(\"--- %s seconds ---\" % (time.time() - start_time))                                                  # Displaying the time in seconds"
      ],
      "execution_count": 0,
      "outputs": [
        {
          "output_type": "stream",
          "text": [
            "82.48761293498316\n",
            "--- 15.94746470451355 seconds ---\n"
          ],
          "name": "stdout"
        }
      ]
    },
    {
      "cell_type": "code",
      "metadata": {
        "id": "INdziT7WiuZ4",
        "colab_type": "code",
        "outputId": "8c68f27e-f7f8-4640-df14-a8bc8c46d950",
        "colab": {
          "base_uri": "https://localhost:8080/",
          "height": 69
        }
      },
      "source": [
        "print(\"Mean Absolute Error is :\", mean_absolute_error(y_test, pred))\n",
        "print(\" — — — — — — — — — — — — — — — — — — — — — — — \")\n",
        "print(\"Mean Squared Error is :\", mean_squared_error(y_test, pred))"
      ],
      "execution_count": 0,
      "outputs": [
        {
          "output_type": "stream",
          "text": [
            "Mean Absolute Error is : 1265.814598626482\n",
            " — — — — — — — — — — — — — — — — — — — — — — — \n",
            "Mean Squared Error is : 3379373.521901157\n"
          ],
          "name": "stdout"
        }
      ]
    },
    {
      "cell_type": "code",
      "metadata": {
        "id": "vA5eleaEizs5",
        "colab_type": "code",
        "outputId": "ddf66aae-6231-4b27-d521-b3352c6dc21e",
        "colab": {
          "base_uri": "https://localhost:8080/",
          "height": 52
        }
      },
      "source": [
        "from sklearn.ensemble import RandomForestRegressor\n",
        "start_time = time.time()                                                                                  # Calculating the time taken to convert the dataset from CSV to dataframe\n",
        "\n",
        "rfr = RandomForestRegressor(n_estimators= 220, max_depth= 9, max_features = 14, min_samples_leaf = 6).fit(X_train, y_train)\n",
        "pred = rfr.predict(X_test)\n",
        "print(r2_score(y_test, pred)* 100)\n",
        "print(\"--- %s seconds ---\" % (time.time() - start_time))                                                  # Displaying the time in seconds"
      ],
      "execution_count": 0,
      "outputs": [
        {
          "output_type": "stream",
          "text": [
            "83.28606037471509\n",
            "--- 19.716230869293213 seconds ---\n"
          ],
          "name": "stdout"
        }
      ]
    },
    {
      "cell_type": "code",
      "metadata": {
        "id": "3BaNCk-li2fY",
        "colab_type": "code",
        "outputId": "86abe9a6-e583-4cf3-b505-9b96963947ec",
        "colab": {
          "base_uri": "https://localhost:8080/",
          "height": 69
        }
      },
      "source": [
        "print(\"Mean Absolute Error is :\", mean_absolute_error(y_test, pred))\n",
        "print(\" — — — — — — — — — — — — — — — — — — — — — — — \")\n",
        "print(\"Mean Squared Error is :\", mean_squared_error(y_test, pred))"
      ],
      "execution_count": 0,
      "outputs": [
        {
          "output_type": "stream",
          "text": [
            "Mean Absolute Error is : 1229.3222644591006\n",
            " — — — — — — — — — — — — — — — — — — — — — — — \n",
            "Mean Squared Error is : 3225296.746048596\n"
          ],
          "name": "stdout"
        }
      ]
    },
    {
      "cell_type": "code",
      "metadata": {
        "id": "yAmXJ9vFi8-W",
        "colab_type": "code",
        "outputId": "36ab9173-2486-42a3-b4f5-ba015f30589e",
        "colab": {
          "base_uri": "https://localhost:8080/",
          "height": 52
        }
      },
      "source": [
        "from sklearn.ensemble import RandomForestRegressor\n",
        "start_time = time.time()                                                                                  # Calculating the time taken to convert the dataset from CSV to dataframe\n",
        "\n",
        "rfr = RandomForestRegressor(n_estimators= 230, max_depth= 10, max_features = 15, min_samples_leaf = 7).fit(X_train, y_train)\n",
        "pred = rfr.predict(X_test)\n",
        "print(r2_score(y_test, pred)* 100)\n",
        "print(\"--- %s seconds ---\" % (time.time() - start_time))                                                  # Displaying the time in seconds"
      ],
      "execution_count": 0,
      "outputs": [
        {
          "output_type": "stream",
          "text": [
            "83.94543361747694\n",
            "--- 23.898204803466797 seconds ---\n"
          ],
          "name": "stdout"
        }
      ]
    },
    {
      "cell_type": "code",
      "metadata": {
        "id": "ax96j1Wqi_0M",
        "colab_type": "code",
        "outputId": "59c43a4e-3366-4638-c41d-7d6564d7b1b6",
        "colab": {
          "base_uri": "https://localhost:8080/",
          "height": 69
        }
      },
      "source": [
        "print(\"Mean Absolute Error is :\", mean_absolute_error(y_test, pred))\n",
        "print(\" — — — — — — — — — — — — — — — — — — — — — — — \")\n",
        "print(\"Mean Squared Error is :\", mean_squared_error(y_test, pred))"
      ],
      "execution_count": 0,
      "outputs": [
        {
          "output_type": "stream",
          "text": [
            "Mean Absolute Error is : 1199.9552515372477\n",
            " — — — — — — — — — — — — — — — — — — — — — — — \n",
            "Mean Squared Error is : 3098057.1830257615\n"
          ],
          "name": "stdout"
        }
      ]
    },
    {
      "cell_type": "code",
      "metadata": {
        "id": "apiKFPGLjHYL",
        "colab_type": "code",
        "outputId": "bf526d9f-ba9a-4c47-f47c-9a2f84982570",
        "colab": {
          "base_uri": "https://localhost:8080/",
          "height": 52
        }
      },
      "source": [
        "from sklearn.ensemble import RandomForestRegressor\n",
        "start_time = time.time()                                                                                  # Calculating the time taken to convert the dataset from CSV to dataframe\n",
        "\n",
        "rfr = RandomForestRegressor(n_estimators= 240, max_depth= 11, max_features = 16, min_samples_leaf = 8).fit(X_train, y_train)\n",
        "pred = rfr.predict(X_test)\n",
        "print(r2_score(y_test, pred)* 100)\n",
        "print(\"--- %s seconds ---\" % (time.time() - start_time))                                                  # Displaying the time in seconds"
      ],
      "execution_count": 0,
      "outputs": [
        {
          "output_type": "stream",
          "text": [
            "84.34819647808308\n",
            "--- 28.439677476882935 seconds ---\n"
          ],
          "name": "stdout"
        }
      ]
    },
    {
      "cell_type": "code",
      "metadata": {
        "id": "cwPaPa4TjKRh",
        "colab_type": "code",
        "outputId": "65000038-4634-4216-ea16-c279d9cdaa30",
        "colab": {
          "base_uri": "https://localhost:8080/",
          "height": 69
        }
      },
      "source": [
        "print(\"Mean Absolute Error is :\", mean_absolute_error(y_test, pred))\n",
        "print(\" — — — — — — — — — — — — — — — — — — — — — — — \")\n",
        "print(\"Mean Squared Error is :\", mean_squared_error(y_test, pred))"
      ],
      "execution_count": 0,
      "outputs": [
        {
          "output_type": "stream",
          "text": [
            "Mean Absolute Error is : 1180.8174800140378\n",
            " — — — — — — — — — — — — — — — — — — — — — — — \n",
            "Mean Squared Error is : 3020335.8454557112\n"
          ],
          "name": "stdout"
        }
      ]
    },
    {
      "cell_type": "code",
      "metadata": {
        "id": "HdvvaXPZjTGS",
        "colab_type": "code",
        "outputId": "8e0df103-48a4-4bbc-e2b7-d2cd40c3e3df",
        "colab": {
          "base_uri": "https://localhost:8080/",
          "height": 52
        }
      },
      "source": [
        "from sklearn.ensemble import RandomForestRegressor\n",
        "start_time = time.time()                                                                                  # Calculating the time taken to convert the dataset from CSV to dataframe\n",
        "\n",
        "rfr = RandomForestRegressor(n_estimators= 250, max_depth= 12, max_features = 17, min_samples_leaf = 9).fit(X_train, y_train)\n",
        "pred = rfr.predict(X_test)\n",
        "print(r2_score(y_test, pred)* 100)\n",
        "print(\"--- %s seconds ---\" % (time.time() - start_time))                                                  # Displaying the time in seconds"
      ],
      "execution_count": 0,
      "outputs": [
        {
          "output_type": "stream",
          "text": [
            "84.5992068204725\n",
            "--- 33.26568913459778 seconds ---\n"
          ],
          "name": "stdout"
        }
      ]
    },
    {
      "cell_type": "code",
      "metadata": {
        "id": "8jb9wZFRjZpM",
        "colab_type": "code",
        "outputId": "8fc13489-9e29-4416-ab7e-6b0bdf51f4c6",
        "colab": {
          "base_uri": "https://localhost:8080/",
          "height": 69
        }
      },
      "source": [
        "print(\"Mean Absolute Error is :\", mean_absolute_error(y_test, pred))\n",
        "print(\" — — — — — — — — — — — — — — — — — — — — — — — \")\n",
        "print(\"Mean Squared Error is :\", mean_squared_error(y_test, pred))"
      ],
      "execution_count": 0,
      "outputs": [
        {
          "output_type": "stream",
          "text": [
            "Mean Absolute Error is : 1169.3047368943987\n",
            " — — — — — — — — — — — — — — — — — — — — — — — \n",
            "Mean Squared Error is : 2971898.26229558\n"
          ],
          "name": "stdout"
        }
      ]
    },
    {
      "cell_type": "code",
      "metadata": {
        "id": "4iRt5PdUjV-V",
        "colab_type": "code",
        "outputId": "9ea0fd03-dd3a-4fa4-cebf-f910ed71abcb",
        "colab": {
          "base_uri": "https://localhost:8080/",
          "height": 35
        }
      },
      "source": [
        "from sklearn.ensemble import RandomForestRegressor\n",
        "start_time = time.time()                                                                                  # Calculating the time taken to convert the dataset from CSV to dataframe\n",
        "\n",
        "rfr = RandomForestRegressor(n_estimators= 260, max_depth= 13, max_features = 18, min_samples_leaf = 10).fit(X_train, y_train)\n",
        "pred = rfr.predict(X_test)\n",
        "print(r2_score(y_test, pred)* 100)\n",
        "print(\"--- %s seconds ---\" % (time.time() - start_time))                                                  # Displaying the time in seconds"
      ],
      "execution_count": 0,
      "outputs": [
        {
          "output_type": "stream",
          "text": [
            "84.65840335933866\n"
          ],
          "name": "stdout"
        }
      ]
    },
    {
      "cell_type": "code",
      "metadata": {
        "id": "sR5fpWFJjiCi",
        "colab_type": "code",
        "outputId": "48bd7b11-7e1e-4990-ceb4-932411353cb3",
        "colab": {
          "base_uri": "https://localhost:8080/",
          "height": 69
        }
      },
      "source": [
        "print(\"Mean Absolute Error is :\", mean_absolute_error(y_test, pred))\n",
        "print(\" — — — — — — — — — — — — — — — — — — — — — — — \")\n",
        "print(\"Mean Squared Error is :\", mean_squared_error(y_test, pred))"
      ],
      "execution_count": 0,
      "outputs": [
        {
          "output_type": "stream",
          "text": [
            "Mean Absolute Error is : 1165.4628144585083\n",
            " — — — — — — — — — — — — — — — — — — — — — — — \n",
            "Mean Squared Error is : 2967316.141040257\n"
          ],
          "name": "stdout"
        }
      ]
    },
    {
      "cell_type": "code",
      "metadata": {
        "id": "y8xF1kVojs7I",
        "colab_type": "code",
        "outputId": "911214b0-f6e9-4cc7-dc5d-1477bb6e6788",
        "colab": {
          "base_uri": "https://localhost:8080/",
          "height": 52
        }
      },
      "source": [
        "from sklearn.ensemble import RandomForestRegressor\n",
        "start_time = time.time()                                                                                  # Calculating the time taken to convert the dataset from CSV to dataframe\n",
        "\n",
        "rfr = RandomForestRegressor(n_estimators= 270, max_depth= 14, max_features = 18, min_samples_leaf = 11).fit(X_train, y_train)\n",
        "pred = rfr.predict(X_test)\n",
        "print(r2_score(y_test, pred)* 100)\n",
        "print(\"--- %s seconds ---\" % (time.time() - start_time))                                                  # Displaying the time in seconds"
      ],
      "execution_count": 0,
      "outputs": [
        {
          "output_type": "stream",
          "text": [
            "84.63549912181718\n",
            "--- 40.37581658363342 seconds ---\n"
          ],
          "name": "stdout"
        }
      ]
    },
    {
      "cell_type": "code",
      "metadata": {
        "id": "OtCD6xMJkBsu",
        "colab_type": "code",
        "outputId": "3e25efaf-8c4c-480f-b156-ed46b01fb91a",
        "colab": {
          "base_uri": "https://localhost:8080/",
          "height": 69
        }
      },
      "source": [
        "print(\"Mean Absolute Error is :\", mean_absolute_error(y_test, pred))\n",
        "print(\" — — — — — — — — — — — — — — — — — — — — — — — \")\n",
        "print(\"Mean Squared Error is :\", mean_squared_error(y_test, pred))"
      ],
      "execution_count": 0,
      "outputs": [
        {
          "output_type": "stream",
          "text": [
            "Mean Absolute Error is : 1163.9861317221678\n",
            " — — — — — — — — — — — — — — — — — — — — — — — \n",
            "Mean Squared Error is : 2964894.919932388\n"
          ],
          "name": "stdout"
        }
      ]
    },
    {
      "cell_type": "code",
      "metadata": {
        "id": "ebl2kRgFkM7v",
        "colab_type": "code",
        "outputId": "399814ab-1896-4051-f5a5-fe7dea5ad24d",
        "colab": {
          "base_uri": "https://localhost:8080/",
          "height": 52
        }
      },
      "source": [
        "from sklearn.ensemble import RandomForestRegressor\n",
        "start_time = time.time()                                                                                  # Calculating the time taken to convert the dataset from CSV to dataframe\n",
        "\n",
        "rfr = RandomForestRegressor(n_estimators= 280, max_depth= 15, max_features = 18, min_samples_leaf = 12).fit(X_train, y_train)\n",
        "pred = rfr.predict(X_test)\n",
        "print(r2_score(y_test, pred)* 100)\n",
        "print(\"--- %s seconds ---\" % (time.time() - start_time))                                                  # Displaying the time in seconds"
      ],
      "execution_count": 0,
      "outputs": [
        {
          "output_type": "stream",
          "text": [
            "84.54981466242668\n",
            "--- 42.32461333274841 seconds ---\n"
          ],
          "name": "stdout"
        }
      ]
    },
    {
      "cell_type": "code",
      "metadata": {
        "id": "qGeacJqhkO3z",
        "colab_type": "code",
        "outputId": "522d381f-9892-4336-82fa-c6222b657e87",
        "colab": {
          "base_uri": "https://localhost:8080/",
          "height": 69
        }
      },
      "source": [
        "print(\"Mean Absolute Error is :\", mean_absolute_error(y_test, pred))\n",
        "print(\" — — — — — — — — — — — — — — — — — — — — — — — \")\n",
        "print(\"Mean Squared Error is :\", mean_squared_error(y_test, pred))"
      ],
      "execution_count": 0,
      "outputs": [
        {
          "output_type": "stream",
          "text": [
            "Mean Absolute Error is : 1165.9423374829814\n",
            " — — — — — — — — — — — — — — — — — — — — — — — \n",
            "Mean Squared Error is : 2981429.490132762\n"
          ],
          "name": "stdout"
        }
      ]
    },
    {
      "cell_type": "code",
      "metadata": {
        "id": "DnR3kLZUkg5n",
        "colab_type": "code",
        "outputId": "cdbedf9b-4525-4071-d82e-831c49d5ce7c",
        "colab": {
          "base_uri": "https://localhost:8080/",
          "height": 52
        }
      },
      "source": [
        "from sklearn.ensemble import RandomForestRegressor\n",
        "start_time = time.time()                                                                                  # Calculating the time taken to convert the dataset from CSV to dataframe\n",
        "\n",
        "rfr = RandomForestRegressor(n_estimators= 290, max_depth= 16, max_features = 18, min_samples_leaf = 13).fit(X_train, y_train)\n",
        "pred = rfr.predict(X_test)\n",
        "print(r2_score(y_test, pred)* 100)\n",
        "print(\"--- %s seconds ---\" % (time.time() - start_time))                                                  # Displaying the time in seconds"
      ],
      "execution_count": 0,
      "outputs": [
        {
          "output_type": "stream",
          "text": [
            "84.4812077138278\n",
            "--- 44.26448369026184 seconds ---\n"
          ],
          "name": "stdout"
        }
      ]
    },
    {
      "cell_type": "code",
      "metadata": {
        "id": "2Lwmdvruk24-",
        "colab_type": "code",
        "outputId": "b36b0052-0e00-48b0-fa75-ea6b2f4d973a",
        "colab": {
          "base_uri": "https://localhost:8080/",
          "height": 52
        }
      },
      "source": [
        "from sklearn.ensemble import RandomForestRegressor\n",
        "start_time = time.time()                                                                                  # Calculating the time taken to convert the dataset from CSV to dataframe\n",
        "\n",
        "rfr = RandomForestRegressor(n_estimators= 300, max_depth= 17, max_features = 18, min_samples_leaf = 14).fit(X_train, y_train)\n",
        "pred = rfr.predict(X_test)\n",
        "print(r2_score(y_test, pred)* 100)\n",
        "print(\"--- %s seconds ---\" % (time.time() - start_time))                                                  # Displaying the time in seconds"
      ],
      "execution_count": 0,
      "outputs": [
        {
          "output_type": "stream",
          "text": [
            "84.39555140145632\n",
            "--- 45.331931591033936 seconds ---\n"
          ],
          "name": "stdout"
        }
      ]
    },
    {
      "cell_type": "code",
      "metadata": {
        "id": "MvErHVY6lLOW",
        "colab_type": "code",
        "outputId": "692e0985-1842-4b17-dfe3-08898f0f5830",
        "colab": {
          "base_uri": "https://localhost:8080/",
          "height": 69
        }
      },
      "source": [
        "print(\"Mean Absolute Error is :\", mean_absolute_error(y_test, pred))\n",
        "print(\" — — — — — — — — — — — — — — — — — — — — — — — \")\n",
        "print(\"Mean Squared Error is :\", mean_squared_error(y_test, pred))"
      ],
      "execution_count": 0,
      "outputs": [
        {
          "output_type": "stream",
          "text": [
            "Mean Absolute Error is : 1171.2941502111228\n",
            " — — — — — — — — — — — — — — — — — — — — — — — \n",
            "Mean Squared Error is : 3011197.7437460455\n"
          ],
          "name": "stdout"
        }
      ]
    },
    {
      "cell_type": "code",
      "metadata": {
        "id": "IP5APuuelMSG",
        "colab_type": "code",
        "outputId": "01784017-ee2d-4d83-c118-cb3d78efd247",
        "colab": {
          "base_uri": "https://localhost:8080/",
          "height": 52
        }
      },
      "source": [
        "from sklearn.ensemble import RandomForestRegressor\n",
        "start_time = time.time()                                                                                  # Calculating the time taken to convert the dataset from CSV to dataframe\n",
        "\n",
        "rfr = RandomForestRegressor(n_estimators= 310, max_depth= 18, max_features = 18, min_samples_leaf = 15).fit(X_train, y_train)\n",
        "pred = rfr.predict(X_test)\n",
        "print(r2_score(y_test, pred)* 100)\n",
        "print(\"--- %s seconds ---\" % (time.time() - start_time))                                                  # Displaying the time in seconds"
      ],
      "execution_count": 0,
      "outputs": [
        {
          "output_type": "stream",
          "text": [
            "84.32273437294965\n",
            "--- 46.80681538581848 seconds ---\n"
          ],
          "name": "stdout"
        }
      ]
    },
    {
      "cell_type": "code",
      "metadata": {
        "id": "gkq2vJxBli8A",
        "colab_type": "code",
        "outputId": "adc59f63-d6fc-48c1-978d-9f61e803f9c9",
        "colab": {
          "base_uri": "https://localhost:8080/",
          "height": 69
        }
      },
      "source": [
        "print(\"Mean Absolute Error is :\", mean_absolute_error(y_test, pred))\n",
        "print(\" — — — — — — — — — — — — — — — — — — — — — — — \")\n",
        "print(\"Mean Squared Error is :\", mean_squared_error(y_test, pred))"
      ],
      "execution_count": 0,
      "outputs": [
        {
          "output_type": "stream",
          "text": [
            "Mean Absolute Error is : 1174.1944981311156\n",
            " — — — — — — — — — — — — — — — — — — — — — — — \n",
            "Mean Squared Error is : 3025249.279791092\n"
          ],
          "name": "stdout"
        }
      ]
    },
    {
      "cell_type": "markdown",
      "metadata": {
        "id": "93BZmozZ-cWd",
        "colab_type": "text"
      },
      "source": [
        "Without parameters"
      ]
    },
    {
      "cell_type": "code",
      "metadata": {
        "id": "LU8Q5CKm-eJS",
        "colab_type": "code",
        "outputId": "f4abbbf3-c465-478e-df3a-89c4ec4e0bec",
        "colab": {
          "base_uri": "https://localhost:8080/",
          "height": 52
        }
      },
      "source": [
        "from sklearn.ensemble import RandomForestRegressor\n",
        "start_time = time.time()                                                                                  # Calculating the time taken to convert the dataset from CSV to dataframe\n",
        "\n",
        "rfr = RandomForestRegressor().fit(X_train, y_train)\n",
        "pred = rfr.predict(X_test)\n",
        "print(r2_score(y_test, pred)* 100)\n",
        "print(\"--- %s seconds ---\" % (time.time() - start_time))                                                  # Displaying the time in seconds"
      ],
      "execution_count": 0,
      "outputs": [
        {
          "output_type": "stream",
          "text": [
            "85.25501679376889\n",
            "--- 25.763988733291626 seconds ---\n"
          ],
          "name": "stdout"
        }
      ]
    },
    {
      "cell_type": "markdown",
      "metadata": {
        "id": "gvphzlySE0uO",
        "colab_type": "text"
      },
      "source": [
        "\n",
        "\n",
        "---\n",
        "\n"
      ]
    },
    {
      "cell_type": "markdown",
      "metadata": {
        "id": "wgNKLi9fKCzU",
        "colab_type": "text"
      },
      "source": [
        "Regularization\n",
        "L1 - Lasso"
      ]
    },
    {
      "cell_type": "code",
      "metadata": {
        "id": "8mPl1uv0E0Fb",
        "colab_type": "code",
        "colab": {}
      },
      "source": [
        "import matplotlib.pyplot as plt\n",
        "import numpy as np \n",
        "import pandas as pd\n",
        "import matplotlib\n",
        "from sklearn.model_selection import train_test_split\n",
        "from sklearn.linear_model import LinearRegression\n",
        "from sklearn.linear_model import Ridge"
      ],
      "execution_count": 0,
      "outputs": []
    },
    {
      "cell_type": "code",
      "metadata": {
        "id": "83v1vCFnKdje",
        "colab_type": "code",
        "outputId": "d022073d-1a14-4246-bd0a-2f29a41f5f6a",
        "colab": {
          "base_uri": "https://localhost:8080/",
          "height": 35
        }
      },
      "source": [
        "rfr = RandomForestRegressor(n_estimators= 270, max_depth= 14, max_features = 18, min_samples_leaf = 11).fit(X_train, y_train)\n",
        "pred = rfr.predict(X_test)\n",
        "print(r2_score(y_test, pred)* 100)"
      ],
      "execution_count": 0,
      "outputs": [
        {
          "output_type": "stream",
          "text": [
            "84.6366144706861\n"
          ],
          "name": "stdout"
        }
      ]
    },
    {
      "cell_type": "code",
      "metadata": {
        "id": "CXDerwobL6wT",
        "colab_type": "code",
        "outputId": "2fb09b62-6e4f-4999-add9-7db69d1b36b6",
        "colab": {
          "base_uri": "https://localhost:8080/",
          "height": 52
        }
      },
      "source": [
        "from sklearn.linear_model import Ridge\n",
        "start_time = time.time()                                                                                  # Calculating the time taken to convert the dataset from CSV to dataframe\n",
        "rr = Ridge(alpha= 10000) \n",
        "rr.fit(X_train, y_train)\n",
        "pred = rr.predict(X_test)\n",
        "print(r2_score(y_test, pred) * 100)\n",
        "print(\"--- %s seconds ---\" % (time.time() - start_time))                                                  # Displaying the time in seconds"
      ],
      "execution_count": 0,
      "outputs": [
        {
          "output_type": "stream",
          "text": [
            "56.005916173458516\n",
            "--- 0.021957874298095703 seconds ---\n"
          ],
          "name": "stdout"
        }
      ]
    },
    {
      "cell_type": "code",
      "metadata": {
        "id": "7lo6z-NxMGD7",
        "colab_type": "code",
        "outputId": "c1070a0f-5074-46f9-b2a8-4a47deb65e92",
        "colab": {
          "base_uri": "https://localhost:8080/",
          "height": 52
        }
      },
      "source": [
        "start_time = time.time()                                                                                  # Calculating the time taken to convert the dataset from CSV to dataframe\n",
        "\n",
        "rr = Ridge(alpha= 1000) # higher the alpha value, more restriction on the coefficients; low alpha > more generalization, coefficients are barely\n",
        "# restricted and in this case linear and ridge regression resembles\n",
        "rr.fit(X_train, y_train)\n",
        "pred = rr.predict(X_test)\n",
        "print(r2_score(y_test, pred) * 100)\n",
        "print(\"--- %s seconds ---\" % (time.time() - start_time))                                                  # Displaying the time in seconds"
      ],
      "execution_count": 0,
      "outputs": [
        {
          "output_type": "stream",
          "text": [
            "56.862126442879735\n",
            "--- 0.024925947189331055 seconds ---\n"
          ],
          "name": "stdout"
        }
      ]
    },
    {
      "cell_type": "code",
      "metadata": {
        "id": "03N-812UMHUf",
        "colab_type": "code",
        "outputId": "b8f5abb0-9478-4936-a6c7-96f5e0629631",
        "colab": {
          "base_uri": "https://localhost:8080/",
          "height": 52
        }
      },
      "source": [
        "start_time = time.time()                                                                                  # Calculating the time taken to convert the dataset from CSV to dataframe\n",
        "\n",
        "rr100 = Ridge(alpha= 100) # higher the alpha value, more restriction on the coefficients; low alpha > more generalization, coefficients are barely\n",
        "# restricted and in this case linear and ridge regression resembles\n",
        "rr100.fit(X_train, y_train)\n",
        "pred = rr100.predict(X_test)\n",
        "print(r2_score(y_test, pred) * 100)\n",
        "print(\"--- %s seconds ---\" % (time.time() - start_time))                                                  # Displaying the time in seconds"
      ],
      "execution_count": 0,
      "outputs": [
        {
          "output_type": "stream",
          "text": [
            "56.88466608809992\n",
            "--- 0.024169445037841797 seconds ---\n"
          ],
          "name": "stdout"
        }
      ]
    },
    {
      "cell_type": "code",
      "metadata": {
        "id": "9pmb2W0_MJHD",
        "colab_type": "code",
        "outputId": "62ca2aad-a4e7-401c-c65a-17e0cbdd8480",
        "colab": {
          "base_uri": "https://localhost:8080/",
          "height": 52
        }
      },
      "source": [
        "start_time = time.time()                                                                                  # Calculating the time taken to convert the dataset from CSV to dataframe\n",
        "\n",
        "rr = Ridge(alpha= 10) # higher the alpha value, more restriction on the coefficients; low alpha > more generalization, coefficients are barely\n",
        "# restricted and in this case linear and ridge regression resembles\n",
        "rr.fit(X_train, y_train)\n",
        "pred = rr.predict(X_test)\n",
        "print(r2_score(y_test, pred) * 100)\n",
        "print(\"--- %s seconds ---\" % (time.time() - start_time))                                                  # Displaying the time in seconds"
      ],
      "execution_count": 0,
      "outputs": [
        {
          "output_type": "stream",
          "text": [
            "56.88605350312452\n",
            "--- 0.02006673812866211 seconds ---\n"
          ],
          "name": "stdout"
        }
      ]
    },
    {
      "cell_type": "code",
      "metadata": {
        "id": "LhEt-TsbMKpV",
        "colab_type": "code",
        "outputId": "9e2e7e21-eb8a-45c9-bd01-24d60c8e8faa",
        "colab": {
          "base_uri": "https://localhost:8080/",
          "height": 52
        }
      },
      "source": [
        "start_time = time.time()                                                                                  # Calculating the time taken to convert the dataset from CSV to dataframe\n",
        "\n",
        "rr = Ridge(alpha= 1) # higher the alpha value, more restriction on the coefficients; low alpha > more generalization, coefficients are barely\n",
        "# restricted and in this case linear and ridge regression resembles\n",
        "rr.fit(X_train, y_train)\n",
        "pred = rr.predict(X_test)\n",
        "print(r2_score(y_test, pred) * 100)\n",
        "print(\"--- %s seconds ---\" % (time.time() - start_time))                                                  # Displaying the time in seconds"
      ],
      "execution_count": 0,
      "outputs": [
        {
          "output_type": "stream",
          "text": [
            "56.88618326663119\n",
            "--- 0.018297672271728516 seconds ---\n"
          ],
          "name": "stdout"
        }
      ]
    },
    {
      "cell_type": "code",
      "metadata": {
        "id": "PAGF_IWLMMwS",
        "colab_type": "code",
        "outputId": "ea725d63-5869-47ce-8c18-49241cadfe9c",
        "colab": {
          "base_uri": "https://localhost:8080/",
          "height": 52
        }
      },
      "source": [
        "start_time = time.time()                                                                                  # Calculating the time taken to convert the dataset from CSV to dataframe\n",
        "\n",
        "rr01 = Ridge(alpha= 0.1) # higher the alpha value, more restriction on the coefficients; low alpha > more generalization, coefficients are barely\n",
        "# restricted and in this case linear and ridge regression resembles\n",
        "rr01.fit(X_train, y_train)\n",
        "pred = rr_01.predict(X_test)\n",
        "print(r2_score(y_test, pred) * 100)\n",
        "print(\"--- %s seconds ---\" % (time.time() - start_time))                                                  # Displaying the time in seconds"
      ],
      "execution_count": 0,
      "outputs": [
        {
          "output_type": "stream",
          "text": [
            "56.88619615287895\n",
            "--- 0.019772052764892578 seconds ---\n"
          ],
          "name": "stdout"
        }
      ]
    },
    {
      "cell_type": "code",
      "metadata": {
        "id": "H7XCUXDWQrRh",
        "colab_type": "code",
        "outputId": "3b14ee54-e69b-4a5b-9a34-8c06dc02cce2",
        "colab": {
          "base_uri": "https://localhost:8080/",
          "height": 284
        }
      },
      "source": [
        "plt.plot(rr01.coef_,linestyle='none',marker='*',markersize=5,color='red',label=r'Ridge; $\\alpha = 0.01$',zorder=7) \n",
        "plt.plot(rr100.coef_,linestyle='none',marker='d',markersize=6,color='blue',label=r'Ridge; $\\alpha = 100$') \n",
        "plt.xlabel('Coefficient Index',fontsize=16)\n",
        "plt.ylabel('Coefficient Magnitude',fontsize=16)\n",
        "plt.legend(fontsize=13,loc=4)\n",
        "plt.show()"
      ],
      "execution_count": 0,
      "outputs": [
        {
          "output_type": "display_data",
          "data": {
            "image/png": "[encoded data removed]",
            "text/plain": [
              "<Figure size 432x288 with 1 Axes>"
            ]
          },
          "metadata": {
            "tags": []
          }
        }
      ]
    },
    {
      "cell_type": "markdown",
      "metadata": {
        "id": "8G1ytWe1SyL4",
        "colab_type": "text"
      },
      "source": [
        "\n",
        "\n",
        "---\n",
        "\n"
      ]
    },
    {
      "cell_type": "markdown",
      "metadata": {
        "id": "aYxsAXwfS1X2",
        "colab_type": "text"
      },
      "source": [
        "Lasso"
      ]
    },
    {
      "cell_type": "code",
      "metadata": {
        "id": "qixVKkAsSymy",
        "colab_type": "code",
        "colab": {}
      },
      "source": [
        "import matplotlib.pyplot as plt\n",
        "import numpy as np \n",
        "import pandas as pd\n",
        "import matplotlib\n",
        "from sklearn.model_selection import train_test_split\n",
        "from sklearn.linear_model import LinearRegression\n",
        "from sklearn.linear_model import Lasso"
      ],
      "execution_count": 0,
      "outputs": []
    },
    {
      "cell_type": "code",
      "metadata": {
        "id": "nqU-ZUBkS38G",
        "colab_type": "code",
        "outputId": "eebf3080-32b4-48ee-d849-05638e189684",
        "colab": {
          "base_uri": "https://localhost:8080/",
          "height": 52
        }
      },
      "source": [
        "from sklearn.linear_model import Lasso\n",
        "start_time = time.time()                                                                                 \n",
        "rr = Lasso(alpha= 10000) \n",
        "rr.fit(X_train, y_train)\n",
        "pred = rr.predict(X_test)\n",
        "print(r2_score(y_test, pred) * 100)\n",
        "print(\"--- %s seconds ---\" % (time.time() - start_time))                                               "
      ],
      "execution_count": 0,
      "outputs": [
        {
          "output_type": "stream",
          "text": [
            "-0.0042252399236941685\n",
            "--- 0.01874542236328125 seconds ---\n"
          ],
          "name": "stdout"
        }
      ]
    },
    {
      "cell_type": "code",
      "metadata": {
        "id": "PXKzdDkBTDLV",
        "colab_type": "code",
        "outputId": "1bd381d2-8095-4b35-8933-f5742e45e393",
        "colab": {
          "base_uri": "https://localhost:8080/",
          "height": 52
        }
      },
      "source": [
        "from sklearn.linear_model import Lasso\n",
        "start_time = time.time()                                                                                  # Calculating the time taken to convert the dataset from CSV to dataframe\n",
        "rr = Lasso(alpha= 1000) \n",
        "rr.fit(X_train, y_train)\n",
        "pred = rr.predict(X_test)\n",
        "print(r2_score(y_test, pred) * 100)\n",
        "print(\"--- %s seconds ---\" % (time.time() - start_time))                                                  # Displaying the time in seconds"
      ],
      "execution_count": 0,
      "outputs": [
        {
          "output_type": "stream",
          "text": [
            "40.188960421043895\n",
            "--- 0.015836477279663086 seconds ---\n"
          ],
          "name": "stdout"
        }
      ]
    },
    {
      "cell_type": "code",
      "metadata": {
        "id": "RmgByn_BTFrj",
        "colab_type": "code",
        "outputId": "1b90048c-c39a-4748-a23e-af9f4a84c74d",
        "colab": {
          "base_uri": "https://localhost:8080/",
          "height": 52
        }
      },
      "source": [
        "from sklearn.linear_model import Lasso\n",
        "start_time = time.time()                                                                                  # Calculating the time taken to convert the dataset from CSV to dataframe\n",
        "rr = Lasso(alpha= 100) \n",
        "rr.fit(X_train, y_train)\n",
        "pred = rr.predict(X_test)\n",
        "print(r2_score(y_test, pred) * 100)\n",
        "print(\"--- %s seconds ---\" % (time.time() - start_time))                                                  # Displaying the time in seconds"
      ],
      "execution_count": 0,
      "outputs": [
        {
          "output_type": "stream",
          "text": [
            "56.53602625199379\n",
            "--- 0.024311065673828125 seconds ---\n"
          ],
          "name": "stdout"
        }
      ]
    },
    {
      "cell_type": "code",
      "metadata": {
        "id": "5mzy2iARTG2s",
        "colab_type": "code",
        "outputId": "83f42908-8a74-4293-9370-13cbd092b3bc",
        "colab": {
          "base_uri": "https://localhost:8080/",
          "height": 52
        }
      },
      "source": [
        "from sklearn.linear_model import Lasso\n",
        "start_time = time.time()                                                                                  # Calculating the time taken to convert the dataset from CSV to dataframe\n",
        "rr = Lasso(alpha= 10) \n",
        "rr.fit(X_train, y_train)\n",
        "pred = rr.predict(X_test)\n",
        "print(r2_score(y_test, pred) * 100)\n",
        "print(\"--- %s seconds ---\" % (time.time() - start_time))                                                  # Displaying the time in seconds"
      ],
      "execution_count": 0,
      "outputs": [
        {
          "output_type": "stream",
          "text": [
            "56.872121216214076\n",
            "--- 0.027382612228393555 seconds ---\n"
          ],
          "name": "stdout"
        }
      ]
    },
    {
      "cell_type": "code",
      "metadata": {
        "id": "xix8OGbrTIS5",
        "colab_type": "code",
        "outputId": "5e91a625-f412-44bb-cf66-c4edab97bf3d",
        "colab": {
          "base_uri": "https://localhost:8080/",
          "height": 52
        }
      },
      "source": [
        "from sklearn.linear_model import Lasso\n",
        "start_time = time.time()                                                                                  # Calculating the time taken to convert the dataset from CSV to dataframe\n",
        "rr = Lasso(alpha= 1) \n",
        "rr.fit(X_train, y_train)\n",
        "pred = rr.predict(X_test)\n",
        "print(r2_score(y_test, pred) * 100)\n",
        "print(\"--- %s seconds ---\" % (time.time() - start_time))                                                  # Displaying the time in seconds"
      ],
      "execution_count": 0,
      "outputs": [
        {
          "output_type": "stream",
          "text": [
            "56.88514458882089\n",
            "--- 0.028135061264038086 seconds ---\n"
          ],
          "name": "stdout"
        }
      ]
    },
    {
      "cell_type": "code",
      "metadata": {
        "id": "JGkFi2QFTJz5",
        "colab_type": "code",
        "outputId": "93997b60-649f-4642-c8a9-df8eb6fa946d",
        "colab": {
          "base_uri": "https://localhost:8080/",
          "height": 52
        }
      },
      "source": [
        "from sklearn.linear_model import Lasso\n",
        "start_time = time.time()                                                                                  # Calculating the time taken to convert the dataset from CSV to dataframe\n",
        "rr = Lasso(alpha= 0.1) \n",
        "rr.fit(X_train, y_train)\n",
        "pred = rr.predict(X_test)\n",
        "print(r2_score(y_test, pred) * 100)\n",
        "print(\"--- %s seconds ---\" % (time.time() - start_time))                                                  # Displaying the time in seconds"
      ],
      "execution_count": 0,
      "outputs": [
        {
          "output_type": "stream",
          "text": [
            "56.88610417645656\n",
            "--- 0.031087160110473633 seconds ---\n"
          ],
          "name": "stdout"
        }
      ]
    },
    {
      "cell_type": "code",
      "metadata": {
        "id": "uBh9S2zUTMB-",
        "colab_type": "code",
        "outputId": "d6e9542d-8b8d-4506-af7e-896647a53097",
        "colab": {
          "base_uri": "https://localhost:8080/",
          "height": 52
        }
      },
      "source": [
        "from sklearn.linear_model import Lasso\n",
        "start_time = time.time()                                                                                  # Calculating the time taken to convert the dataset from CSV to dataframe\n",
        "rr = Lasso(alpha= 0.01) \n",
        "rr.fit(X_train, y_train)\n",
        "pred = rr.predict(X_test)\n",
        "print(r2_score(y_test, pred) * 100)\n",
        "print(\"--- %s seconds ---\" % (time.time() - start_time))                                                  # Displaying the time in seconds"
      ],
      "execution_count": 0,
      "outputs": [
        {
          "output_type": "stream",
          "text": [
            "56.886189020932555\n",
            "--- 0.027214527130126953 seconds ---\n"
          ],
          "name": "stdout"
        }
      ]
    },
    {
      "cell_type": "markdown",
      "metadata": {
        "id": "xIHOSVqEjrja",
        "colab_type": "text"
      },
      "source": [
        "\n",
        "\n",
        "---\n",
        "\n"
      ]
    },
    {
      "cell_type": "code",
      "metadata": {
        "id": "9NJdEpujj2NI",
        "colab_type": "code",
        "outputId": "fc65e53a-0f30-44cf-df6c-e7755a0e5025",
        "colab": {
          "base_uri": "https://localhost:8080/",
          "height": 104
        }
      },
      "source": [
        "from sklearn.ensemble import RandomForestRegressor\n",
        "rfr = RandomForestRegressor().fit(X_train, y_train)\n",
        "pred = rfr.predict(X_train)\n",
        "\n",
        "print(\"Mean Absolute Error is :\", mean_absolute_error(y_train, pred))\n",
        "print(\" — — — — — — — — — — — — — — — — — — — — — — — \")\n",
        "print(\"Mean Squared Error is :\", mean_squared_error(y_train, pred))\n",
        "print(\" — — — — — — — — — — — — — — — — — — — — — — — \")\n",
        "print(\"The R2 square value of Random Forest Regression is :\",rfr.score(X_train, y_train)* 100)"
      ],
      "execution_count": 0,
      "outputs": [
        {
          "output_type": "stream",
          "text": [
            "Mean Absolute Error is : 426.01334188659473\n",
            " — — — — — — — — — — — — — — — — — — — — — — — \n",
            "Mean Squared Error is : 410579.12151505775\n",
            " — — — — — — — — — — — — — — — — — — — — — — — \n",
            "The R2 square value of Random Forest Regression is : 97.8539998222856\n"
          ],
          "name": "stdout"
        }
      ]
    },
    {
      "cell_type": "code",
      "metadata": {
        "id": "YrJZQmUIj3ro",
        "colab_type": "code",
        "colab": {}
      },
      "source": [
        "from sklearn.ensemble import RandomForestRegressor\n",
        "clf = RandomForestRegressor()\n",
        "clf.fit(X_test, y_test)\n",
        "pred = clf.predict(X_test)"
      ],
      "execution_count": 0,
      "outputs": []
    },
    {
      "cell_type": "code",
      "metadata": {
        "id": "73h7rcquj5KT",
        "colab_type": "code",
        "outputId": "d17f96a0-321a-4e25-a0ed-b3866258172f",
        "colab": {
          "base_uri": "https://localhost:8080/",
          "height": 104
        }
      },
      "source": [
        "print(\"Mean Absolute Error is :\", mean_absolute_error(y_test, pred))\n",
        "print(\" — — — — — — — — — — — — — — — — — — — — — — — \")\n",
        "print(\"Mean Squared Error is :\", mean_squared_error(y_test, pred))\n",
        "print(\" — — — — — — — — — — — — — — — — — — — — — — — \")\n",
        "print(\"The R2 square value of Random Forest Regression is :\",clf.score(X_test, y_test)* 100)"
      ],
      "execution_count": 0,
      "outputs": [
        {
          "output_type": "stream",
          "text": [
            "Mean Absolute Error is : 453.6230156679866\n",
            " — — — — — — — — — — — — — — — — — — — — — — — \n",
            "Mean Squared Error is : 457486.05584306625\n",
            " — — — — — — — — — — — — — — — — — — — — — — — \n",
            "The R2 square value of Random Forest Regression is : 97.62924316153588\n"
          ],
          "name": "stdout"
        }
      ]
    },
    {
      "cell_type": "code",
      "metadata": {
        "id": "hTEqEP-nj6z6",
        "colab_type": "code",
        "colab": {}
      },
      "source": [
        "result = b - a"
      ],
      "execution_count": 0,
      "outputs": []
    },
    {
      "cell_type": "code",
      "metadata": {
        "id": "cN72gi8-j8Wg",
        "colab_type": "code",
        "outputId": "7d2f8e73-c3ed-4838-fbc9-dd7b549c8037",
        "colab": {
          "base_uri": "https://localhost:8080/",
          "height": 35
        }
      },
      "source": [
        "result"
      ],
      "execution_count": 0,
      "outputs": [
        {
          "output_type": "execute_result",
          "data": {
            "text/plain": [
              "44116.41355432221"
            ]
          },
          "metadata": {
            "tags": []
          },
          "execution_count": 279
        }
      ]
    },
    {
      "cell_type": "code",
      "metadata": {
        "id": "W-cEMZelm8DC",
        "colab_type": "code",
        "colab": {}
      },
      "source": [
        "from scipy import stats"
      ],
      "execution_count": 0,
      "outputs": []
    },
    {
      "cell_type": "code",
      "metadata": {
        "id": "fd_bOwqrm_mG",
        "colab_type": "code",
        "outputId": "7c33ff6d-fa4c-4e6b-dc58-8aa6c0d5c0bc",
        "colab": {
          "base_uri": "https://localhost:8080/",
          "height": 52
        }
      },
      "source": [
        "## Import the packages\n",
        "import numpy as np\n",
        "from scipy import stats\n",
        "\n",
        "\n",
        "## Define 2 random distributions\n",
        "#Sample Size\n",
        "N = 10\n",
        "#Gaussian distributed data with mean = 2 and var = 1\n",
        "a = np.array([409055.7933, 411257.5183, 410579.1215])\n",
        "#Gaussian distributed data with with mean = 0 and var = 1\n",
        "b = np.array([455373.9379, 455426.4436, 455794.1234])\n",
        "\n",
        "\n",
        "## Calculate the Standard Deviation\n",
        "#Calculate the variance to get the standard deviation\n",
        "\n",
        "#For unbiased max likelihood estimate we have to divide the var by N-1, and therefore the parameter ddof = 1\n",
        "var_a = a.var(ddof=1)\n",
        "var_b = b.var(ddof=1)\n",
        "\n",
        "#std deviation\n",
        "s = np.sqrt((var_a + var_b)/2)\n",
        "\n",
        "## Calculate the t-statistics\n",
        "t = (a.mean() - b.mean())/(s*np.sqrt(2/N))\n",
        "\n",
        "\n",
        "\n",
        "## Compare with the critical t-value\n",
        "#Degrees of freedom\n",
        "df = 2*N - 2\n",
        "\n",
        "#p-value after comparison with the t \n",
        "p = 1 - stats.t.cdf(t,df=df)\n",
        "\n",
        "\n",
        "print(\"t = \" + str(t))\n",
        "print(\"p = \" + str(2*p/100))"
      ],
      "execution_count": 0,
      "outputs": [
        {
          "output_type": "stream",
          "text": [
            "t = -124.32337778426184\n",
            "p = 0.02\n"
          ],
          "name": "stdout"
        }
      ]
    },
    {
      "cell_type": "markdown",
      "metadata": {
        "id": "PscEQGv-16VN",
        "colab_type": "text"
      },
      "source": [
        "\n",
        "\n",
        "---\n",
        "\n"
      ]
    },
    {
      "cell_type": "code",
      "metadata": {
        "id": "1y20OYTz16yB",
        "colab_type": "code",
        "colab": {}
      },
      "source": [
        "from sklearn.model_selection import train_test_split\n",
        "X_train, X_test, y_train, y_test = train_test_split(X, y, test_size=0.2, random_state=1)\n",
        "X_train, X_val, y_train, y_val = train_test_split(X_train, y_train, test_size=0.25, random_state=1) # 0.25 x 0.8 = 0.2"
      ],
      "execution_count": 0,
      "outputs": []
    },
    {
      "cell_type": "code",
      "metadata": {
        "id": "iZn58yFm18su",
        "colab_type": "code",
        "colab": {}
      },
      "source": [
        "# Feature Scaling\n",
        "from sklearn.preprocessing import StandardScaler\n",
        "sc = MinMaxScaler()\n",
        "X_train = sc.fit_transform(X_train)\n",
        "X_test = sc.transform(X_test)"
      ],
      "execution_count": 0,
      "outputs": []
    },
    {
      "cell_type": "code",
      "metadata": {
        "id": "aFsisr9E1-jd",
        "colab_type": "code",
        "outputId": "4bd3a103-5627-458c-99e7-57fbbf8b2195",
        "colab": {
          "base_uri": "https://localhost:8080/",
          "height": 35
        }
      },
      "source": [
        "from sklearn.ensemble import RandomForestRegressor\n",
        "rfr = RandomForestRegressor(n_estimators= 270, max_depth= 14, max_features = 18, min_samples_leaf = 11).fit(X_train, y_train)\n",
        "pred = rfr.predict(X_test)\n",
        "print(r2_score(y_test, pred)* 100)"
      ],
      "execution_count": 0,
      "outputs": [
        {
          "output_type": "stream",
          "text": [
            "84.61056933674695\n"
          ],
          "name": "stdout"
        }
      ]
    },
    {
      "cell_type": "code",
      "metadata": {
        "id": "3SSPN-TE3mCQ",
        "colab_type": "code",
        "outputId": "32575535-d161-460b-baa0-e4a7607d2238",
        "colab": {
          "base_uri": "https://localhost:8080/",
          "height": 69
        }
      },
      "source": [
        "print(\"Mean Absolute Error is :\", mean_absolute_error(y_test, pred))\n",
        "print(\" — — — — — — — — — — — — — — — — — — — — — — — \")\n",
        "print(\"Mean Squared Error is :\", mean_squared_error(y_test, pred))"
      ],
      "execution_count": 0,
      "outputs": [
        {
          "output_type": "stream",
          "text": [
            "Mean Absolute Error is : 1164.645986580073\n",
            " — — — — — — — — — — — — — — — — — — — — — — — \n",
            "Mean Squared Error is : 2969705.6322162277\n"
          ],
          "name": "stdout"
        }
      ]
    },
    {
      "cell_type": "code",
      "metadata": {
        "id": "EWah2oaM2DQP",
        "colab_type": "code",
        "outputId": "7899b2f9-404a-4f36-8b89-d2af7ef96966",
        "colab": {
          "base_uri": "https://localhost:8080/",
          "height": 355
        }
      },
      "source": [
        "df = pd.DataFrame({'Actual': y_test, 'Predicted': pred})\n",
        "df.head(10)"
      ],
      "execution_count": 0,
      "outputs": [
        {
          "output_type": "execute_result",
          "data": {
            "text/html": [
              "<div>\n",
              "<style scoped>\n",
              "    .dataframe tbody tr th:only-of-type {\n",
              "        vertical-align: middle;\n",
              "    }\n",
              "\n",
              "    .dataframe tbody tr th {\n",
              "        vertical-align: top;\n",
              "    }\n",
              "\n",
              "    .dataframe thead th {\n",
              "        text-align: right;\n",
              "    }\n",
              "</style>\n",
              "<table border=\"1\" class=\"dataframe\">\n",
              "  <thead>\n",
              "    <tr style=\"text-align: right;\">\n",
              "      <th></th>\n",
              "      <th>Actual</th>\n",
              "      <th>Predicted</th>\n",
              "    </tr>\n",
              "  </thead>\n",
              "  <tbody>\n",
              "    <tr>\n",
              "      <th>69709</th>\n",
              "      <td>3500</td>\n",
              "      <td>3272.025193</td>\n",
              "    </tr>\n",
              "    <tr>\n",
              "      <th>94102</th>\n",
              "      <td>6990</td>\n",
              "      <td>6965.981353</td>\n",
              "    </tr>\n",
              "    <tr>\n",
              "      <th>75249</th>\n",
              "      <td>5350</td>\n",
              "      <td>10003.710194</td>\n",
              "    </tr>\n",
              "    <tr>\n",
              "      <th>20486</th>\n",
              "      <td>3499</td>\n",
              "      <td>3278.019694</td>\n",
              "    </tr>\n",
              "    <tr>\n",
              "      <th>1100</th>\n",
              "      <td>15900</td>\n",
              "      <td>12029.675156</td>\n",
              "    </tr>\n",
              "    <tr>\n",
              "      <th>28975</th>\n",
              "      <td>3799</td>\n",
              "      <td>3157.828389</td>\n",
              "    </tr>\n",
              "    <tr>\n",
              "      <th>39618</th>\n",
              "      <td>8450</td>\n",
              "      <td>8648.183686</td>\n",
              "    </tr>\n",
              "    <tr>\n",
              "      <th>9951</th>\n",
              "      <td>2800</td>\n",
              "      <td>2743.499310</td>\n",
              "    </tr>\n",
              "    <tr>\n",
              "      <th>5630</th>\n",
              "      <td>790</td>\n",
              "      <td>1687.485884</td>\n",
              "    </tr>\n",
              "    <tr>\n",
              "      <th>37967</th>\n",
              "      <td>900</td>\n",
              "      <td>1547.616169</td>\n",
              "    </tr>\n",
              "  </tbody>\n",
              "</table>\n",
              "</div>"
            ],
            "text/plain": [
              "       Actual     Predicted\n",
              "69709    3500   3272.025193\n",
              "94102    6990   6965.981353\n",
              "75249    5350  10003.710194\n",
              "20486    3499   3278.019694\n",
              "1100    15900  12029.675156\n",
              "28975    3799   3157.828389\n",
              "39618    8450   8648.183686\n",
              "9951     2800   2743.499310\n",
              "5630      790   1687.485884\n",
              "37967     900   1547.616169"
            ]
          },
          "metadata": {
            "tags": []
          },
          "execution_count": 312
        }
      ]
    },
    {
      "cell_type": "code",
      "metadata": {
        "id": "TgeN6_Ypo2jl",
        "colab_type": "code",
        "outputId": "32f7b19d-b183-402f-f139-6e28a3327b2c",
        "colab": {
          "base_uri": "https://localhost:8080/",
          "height": 69
        }
      },
      "source": [
        ""
      ],
      "execution_count": 0,
      "outputs": [
        {
          "output_type": "execute_result",
          "data": {
            "text/plain": [
              "Actual       6990.000000\n",
              "Predicted    6690.921475\n",
              "Name: 94102, dtype: float64"
            ]
          },
          "metadata": {
            "tags": []
          },
          "execution_count": 108
        }
      ]
    },
    {
      "cell_type": "code",
      "metadata": {
        "id": "ZhMyz8ft2Eua",
        "colab_type": "code",
        "outputId": "596b8c10-ab68-4930-d864-88d6da97d782",
        "colab": {
          "base_uri": "https://localhost:8080/",
          "height": 369
        }
      },
      "source": [
        "import matplotlib.pyplot as plt\n",
        "df1 = df.head(35)\n",
        "df1.plot(kind='bar',figsize=(10,5.5))\n",
        "plt.grid(which='major', linestyle='-', linewidth='0.5', color='green')\n",
        "plt.grid(which='minor', linestyle=':', linewidth='0.5', color='black')\n",
        "plt.show()"
      ],
      "execution_count": 0,
      "outputs": [
        {
          "output_type": "display_data",
          "data": {
            "image/png": "[encoded data removed]",
            "text/plain": [
              "<Figure size 720x396 with 1 Axes>"
            ]
          },
          "metadata": {
            "tags": []
          }
        }
      ]
    },
    {
      "cell_type": "markdown",
      "metadata": {
        "id": "bw1jXA7YwvRV",
        "colab_type": "text"
      },
      "source": [
        "# Random Forest Regression Model with improved accuracy"
      ]
    },
    {
      "cell_type": "code",
      "metadata": {
        "id": "OoGexAvIUUo4",
        "colab_type": "code",
        "colab": {}
      },
      "source": [
        "import pickle"
      ],
      "execution_count": 0,
      "outputs": []
    },
    {
      "cell_type": "code",
      "metadata": {
        "id": "M6ocYZsFwpOK",
        "colab_type": "code",
        "outputId": "f25db0a4-a824-4a59-94d7-06a45623dc0a",
        "colab": {
          "base_uri": "https://localhost:8080/",
          "height": 52
        }
      },
      "source": [
        "from sklearn.ensemble import RandomForestRegressor\n",
        "start_time = time.time()                                       \n",
        "rfr = RandomForestRegressor(max_depth = 16, max_features = 10, min_samples_leaf = 2, n_estimators = 20).fit(X_train, y_train)\n",
        "pred = rfr.predict(X_test)\n",
        "print(r2_score(y_test, pred)* 100)\n",
        "print(\"--- %s seconds ---\" % (time.time() - start_time))       "
      ],
      "execution_count": 0,
      "outputs": [
        {
          "output_type": "stream",
          "text": [
            "86.26669042903912\n",
            "--- 2.906627655029297 seconds ---\n"
          ],
          "name": "stdout"
        }
      ]
    },
    {
      "cell_type": "code",
      "metadata": {
        "id": "1JI0B-22UYdI",
        "colab_type": "code",
        "colab": {}
      },
      "source": [
        "# save the model to disk\n",
        "\n",
        "pickle.dump(rfr, open('/content/drive/My Drive/Models/randomforestmodel2.pkl', 'wb'))"
      ],
      "execution_count": 0,
      "outputs": []
    },
    {
      "cell_type": "code",
      "metadata": {
        "id": "j1bfyV8Vyx7P",
        "colab_type": "code",
        "outputId": "b019d5ff-d5a5-4191-be8d-925da757efc3",
        "colab": {
          "base_uri": "https://localhost:8080/",
          "height": 355
        }
      },
      "source": [
        "df = pd.DataFrame({'Actual': y_test, 'Predicted': pred})\n",
        "df.head(10)"
      ],
      "execution_count": 0,
      "outputs": [
        {
          "output_type": "execute_result",
          "data": {
            "text/html": [
              "<div>\n",
              "<style scoped>\n",
              "    .dataframe tbody tr th:only-of-type {\n",
              "        vertical-align: middle;\n",
              "    }\n",
              "\n",
              "    .dataframe tbody tr th {\n",
              "        vertical-align: top;\n",
              "    }\n",
              "\n",
              "    .dataframe thead th {\n",
              "        text-align: right;\n",
              "    }\n",
              "</style>\n",
              "<table border=\"1\" class=\"dataframe\">\n",
              "  <thead>\n",
              "    <tr style=\"text-align: right;\">\n",
              "      <th></th>\n",
              "      <th>Actual</th>\n",
              "      <th>Predicted</th>\n",
              "    </tr>\n",
              "  </thead>\n",
              "  <tbody>\n",
              "    <tr>\n",
              "      <th>69709</th>\n",
              "      <td>3500</td>\n",
              "      <td>3405.790702</td>\n",
              "    </tr>\n",
              "    <tr>\n",
              "      <th>94102</th>\n",
              "      <td>6990</td>\n",
              "      <td>6690.921475</td>\n",
              "    </tr>\n",
              "    <tr>\n",
              "      <th>75249</th>\n",
              "      <td>5350</td>\n",
              "      <td>9422.876648</td>\n",
              "    </tr>\n",
              "    <tr>\n",
              "      <th>20486</th>\n",
              "      <td>3499</td>\n",
              "      <td>3583.024715</td>\n",
              "    </tr>\n",
              "    <tr>\n",
              "      <th>1100</th>\n",
              "      <td>15900</td>\n",
              "      <td>11200.994205</td>\n",
              "    </tr>\n",
              "    <tr>\n",
              "      <th>28975</th>\n",
              "      <td>3799</td>\n",
              "      <td>2586.266026</td>\n",
              "    </tr>\n",
              "    <tr>\n",
              "      <th>39618</th>\n",
              "      <td>8450</td>\n",
              "      <td>8701.267227</td>\n",
              "    </tr>\n",
              "    <tr>\n",
              "      <th>9951</th>\n",
              "      <td>2800</td>\n",
              "      <td>2845.795319</td>\n",
              "    </tr>\n",
              "    <tr>\n",
              "      <th>5630</th>\n",
              "      <td>790</td>\n",
              "      <td>1931.251503</td>\n",
              "    </tr>\n",
              "    <tr>\n",
              "      <th>37967</th>\n",
              "      <td>900</td>\n",
              "      <td>1540.322183</td>\n",
              "    </tr>\n",
              "  </tbody>\n",
              "</table>\n",
              "</div>"
            ],
            "text/plain": [
              "       Actual     Predicted\n",
              "69709    3500   3405.790702\n",
              "94102    6990   6690.921475\n",
              "75249    5350   9422.876648\n",
              "20486    3499   3583.024715\n",
              "1100    15900  11200.994205\n",
              "28975    3799   2586.266026\n",
              "39618    8450   8701.267227\n",
              "9951     2800   2845.795319\n",
              "5630      790   1931.251503\n",
              "37967     900   1540.322183"
            ]
          },
          "metadata": {
            "tags": []
          },
          "execution_count": 100
        }
      ]
    },
    {
      "cell_type": "code",
      "metadata": {
        "id": "sLg90deZfCgX",
        "colab_type": "code",
        "outputId": "cc1cfe49-3cf0-4922-e1b9-d595ce968a10",
        "colab": {
          "base_uri": "https://localhost:8080/",
          "height": 369
        }
      },
      "source": [
        "import matplotlib.pyplot as plt\n",
        "df1 = df.head(35)\n",
        "df1.plot(kind='bar',figsize=(10,5.5))\n",
        "plt.grid(which='major', linestyle='-', linewidth='0.5', color='green')\n",
        "plt.grid(which='minor', linestyle=':', linewidth='0.5', color='black')\n",
        "plt.show()"
      ],
      "execution_count": 0,
      "outputs": [
        {
          "output_type": "display_data",
          "data": {
            "image/png": "[encoded data removed]",
            "text/plain": [
              "<Figure size 720x396 with 1 Axes>"
            ]
          },
          "metadata": {
            "tags": []
          }
        }
      ]
    },
    {
      "cell_type": "code",
      "metadata": {
        "id": "9r2iL49Tw0iI",
        "colab_type": "code",
        "outputId": "017af657-c631-4464-e90e-ea7a1ba6f34b",
        "colab": {
          "base_uri": "https://localhost:8080/",
          "height": 69
        }
      },
      "source": [
        "print(\"Mean Absolute Error is :\", mean_absolute_error(y_test, pred))\n",
        "print(\" — — — — — — — — — — — — — — — — — — — — — — — \")\n",
        "print(\"Mean Squared Error is :\", mean_squared_error(y_test, pred))"
      ],
      "execution_count": 0,
      "outputs": [
        {
          "output_type": "stream",
          "text": [
            "Mean Absolute Error is : 1108.2943897417765\n",
            " — — — — — — — — — — — — — — — — — — — — — — — \n",
            "Mean Squared Error is : 2700311.9693382652\n"
          ],
          "name": "stdout"
        }
      ]
    }
  ]
}