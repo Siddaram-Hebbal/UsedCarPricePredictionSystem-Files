{
  "nbformat": 4,
  "nbformat_minor": 0,
  "metadata": {
    "colab": {
      "name": "Random Forest Manual tuning of parameters.ipynb",
      "provenance": [],
      "collapsed_sections": [],
      "mount_file_id": "12el7cPttod_ui5Hk-MEi_OwGFtL01Pxi",
      "authorship_tag": "ABX9TyPVJO3M/3MVPfajeLa8XXo4",
      "include_colab_link": true
    },
    "kernelspec": {
      "name": "python3",
      "display_name": "Python 3"
    }
  },
  "cells": [
    {
      "cell_type": "markdown",
      "metadata": {
        "id": "view-in-github",
        "colab_type": "text"
      },
      "source": [
        "<a href=\"https://colab.research.google.com/github/Tanu-N-Prabhu/UsedCarPricePredictionSystem-Files/blob/master/Random_Forest_Manual_tuning_of_parameters.ipynb\" target=\"_parent\"><img src=\"https://colab.research.google.com/assets/colab-badge.svg\" alt=\"Open In Colab\"/></a>"
      ]
    },
    {
      "cell_type": "markdown",
      "metadata": {
        "id": "k3MvaDGlmwBu",
        "colab_type": "text"
      },
      "source": [
        "# **Random Forest Manual tuning of parameters**\n",
        "\n",
        "This results shown below are reported in the project report to. This is the original notebook which comprises only tuning the parameters manually"
      ]
    },
    {
      "cell_type": "code",
      "metadata": {
        "id": "wQ3h0jATh3vh",
        "colab_type": "code",
        "colab": {
          "base_uri": "https://localhost:8080/",
          "height": 72
        },
        "outputId": "4a577a72-97c5-4c68-e112-5ad9318ca007"
      },
      "source": [
        "import pandas as pd    \n",
        "from sklearn.preprocessing import StandardScaler\n",
        "from sklearn.pipeline import Pipeline\n",
        "from sklearn.ensemble import RandomForestRegressor\n",
        "from sklearn.tree import DecisionTreeRegressor\n",
        "from sklearn.linear_model import LinearRegression\n",
        "from sklearn import svm\n",
        "import seaborn as sns\n",
        "from sklearn.preprocessing import MinMaxScaler\n",
        "from sklearn.metrics import r2_score     \n",
        "from sklearn.metrics import mean_absolute_error\n",
        "from sklearn.metrics import mean_squared_error           # Loading the dataset into a dataframe and performing the desired operations"
      ],
      "execution_count": 1,
      "outputs": [
        {
          "output_type": "stream",
          "text": [
            "/usr/local/lib/python3.6/dist-packages/statsmodels/tools/_testing.py:19: FutureWarning: pandas.util.testing is deprecated. Use the functions in the public API at pandas.testing instead.\n",
            "  import pandas.util.testing as tm\n"
          ],
          "name": "stderr"
        }
      ]
    },
    {
      "cell_type": "code",
      "metadata": {
        "id": "Mx-F8ueLh82W",
        "colab_type": "code",
        "outputId": "5a1e5965-cfad-4647-8ee3-fd3d618c326e",
        "colab": {
          "base_uri": "https://localhost:8080/",
          "height": 222
        }
      },
      "source": [
        "# Storing the dataset (CSV file) as a pandas dataframe\n",
        "\n",
        "df = pd.read_csv(\"/content/drive/My Drive/Dataset/CleanedData.csv\")   # Storing the CSV file into a dataframe\n",
        "df.head(5)"
      ],
      "execution_count": 2,
      "outputs": [
        {
          "output_type": "execute_result",
          "data": {
            "text/html": [
              "<div>\n",
              "<style scoped>\n",
              "    .dataframe tbody tr th:only-of-type {\n",
              "        vertical-align: middle;\n",
              "    }\n",
              "\n",
              "    .dataframe tbody tr th {\n",
              "        vertical-align: top;\n",
              "    }\n",
              "\n",
              "    .dataframe thead th {\n",
              "        text-align: right;\n",
              "    }\n",
              "</style>\n",
              "<table border=\"1\" class=\"dataframe\">\n",
              "  <thead>\n",
              "    <tr style=\"text-align: right;\">\n",
              "      <th></th>\n",
              "      <th>price</th>\n",
              "      <th>yearOfRegistration</th>\n",
              "      <th>powerPS</th>\n",
              "      <th>model</th>\n",
              "      <th>kilometer</th>\n",
              "      <th>monthOfRegistration</th>\n",
              "      <th>fuelType</th>\n",
              "      <th>brand</th>\n",
              "      <th>postalCode</th>\n",
              "      <th>vehicleType_0</th>\n",
              "      <th>vehicleType_1</th>\n",
              "      <th>vehicleType_2</th>\n",
              "      <th>vehicleType_3</th>\n",
              "      <th>vehicleType_4</th>\n",
              "      <th>vehicleType_5</th>\n",
              "      <th>vehicleType_6</th>\n",
              "      <th>vehicleType_7</th>\n",
              "      <th>gearbox_0</th>\n",
              "      <th>gearbox_1</th>\n",
              "    </tr>\n",
              "  </thead>\n",
              "  <tbody>\n",
              "    <tr>\n",
              "      <th>0</th>\n",
              "      <td>650</td>\n",
              "      <td>1995</td>\n",
              "      <td>102</td>\n",
              "      <td>11</td>\n",
              "      <td>150000</td>\n",
              "      <td>10</td>\n",
              "      <td>1</td>\n",
              "      <td>2</td>\n",
              "      <td>33775</td>\n",
              "      <td>0</td>\n",
              "      <td>0</td>\n",
              "      <td>0</td>\n",
              "      <td>0</td>\n",
              "      <td>0</td>\n",
              "      <td>0</td>\n",
              "      <td>1</td>\n",
              "      <td>0</td>\n",
              "      <td>0</td>\n",
              "      <td>1</td>\n",
              "    </tr>\n",
              "    <tr>\n",
              "      <th>1</th>\n",
              "      <td>2000</td>\n",
              "      <td>2004</td>\n",
              "      <td>105</td>\n",
              "      <td>10</td>\n",
              "      <td>150000</td>\n",
              "      <td>12</td>\n",
              "      <td>1</td>\n",
              "      <td>19</td>\n",
              "      <td>96224</td>\n",
              "      <td>0</td>\n",
              "      <td>0</td>\n",
              "      <td>0</td>\n",
              "      <td>0</td>\n",
              "      <td>0</td>\n",
              "      <td>0</td>\n",
              "      <td>1</td>\n",
              "      <td>0</td>\n",
              "      <td>0</td>\n",
              "      <td>1</td>\n",
              "    </tr>\n",
              "    <tr>\n",
              "      <th>2</th>\n",
              "      <td>2799</td>\n",
              "      <td>2005</td>\n",
              "      <td>140</td>\n",
              "      <td>160</td>\n",
              "      <td>150000</td>\n",
              "      <td>12</td>\n",
              "      <td>3</td>\n",
              "      <td>37</td>\n",
              "      <td>57290</td>\n",
              "      <td>0</td>\n",
              "      <td>0</td>\n",
              "      <td>0</td>\n",
              "      <td>0</td>\n",
              "      <td>0</td>\n",
              "      <td>1</td>\n",
              "      <td>0</td>\n",
              "      <td>0</td>\n",
              "      <td>0</td>\n",
              "      <td>1</td>\n",
              "    </tr>\n",
              "    <tr>\n",
              "      <th>3</th>\n",
              "      <td>999</td>\n",
              "      <td>1995</td>\n",
              "      <td>115</td>\n",
              "      <td>160</td>\n",
              "      <td>150000</td>\n",
              "      <td>11</td>\n",
              "      <td>1</td>\n",
              "      <td>37</td>\n",
              "      <td>37269</td>\n",
              "      <td>0</td>\n",
              "      <td>0</td>\n",
              "      <td>0</td>\n",
              "      <td>0</td>\n",
              "      <td>0</td>\n",
              "      <td>1</td>\n",
              "      <td>0</td>\n",
              "      <td>0</td>\n",
              "      <td>0</td>\n",
              "      <td>1</td>\n",
              "    </tr>\n",
              "    <tr>\n",
              "      <th>4</th>\n",
              "      <td>2500</td>\n",
              "      <td>2004</td>\n",
              "      <td>131</td>\n",
              "      <td>160</td>\n",
              "      <td>150000</td>\n",
              "      <td>2</td>\n",
              "      <td>1</td>\n",
              "      <td>37</td>\n",
              "      <td>90762</td>\n",
              "      <td>0</td>\n",
              "      <td>0</td>\n",
              "      <td>0</td>\n",
              "      <td>0</td>\n",
              "      <td>0</td>\n",
              "      <td>1</td>\n",
              "      <td>0</td>\n",
              "      <td>0</td>\n",
              "      <td>0</td>\n",
              "      <td>1</td>\n",
              "    </tr>\n",
              "  </tbody>\n",
              "</table>\n",
              "</div>"
            ],
            "text/plain": [
              "   price  yearOfRegistration  powerPS  ...  vehicleType_7  gearbox_0  gearbox_1\n",
              "0    650                1995      102  ...              0          0          1\n",
              "1   2000                2004      105  ...              0          0          1\n",
              "2   2799                2005      140  ...              0          0          1\n",
              "3    999                1995      115  ...              0          0          1\n",
              "4   2500                2004      131  ...              0          0          1\n",
              "\n",
              "[5 rows x 19 columns]"
            ]
          },
          "metadata": {
            "tags": []
          },
          "execution_count": 2
        }
      ]
    },
    {
      "cell_type": "code",
      "metadata": {
        "id": "5HS4__NJh_Tn",
        "colab_type": "code",
        "colab": {}
      },
      "source": [
        "selectedFeatures = ['yearOfRegistration','powerPS','model','kilometer','monthOfRegistration','fuelType','brand','postalCode','vehicleType_0','vehicleType_1','vehicleType_2','vehicleType_3','vehicleType_4','vehicleType_5','vehicleType_6','vehicleType_7','gearbox_0','gearbox_1']"
      ],
      "execution_count": 0,
      "outputs": []
    },
    {
      "cell_type": "code",
      "metadata": {
        "id": "r7LloiuHiAgk",
        "colab_type": "code",
        "colab": {}
      },
      "source": [
        "X = df[selectedFeatures]\n",
        "y = df['price']"
      ],
      "execution_count": 0,
      "outputs": []
    },
    {
      "cell_type": "code",
      "metadata": {
        "id": "32VqD0eViFqE",
        "colab_type": "code",
        "colab": {}
      },
      "source": [
        "from sklearn.model_selection import train_test_split\n",
        "X_train, X_test, y_train, y_test = train_test_split(X, y, test_size=0.1, random_state=1)\n",
        "X_train, X_val, y_train, y_val = train_test_split(X_train, y_train, test_size=0.15, random_state=1) "
      ],
      "execution_count": 0,
      "outputs": []
    },
    {
      "cell_type": "code",
      "metadata": {
        "id": "vEhLkAzhiHO3",
        "colab_type": "code",
        "colab": {}
      },
      "source": [
        "# Feature Scaling\n",
        "from sklearn.preprocessing import StandardScaler\n",
        "import time\n",
        "sc = StandardScaler()\n",
        "X_train = sc.fit_transform(X_train)\n",
        "X_test = sc.transform(X_test)"
      ],
      "execution_count": 0,
      "outputs": []
    },
    {
      "cell_type": "markdown",
      "metadata": {
        "id": "qsOhjXSSnYG7",
        "colab_type": "text"
      },
      "source": [
        "\n",
        "\n",
        "---\n",
        "\n"
      ]
    },
    {
      "cell_type": "markdown",
      "metadata": {
        "id": "xFOQwwLFnKmY",
        "colab_type": "text"
      },
      "source": [
        "## **Starting from the below shown below**\n",
        "\n",
        "`n_estimators = 100, max_depth = 5, max_features = 10, min_samples_leaf = 2`"
      ]
    },
    {
      "cell_type": "markdown",
      "metadata": {
        "id": "BQOk_0c9oYpA",
        "colab_type": "text"
      },
      "source": [
        "### **Model 1**"
      ]
    },
    {
      "cell_type": "code",
      "metadata": {
        "id": "qYRUna_WiCKQ",
        "colab_type": "code",
        "outputId": "b815409a-e453-4bbf-f496-59bf6dfd77c6",
        "colab": {
          "base_uri": "https://localhost:8080/",
          "height": 52
        }
      },
      "source": [
        "from sklearn.ensemble import RandomForestRegressor\n",
        "start_time = time.time()                                                                                  # Calculating the time taken to convert the dataset from CSV to dataframe\n",
        "\n",
        "rfr = RandomForestRegressor(n_estimators= 100, max_depth= 5, max_features = 10, min_samples_leaf = 2).fit(X_train, y_train)\n",
        "pred = rfr.predict(X_test)\n",
        "print(r2_score(y_test, pred)* 100)\n",
        "print(\"--- %s seconds ---\" % (time.time() - start_time))                                                  # Displaying the time in seconds"
      ],
      "execution_count": 8,
      "outputs": [
        {
          "output_type": "stream",
          "text": [
            "76.60372289187279\n",
            "--- 4.386168718338013 seconds ---\n"
          ],
          "name": "stdout"
        }
      ]
    },
    {
      "cell_type": "code",
      "metadata": {
        "id": "ddzQ4m1ciTJM",
        "colab_type": "code",
        "outputId": "c36cacef-6115-4b06-b539-94a3823b4e97",
        "colab": {
          "base_uri": "https://localhost:8080/",
          "height": 69
        }
      },
      "source": [
        "print(\"Mean Absolute Error is :\", mean_absolute_error(y_test, pred))\n",
        "print(\" — — — — — — — — — — — — — — — — — — — — — — — \")\n",
        "print(\"Mean Squared Error is :\", mean_squared_error(y_test, pred))"
      ],
      "execution_count": 9,
      "outputs": [
        {
          "output_type": "stream",
          "text": [
            "Mean Absolute Error is : 1493.6171099518745\n",
            " — — — — — — — — — — — — — — — — — — — — — — — \n",
            "Mean Squared Error is : 4514790.535221144\n"
          ],
          "name": "stdout"
        }
      ]
    },
    {
      "cell_type": "markdown",
      "metadata": {
        "id": "aLxWJ3ihobk_",
        "colab_type": "text"
      },
      "source": [
        "\n",
        "\n",
        "---\n",
        "\n"
      ]
    },
    {
      "cell_type": "markdown",
      "metadata": {
        "id": "DDd-NOhzocmr",
        "colab_type": "text"
      },
      "source": [
        "### **Model 2**"
      ]
    },
    {
      "cell_type": "code",
      "metadata": {
        "id": "l1sx-8t9iUa2",
        "colab_type": "code",
        "outputId": "c42aaa39-25ca-4555-d7cc-7d141d0a5d6c",
        "colab": {
          "base_uri": "https://localhost:8080/",
          "height": 52
        }
      },
      "source": [
        "from sklearn.ensemble import RandomForestRegressor\n",
        "start_time = time.time()                                                                                  # Calculating the time taken to convert the dataset from CSV to dataframe\n",
        "\n",
        "rfr = RandomForestRegressor(n_estimators= 150, max_depth= 6, max_features = 11, min_samples_leaf = 3).fit(X_train, y_train)\n",
        "pred = rfr.predict(X_test)\n",
        "print(r2_score(y_test, pred)* 100)\n",
        "print(\"--- %s seconds ---\" % (time.time() - start_time))                                                  # Displaying the time in seconds"
      ],
      "execution_count": 10,
      "outputs": [
        {
          "output_type": "stream",
          "text": [
            "79.418798930837\n",
            "--- 8.188413381576538 seconds ---\n"
          ],
          "name": "stdout"
        }
      ]
    },
    {
      "cell_type": "code",
      "metadata": {
        "id": "ccPq73GfiX47",
        "colab_type": "code",
        "outputId": "4a13014c-3d56-4173-c8c5-cb0e7ecf4355",
        "colab": {
          "base_uri": "https://localhost:8080/",
          "height": 69
        }
      },
      "source": [
        "print(\"Mean Absolute Error is :\", mean_absolute_error(y_test, pred))\n",
        "print(\" — — — — — — — — — — — — — — — — — — — — — — — \")\n",
        "print(\"Mean Squared Error is :\", mean_squared_error(y_test, pred))"
      ],
      "execution_count": 11,
      "outputs": [
        {
          "output_type": "stream",
          "text": [
            "Mean Absolute Error is : 1393.3627571976313\n",
            " — — — — — — — — — — — — — — — — — — — — — — — \n",
            "Mean Squared Error is : 3971563.995464164\n"
          ],
          "name": "stdout"
        }
      ]
    },
    {
      "cell_type": "markdown",
      "metadata": {
        "id": "Pe2mSrDTofqr",
        "colab_type": "text"
      },
      "source": [
        "\n",
        "\n",
        "---\n",
        "\n"
      ]
    },
    {
      "cell_type": "markdown",
      "metadata": {
        "id": "Q9qovl2HogdU",
        "colab_type": "text"
      },
      "source": [
        "### **Model 3**"
      ]
    },
    {
      "cell_type": "code",
      "metadata": {
        "id": "zndZlvq4ibeb",
        "colab_type": "code",
        "outputId": "3d316bec-ae44-4a06-97aa-6052fb4cade2",
        "colab": {
          "base_uri": "https://localhost:8080/",
          "height": 52
        }
      },
      "source": [
        "from sklearn.ensemble import RandomForestRegressor\n",
        "start_time = time.time()                                                                                  # Calculating the time taken to convert the dataset from CSV to dataframe\n",
        "\n",
        "rfr = RandomForestRegressor(n_estimators= 200, max_depth= 7, max_features = 12, min_samples_leaf = 4).fit(X_train, y_train)\n",
        "pred = rfr.predict(X_test)\n",
        "print(r2_score(y_test, pred)* 100)\n",
        "print(\"--- %s seconds ---\" % (time.time() - start_time))                                                  # Displaying the time in seconds"
      ],
      "execution_count": 12,
      "outputs": [
        {
          "output_type": "stream",
          "text": [
            "81.2623844917026\n",
            "--- 13.753913402557373 seconds ---\n"
          ],
          "name": "stdout"
        }
      ]
    },
    {
      "cell_type": "code",
      "metadata": {
        "id": "2_pMOF5pigCh",
        "colab_type": "code",
        "outputId": "d46599a2-5df9-4146-f818-6b00fcfc7ae2",
        "colab": {
          "base_uri": "https://localhost:8080/",
          "height": 69
        }
      },
      "source": [
        "print(\"Mean Absolute Error is :\", mean_absolute_error(y_test, pred))\n",
        "print(\" — — — — — — — — — — — — — — — — — — — — — — — \")\n",
        "print(\"Mean Squared Error is :\", mean_squared_error(y_test, pred))"
      ],
      "execution_count": 13,
      "outputs": [
        {
          "output_type": "stream",
          "text": [
            "Mean Absolute Error is : 1319.7974532986789\n",
            " — — — — — — — — — — — — — — — — — — — — — — — \n",
            "Mean Squared Error is : 3615806.4275998697\n"
          ],
          "name": "stdout"
        }
      ]
    },
    {
      "cell_type": "markdown",
      "metadata": {
        "id": "dJ0ItI54oh9d",
        "colab_type": "text"
      },
      "source": [
        "\n",
        "\n",
        "---\n",
        "\n"
      ]
    },
    {
      "cell_type": "markdown",
      "metadata": {
        "id": "RwyRYiPZoiwU",
        "colab_type": "text"
      },
      "source": [
        "### **Model 4**"
      ]
    },
    {
      "cell_type": "code",
      "metadata": {
        "id": "X_3f-EFpilqT",
        "colab_type": "code",
        "outputId": "0b7b7bcf-50d3-4752-f2a2-cbc9e1f400a8",
        "colab": {
          "base_uri": "https://localhost:8080/",
          "height": 52
        }
      },
      "source": [
        "from sklearn.ensemble import RandomForestRegressor\n",
        "start_time = time.time()                                                                                  # Calculating the time taken to convert the dataset from CSV to dataframe\n",
        "\n",
        "rfr = RandomForestRegressor(n_estimators= 210, max_depth= 8, max_features = 13, min_samples_leaf = 5).fit(X_train, y_train)\n",
        "pred = rfr.predict(X_test)\n",
        "print(r2_score(y_test, pred)* 100)\n",
        "print(\"--- %s seconds ---\" % (time.time() - start_time))                                                  # Displaying the time in seconds"
      ],
      "execution_count": 14,
      "outputs": [
        {
          "output_type": "stream",
          "text": [
            "82.46500791416469\n",
            "--- 17.077303886413574 seconds ---\n"
          ],
          "name": "stdout"
        }
      ]
    },
    {
      "cell_type": "code",
      "metadata": {
        "id": "INdziT7WiuZ4",
        "colab_type": "code",
        "outputId": "38c70ba2-c2b4-4433-a952-d51058360ae2",
        "colab": {
          "base_uri": "https://localhost:8080/",
          "height": 69
        }
      },
      "source": [
        "print(\"Mean Absolute Error is :\", mean_absolute_error(y_test, pred))\n",
        "print(\" — — — — — — — — — — — — — — — — — — — — — — — \")\n",
        "print(\"Mean Squared Error is :\", mean_squared_error(y_test, pred))"
      ],
      "execution_count": 15,
      "outputs": [
        {
          "output_type": "stream",
          "text": [
            "Mean Absolute Error is : 1266.7144667301268\n",
            " — — — — — — — — — — — — — — — — — — — — — — — \n",
            "Mean Squared Error is : 3383735.6233401177\n"
          ],
          "name": "stdout"
        }
      ]
    },
    {
      "cell_type": "markdown",
      "metadata": {
        "id": "uWX6jXUvokKA",
        "colab_type": "text"
      },
      "source": [
        "\n",
        "\n",
        "---\n",
        "\n"
      ]
    },
    {
      "cell_type": "markdown",
      "metadata": {
        "id": "VwmNkgI7okyE",
        "colab_type": "text"
      },
      "source": [
        "### **Model 5**"
      ]
    },
    {
      "cell_type": "code",
      "metadata": {
        "id": "vA5eleaEizs5",
        "colab_type": "code",
        "outputId": "d7fb04bf-8d1f-43b9-d538-ffab656c0fdd",
        "colab": {
          "base_uri": "https://localhost:8080/",
          "height": 52
        }
      },
      "source": [
        "from sklearn.ensemble import RandomForestRegressor\n",
        "start_time = time.time()                                                                                  # Calculating the time taken to convert the dataset from CSV to dataframe\n",
        "\n",
        "rfr = RandomForestRegressor(n_estimators= 220, max_depth= 9, max_features = 14, min_samples_leaf = 6).fit(X_train, y_train)\n",
        "pred = rfr.predict(X_test)\n",
        "print(r2_score(y_test, pred)* 100)\n",
        "print(\"--- %s seconds ---\" % (time.time() - start_time))                                                  # Displaying the time in seconds"
      ],
      "execution_count": 16,
      "outputs": [
        {
          "output_type": "stream",
          "text": [
            "83.31198531334087\n",
            "--- 20.908490419387817 seconds ---\n"
          ],
          "name": "stdout"
        }
      ]
    },
    {
      "cell_type": "code",
      "metadata": {
        "id": "3BaNCk-li2fY",
        "colab_type": "code",
        "outputId": "8f26305a-ecc7-4e09-b94a-02a2eba320cd",
        "colab": {
          "base_uri": "https://localhost:8080/",
          "height": 69
        }
      },
      "source": [
        "print(\"Mean Absolute Error is :\", mean_absolute_error(y_test, pred))\n",
        "print(\" — — — — — — — — — — — — — — — — — — — — — — — \")\n",
        "print(\"Mean Squared Error is :\", mean_squared_error(y_test, pred))"
      ],
      "execution_count": 17,
      "outputs": [
        {
          "output_type": "stream",
          "text": [
            "Mean Absolute Error is : 1228.240598683136\n",
            " — — — — — — — — — — — — — — — — — — — — — — — \n",
            "Mean Squared Error is : 3220293.9985177447\n"
          ],
          "name": "stdout"
        }
      ]
    },
    {
      "cell_type": "markdown",
      "metadata": {
        "id": "mVrtzjO5om23",
        "colab_type": "text"
      },
      "source": [
        "\n",
        "\n",
        "---\n",
        "\n"
      ]
    },
    {
      "cell_type": "markdown",
      "metadata": {
        "id": "kfK7VwTWondQ",
        "colab_type": "text"
      },
      "source": [
        "### **Model 6**"
      ]
    },
    {
      "cell_type": "code",
      "metadata": {
        "id": "yAmXJ9vFi8-W",
        "colab_type": "code",
        "outputId": "b579b035-cc78-4f9b-dd77-f555dc2438c8",
        "colab": {
          "base_uri": "https://localhost:8080/",
          "height": 52
        }
      },
      "source": [
        "from sklearn.ensemble import RandomForestRegressor\n",
        "start_time = time.time()                                                                                  # Calculating the time taken to convert the dataset from CSV to dataframe\n",
        "\n",
        "rfr = RandomForestRegressor(n_estimators= 230, max_depth= 10, max_features = 15, min_samples_leaf = 7).fit(X_train, y_train)\n",
        "pred = rfr.predict(X_test)\n",
        "print(r2_score(y_test, pred)* 100)\n",
        "print(\"--- %s seconds ---\" % (time.time() - start_time))                                                  # Displaying the time in seconds"
      ],
      "execution_count": 18,
      "outputs": [
        {
          "output_type": "stream",
          "text": [
            "83.89936035606806\n",
            "--- 25.242257118225098 seconds ---\n"
          ],
          "name": "stdout"
        }
      ]
    },
    {
      "cell_type": "code",
      "metadata": {
        "id": "ax96j1Wqi_0M",
        "colab_type": "code",
        "outputId": "c79a0227-e540-440a-aac2-076addabcc9a",
        "colab": {
          "base_uri": "https://localhost:8080/",
          "height": 69
        }
      },
      "source": [
        "print(\"Mean Absolute Error is :\", mean_absolute_error(y_test, pred))\n",
        "print(\" — — — — — — — — — — — — — — — — — — — — — — — \")\n",
        "print(\"Mean Squared Error is :\", mean_squared_error(y_test, pred))"
      ],
      "execution_count": 19,
      "outputs": [
        {
          "output_type": "stream",
          "text": [
            "Mean Absolute Error is : 1200.8815782053375\n",
            " — — — — — — — — — — — — — — — — — — — — — — — \n",
            "Mean Squared Error is : 3106947.961826775\n"
          ],
          "name": "stdout"
        }
      ]
    },
    {
      "cell_type": "markdown",
      "metadata": {
        "id": "lqjkRk9RopP6",
        "colab_type": "text"
      },
      "source": [
        "\n",
        "\n",
        "---\n",
        "\n"
      ]
    },
    {
      "cell_type": "markdown",
      "metadata": {
        "id": "v33WIx97oqAV",
        "colab_type": "text"
      },
      "source": [
        "### **Model 7**"
      ]
    },
    {
      "cell_type": "code",
      "metadata": {
        "id": "apiKFPGLjHYL",
        "colab_type": "code",
        "outputId": "c2cf996e-0882-4045-e6ef-49e91d00d8cd",
        "colab": {
          "base_uri": "https://localhost:8080/",
          "height": 52
        }
      },
      "source": [
        "from sklearn.ensemble import RandomForestRegressor\n",
        "start_time = time.time()                                                                                  # Calculating the time taken to convert the dataset from CSV to dataframe\n",
        "\n",
        "rfr = RandomForestRegressor(n_estimators= 240, max_depth= 11, max_features = 16, min_samples_leaf = 8).fit(X_train, y_train)\n",
        "pred = rfr.predict(X_test)\n",
        "print(r2_score(y_test, pred)* 100)\n",
        "print(\"--- %s seconds ---\" % (time.time() - start_time))                                                  # Displaying the time in seconds"
      ],
      "execution_count": 20,
      "outputs": [
        {
          "output_type": "stream",
          "text": [
            "84.36189167433345\n",
            "--- 30.066645622253418 seconds ---\n"
          ],
          "name": "stdout"
        }
      ]
    },
    {
      "cell_type": "code",
      "metadata": {
        "id": "cwPaPa4TjKRh",
        "colab_type": "code",
        "outputId": "99c53625-17c1-4cd3-8a34-0ee1f283a4be",
        "colab": {
          "base_uri": "https://localhost:8080/",
          "height": 69
        }
      },
      "source": [
        "print(\"Mean Absolute Error is :\", mean_absolute_error(y_test, pred))\n",
        "print(\" — — — — — — — — — — — — — — — — — — — — — — — \")\n",
        "print(\"Mean Squared Error is :\", mean_squared_error(y_test, pred))"
      ],
      "execution_count": 21,
      "outputs": [
        {
          "output_type": "stream",
          "text": [
            "Mean Absolute Error is : 1180.2070161671475\n",
            " — — — — — — — — — — — — — — — — — — — — — — — \n",
            "Mean Squared Error is : 3017693.0770304855\n"
          ],
          "name": "stdout"
        }
      ]
    },
    {
      "cell_type": "markdown",
      "metadata": {
        "id": "au5MobzJorj4",
        "colab_type": "text"
      },
      "source": [
        "\n",
        "\n",
        "---\n",
        "\n"
      ]
    },
    {
      "cell_type": "markdown",
      "metadata": {
        "id": "zfIf6u86osNy",
        "colab_type": "text"
      },
      "source": [
        "### **Model 8**"
      ]
    },
    {
      "cell_type": "code",
      "metadata": {
        "id": "HdvvaXPZjTGS",
        "colab_type": "code",
        "outputId": "9b8ec3ab-f28f-48d5-e900-a6a2f7ed2742",
        "colab": {
          "base_uri": "https://localhost:8080/",
          "height": 52
        }
      },
      "source": [
        "from sklearn.ensemble import RandomForestRegressor\n",
        "start_time = time.time()                                                                                  # Calculating the time taken to convert the dataset from CSV to dataframe\n",
        "\n",
        "rfr = RandomForestRegressor(n_estimators= 250, max_depth= 12, max_features = 17, min_samples_leaf = 9).fit(X_train, y_train)\n",
        "pred = rfr.predict(X_test)\n",
        "print(r2_score(y_test, pred)* 100)\n",
        "print(\"--- %s seconds ---\" % (time.time() - start_time))                                                  # Displaying the time in seconds"
      ],
      "execution_count": 22,
      "outputs": [
        {
          "output_type": "stream",
          "text": [
            "84.59253518711478\n",
            "--- 34.965664863586426 seconds ---\n"
          ],
          "name": "stdout"
        }
      ]
    },
    {
      "cell_type": "code",
      "metadata": {
        "id": "8jb9wZFRjZpM",
        "colab_type": "code",
        "outputId": "874216e0-5e97-4cd8-b682-fee221f9c0e9",
        "colab": {
          "base_uri": "https://localhost:8080/",
          "height": 69
        }
      },
      "source": [
        "print(\"Mean Absolute Error is :\", mean_absolute_error(y_test, pred))\n",
        "print(\" — — — — — — — — — — — — — — — — — — — — — — — \")\n",
        "print(\"Mean Squared Error is :\", mean_squared_error(y_test, pred))"
      ],
      "execution_count": 23,
      "outputs": [
        {
          "output_type": "stream",
          "text": [
            "Mean Absolute Error is : 1169.2365904321714\n",
            " — — — — — — — — — — — — — — — — — — — — — — — \n",
            "Mean Squared Error is : 2973185.6905047246\n"
          ],
          "name": "stdout"
        }
      ]
    },
    {
      "cell_type": "markdown",
      "metadata": {
        "id": "8Unpt77XoujA",
        "colab_type": "text"
      },
      "source": [
        "\n",
        "\n",
        "---\n",
        "\n"
      ]
    },
    {
      "cell_type": "markdown",
      "metadata": {
        "id": "OtWTvQWiovFI",
        "colab_type": "text"
      },
      "source": [
        "### **Model 9**"
      ]
    },
    {
      "cell_type": "code",
      "metadata": {
        "id": "v-Af9FJiozgk",
        "colab_type": "code",
        "colab": {
          "base_uri": "https://localhost:8080/",
          "height": 52
        },
        "outputId": "cb9fa605-0a86-42c8-f809-50ca29b86112"
      },
      "source": [
        "from sklearn.ensemble import RandomForestRegressor\n",
        "start_time = time.time()   \n",
        "\n",
        "rfr = RandomForestRegressor(n_estimators= 260, max_depth= 13, max_features = 18, min_samples_leaf = 10).fit(X_train, y_train)\n",
        "pred = rfr.predict(X_test)\n",
        "print(r2_score(y_test, pred)* 100)\n",
        "print(\"--- %s seconds ---\" % (time.time() - start_time))                                                  # Displaying the time in seconds"
      ],
      "execution_count": 47,
      "outputs": [
        {
          "output_type": "stream",
          "text": [
            "84.62078619332549\n",
            "--- 40.73700189590454 seconds ---\n"
          ],
          "name": "stdout"
        }
      ]
    },
    {
      "cell_type": "code",
      "metadata": {
        "id": "sR5fpWFJjiCi",
        "colab_type": "code",
        "outputId": "9688cecd-56b3-4bd8-dc83-5e878534b612",
        "colab": {
          "base_uri": "https://localhost:8080/",
          "height": 69
        }
      },
      "source": [
        "print(\"Mean Absolute Error is :\", mean_absolute_error(y_test, pred))\n",
        "print(\" — — — — — — — — — — — — — — — — — — — — — — — \")\n",
        "print(\"Mean Squared Error is :\", mean_squared_error(y_test, pred))"
      ],
      "execution_count": 46,
      "outputs": [
        {
          "output_type": "stream",
          "text": [
            "Mean Absolute Error is : 1166.0780292425018\n",
            " — — — — — — — — — — — — — — — — — — — — — — — \n",
            "Mean Squared Error is : 2970098.822435999\n"
          ],
          "name": "stdout"
        }
      ]
    },
    {
      "cell_type": "markdown",
      "metadata": {
        "id": "i4zzqFELqhFf",
        "colab_type": "text"
      },
      "source": [
        "\n",
        "\n",
        "---\n",
        "\n"
      ]
    },
    {
      "cell_type": "markdown",
      "metadata": {
        "id": "eDCwxdI3qiYU",
        "colab_type": "text"
      },
      "source": [
        "### **Model 10**"
      ]
    },
    {
      "cell_type": "code",
      "metadata": {
        "id": "y8xF1kVojs7I",
        "colab_type": "code",
        "outputId": "83ea16ea-4519-42db-853d-c92eadb2b263",
        "colab": {
          "base_uri": "https://localhost:8080/",
          "height": 52
        }
      },
      "source": [
        "from sklearn.ensemble import RandomForestRegressor\n",
        "start_time = time.time()                                                                                  # Calculating the time taken to convert the dataset from CSV to dataframe\n",
        "\n",
        "rfr = RandomForestRegressor(n_estimators= 270, max_depth= 14, max_features = 18, min_samples_leaf = 11).fit(X_train, y_train)\n",
        "pred = rfr.predict(X_test)\n",
        "print(r2_score(y_test, pred)* 100)\n",
        "print(\"--- %s seconds ---\" % (time.time() - start_time))                                                  # Displaying the time in seconds"
      ],
      "execution_count": 50,
      "outputs": [
        {
          "output_type": "stream",
          "text": [
            "84.62413306742917\n",
            "--- 41.56672167778015 seconds ---\n"
          ],
          "name": "stdout"
        }
      ]
    },
    {
      "cell_type": "code",
      "metadata": {
        "id": "OtCD6xMJkBsu",
        "colab_type": "code",
        "outputId": "cb35c072-a552-4621-b4c1-bc837f97d146",
        "colab": {
          "base_uri": "https://localhost:8080/",
          "height": 69
        }
      },
      "source": [
        "print(\"Mean Absolute Error is :\", mean_absolute_error(y_test, pred))\n",
        "print(\" — — — — — — — — — — — — — — — — — — — — — — — \")\n",
        "print(\"Mean Squared Error is :\", mean_squared_error(y_test, pred))"
      ],
      "execution_count": 27,
      "outputs": [
        {
          "output_type": "stream",
          "text": [
            "Mean Absolute Error is : 1163.5772666734106\n",
            " — — — — — — — — — — — — — — — — — — — — — — — \n",
            "Mean Squared Error is : 2966587.3358984813\n"
          ],
          "name": "stdout"
        }
      ]
    },
    {
      "cell_type": "markdown",
      "metadata": {
        "id": "-8TcjKyFqrMx",
        "colab_type": "text"
      },
      "source": [
        "\n",
        "\n",
        "---\n",
        "\n"
      ]
    },
    {
      "cell_type": "markdown",
      "metadata": {
        "id": "6ZtOp3XzqsGs",
        "colab_type": "text"
      },
      "source": [
        "### **Model 11**"
      ]
    },
    {
      "cell_type": "code",
      "metadata": {
        "id": "ebl2kRgFkM7v",
        "colab_type": "code",
        "outputId": "8f1aa061-fd64-452e-ddbb-4857a7a0e738",
        "colab": {
          "base_uri": "https://localhost:8080/",
          "height": 52
        }
      },
      "source": [
        "from sklearn.ensemble import RandomForestRegressor\n",
        "start_time = time.time()                                                                                  # Calculating the time taken to convert the dataset from CSV to dataframe\n",
        "\n",
        "rfr = RandomForestRegressor(n_estimators= 280, max_depth= 15, max_features = 18, min_samples_leaf = 12).fit(X_train, y_train)\n",
        "pred = rfr.predict(X_test)\n",
        "print(r2_score(y_test, pred)* 100)\n",
        "print(\"--- %s seconds ---\" % (time.time() - start_time))                                                  # Displaying the time in seconds"
      ],
      "execution_count": 28,
      "outputs": [
        {
          "output_type": "stream",
          "text": [
            "84.55989762326163\n",
            "--- 44.76953125 seconds ---\n"
          ],
          "name": "stdout"
        }
      ]
    },
    {
      "cell_type": "code",
      "metadata": {
        "id": "qGeacJqhkO3z",
        "colab_type": "code",
        "outputId": "65706ab6-bec0-4811-dcd3-94dedffd66c3",
        "colab": {
          "base_uri": "https://localhost:8080/",
          "height": 69
        }
      },
      "source": [
        "print(\"Mean Absolute Error is :\", mean_absolute_error(y_test, pred))\n",
        "print(\" — — — — — — — — — — — — — — — — — — — — — — — \")\n",
        "print(\"Mean Squared Error is :\", mean_squared_error(y_test, pred))"
      ],
      "execution_count": 29,
      "outputs": [
        {
          "output_type": "stream",
          "text": [
            "Mean Absolute Error is : 1165.7223032037189\n",
            " — — — — — — — — — — — — — — — — — — — — — — — \n",
            "Mean Squared Error is : 2979483.776464973\n"
          ],
          "name": "stdout"
        }
      ]
    },
    {
      "cell_type": "markdown",
      "metadata": {
        "id": "YWID2vlLqtvD",
        "colab_type": "text"
      },
      "source": [
        "\n",
        "\n",
        "---\n",
        "\n"
      ]
    },
    {
      "cell_type": "markdown",
      "metadata": {
        "id": "TpXeZP5LquVn",
        "colab_type": "text"
      },
      "source": [
        "### **Model 12**"
      ]
    },
    {
      "cell_type": "code",
      "metadata": {
        "id": "DnR3kLZUkg5n",
        "colab_type": "code",
        "outputId": "782c6dc5-e379-4d71-a0d6-c24c17482d12",
        "colab": {
          "base_uri": "https://localhost:8080/",
          "height": 52
        }
      },
      "source": [
        "from sklearn.ensemble import RandomForestRegressor\n",
        "start_time = time.time()                                                                                  # Calculating the time taken to convert the dataset from CSV to dataframe\n",
        "\n",
        "rfr = RandomForestRegressor(n_estimators= 290, max_depth= 16, max_features = 18, min_samples_leaf = 13).fit(X_train, y_train)\n",
        "pred = rfr.predict(X_test)\n",
        "print(r2_score(y_test, pred)* 100)\n",
        "print(\"--- %s seconds ---\" % (time.time() - start_time))                                                  # Displaying the time in seconds"
      ],
      "execution_count": 30,
      "outputs": [
        {
          "output_type": "stream",
          "text": [
            "84.50030116270763\n",
            "--- 46.90109944343567 seconds ---\n"
          ],
          "name": "stdout"
        }
      ]
    },
    {
      "cell_type": "code",
      "metadata": {
        "id": "2Lwmdvruk24-",
        "colab_type": "code",
        "outputId": "46ed6d63-ad8c-4ccf-932f-1ef38d0122d4",
        "colab": {
          "base_uri": "https://localhost:8080/",
          "height": 52
        }
      },
      "source": [
        "from sklearn.ensemble import RandomForestRegressor\n",
        "start_time = time.time()                                                                                  # Calculating the time taken to convert the dataset from CSV to dataframe\n",
        "\n",
        "rfr = RandomForestRegressor(n_estimators= 300, max_depth= 17, max_features = 18, min_samples_leaf = 14).fit(X_train, y_train)\n",
        "pred = rfr.predict(X_test)\n",
        "print(r2_score(y_test, pred)* 100)\n",
        "print(\"--- %s seconds ---\" % (time.time() - start_time))                                                  # Displaying the time in seconds"
      ],
      "execution_count": 31,
      "outputs": [
        {
          "output_type": "stream",
          "text": [
            "84.41333883429222\n",
            "--- 48.645025968551636 seconds ---\n"
          ],
          "name": "stdout"
        }
      ]
    },
    {
      "cell_type": "code",
      "metadata": {
        "id": "MvErHVY6lLOW",
        "colab_type": "code",
        "outputId": "02d679df-b232-40df-8a61-dd8bf79e4032",
        "colab": {
          "base_uri": "https://localhost:8080/",
          "height": 69
        }
      },
      "source": [
        "print(\"Mean Absolute Error is :\", mean_absolute_error(y_test, pred))\n",
        "print(\" — — — — — — — — — — — — — — — — — — — — — — — \")\n",
        "print(\"Mean Squared Error is :\", mean_squared_error(y_test, pred))"
      ],
      "execution_count": 32,
      "outputs": [
        {
          "output_type": "stream",
          "text": [
            "Mean Absolute Error is : 1170.9202143228256\n",
            " — — — — — — — — — — — — — — — — — — — — — — — \n",
            "Mean Squared Error is : 3007765.2945131054\n"
          ],
          "name": "stdout"
        }
      ]
    },
    {
      "cell_type": "markdown",
      "metadata": {
        "id": "sqZ9oSA5qyIz",
        "colab_type": "text"
      },
      "source": [
        "\n",
        "\n",
        "---\n",
        "\n"
      ]
    },
    {
      "cell_type": "markdown",
      "metadata": {
        "id": "hwiTCTvbqyuf",
        "colab_type": "text"
      },
      "source": [
        "### **Model 13**"
      ]
    },
    {
      "cell_type": "code",
      "metadata": {
        "id": "IP5APuuelMSG",
        "colab_type": "code",
        "outputId": "060cf89a-120e-49fe-973d-ed65f056931a",
        "colab": {
          "base_uri": "https://localhost:8080/",
          "height": 52
        }
      },
      "source": [
        "from sklearn.ensemble import RandomForestRegressor\n",
        "start_time = time.time()                                                                                  # Calculating the time taken to convert the dataset from CSV to dataframe\n",
        "\n",
        "rfr = RandomForestRegressor(n_estimators= 310, max_depth= 18, max_features = 18, min_samples_leaf = 15).fit(X_train, y_train)\n",
        "pred = rfr.predict(X_test)\n",
        "print(r2_score(y_test, pred)* 100)\n",
        "print(\"--- %s seconds ---\" % (time.time() - start_time))                                                  # Displaying the time in seconds"
      ],
      "execution_count": 33,
      "outputs": [
        {
          "output_type": "stream",
          "text": [
            "84.33143110180774\n",
            "--- 49.58524751663208 seconds ---\n"
          ],
          "name": "stdout"
        }
      ]
    },
    {
      "cell_type": "code",
      "metadata": {
        "id": "gkq2vJxBli8A",
        "colab_type": "code",
        "outputId": "43f71ae4-071b-47bb-c06a-7806efdebd16",
        "colab": {
          "base_uri": "https://localhost:8080/",
          "height": 69
        }
      },
      "source": [
        "print(\"Mean Absolute Error is :\", mean_absolute_error(y_test, pred))\n",
        "print(\" — — — — — — — — — — — — — — — — — — — — — — — \")\n",
        "print(\"Mean Squared Error is :\", mean_squared_error(y_test, pred))"
      ],
      "execution_count": 34,
      "outputs": [
        {
          "output_type": "stream",
          "text": [
            "Mean Absolute Error is : 1173.7998045584939\n",
            " — — — — — — — — — — — — — — — — — — — — — — — \n",
            "Mean Squared Error is : 3023571.067956177\n"
          ],
          "name": "stdout"
        }
      ]
    },
    {
      "cell_type": "markdown",
      "metadata": {
        "id": "Rrb2I64voOtB",
        "colab_type": "text"
      },
      "source": [
        "As seen from the above results,  at one point the accuracy of the model started to  be  same  and  the  gradually  decrease.   This  was  the  point  where  the  model  was stopped  from  further  predicting  the  test  labels.   So  by  performing  manual  tuning of  hyper  parameters  the  best  parameters  are  `n_estimators`  =  270,  `max_dept`  =  14,`max_features`  =  18,  `min_samplesleaf`  =  11.   These are the best parameters obtained from manual tuning."
      ]
    },
    {
      "cell_type": "markdown",
      "metadata": {
        "id": "gvphzlySE0uO",
        "colab_type": "text"
      },
      "source": [
        "\n",
        "\n",
        "---\n",
        "\n"
      ]
    }
  ]
}