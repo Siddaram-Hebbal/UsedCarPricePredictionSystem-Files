{
  "nbformat": 4,
  "nbformat_minor": 0,
  "metadata": {
    "colab": {
      "name": "Model Planning.ipynb",
      "provenance": [],
      "collapsed_sections": [],
      "mount_file_id": "1wj5Fuo_6Xbf-Q2Y4SQQ6o7Co9rYP3k8d",
      "authorship_tag": "ABX9TyMgMnqbEEqpyuk/BJTgew42",
      "include_colab_link": true
    },
    "kernelspec": {
      "name": "python3",
      "display_name": "Python 3"
    }
  },
  "cells": [
    {
      "cell_type": "markdown",
      "metadata": {
        "id": "view-in-github",
        "colab_type": "text"
      },
      "source": [
        "<a href=\"https://colab.research.google.com/github/Tanu-N-Prabhu/UsedCarPricePredictionSystem-Files/blob/master/Model_Planning.ipynb\" target=\"_parent\"><img src=\"https://colab.research.google.com/assets/colab-badge.svg\" alt=\"Open In Colab\"/></a>"
      ]
    },
    {
      "cell_type": "markdown",
      "metadata": {
        "id": "4uQA6_7UmZZr",
        "colab_type": "text"
      },
      "source": [
        "# **Model Planning**"
      ]
    },
    {
      "cell_type": "markdown",
      "metadata": {
        "id": "PjEABUzMmerr",
        "colab_type": "text"
      },
      "source": [
        "## **Variable Selection**"
      ]
    },
    {
      "cell_type": "code",
      "metadata": {
        "id": "kpoLL3RfmUw9",
        "colab_type": "code",
        "colab": {}
      },
      "source": [
        "import pandas as pd    \n",
        "import joblib\n",
        "                              # Loading the dataset into a dataframe and performing the desired operations"
      ],
      "execution_count": 0,
      "outputs": []
    },
    {
      "cell_type": "code",
      "metadata": {
        "id": "RuoIX3I3nAXf",
        "colab_type": "code",
        "outputId": "85bb16d0-b22e-464f-8f58-643d3374a1d5",
        "colab": {
          "base_uri": "https://localhost:8080/",
          "height": 222
        }
      },
      "source": [
        "# Storing the dataset (CSV file) as a pandas dataframe\n",
        "\n",
        "df = pd.read_csv(\"/content/drive/My Drive/Dataset/CleanedData.csv\")   # Storing the CSV file into a dataframe\n",
        "df.head(5)"
      ],
      "execution_count": 0,
      "outputs": [
        {
          "output_type": "execute_result",
          "data": {
            "text/html": [
              "<div>\n",
              "<style scoped>\n",
              "    .dataframe tbody tr th:only-of-type {\n",
              "        vertical-align: middle;\n",
              "    }\n",
              "\n",
              "    .dataframe tbody tr th {\n",
              "        vertical-align: top;\n",
              "    }\n",
              "\n",
              "    .dataframe thead th {\n",
              "        text-align: right;\n",
              "    }\n",
              "</style>\n",
              "<table border=\"1\" class=\"dataframe\">\n",
              "  <thead>\n",
              "    <tr style=\"text-align: right;\">\n",
              "      <th></th>\n",
              "      <th>price</th>\n",
              "      <th>yearOfRegistration</th>\n",
              "      <th>powerPS</th>\n",
              "      <th>model</th>\n",
              "      <th>kilometer</th>\n",
              "      <th>monthOfRegistration</th>\n",
              "      <th>fuelType</th>\n",
              "      <th>brand</th>\n",
              "      <th>postalCode</th>\n",
              "      <th>vehicleType_0</th>\n",
              "      <th>vehicleType_1</th>\n",
              "      <th>vehicleType_2</th>\n",
              "      <th>vehicleType_3</th>\n",
              "      <th>vehicleType_4</th>\n",
              "      <th>vehicleType_5</th>\n",
              "      <th>vehicleType_6</th>\n",
              "      <th>vehicleType_7</th>\n",
              "      <th>gearbox_0</th>\n",
              "      <th>gearbox_1</th>\n",
              "    </tr>\n",
              "  </thead>\n",
              "  <tbody>\n",
              "    <tr>\n",
              "      <th>0</th>\n",
              "      <td>650</td>\n",
              "      <td>1995</td>\n",
              "      <td>102</td>\n",
              "      <td>11</td>\n",
              "      <td>150000</td>\n",
              "      <td>10</td>\n",
              "      <td>1</td>\n",
              "      <td>2</td>\n",
              "      <td>33775</td>\n",
              "      <td>0</td>\n",
              "      <td>0</td>\n",
              "      <td>0</td>\n",
              "      <td>0</td>\n",
              "      <td>0</td>\n",
              "      <td>0</td>\n",
              "      <td>1</td>\n",
              "      <td>0</td>\n",
              "      <td>0</td>\n",
              "      <td>1</td>\n",
              "    </tr>\n",
              "    <tr>\n",
              "      <th>1</th>\n",
              "      <td>2000</td>\n",
              "      <td>2004</td>\n",
              "      <td>105</td>\n",
              "      <td>10</td>\n",
              "      <td>150000</td>\n",
              "      <td>12</td>\n",
              "      <td>1</td>\n",
              "      <td>19</td>\n",
              "      <td>96224</td>\n",
              "      <td>0</td>\n",
              "      <td>0</td>\n",
              "      <td>0</td>\n",
              "      <td>0</td>\n",
              "      <td>0</td>\n",
              "      <td>0</td>\n",
              "      <td>1</td>\n",
              "      <td>0</td>\n",
              "      <td>0</td>\n",
              "      <td>1</td>\n",
              "    </tr>\n",
              "    <tr>\n",
              "      <th>2</th>\n",
              "      <td>2799</td>\n",
              "      <td>2005</td>\n",
              "      <td>140</td>\n",
              "      <td>160</td>\n",
              "      <td>150000</td>\n",
              "      <td>12</td>\n",
              "      <td>3</td>\n",
              "      <td>37</td>\n",
              "      <td>57290</td>\n",
              "      <td>0</td>\n",
              "      <td>0</td>\n",
              "      <td>0</td>\n",
              "      <td>0</td>\n",
              "      <td>0</td>\n",
              "      <td>1</td>\n",
              "      <td>0</td>\n",
              "      <td>0</td>\n",
              "      <td>0</td>\n",
              "      <td>1</td>\n",
              "    </tr>\n",
              "    <tr>\n",
              "      <th>3</th>\n",
              "      <td>999</td>\n",
              "      <td>1995</td>\n",
              "      <td>115</td>\n",
              "      <td>160</td>\n",
              "      <td>150000</td>\n",
              "      <td>11</td>\n",
              "      <td>1</td>\n",
              "      <td>37</td>\n",
              "      <td>37269</td>\n",
              "      <td>0</td>\n",
              "      <td>0</td>\n",
              "      <td>0</td>\n",
              "      <td>0</td>\n",
              "      <td>0</td>\n",
              "      <td>1</td>\n",
              "      <td>0</td>\n",
              "      <td>0</td>\n",
              "      <td>0</td>\n",
              "      <td>1</td>\n",
              "    </tr>\n",
              "    <tr>\n",
              "      <th>4</th>\n",
              "      <td>2500</td>\n",
              "      <td>2004</td>\n",
              "      <td>131</td>\n",
              "      <td>160</td>\n",
              "      <td>150000</td>\n",
              "      <td>2</td>\n",
              "      <td>1</td>\n",
              "      <td>37</td>\n",
              "      <td>90762</td>\n",
              "      <td>0</td>\n",
              "      <td>0</td>\n",
              "      <td>0</td>\n",
              "      <td>0</td>\n",
              "      <td>0</td>\n",
              "      <td>1</td>\n",
              "      <td>0</td>\n",
              "      <td>0</td>\n",
              "      <td>0</td>\n",
              "      <td>1</td>\n",
              "    </tr>\n",
              "  </tbody>\n",
              "</table>\n",
              "</div>"
            ],
            "text/plain": [
              "   price  yearOfRegistration  powerPS  ...  vehicleType_7  gearbox_0  gearbox_1\n",
              "0    650                1995      102  ...              0          0          1\n",
              "1   2000                2004      105  ...              0          0          1\n",
              "2   2799                2005      140  ...              0          0          1\n",
              "3    999                1995      115  ...              0          0          1\n",
              "4   2500                2004      131  ...              0          0          1\n",
              "\n",
              "[5 rows x 19 columns]"
            ]
          },
          "metadata": {
            "tags": []
          },
          "execution_count": 2
        }
      ]
    },
    {
      "cell_type": "code",
      "metadata": {
        "id": "ZAfb11DFnQZJ",
        "colab_type": "code",
        "outputId": "6a4d4b21-72c5-42d0-add8-88d4f812364a",
        "colab": {
          "base_uri": "https://localhost:8080/",
          "height": 347
        }
      },
      "source": [
        "features = list(df.columns.values)\n",
        "features"
      ],
      "execution_count": 0,
      "outputs": [
        {
          "output_type": "execute_result",
          "data": {
            "text/plain": [
              "['price',\n",
              " 'yearOfRegistration',\n",
              " 'powerPS',\n",
              " 'model',\n",
              " 'kilometer',\n",
              " 'monthOfRegistration',\n",
              " 'fuelType',\n",
              " 'brand',\n",
              " 'postalCode',\n",
              " 'vehicleType_0',\n",
              " 'vehicleType_1',\n",
              " 'vehicleType_2',\n",
              " 'vehicleType_3',\n",
              " 'vehicleType_4',\n",
              " 'vehicleType_5',\n",
              " 'vehicleType_6',\n",
              " 'vehicleType_7',\n",
              " 'gearbox_0',\n",
              " 'gearbox_1']"
            ]
          },
          "metadata": {
            "tags": []
          },
          "execution_count": 3
        }
      ]
    },
    {
      "cell_type": "code",
      "metadata": {
        "id": "jNBUKq-hnX1z",
        "colab_type": "code",
        "colab": {}
      },
      "source": [
        "selectedFeatures = ['yearOfRegistration','powerPS','model','kilometer','monthOfRegistration','fuelType','brand','postalCode','vehicleType_0','vehicleType_1','vehicleType_2','vehicleType_3','vehicleType_4','vehicleType_5','vehicleType_6','vehicleType_7','gearbox_0','gearbox_1']"
      ],
      "execution_count": 0,
      "outputs": []
    },
    {
      "cell_type": "code",
      "metadata": {
        "id": "pbfIoVZVnl-k",
        "colab_type": "code",
        "colab": {}
      },
      "source": [
        "X = df[selectedFeatures]\n",
        "y = df['price']"
      ],
      "execution_count": 0,
      "outputs": []
    },
    {
      "cell_type": "markdown",
      "metadata": {
        "id": "ddjWhT8Ln83j",
        "colab_type": "text"
      },
      "source": [
        "\n",
        "\n",
        "---\n",
        "\n"
      ]
    },
    {
      "cell_type": "markdown",
      "metadata": {
        "id": "weC5kyLKn9-k",
        "colab_type": "text"
      },
      "source": [
        "## **Model Selection**"
      ]
    },
    {
      "cell_type": "markdown",
      "metadata": {
        "id": "LkRK7sTMoCm-",
        "colab_type": "text"
      },
      "source": [
        "There are 4 types of model selection\n",
        "\n",
        "1.   Classification\n",
        "2.   Regression\n",
        "3.   Association Rules\n",
        "4. Text/Image/Video Analysis\n",
        "\n",
        "\n"
      ]
    },
    {
      "cell_type": "markdown",
      "metadata": {
        "id": "1phie7LfoSLr",
        "colab_type": "text"
      },
      "source": [
        "**What kind of problem am I solving and how will I solve it?**\n",
        "\n",
        "I want to determine the relationship between the outcome and the input variables.\n",
        "\n",
        "\n"
      ]
    },
    {
      "cell_type": "markdown",
      "metadata": {
        "id": "XHhmaTP9o39U",
        "colab_type": "text"
      },
      "source": [
        "\n",
        "\n",
        "---\n",
        "\n"
      ]
    },
    {
      "cell_type": "markdown",
      "metadata": {
        "id": "bo5pevflo41V",
        "colab_type": "text"
      },
      "source": [
        "# **Model Building**\n",
        "\n",
        "Build training and test datasets (~80% for training (labeled), 20% for testing)"
      ]
    },
    {
      "cell_type": "code",
      "metadata": {
        "id": "8gpMQWUAnvFD",
        "colab_type": "code",
        "colab": {}
      },
      "source": [
        "from sklearn.model_selection import train_test_split\n",
        "X_train, X_test, y_train, y_test = train_test_split(X, y,test_size=0.3, random_state = 42)"
      ],
      "execution_count": 0,
      "outputs": []
    },
    {
      "cell_type": "markdown",
      "metadata": {
        "id": "X3K3ZYFbpYwD",
        "colab_type": "text"
      },
      "source": [
        "**Training the selected model**"
      ]
    },
    {
      "cell_type": "code",
      "metadata": {
        "id": "_QBA5cdOqMXy",
        "colab_type": "code",
        "colab": {}
      },
      "source": [
        "from sklearn.preprocessing import MinMaxScaler\n",
        "scaler = MinMaxScaler()\n",
        "X_train = scaler.fit_transform(X_train)\n",
        "X_test = scaler.transform(X_test)"
      ],
      "execution_count": 0,
      "outputs": []
    },
    {
      "cell_type": "markdown",
      "metadata": {
        "id": "E-rm7u96yd9T",
        "colab_type": "text"
      },
      "source": [
        "**Random Forest Regressor - Train and Test**"
      ]
    },
    {
      "cell_type": "code",
      "metadata": {
        "id": "3JktZUraruJG",
        "colab_type": "code",
        "outputId": "65aa3f18-dab8-4b6c-ca09-ede1ce996129",
        "colab": {
          "base_uri": "https://localhost:8080/",
          "height": 52
        }
      },
      "source": [
        "from sklearn.ensemble import RandomForestRegressor\n",
        "rfr = RandomForestRegressor().fit(X_train, y_train)\n",
        "print('Accuracy of Random Forest Regressor  on training set: {:.2f}'\n",
        "     .format(rfr.score(X_train, y_train)))\n",
        "print('Accuracy of Random Forest Regressor on test set: {:.2f}'\n",
        "     .format(rfr.score(X_test, y_test)))"
      ],
      "execution_count": 0,
      "outputs": [
        {
          "output_type": "stream",
          "text": [
            "Accuracy of Random Forest Regressor  on training set: 0.98\n",
            "Accuracy of Random Forest Regressor on test set: 0.85\n"
          ],
          "name": "stdout"
        }
      ]
    },
    {
      "cell_type": "markdown",
      "metadata": {
        "id": "7XMcJi40zuQh",
        "colab_type": "text"
      },
      "source": [
        "**Decision Tree Regressor - Train and Test**"
      ]
    },
    {
      "cell_type": "code",
      "metadata": {
        "id": "sRjN9F5oqQyl",
        "colab_type": "code",
        "outputId": "0d740ecc-baf8-4a32-cf08-5b13810b5469",
        "colab": {
          "base_uri": "https://localhost:8080/",
          "height": 52
        }
      },
      "source": [
        "from sklearn.tree import DecisionTreeRegressor\n",
        "dtr = DecisionTreeRegressor(max_depth=20).fit(X_train, y_train)\n",
        "print('Accuracy of Decision Tree Regression on training set: {:.2f}'\n",
        "     .format(dtr.score(X_train, y_train)))\n",
        "print('Accuracy of Decision Tree Regression on test set: {:.2f}'\n",
        "     .format(dtr.score(X_test, y_test)))"
      ],
      "execution_count": 0,
      "outputs": [
        {
          "output_type": "stream",
          "text": [
            "Accuracy of Decision Tree Regression on training set: 0.98\n",
            "Accuracy of Decision Tree Regression on test set: 0.75\n"
          ],
          "name": "stdout"
        }
      ]
    },
    {
      "cell_type": "markdown",
      "metadata": {
        "id": "EwhHc-7ozx6F",
        "colab_type": "text"
      },
      "source": [
        "**Linear Regression - Train and Test**"
      ]
    },
    {
      "cell_type": "code",
      "metadata": {
        "id": "HVdvT-K4rk8Y",
        "colab_type": "code",
        "outputId": "1afc675c-6589-4cc4-b583-42c85596f5d9",
        "colab": {
          "base_uri": "https://localhost:8080/",
          "height": 52
        }
      },
      "source": [
        "from sklearn.linear_model import LinearRegression\n",
        "linreg = LinearRegression()\n",
        "linreg.fit(X_train, y_train)\n",
        "print('Accuracy of Linear Regression on training set: {:.2f}'\n",
        "     .format(linreg.score(X_train, y_train)))\n",
        "print('Accuracy of Linear Regression on test set: {:.2f}'\n",
        "     .format(linreg.score(X_test, y_test)))"
      ],
      "execution_count": 0,
      "outputs": [
        {
          "output_type": "stream",
          "text": [
            "Accuracy of Linear Regression on training set: 0.56\n",
            "Accuracy of Linear Regression on test set: 0.57\n"
          ],
          "name": "stdout"
        }
      ]
    },
    {
      "cell_type": "markdown",
      "metadata": {
        "id": "k-1IfGTNz_dz",
        "colab_type": "text"
      },
      "source": [
        "**Lasso Regression - Train and Test**"
      ]
    },
    {
      "cell_type": "code",
      "metadata": {
        "id": "6KsSN6KlV-0L",
        "colab_type": "code",
        "outputId": "1accb865-afb9-4392-a6aa-51775e63c180",
        "colab": {
          "base_uri": "https://localhost:8080/",
          "height": 52
        }
      },
      "source": [
        "from sklearn import linear_model\n",
        "lasso = linear_model.Lasso(alpha=0.1)\n",
        "lasso.fit(X_train, y_train)\n",
        "print('Accuracy of Lasso Regression on training set: {:.2f}'\n",
        "     .format(lasso.score(X_train, y_train)))\n",
        "print('Accuracy of Lasso Regression on test set: {:.2f}'\n",
        "     .format(lasso.score(X_test, y_test)))"
      ],
      "execution_count": 0,
      "outputs": [
        {
          "output_type": "stream",
          "text": [
            "Accuracy of Lasso Regression on training set: 0.56\n",
            "Accuracy of Lasso Regression on test set: 0.57\n"
          ],
          "name": "stdout"
        }
      ]
    },
    {
      "cell_type": "markdown",
      "metadata": {
        "id": "PjyYBKOT0D3n",
        "colab_type": "text"
      },
      "source": [
        "**Ridge Regression - Train and Test**"
      ]
    },
    {
      "cell_type": "code",
      "metadata": {
        "id": "phH7TgXTcVMC",
        "colab_type": "code",
        "outputId": "85557645-9f52-4494-e085-92996125c391",
        "colab": {
          "base_uri": "https://localhost:8080/",
          "height": 52
        }
      },
      "source": [
        "from sklearn.linear_model import Ridge\n",
        "ridge = Ridge(alpha=1.0)\n",
        "ridge.fit(X_train, y_train)\n",
        "print('Accuracy of Ridge Regression on training set: {:.2f}'\n",
        "     .format(ridge.score(X_train, y_train)))\n",
        "print('Accuracy of Ridge Regression on test set: {:.2f}'\n",
        "     .format(ridge.score(X_test, y_test)))"
      ],
      "execution_count": 0,
      "outputs": [
        {
          "output_type": "stream",
          "text": [
            "Accuracy of Ridge Regression on training set: 0.56\n",
            "Accuracy of Ridge Regression on test set: 0.57\n"
          ],
          "name": "stdout"
        }
      ]
    },
    {
      "cell_type": "markdown",
      "metadata": {
        "id": "ON_L-DQEyXRr",
        "colab_type": "text"
      },
      "source": [
        "\n",
        "\n",
        "---\n",
        "\n"
      ]
    },
    {
      "cell_type": "markdown",
      "metadata": {
        "id": "kTmNMJ952nF5",
        "colab_type": "text"
      },
      "source": [
        "## **Pipelining**"
      ]
    },
    {
      "cell_type": "code",
      "metadata": {
        "id": "Zn4aymPPyXuj",
        "colab_type": "code",
        "colab": {}
      },
      "source": [
        "from sklearn.preprocessing import StandardScaler\n",
        "from sklearn.pipeline import Pipeline"
      ],
      "execution_count": 0,
      "outputs": []
    },
    {
      "cell_type": "code",
      "metadata": {
        "id": "7p98s8K2yrnV",
        "colab_type": "code",
        "colab": {}
      },
      "source": [
        "## Pipelines Creation\n",
        "## 1. Data Preprocessing by using Standard Scaler\n",
        "## 2. Reduce Dimension using PCA\n",
        "## 3. Apply  Classifier"
      ],
      "execution_count": 0,
      "outputs": []
    },
    {
      "cell_type": "code",
      "metadata": {
        "id": "ke-CyeCcy2AY",
        "colab_type": "code",
        "colab": {}
      },
      "source": [
        "pipeline_rf=Pipeline([('scalar1',StandardScaler()),\n",
        "    \n",
        "                     ('lr_classifier',RandomForestRegressor())])"
      ],
      "execution_count": 0,
      "outputs": []
    },
    {
      "cell_type": "code",
      "metadata": {
        "id": "_f39LtdA1Tn-",
        "colab_type": "code",
        "colab": {}
      },
      "source": [
        "pipeline_dt=Pipeline([('scalar1',StandardScaler()),\n",
        "    \n",
        "                     ('lr_classifier',DecisionTreeRegressor(max_depth=20))])"
      ],
      "execution_count": 0,
      "outputs": []
    },
    {
      "cell_type": "code",
      "metadata": {
        "id": "Oczg4tsy2CJG",
        "colab_type": "code",
        "colab": {}
      },
      "source": [
        "pipeline_lr=Pipeline([('scalar1',StandardScaler()),\n",
        "    \n",
        "                     ('lr_classifier',LinearRegression())])"
      ],
      "execution_count": 0,
      "outputs": []
    },
    {
      "cell_type": "code",
      "metadata": {
        "id": "R_5WQO4Zubyf",
        "colab_type": "code",
        "colab": {}
      },
      "source": [
        "#pipeline_r=Pipeline([('scalar1',StandardScaler()),\n",
        "    \n",
        "                    # ('lr_classifier',linear_model.SGDRegressor())])"
      ],
      "execution_count": 0,
      "outputs": []
    },
    {
      "cell_type": "code",
      "metadata": {
        "id": "XFWg2p4e0u28",
        "colab_type": "code",
        "colab": {}
      },
      "source": [
        "pipelines = [pipeline_rf, pipeline_dt, pipeline_lr]\n"
      ],
      "execution_count": 0,
      "outputs": []
    },
    {
      "cell_type": "code",
      "metadata": {
        "id": "U_wsje0k1Ah7",
        "colab_type": "code",
        "colab": {}
      },
      "source": [
        "best_accuracy=0.0\n",
        "best_classifier=0\n",
        "best_pipeline=\"\""
      ],
      "execution_count": 0,
      "outputs": []
    },
    {
      "cell_type": "code",
      "metadata": {
        "id": "wQZgTZWD1CMO",
        "colab_type": "code",
        "colab": {}
      },
      "source": [
        "# Dictionary of pipelines and classifier types for ease of reference\n",
        "pipe_dict = {0: 'Random Forest Regression', 1: 'Decision Tree Regressor', 2: 'Linear Regression'}\n",
        "\n",
        "# Fit the pipelines\n",
        "for pipe in pipelines:\n",
        "\tpipe.fit(X_train, y_train)"
      ],
      "execution_count": 0,
      "outputs": []
    },
    {
      "cell_type": "code",
      "metadata": {
        "id": "oZuHc4We1FWP",
        "colab_type": "code",
        "outputId": "436a8101-d9ca-48ce-f73e-f3454c00e639",
        "colab": {
          "base_uri": "https://localhost:8080/",
          "height": 69
        }
      },
      "source": [
        "for i,model in enumerate(pipelines):\n",
        "    print(\"{} Test Accuracy: {}\".format(pipe_dict[i],model.score(X_test,y_test)))"
      ],
      "execution_count": 0,
      "outputs": [
        {
          "output_type": "stream",
          "text": [
            "Random Forest Regression Test Accuracy: 0.8524731823476703\n",
            "Decision Tree Regressor Test Accuracy: 0.7539438571006447\n",
            "Linear Regression Test Accuracy: 0.5695008332653897\n"
          ],
          "name": "stdout"
        }
      ]
    },
    {
      "cell_type": "code",
      "metadata": {
        "id": "FL_6Hc8e1RWt",
        "colab_type": "code",
        "outputId": "817c40e7-45d5-4138-963d-52cef1228879",
        "colab": {
          "base_uri": "https://localhost:8080/",
          "height": 35
        }
      },
      "source": [
        "for i,model in enumerate(pipelines):\n",
        "    if model.score(X_test,y_test)>best_accuracy:\n",
        "        best_accuracy=model.score(X_test,y_test)\n",
        "        best_pipeline=model\n",
        "        best_classifier=i\n",
        "print('Regressor with best accuracy is : {}'.format(pipe_dict[best_classifier]))"
      ],
      "execution_count": 0,
      "outputs": [
        {
          "output_type": "stream",
          "text": [
            "Regressor with best accuracy is : Random Forest Regression\n"
          ],
          "name": "stdout"
        }
      ]
    },
    {
      "cell_type": "markdown",
      "metadata": {
        "id": "S5sjuVL7XFqw",
        "colab_type": "text"
      },
      "source": [
        "\n",
        "\n",
        "---\n",
        "\n"
      ]
    },
    {
      "cell_type": "code",
      "metadata": {
        "id": "h2Ayg8ILXGJu",
        "colab_type": "code",
        "colab": {}
      },
      "source": [
        "from sklearn.metrics import mean_absolute_error\n",
        "from sklearn.metrics import mean_squared_error"
      ],
      "execution_count": 0,
      "outputs": []
    },
    {
      "cell_type": "code",
      "metadata": {
        "id": "Ak7ypECnXxfI",
        "colab_type": "code",
        "colab": {}
      },
      "source": [
        "from sklearn.model_selection import train_test_split\n",
        "X_train, X_test, y_train, y_test = train_test_split(X, y, random_state = 0)"
      ],
      "execution_count": 0,
      "outputs": []
    },
    {
      "cell_type": "markdown",
      "metadata": {
        "id": "7H20IJcgYePk",
        "colab_type": "text"
      },
      "source": [
        "Training"
      ]
    },
    {
      "cell_type": "code",
      "metadata": {
        "id": "qWmMjxDXYfga",
        "colab_type": "code",
        "colab": {}
      },
      "source": [
        "from sklearn.ensemble import RandomForestRegressor\n",
        "clf = RandomForestRegressor()\n",
        "clf.fit(X_train, y_train)\n",
        "pred = clf.predict(X_train)"
      ],
      "execution_count": 0,
      "outputs": []
    },
    {
      "cell_type": "code",
      "metadata": {
        "id": "CS3n-UMgYmTN",
        "colab_type": "code",
        "outputId": "78cf07d9-bfc0-4db7-a015-f1b733c4bdc3",
        "colab": {
          "base_uri": "https://localhost:8080/",
          "height": 104
        }
      },
      "source": [
        "print(\"Mean Absolute Error is :\", mean_absolute_error(y_train, pred))\n",
        "print(\" — — — — — — — — — — — — — — — — — — — — — — — \")\n",
        "print(\"Mean Squared Error is :\", mean_squared_error(y_train, pred))\n",
        "print(\" — — — — — — — — — — — — — — — — — — — — — — — \")\n",
        "print(\"The R2 square value of Random Forest Regression is :\",clf.score(X_train, y_train)* 100)"
      ],
      "execution_count": 0,
      "outputs": [
        {
          "output_type": "stream",
          "text": [
            "Mean Absolute Error is : 417.2985144637495\n",
            " — — — — — — — — — — — — — — — — — — — — — — — \n",
            "Mean Squared Error is : 400278.6488965146\n",
            " — — — — — — — — — — — — — — — — — — — — — — — \n",
            "The R2 square value of Random Forest Regression is : 97.9081517675405\n"
          ],
          "name": "stdout"
        }
      ]
    },
    {
      "cell_type": "markdown",
      "metadata": {
        "id": "qIARC-_7Y_rW",
        "colab_type": "text"
      },
      "source": [
        "Testing"
      ]
    },
    {
      "cell_type": "code",
      "metadata": {
        "id": "2WDFF3XrZBW8",
        "colab_type": "code",
        "colab": {}
      },
      "source": [
        "from sklearn.ensemble import RandomForestRegressor\n",
        "clf = RandomForestRegressor()\n",
        "clf.fit(X_test, y_test)\n",
        "pred = clf.predict(X_test)"
      ],
      "execution_count": 0,
      "outputs": []
    },
    {
      "cell_type": "code",
      "metadata": {
        "id": "RjQWWFN_ZGL7",
        "colab_type": "code",
        "outputId": "addf159e-f810-400b-aafd-6899b0300f99",
        "colab": {
          "base_uri": "https://localhost:8080/",
          "height": 104
        }
      },
      "source": [
        "print(\"Mean Absolute Error is :\", mean_absolute_error(y_test, pred))\n",
        "print(\" — — — — — — — — — — — — — — — — — — — — — — — \")\n",
        "print(\"Mean Squared Error is :\", mean_squared_error(y_test, pred))\n",
        "print(\" — — — — — — — — — — — — — — — — — — — — — — — \")\n",
        "print(\"The R2 square value of Random Forest Regression is :\",clf.score(X_test, y_test)* 100)"
      ],
      "execution_count": 0,
      "outputs": [
        {
          "output_type": "stream",
          "text": [
            "Mean Absolute Error is : 444.9417102351957\n",
            " — — — — — — — — — — — — — — — — — — — — — — — \n",
            "Mean Squared Error is : 437277.1055813621\n",
            " — — — — — — — — — — — — — — — — — — — — — — — \n",
            "The R2 square value of Random Forest Regression is : 97.70609734335183\n"
          ],
          "name": "stdout"
        }
      ]
    },
    {
      "cell_type": "markdown",
      "metadata": {
        "id": "smeAd4fRfHfB",
        "colab_type": "text"
      },
      "source": [
        "\n",
        "\n",
        "---\n",
        "\n"
      ]
    },
    {
      "cell_type": "code",
      "metadata": {
        "id": "nYXgS9PTNCNe",
        "colab_type": "code",
        "colab": {}
      },
      "source": [
        "#clf = RandomForestRegressor()\n",
        "#clf.fit(X_train, y_train)\n",
        "#pred = clf.predict(X_test)"
      ],
      "execution_count": 0,
      "outputs": []
    },
    {
      "cell_type": "code",
      "metadata": {
        "id": "r9M48mzYrkkV",
        "colab_type": "code",
        "colab": {}
      },
      "source": [
        "import pickle"
      ],
      "execution_count": 0,
      "outputs": []
    },
    {
      "cell_type": "code",
      "metadata": {
        "id": "GMOKyhfUUk8F",
        "colab_type": "code",
        "outputId": "45467fc7-e104-4973-a2b3-8523338b7331",
        "colab": {
          "base_uri": "https://localhost:8080/",
          "height": 121
        }
      },
      "source": [
        "clf = DecisionTreeRegressor(max_depth=10)\n",
        "clf.fit(X_train, y_train)\n"
      ],
      "execution_count": 0,
      "outputs": [
        {
          "output_type": "execute_result",
          "data": {
            "text/plain": [
              "DecisionTreeRegressor(ccp_alpha=0.0, criterion='mse', max_depth=10,\n",
              "                      max_features=None, max_leaf_nodes=None,\n",
              "                      min_impurity_decrease=0.0, min_impurity_split=None,\n",
              "                      min_samples_leaf=1, min_samples_split=2,\n",
              "                      min_weight_fraction_leaf=0.0, presort='deprecated',\n",
              "                      random_state=None, splitter='best')"
            ]
          },
          "metadata": {
            "tags": []
          },
          "execution_count": 24
        }
      ]
    },
    {
      "cell_type": "code",
      "metadata": {
        "id": "o7OhhAjlrrbp",
        "colab_type": "code",
        "colab": {}
      },
      "source": [
        "\n",
        "pickle.dump(clf, open('/content/drive/My Drive/Dataset/decision.pkl', 'wb'))"
      ],
      "execution_count": 0,
      "outputs": []
    },
    {
      "cell_type": "code",
      "metadata": {
        "id": "UQEGX_BovxPD",
        "colab_type": "code",
        "outputId": "5914ce24-8f37-46e5-c725-5d4bd53f2062",
        "colab": {
          "base_uri": "https://localhost:8080/",
          "height": 35
        }
      },
      "source": [
        "!python --version"
      ],
      "execution_count": 0,
      "outputs": [
        {
          "output_type": "stream",
          "text": [
            "Python 3.6.9\n"
          ],
          "name": "stdout"
        }
      ]
    },
    {
      "cell_type": "code",
      "metadata": {
        "id": "aBxSDR4m1pfl",
        "colab_type": "code",
        "colab": {}
      },
      "source": [
        "import joblib\n"
      ],
      "execution_count": 0,
      "outputs": []
    },
    {
      "cell_type": "code",
      "metadata": {
        "id": "EQmEXwIH1vgF",
        "colab_type": "code",
        "outputId": "6d5a6588-807c-415f-d5d1-6b5cb47a060b",
        "colab": {
          "base_uri": "https://localhost:8080/",
          "height": 35
        }
      },
      "source": [
        "# save the model to disk\n",
        "filename = '/content/drive/My Drive/Dataset/1.sav'\n",
        "joblib.dump(clf, filename)"
      ],
      "execution_count": 0,
      "outputs": [
        {
          "output_type": "execute_result",
          "data": {
            "text/plain": [
              "['/content/drive/My Drive/Dataset/1.sav']"
            ]
          },
          "metadata": {
            "tags": []
          },
          "execution_count": 25
        }
      ]
    },
    {
      "cell_type": "code",
      "metadata": {
        "id": "1u_0Ru5c2AgF",
        "colab_type": "code",
        "colab": {}
      },
      "source": [
        "loaded_model = joblib.load(filename)\n"
      ],
      "execution_count": 0,
      "outputs": []
    },
    {
      "cell_type": "code",
      "metadata": {
        "id": "Fa7YUmoz2ChQ",
        "colab_type": "code",
        "outputId": "d04539b0-6b24-472c-ea54-a29f7076dbb8",
        "colab": {
          "base_uri": "https://localhost:8080/",
          "height": 35
        }
      },
      "source": [
        "loaded_model.predict([[1995, 102, 11, 150000, 1, 1, 2, 33775, 0, 1, 0, 0, 0, 0, 0, 0, 1, 0]])"
      ],
      "execution_count": 0,
      "outputs": [
        {
          "output_type": "execute_result",
          "data": {
            "text/plain": [
              "array([12500.])"
            ]
          },
          "metadata": {
            "tags": []
          },
          "execution_count": 27
        }
      ]
    },
    {
      "cell_type": "code",
      "metadata": {
        "id": "yI1r12c2r24c",
        "colab_type": "code",
        "colab": {}
      },
      "source": [
        "#load the model from disk\n",
        "loaded_model = pickle.load(open('/content/drive/My Drive/Dataset/decision.pkl', 'rb'))\n"
      ],
      "execution_count": 0,
      "outputs": []
    },
    {
      "cell_type": "code",
      "metadata": {
        "id": "DDJaYR7HVcJu",
        "colab_type": "code",
        "outputId": "c042ff0e-53fc-418e-d4f2-c7edd27d4da4",
        "colab": {
          "base_uri": "https://localhost:8080/",
          "height": 35
        }
      },
      "source": [
        "from sklearn.metrics import r2_score\n",
        "print(\"The R2 square value of Linear Regression is :\", r2_score(y_test, pred)* 100)"
      ],
      "execution_count": 0,
      "outputs": [
        {
          "output_type": "stream",
          "text": [
            "The R2 square value of Linear Regression is : 81.76520661089148\n"
          ],
          "name": "stdout"
        }
      ]
    },
    {
      "cell_type": "code",
      "metadata": {
        "id": "N169rKoZjGzt",
        "colab_type": "code",
        "colab": {}
      },
      "source": [
        "predictPrice = []\n",
        "for i in range(1000):\n",
        "    data = df.loc[i]\n",
        "    del data['price']\n",
        "    clf.predict([data])\n",
        "    predictPrice.append(clf.predict([data])[0])"
      ],
      "execution_count": 0,
      "outputs": []
    },
    {
      "cell_type": "code",
      "metadata": {
        "id": "hZAOfYfej-EZ",
        "colab_type": "code",
        "colab": {}
      },
      "source": [
        "\n",
        "actualPrice = []\n",
        "for i in range(1000):\n",
        "    data = df.loc[i]\n",
        "    data['price']\n",
        "    actualPrice.append(data['price'])"
      ],
      "execution_count": 0,
      "outputs": []
    },
    {
      "cell_type": "code",
      "metadata": {
        "id": "zkG7CpAtlITD",
        "colab_type": "code",
        "outputId": "102e529a-83c6-44ce-edd9-9801a3238d3b",
        "colab": {
          "base_uri": "https://localhost:8080/",
          "height": 1000
        }
      },
      "source": [
        "total_lis=[]\n",
        "for i in range(1000):\n",
        "    diff = abs(predictPrice[i] - actualPrice[i])\n",
        "    if diff >= 200:\n",
        "        print(\"index--%s, actual price--%s, predicted price--%s, diff--%s\"%(i, actualPrice[i], predictPrice[i], diff))\n",
        "        total_lis.append(i)\n",
        "print(len(total_lis))"
      ],
      "execution_count": 0,
      "outputs": [
        {
          "output_type": "stream",
          "text": [
            "index--0, actual price--650, predicted price--999.469964664311, diff--349.46996466431096\n",
            "index--1, actual price--2000, predicted price--2755.4155844155844, diff--755.4155844155844\n",
            "index--2, actual price--2799, predicted price--5517.2770330652365, diff--2718.2770330652365\n",
            "index--4, actual price--2500, predicted price--3473.740932642487, diff--973.7409326424872\n",
            "index--5, actual price--3699, predicted price--6060.296875, diff--2361.296875\n",
            "index--6, actual price--500, predicted price--1319.9939698492462, diff--819.9939698492462\n",
            "index--7, actual price--2500, predicted price--4015.7854251012145, diff--1515.7854251012145\n",
            "index--8, actual price--5555, predicted price--3096.157894736842, diff--2458.842105263158\n",
            "index--9, actual price--3300, predicted price--1734.795294117647, diff--1565.204705882353\n",
            "index--10, actual price--3500, predicted price--4275.022727272727, diff--775.022727272727\n",
            "index--11, actual price--12500, predicted price--10324.53596287703, diff--2175.4640371229707\n",
            "index--13, actual price--2100, predicted price--1891.3874345549739, diff--208.61256544502612\n",
            "index--14, actual price--7999, predicted price--8886.17578125, diff--887.17578125\n",
            "index--15, actual price--1000, predicted price--1566.5792349726776, diff--566.5792349726776\n",
            "index--16, actual price--7499, predicted price--9458.170212765957, diff--1959.1702127659573\n",
            "index--17, actual price--7000, predicted price--6079.763888888889, diff--920.2361111111113\n",
            "index--19, actual price--2300, predicted price--1422.410727406319, diff--877.589272593681\n",
            "index--20, actual price--7999, predicted price--10281.60792079208, diff--2282.6079207920793\n",
            "index--21, actual price--6600, predicted price--4654.821052631579, diff--1945.1789473684212\n",
            "index--22, actual price--3300, predicted price--5517.2770330652365, diff--2217.2770330652365\n",
            "index--23, actual price--1600, predicted price--1319.9939698492462, diff--280.00603015075376\n",
            "index--24, actual price--3850, predicted price--3035.3383458646617, diff--814.6616541353383\n",
            "index--25, actual price--1500, predicted price--2786.942367601246, diff--1286.9423676012461\n",
            "index--26, actual price--499, predicted price--999.469964664311, diff--500.46996466431096\n",
            "index--27, actual price--6500, predicted price--4447.4016563147, diff--2052.5983436853003\n",
            "index--28, actual price--900, predicted price--1734.795294117647, diff--834.795294117647\n",
            "index--29, actual price--650, predicted price--999.469964664311, diff--349.46996466431096\n",
            "index--30, actual price--1300, predicted price--1097.5972027972027, diff--202.40279720279727\n",
            "index--31, actual price--7300, predicted price--15238.513888888889, diff--7938.513888888889\n",
            "index--32, actual price--5900, predicted price--7378.034115138593, diff--1478.0341151385928\n",
            "index--33, actual price--5950, predicted price--7645.714942528735, diff--1695.7149425287353\n",
            "index--34, actual price--400, predicted price--1243.7794561933536, diff--843.7794561933536\n",
            "index--35, actual price--7000, predicted price--4275.022727272727, diff--2724.977272727273\n",
            "index--36, actual price--2990, predicted price--2124.188888888889, diff--865.8111111111111\n",
            "index--37, actual price--2750, predicted price--3163.6176470588234, diff--413.6176470588234\n",
            "index--38, actual price--14499, predicted price--13420.171428571428, diff--1078.828571428572\n",
            "index--39, actual price--2499, predicted price--1541.8957575757577, diff--957.1042424242423\n",
            "index--40, actual price--3450, predicted price--4821.555555555556, diff--1371.5555555555557\n",
            "index--41, actual price--350, predicted price--1319.9939698492462, diff--969.9939698492462\n",
            "index--42, actual price--3550, predicted price--2263.2727272727275, diff--1286.7272727272725\n",
            "index--44, actual price--2300, predicted price--2859.1687116564417, diff--559.1687116564417\n",
            "index--46, actual price--14500, predicted price--14749.75, diff--249.75\n",
            "index--47, actual price--6890, predicted price--7706.5, diff--816.5\n",
            "index--48, actual price--2390, predicted price--2124.188888888889, diff--265.81111111111113\n",
            "index--49, actual price--3700, predicted price--4215.976415094339, diff--515.9764150943392\n",
            "index--50, actual price--13400, predicted price--12405.6625, diff--994.3374999999996\n",
            "index--51, actual price--11299, predicted price--10324.53596287703, diff--974.4640371229707\n",
            "index--52, actual price--9500, predicted price--8864.660220994476, diff--635.3397790055242\n",
            "index--53, actual price--11000, predicted price--10324.53596287703, diff--675.4640371229707\n",
            "index--54, actual price--1999, predicted price--2355.185185185185, diff--356.1851851851852\n",
            "index--55, actual price--12999, predicted price--10281.60792079208, diff--2717.3920792079207\n",
            "index--56, actual price--12899, predicted price--10172.961538461539, diff--2726.038461538461\n",
            "index--57, actual price--10500, predicted price--10172.961538461539, diff--327.038461538461\n",
            "index--60, actual price--4650, predicted price--5517.2770330652365, diff--867.2770330652365\n",
            "index--61, actual price--800, predicted price--1541.8957575757577, diff--741.8957575757577\n",
            "index--62, actual price--5499, predicted price--4275.022727272727, diff--1223.977272727273\n",
            "index--63, actual price--5500, predicted price--2859.1687116564417, diff--2640.8312883435583\n",
            "index--64, actual price--15700, predicted price--16398.82857142857, diff--698.8285714285703\n",
            "index--65, actual price--9200, predicted price--6369.435624394966, diff--2830.564375605034\n",
            "index--66, actual price--9800, predicted price--11024.40909090909, diff--1224.40909090909\n",
            "index--68, actual price--650, predicted price--1881.3459335624284, diff--1231.3459335624284\n",
            "index--69, actual price--800, predicted price--2003.851581508516, diff--1203.851581508516\n",
            "index--70, actual price--4500, predicted price--5991.348076923077, diff--1491.3480769230773\n",
            "index--71, actual price--3900, predicted price--3035.3383458646617, diff--864.6616541353383\n",
            "index--72, actual price--750, predicted price--1967.2765531062125, diff--1217.2765531062125\n",
            "index--73, actual price--5900, predicted price--2627.1209103840683, diff--3272.8790896159317\n",
            "index--74, actual price--1100, predicted price--1967.2765531062125, diff--867.2765531062125\n",
            "index--75, actual price--2950, predicted price--3406.131707317073, diff--456.13170731707305\n",
            "index--77, actual price--2400, predicted price--999.469964664311, diff--1400.530035335689\n",
            "index--78, actual price--890, predicted price--1253.931945556445, diff--363.93194555644504\n",
            "index--79, actual price--6799, predicted price--9130.87323943662, diff--2331.8732394366198\n",
            "index--81, actual price--7150, predicted price--5464.053691275168, diff--1685.9463087248323\n",
            "index--82, actual price--7950, predicted price--8886.17578125, diff--936.17578125\n",
            "index--83, actual price--7700, predicted price--10681.7, diff--2981.7000000000007\n",
            "index--84, actual price--11700, predicted price--10281.60792079208, diff--1418.3920792079207\n",
            "index--85, actual price--4950, predicted price--5374.401869158878, diff--424.40186915887807\n",
            "index--87, actual price--8700, predicted price--6447.119047619048, diff--2252.8809523809523\n",
            "index--88, actual price--1200, predicted price--1734.795294117647, diff--534.795294117647\n",
            "index--89, actual price--11200, predicted price--10281.60792079208, diff--918.3920792079207\n",
            "index--90, actual price--2500, predicted price--1800.3805309734514, diff--699.6194690265486\n",
            "index--91, actual price--3900, predicted price--4654.821052631579, diff--754.8210526315788\n",
            "index--92, actual price--2450, predicted price--2885.5833333333335, diff--435.5833333333335\n",
            "index--93, actual price--500, predicted price--1243.7794561933536, diff--743.7794561933536\n",
            "index--94, actual price--6500, predicted price--5244.638036809816, diff--1255.3619631901838\n",
            "index--95, actual price--3200, predicted price--4973.891495601173, diff--1773.8914956011731\n",
            "index--96, actual price--3250, predicted price--3883.2747252747254, diff--633.2747252747254\n",
            "index--98, actual price--3300, predicted price--5517.2770330652365, diff--2217.2770330652365\n",
            "index--99, actual price--3999, predicted price--4447.4016563147, diff--448.4016563146997\n",
            "index--100, actual price--7000, predicted price--7294.604166666667, diff--294.60416666666697\n",
            "index--101, actual price--3600, predicted price--3205.9, diff--394.0999999999999\n",
            "index--102, actual price--6880, predicted price--7294.604166666667, diff--414.60416666666697\n",
            "index--103, actual price--2000, predicted price--1319.9939698492462, diff--680.0060301507538\n",
            "index--104, actual price--2700, predicted price--2340.8653846153848, diff--359.13461538461524\n",
            "index--105, actual price--2700, predicted price--3406.131707317073, diff--706.131707317073\n",
            "index--106, actual price--3400, predicted price--4502.8421052631575, diff--1102.8421052631575\n",
            "index--107, actual price--1490, predicted price--1983.8695652173913, diff--493.86956521739125\n",
            "index--108, actual price--4000, predicted price--7269.5812807881775, diff--3269.5812807881775\n",
            "index--109, actual price--6450, predicted price--7164.448979591837, diff--714.4489795918371\n",
            "index--110, actual price--1750, predicted price--3360.602409638554, diff--1610.602409638554\n",
            "index--111, actual price--650, predicted price--1243.7794561933536, diff--593.7794561933536\n",
            "index--112, actual price--1300, predicted price--2686.3655462184875, diff--1386.3655462184875\n",
            "index--113, actual price--7600, predicted price--4905.628099173554, diff--2694.371900826446\n",
            "index--114, actual price--2350, predicted price--3883.2747252747254, diff--1533.2747252747254\n",
            "index--115, actual price--1500, predicted price--840.5571428571428, diff--659.4428571428572\n",
            "index--118, actual price--14500, predicted price--8675.436842105262, diff--5824.563157894738\n",
            "index--119, actual price--8100, predicted price--6308.298076923077, diff--1791.7019230769229\n",
            "index--120, actual price--12650, predicted price--9650.639705882353, diff--2999.360294117647\n",
            "index--121, actual price--2400, predicted price--1097.5972027972027, diff--1302.4027972027973\n",
            "index--122, actual price--10550, predicted price--12991.07142857143, diff--2441.0714285714294\n",
            "index--123, actual price--11500, predicted price--13267.457627118643, diff--1767.4576271186434\n",
            "index--124, actual price--890, predicted price--1881.3459335624284, diff--991.3459335624284\n",
            "index--125, actual price--2990, predicted price--2168.060606060606, diff--821.939393939394\n",
            "index--126, actual price--9600, predicted price--8033.977272727273, diff--1566.022727272727\n",
            "index--127, actual price--550, predicted price--1422.410727406319, diff--872.410727406319\n",
            "index--128, actual price--7900, predicted price--13043.260869565218, diff--5143.260869565218\n",
            "index--130, actual price--5800, predicted price--5420.733333333334, diff--379.2666666666664\n",
            "index--131, actual price--6500, predicted price--8117.095541401274, diff--1617.0955414012742\n",
            "index--132, actual price--899, predicted price--1461.8615384615384, diff--562.8615384615384\n",
            "index--133, actual price--9900, predicted price--12405.6625, diff--2505.6625000000004\n",
            "index--134, actual price--6500, predicted price--8406.785714285714, diff--1906.7857142857138\n",
            "index--136, actual price--800, predicted price--1097.5972027972027, diff--297.5972027972027\n",
            "index--137, actual price--3250, predicted price--5420.733333333334, diff--2170.7333333333336\n",
            "index--138, actual price--4999, predicted price--2122.8367911479945, diff--2876.1632088520055\n",
            "index--139, actual price--4600, predicted price--5396.983193277311, diff--796.9831932773113\n",
            "index--140, actual price--10490, predicted price--10172.961538461539, diff--317.038461538461\n",
            "index--141, actual price--3999, predicted price--3035.3383458646617, diff--963.6616541353383\n",
            "index--142, actual price--600, predicted price--1319.9939698492462, diff--719.9939698492462\n",
            "index--143, actual price--4550, predicted price--3315.344827586207, diff--1234.655172413793\n",
            "index--144, actual price--11500, predicted price--7990.078947368421, diff--3509.921052631579\n",
            "index--145, actual price--11800, predicted price--7645.714942528735, diff--4154.285057471265\n",
            "index--146, actual price--3500, predicted price--2396.8625954198474, diff--1103.1374045801526\n",
            "index--147, actual price--9499, predicted price--8033.977272727273, diff--1465.022727272727\n",
            "index--148, actual price--3500, predicted price--1097.5972027972027, diff--2402.402797202797\n",
            "index--150, actual price--5200, predicted price--2829.2490706319704, diff--2370.7509293680296\n",
            "index--151, actual price--3000, predicted price--1948.92, diff--1051.08\n",
            "index--152, actual price--13980, predicted price--10324.53596287703, diff--3655.4640371229707\n",
            "index--153, actual price--8850, predicted price--7378.034115138593, diff--1471.9658848614072\n",
            "index--155, actual price--16299, predicted price--18507.278008298756, diff--2208.2780082987556\n",
            "index--156, actual price--13800, predicted price--11601.526315789473, diff--2198.4736842105267\n",
            "index--157, actual price--15750, predicted price--18217.138211382113, diff--2467.138211382113\n",
            "index--159, actual price--750, predicted price--1319.9939698492462, diff--569.9939698492462\n",
            "index--161, actual price--800, predicted price--1319.9939698492462, diff--519.9939698492462\n",
            "index--162, actual price--11900, predicted price--9515.098360655738, diff--2384.9016393442616\n",
            "index--163, actual price--6000, predicted price--12405.6625, diff--6405.6625\n",
            "index--164, actual price--2000, predicted price--1541.8957575757577, diff--458.10424242424233\n",
            "index--165, actual price--4499, predicted price--6369.435624394966, diff--1870.435624394966\n",
            "index--166, actual price--2999, predicted price--1319.9939698492462, diff--1679.0060301507538\n",
            "index--167, actual price--7800, predicted price--4654.821052631579, diff--3145.178947368421\n",
            "index--168, actual price--2900, predicted price--1881.3459335624284, diff--1018.6540664375716\n",
            "index--169, actual price--1999, predicted price--2590.0204081632655, diff--591.0204081632655\n",
            "index--170, actual price--5900, predicted price--5190.818181818182, diff--709.181818181818\n",
            "index--171, actual price--5000, predicted price--8033.977272727273, diff--3033.977272727273\n",
            "index--172, actual price--14750, predicted price--12405.6625, diff--2344.3374999999996\n",
            "index--173, actual price--1750, predicted price--3294.6304347826085, diff--1544.6304347826085\n",
            "index--174, actual price--2250, predicted price--1243.7794561933536, diff--1006.2205438066464\n",
            "index--175, actual price--1900, predicted price--1253.931945556445, diff--646.068054443555\n",
            "index--178, actual price--800, predicted price--1319.9939698492462, diff--519.9939698492462\n",
            "index--179, actual price--5900, predicted price--4447.4016563147, diff--1452.5983436853003\n",
            "index--181, actual price--750, predicted price--1891.3874345549739, diff--1141.3874345549739\n",
            "index--182, actual price--5950, predicted price--2517.734375, diff--3432.265625\n",
            "index--183, actual price--2650, predicted price--4654.821052631579, diff--2004.8210526315788\n",
            "index--184, actual price--850, predicted price--1097.5972027972027, diff--247.59720279720273\n",
            "index--185, actual price--16000, predicted price--14564.30693069307, diff--1435.6930693069298\n",
            "index--186, actual price--2500, predicted price--2122.8367911479945, diff--377.1632088520055\n",
            "index--187, actual price--1699, predicted price--4275.022727272727, diff--2576.022727272727\n",
            "index--188, actual price--2999, predicted price--1253.931945556445, diff--1745.068054443555\n",
            "index--189, actual price--6999, predicted price--14177.521126760563, diff--7178.521126760563\n",
            "index--190, actual price--3999, predicted price--2968.7906976744184, diff--1030.2093023255816\n",
            "index--191, actual price--11500, predicted price--8016.570048309179, diff--3483.4299516908213\n",
            "index--192, actual price--2500, predicted price--1253.931945556445, diff--1246.068054443555\n",
            "index--193, actual price--21999, predicted price--18809.08219178082, diff--3189.9178082191793\n",
            "index--194, actual price--2350, predicted price--1551.1866952789699, diff--798.8133047210301\n",
            "index--195, actual price--3100, predicted price--3713.777777777778, diff--613.7777777777778\n",
            "index--196, actual price--5500, predicted price--3883.2747252747254, diff--1616.7252747252746\n",
            "index--197, actual price--5000, predicted price--6455.285714285715, diff--1455.2857142857147\n",
            "index--198, actual price--1800, predicted price--999.469964664311, diff--800.530035335689\n",
            "index--199, actual price--350, predicted price--2340.8653846153848, diff--1990.8653846153848\n",
            "index--200, actual price--1200, predicted price--1566.5792349726776, diff--366.57923497267757\n",
            "index--201, actual price--2000, predicted price--2627.1209103840683, diff--627.1209103840683\n",
            "index--202, actual price--13500, predicted price--11703.219512195123, diff--1796.7804878048773\n",
            "index--203, actual price--2850, predicted price--2003.851581508516, diff--846.1484184914841\n",
            "index--204, actual price--4900, predicted price--2686.3655462184875, diff--2213.6344537815125\n",
            "index--206, actual price--4550, predicted price--3035.3383458646617, diff--1514.6616541353383\n",
            "index--208, actual price--12990, predicted price--10633.763636363636, diff--2356.2363636363643\n",
            "index--209, actual price--13499, predicted price--11122.542857142857, diff--2376.4571428571435\n",
            "index--210, actual price--7990, predicted price--7378.034115138593, diff--611.9658848614072\n",
            "index--211, actual price--999, predicted price--2627.1209103840683, diff--1628.1209103840683\n",
            "index--212, actual price--4699, predicted price--3572.879802955665, diff--1126.1201970443349\n",
            "index--213, actual price--3500, predicted price--7645.714942528735, diff--4145.714942528735\n",
            "index--214, actual price--1200, predicted price--1701.2047619047619, diff--501.2047619047619\n",
            "index--217, actual price--2500, predicted price--1551.1866952789699, diff--948.8133047210301\n",
            "index--218, actual price--9600, predicted price--10281.60792079208, diff--681.6079207920793\n",
            "index--219, actual price--890, predicted price--2340.8653846153848, diff--1450.8653846153848\n",
            "index--220, actual price--3999, predicted price--2786.942367601246, diff--1212.0576323987539\n",
            "index--221, actual price--3299, predicted price--1995.0118343195265, diff--1303.9881656804735\n",
            "index--222, actual price--4799, predicted price--4002.9375, diff--796.0625\n",
            "index--223, actual price--3999, predicted price--1891.3874345549739, diff--2107.612565445026\n",
            "index--224, actual price--2000, predicted price--2627.1209103840683, diff--627.1209103840683\n",
            "index--225, actual price--398, predicted price--840.5571428571428, diff--442.5571428571428\n",
            "index--226, actual price--2700, predicted price--3352.2987421383646, diff--652.2987421383646\n",
            "index--227, actual price--2190, predicted price--3883.2747252747254, diff--1693.2747252747254\n",
            "index--228, actual price--9450, predicted price--9208.68, diff--241.3199999999997\n",
            "index--229, actual price--2999, predicted price--4244.748888888889, diff--1245.7488888888893\n",
            "index--230, actual price--1800, predicted price--3035.3383458646617, diff--1235.3383458646617\n",
            "index--231, actual price--3750, predicted price--4831.214285714285, diff--1081.2142857142853\n",
            "index--233, actual price--8380, predicted price--6655.264637002342, diff--1724.7353629976578\n",
            "index--234, actual price--2599, predicted price--2122.8367911479945, diff--476.1632088520055\n",
            "index--235, actual price--2650, predicted price--1467.928057553957, diff--1182.071942446043\n",
            "index--236, actual price--6800, predicted price--7685.363636363636, diff--885.363636363636\n",
            "index--237, actual price--14900, predicted price--13043.260869565218, diff--1856.739130434782\n",
            "index--238, actual price--2100, predicted price--2941.6433566433566, diff--841.6433566433566\n",
            "index--239, actual price--2250, predicted price--2639.198515769944, diff--389.19851576994415\n",
            "index--240, actual price--10200, predicted price--9162.035714285714, diff--1037.9642857142862\n",
            "index--241, actual price--550, predicted price--1319.9939698492462, diff--769.9939698492462\n",
            "index--242, actual price--1320, predicted price--1541.8957575757577, diff--221.89575757575767\n",
            "index--243, actual price--7500, predicted price--8886.17578125, diff--1386.17578125\n",
            "index--244, actual price--7000, predicted price--6252.882352941177, diff--747.1176470588234\n",
            "index--246, actual price--14990, predicted price--14002.149171270717, diff--987.8508287292825\n",
            "index--247, actual price--500, predicted price--840.5571428571428, diff--340.5571428571428\n",
            "index--248, actual price--5900, predicted price--7331.125, diff--1431.125\n",
            "index--249, actual price--5499, predicted price--6286.785714285715, diff--787.7857142857147\n",
            "index--250, actual price--200, predicted price--999.469964664311, diff--799.469964664311\n",
            "index--251, actual price--7000, predicted price--5991.348076923077, diff--1008.6519230769227\n",
            "index--252, actual price--800, predicted price--1422.410727406319, diff--622.410727406319\n",
            "index--253, actual price--4499, predicted price--4275.022727272727, diff--223.97727272727298\n",
            "index--254, actual price--4200, predicted price--5595.395744680851, diff--1395.3957446808508\n",
            "index--256, actual price--850, predicted price--1936.6869565217391, diff--1086.6869565217391\n",
            "index--257, actual price--4100, predicted price--3473.740932642487, diff--626.2590673575128\n",
            "index--258, actual price--4500, predicted price--8117.095541401274, diff--3617.095541401274\n",
            "index--260, actual price--3500, predicted price--2627.1209103840683, diff--872.8790896159317\n",
            "index--261, actual price--17000, predicted price--10495.23076923077, diff--6504.7692307692305\n",
            "index--262, actual price--11599, predicted price--10172.961538461539, diff--1426.038461538461\n",
            "index--264, actual price--11900, predicted price--12405.6625, diff--505.66250000000036\n",
            "index--265, actual price--1400, predicted price--2003.851581508516, diff--603.8515815085159\n",
            "index--266, actual price--6990, predicted price--9332.75, diff--2342.75\n",
            "index--267, actual price--3300, predicted price--1936.6869565217391, diff--1363.3130434782609\n",
            "index--268, actual price--3800, predicted price--3035.3383458646617, diff--764.6616541353383\n",
            "index--269, actual price--2600, predicted price--3315.344827586207, diff--715.344827586207\n",
            "index--270, actual price--5600, predicted price--7294.604166666667, diff--1694.604166666667\n",
            "index--271, actual price--9500, predicted price--7617.311627906976, diff--1882.6883720930236\n",
            "index--272, actual price--7890, predicted price--7378.034115138593, diff--511.9658848614072\n",
            "index--273, actual price--100, predicted price--1097.5972027972027, diff--997.5972027972027\n",
            "index--274, actual price--1000, predicted price--2124.188888888889, diff--1124.1888888888889\n",
            "index--275, actual price--13990, predicted price--10599.71, diff--3390.290000000001\n",
            "index--276, actual price--6700, predicted price--7645.714942528735, diff--945.7149425287353\n",
            "index--277, actual price--2990, predicted price--2437.8387978142077, diff--552.1612021857923\n",
            "index--278, actual price--4500, predicted price--3352.2987421383646, diff--1147.7012578616354\n",
            "index--279, actual price--12000, predicted price--13420.171428571428, diff--1420.171428571428\n",
            "index--281, actual price--1250, predicted price--2639.198515769944, diff--1389.1985157699442\n",
            "index--282, actual price--1150, predicted price--2007.2065217391305, diff--857.2065217391305\n",
            "index--283, actual price--8999, predicted price--6616.482269503546, diff--2382.5177304964536\n",
            "index--284, actual price--14000, predicted price--10995.982456140351, diff--3004.017543859649\n",
            "index--285, actual price--1385, predicted price--1734.795294117647, diff--349.795294117647\n",
            "index--286, actual price--14430, predicted price--11784.850877192983, diff--2645.149122807017\n",
            "index--287, actual price--3000, predicted price--1422.410727406319, diff--1577.589272593681\n",
            "index--288, actual price--4950, predicted price--1422.410727406319, diff--3527.589272593681\n",
            "index--289, actual price--700, predicted price--1319.9939698492462, diff--619.9939698492462\n",
            "index--290, actual price--4590, predicted price--3942.862068965517, diff--647.1379310344828\n",
            "index--291, actual price--4000, predicted price--4244.748888888889, diff--244.74888888888927\n",
            "index--292, actual price--4250, predicted price--5517.2770330652365, diff--1267.2770330652365\n",
            "index--293, actual price--8500, predicted price--5396.983193277311, diff--3103.0168067226887\n",
            "index--294, actual price--7400, predicted price--6656.363344051447, diff--743.6366559485532\n",
            "index--295, actual price--1600, predicted price--999.469964664311, diff--600.530035335689\n",
            "index--296, actual price--12950, predicted price--13938.879032258064, diff--988.8790322580644\n",
            "index--297, actual price--2800, predicted price--1881.3459335624284, diff--918.6540664375716\n",
            "index--298, actual price--2200, predicted price--1376.8028985507246, diff--823.1971014492754\n",
            "index--299, actual price--1800, predicted price--2596.7256097560976, diff--796.7256097560976\n",
            "index--300, actual price--550, predicted price--1551.1866952789699, diff--1001.1866952789699\n",
            "index--301, actual price--15900, predicted price--13559.427312775331, diff--2340.5726872246687\n",
            "index--302, actual price--5400, predicted price--6026.0373831775705, diff--626.0373831775705\n",
            "index--303, actual price--4499, predicted price--7032.681318681319, diff--2533.6813186813188\n",
            "index--304, actual price--15900, predicted price--18217.138211382113, diff--2317.138211382113\n",
            "index--306, actual price--599, predicted price--1463.8086956521738, diff--864.8086956521738\n",
            "index--307, actual price--400, predicted price--1253.931945556445, diff--853.931945556445\n",
            "index--308, actual price--3000, predicted price--3315.344827586207, diff--315.344827586207\n",
            "index--309, actual price--9100, predicted price--4447.4016563147, diff--4652.5983436853\n",
            "index--310, actual price--2000, predicted price--3406.131707317073, diff--1406.131707317073\n",
            "index--311, actual price--5900, predicted price--7164.448979591837, diff--1264.448979591837\n",
            "index--312, actual price--9200, predicted price--9549.833333333334, diff--349.83333333333394\n",
            "index--313, actual price--1700, predicted price--1376.8028985507246, diff--323.19710144927535\n",
            "index--315, actual price--4000, predicted price--5432.051282051282, diff--1432.0512820512822\n",
            "index--316, actual price--4600, predicted price--5517.2770330652365, diff--917.2770330652365\n",
            "index--317, actual price--6900, predicted price--1319.9939698492462, diff--5580.006030150754\n",
            "index--318, actual price--12900, predicted price--4224.944444444444, diff--8675.055555555555\n",
            "index--319, actual price--1799, predicted price--840.5571428571428, diff--958.4428571428572\n",
            "index--320, actual price--1000, predicted price--3572.879802955665, diff--2572.879802955665\n",
            "index--321, actual price--15990, predicted price--4990.0, diff--11000.0\n",
            "index--322, actual price--9500, predicted price--8571.70588235294, diff--928.2941176470595\n",
            "index--323, actual price--7999, predicted price--7269.5812807881775, diff--729.4187192118225\n",
            "index--324, actual price--5699, predicted price--3401.0666666666666, diff--2297.9333333333334\n",
            "index--325, actual price--2590, predicted price--4275.022727272727, diff--1685.022727272727\n",
            "index--326, actual price--6600, predicted price--6134.253968253968, diff--465.7460317460318\n",
            "index--327, actual price--3000, predicted price--6023.040816326531, diff--3023.040816326531\n",
            "index--328, actual price--1700, predicted price--1936.6869565217391, diff--236.68695652173915\n",
            "index--329, actual price--1650, predicted price--1319.9939698492462, diff--330.00603015075376\n",
            "index--330, actual price--700, predicted price--1541.8957575757577, diff--841.8957575757577\n",
            "index--332, actual price--1800, predicted price--999.469964664311, diff--800.530035335689\n",
            "index--333, actual price--16400, predicted price--14066.666666666666, diff--2333.333333333334\n",
            "index--334, actual price--17700, predicted price--16341.857142857143, diff--1358.1428571428569\n",
            "index--335, actual price--2400, predicted price--2639.198515769944, diff--239.19851576994415\n",
            "index--336, actual price--490, predicted price--1253.931945556445, diff--763.931945556445\n",
            "index--337, actual price--4600, predicted price--2596.7256097560976, diff--2003.2743902439024\n",
            "index--338, actual price--1650, predicted price--1898.7065217391305, diff--248.7065217391305\n",
            "index--339, actual price--1900, predicted price--4637.42, diff--2737.42\n",
            "index--340, actual price--6250, predicted price--5595.395744680851, diff--654.6042553191492\n",
            "index--341, actual price--400, predicted price--1214.405529953917, diff--814.405529953917\n",
            "index--342, actual price--7150, predicted price--6134.253968253968, diff--1015.7460317460318\n",
            "index--343, actual price--5500, predicted price--3224.4698630136986, diff--2275.5301369863014\n",
            "index--344, actual price--11990, predicted price--10324.53596287703, diff--1665.4640371229707\n",
            "index--345, actual price--10900, predicted price--12405.6625, diff--1505.6625000000004\n",
            "index--346, actual price--12500, predicted price--5991.348076923077, diff--6508.651923076923\n",
            "index--347, actual price--1650, predicted price--1319.9939698492462, diff--330.00603015075376\n",
            "index--348, actual price--13000, predicted price--12405.6625, diff--594.3374999999996\n",
            "index--349, actual price--2200, predicted price--1967.2765531062125, diff--232.72344689378747\n",
            "index--350, actual price--3300, predicted price--4215.976415094339, diff--915.9764150943392\n",
            "index--351, actual price--2500, predicted price--3035.3383458646617, diff--535.3383458646617\n",
            "index--352, actual price--6300, predicted price--7378.034115138593, diff--1078.0341151385928\n",
            "index--353, actual price--10000, predicted price--15233.916201117318, diff--5233.9162011173175\n",
            "index--354, actual price--4200, predicted price--4654.821052631579, diff--454.8210526315788\n",
            "index--355, actual price--8500, predicted price--3780.118902439024, diff--4719.881097560976\n",
            "index--357, actual price--4200, predicted price--3466.0421052631577, diff--733.9578947368423\n",
            "index--358, actual price--1999, predicted price--3590.440366972477, diff--1591.440366972477\n",
            "index--359, actual price--3999, predicted price--4654.821052631579, diff--655.8210526315788\n",
            "index--360, actual price--6490, predicted price--7032.681318681319, diff--542.6813186813188\n",
            "index--361, actual price--1500, predicted price--1898.7065217391305, diff--398.7065217391305\n",
            "index--363, actual price--8350, predicted price--7032.681318681319, diff--1317.3186813186812\n",
            "index--364, actual price--450, predicted price--999.469964664311, diff--549.469964664311\n",
            "index--366, actual price--8900, predicted price--12405.6625, diff--3505.6625000000004\n",
            "index--367, actual price--12900, predicted price--9650.639705882353, diff--3249.360294117647\n",
            "index--368, actual price--3700, predicted price--2829.2490706319704, diff--870.7509293680296\n",
            "index--369, actual price--2550, predicted price--3224.4698630136986, diff--674.4698630136986\n",
            "index--370, actual price--4190, predicted price--3744.1304347826085, diff--445.8695652173915\n",
            "index--371, actual price--5250, predicted price--5517.2770330652365, diff--267.27703306523654\n",
            "index--372, actual price--3750, predicted price--3035.3383458646617, diff--714.6616541353383\n",
            "index--373, actual price--350, predicted price--840.5571428571428, diff--490.5571428571428\n",
            "index--374, actual price--150, predicted price--1422.410727406319, diff--1272.410727406319\n",
            "index--375, actual price--8495, predicted price--13079.692307692309, diff--4584.6923076923085\n",
            "index--376, actual price--2900, predicted price--1734.795294117647, diff--1165.204705882353\n",
            "index--377, actual price--4950, predicted price--6655.264637002342, diff--1705.2646370023422\n",
            "index--378, actual price--2555, predicted price--2032.5737298636927, diff--522.4262701363073\n",
            "index--379, actual price--4950, predicted price--6195.962962962963, diff--1245.9629629629626\n",
            "index--381, actual price--1800, predicted price--2542.973544973545, diff--742.9735449735449\n",
            "index--382, actual price--13000, predicted price--15275.30459770115, diff--2275.3045977011498\n",
            "index--383, actual price--21900, predicted price--20362.0, diff--1538.0\n",
            "index--384, actual price--5150, predicted price--2639.198515769944, diff--2510.801484230056\n",
            "index--385, actual price--13990, predicted price--11122.542857142857, diff--2867.4571428571435\n",
            "index--386, actual price--18000, predicted price--17131.47619047619, diff--868.5238095238092\n",
            "index--387, actual price--750, predicted price--2686.3655462184875, diff--1936.3655462184875\n",
            "index--388, actual price--1500, predicted price--4558.287128712871, diff--3058.287128712871\n",
            "index--389, actual price--900, predicted price--2639.198515769944, diff--1739.1985157699442\n",
            "index--390, actual price--6890, predicted price--8264.857142857143, diff--1374.8571428571431\n",
            "index--391, actual price--9000, predicted price--11601.526315789473, diff--2601.5263157894733\n",
            "index--392, actual price--2599, predicted price--2968.7906976744184, diff--369.7906976744184\n",
            "index--393, actual price--7099, predicted price--5517.2770330652365, diff--1581.7229669347635\n",
            "index--394, actual price--699, predicted price--999.469964664311, diff--300.46996466431096\n",
            "index--395, actual price--8800, predicted price--9130.87323943662, diff--330.87323943661977\n",
            "index--396, actual price--14999, predicted price--12405.6625, diff--2593.3374999999996\n",
            "index--397, actual price--1600, predicted price--1881.3459335624284, diff--281.3459335624284\n",
            "index--398, actual price--6350, predicted price--7658.137254901961, diff--1308.1372549019607\n",
            "index--399, actual price--3600, predicted price--1936.6869565217391, diff--1663.3130434782609\n",
            "index--400, actual price--6600, predicted price--4480.618357487922, diff--2119.3816425120776\n",
            "index--401, actual price--6950, predicted price--6737.571428571428, diff--212.42857142857156\n",
            "index--402, actual price--9600, predicted price--8117.095541401274, diff--1482.9044585987258\n",
            "index--403, actual price--2399, predicted price--4654.821052631579, diff--2255.821052631579\n",
            "index--404, actual price--15350, predicted price--13938.879032258064, diff--1411.1209677419356\n",
            "index--405, actual price--10800, predicted price--9711.565656565657, diff--1088.4343434343427\n",
            "index--406, actual price--4199, predicted price--3163.6176470588234, diff--1035.3823529411766\n",
            "index--407, actual price--11000, predicted price--18507.278008298756, diff--7507.278008298756\n",
            "index--408, actual price--7500, predicted price--6134.253968253968, diff--1365.7460317460318\n",
            "index--409, actual price--3950, predicted price--2122.8367911479945, diff--1827.1632088520055\n",
            "index--410, actual price--1800, predicted price--3148.951219512195, diff--1348.9512195121952\n",
            "index--411, actual price--2001, predicted price--2854.950354609929, diff--853.950354609929\n",
            "index--412, actual price--8000, predicted price--6670.422764227642, diff--1329.577235772358\n",
            "index--413, actual price--5100, predicted price--4370.158139534884, diff--729.841860465116\n",
            "index--415, actual price--12990, predicted price--12135.859437751003, diff--854.1405622489965\n",
            "index--417, actual price--2500, predicted price--1319.9939698492462, diff--1180.0060301507538\n",
            "index--418, actual price--5450, predicted price--4450.0, diff--1000.0\n",
            "index--419, actual price--1199, predicted price--3813.782608695652, diff--2614.782608695652\n",
            "index--420, actual price--3500, predicted price--1891.3874345549739, diff--1608.6125654450261\n",
            "index--421, actual price--1850, predicted price--2122.8367911479945, diff--272.8367911479945\n",
            "index--422, actual price--1900, predicted price--2829.2490706319704, diff--929.2490706319704\n",
            "index--423, actual price--1800, predicted price--4076.809210526316, diff--2276.809210526316\n",
            "index--424, actual price--12500, predicted price--13367.338235294117, diff--867.3382352941171\n",
            "index--425, actual price--8900, predicted price--10324.53596287703, diff--1424.5359628770293\n",
            "index--426, actual price--1550, predicted price--1319.9939698492462, diff--230.00603015075376\n",
            "index--427, actual price--5200, predicted price--3780.118902439024, diff--1419.8810975609758\n",
            "index--428, actual price--4900, predicted price--4480.618357487922, diff--419.38164251207763\n",
            "index--430, actual price--4990, predicted price--3224.4698630136986, diff--1765.5301369863014\n",
            "index--431, actual price--1600, predicted price--2786.942367601246, diff--1186.9423676012461\n",
            "index--433, actual price--1500, predicted price--1967.2765531062125, diff--467.27655310621253\n",
            "index--434, actual price--7100, predicted price--9208.68, diff--2108.6800000000003\n",
            "index--435, actual price--999, predicted price--2426.0036764705883, diff--1427.0036764705883\n",
            "index--436, actual price--3450, predicted price--5369.986666666667, diff--1919.9866666666667\n",
            "index--437, actual price--9599, predicted price--7378.034115138593, diff--2220.965884861407\n",
            "index--438, actual price--1999, predicted price--1773.9166666666667, diff--225.08333333333326\n",
            "index--439, actual price--1450, predicted price--1967.2765531062125, diff--517.2765531062125\n",
            "index--440, actual price--3250, predicted price--3882.1293103448274, diff--632.1293103448274\n",
            "index--441, actual price--4700, predicted price--5467.265822784811, diff--767.2658227848106\n",
            "index--443, actual price--1450, predicted price--1983.8695652173913, diff--533.8695652173913\n",
            "index--444, actual price--14990, predicted price--12405.6625, diff--2584.3374999999996\n",
            "index--445, actual price--20000, predicted price--18507.278008298756, diff--1492.7219917012444\n",
            "index--446, actual price--1600, predicted price--1898.7065217391305, diff--298.7065217391305\n",
            "index--447, actual price--6799, predicted price--5595.395744680851, diff--1203.6042553191492\n",
            "index--448, actual price--400, predicted price--840.5571428571428, diff--440.5571428571428\n",
            "index--449, actual price--199, predicted price--840.5571428571428, diff--641.5571428571428\n",
            "index--450, actual price--3299, predicted price--3648.732283464567, diff--349.732283464567\n",
            "index--451, actual price--3500, predicted price--2007.2065217391305, diff--1492.7934782608695\n",
            "index--452, actual price--999, predicted price--1891.3874345549739, diff--892.3874345549739\n",
            "index--454, actual price--8150, predicted price--7277.666666666667, diff--872.333333333333\n",
            "index--456, actual price--5595, predicted price--6369.435624394966, diff--774.435624394966\n",
            "index--457, actual price--7500, predicted price--6369.435624394966, diff--1130.564375605034\n",
            "index--458, actual price--4999, predicted price--4480.618357487922, diff--518.3816425120776\n",
            "index--459, actual price--11000, predicted price--12405.6625, diff--1405.6625000000004\n",
            "index--460, actual price--2300, predicted price--1097.5972027972027, diff--1202.4027972027973\n",
            "index--461, actual price--7980, predicted price--10281.60792079208, diff--2301.6079207920793\n",
            "index--462, actual price--14300, predicted price--15233.916201117318, diff--933.9162011173175\n",
            "index--463, actual price--2300, predicted price--1967.6785714285713, diff--332.32142857142867\n",
            "index--464, actual price--4499, predicted price--4215.976415094339, diff--283.02358490566075\n",
            "index--465, actual price--728, predicted price--1422.410727406319, diff--694.410727406319\n",
            "index--466, actual price--2400, predicted price--2032.5737298636927, diff--367.42627013630727\n",
            "index--467, actual price--1150, predicted price--1376.8028985507246, diff--226.80289855072465\n",
            "index--468, actual price--16000, predicted price--15275.30459770115, diff--724.6954022988502\n",
            "index--469, actual price--1100, predicted price--1422.410727406319, diff--322.410727406319\n",
            "index--470, actual price--7700, predicted price--6172.264705882353, diff--1527.7352941176468\n",
            "index--471, actual price--1350, predicted price--2032.5737298636927, diff--682.5737298636927\n",
            "index--472, actual price--12200, predicted price--9901.03125, diff--2298.96875\n",
            "index--473, actual price--1000, predicted price--1253.931945556445, diff--253.93194555644504\n",
            "index--474, actual price--2600, predicted price--4654.821052631579, diff--2054.821052631579\n",
            "index--475, actual price--650, predicted price--999.469964664311, diff--349.46996466431096\n",
            "index--476, actual price--1100, predicted price--1777.6792452830189, diff--677.6792452830189\n",
            "index--477, actual price--11500, predicted price--13043.260869565218, diff--1543.260869565218\n",
            "index--478, actual price--1500, predicted price--2627.1209103840683, diff--1127.1209103840683\n",
            "index--479, actual price--3900, predicted price--3648.732283464567, diff--251.267716535433\n",
            "index--480, actual price--3199, predicted price--2032.5737298636927, diff--1166.4262701363073\n",
            "index--481, actual price--5200, predicted price--7269.5812807881775, diff--2069.5812807881775\n",
            "index--482, actual price--1390, predicted price--1881.3459335624284, diff--491.3459335624284\n",
            "index--483, actual price--7255, predicted price--9515.098360655738, diff--2260.0983606557384\n",
            "index--486, actual price--3600, predicted price--4275.022727272727, diff--675.022727272727\n",
            "index--487, actual price--3500, predicted price--2838.4285714285716, diff--661.5714285714284\n",
            "index--488, actual price--9500, predicted price--8127.6766169154225, diff--1372.3233830845775\n",
            "index--489, actual price--2899, predicted price--3440.5731707317073, diff--541.5731707317073\n",
            "index--490, actual price--7900, predicted price--4215.976415094339, diff--3684.0235849056608\n",
            "index--491, actual price--3900, predicted price--8428.264367816091, diff--4528.264367816091\n",
            "index--492, actual price--10900, predicted price--8428.264367816091, diff--2471.735632183909\n",
            "index--493, actual price--3000, predicted price--2572.5810810810813, diff--427.41891891891873\n",
            "index--494, actual price--3750, predicted price--2714.563953488372, diff--1035.4360465116279\n",
            "index--496, actual price--800, predicted price--1376.8028985507246, diff--576.8028985507246\n",
            "index--498, actual price--6350, predicted price--4654.821052631579, diff--1695.1789473684212\n",
            "index--499, actual price--6550, predicted price--7378.034115138593, diff--828.0341151385928\n",
            "index--500, actual price--7999, predicted price--8864.660220994476, diff--865.6602209944758\n",
            "index--503, actual price--1000, predicted price--2396.8625954198474, diff--1396.8625954198474\n",
            "index--504, actual price--9450, predicted price--7093.9925093632955, diff--2356.0074906367045\n",
            "index--505, actual price--4500, predicted price--2732.954954954955, diff--1767.0450450450448\n",
            "index--506, actual price--14900, predicted price--14075.263157894737, diff--824.7368421052633\n",
            "index--507, actual price--9499, predicted price--5595.395744680851, diff--3903.604255319149\n",
            "index--508, actual price--5900, predicted price--6369.435624394966, diff--469.435624394966\n",
            "index--509, actual price--12500, predicted price--8657.374429223744, diff--3842.6255707762557\n",
            "index--511, actual price--2499, predicted price--3224.4698630136986, diff--725.4698630136986\n",
            "index--512, actual price--4490, predicted price--2859.1687116564417, diff--1630.8312883435583\n",
            "index--513, actual price--5200, predicted price--6655.264637002342, diff--1455.2646370023422\n",
            "index--514, actual price--2950, predicted price--8117.095541401274, diff--5167.095541401274\n",
            "index--515, actual price--6350, predicted price--5595.395744680851, diff--754.6042553191492\n",
            "index--516, actual price--1999, predicted price--3406.131707317073, diff--1407.131707317073\n",
            "index--518, actual price--5000, predicted price--8657.374429223744, diff--3657.3744292237443\n",
            "index--519, actual price--6450, predicted price--4224.944444444444, diff--2225.0555555555557\n",
            "index--520, actual price--3800, predicted price--6670.422764227642, diff--2870.422764227642\n",
            "index--521, actual price--3900, predicted price--1898.7065217391305, diff--2001.2934782608695\n",
            "index--522, actual price--12999, predicted price--11897.0, diff--1102.0\n",
            "index--523, actual price--11900, predicted price--11477.763157894737, diff--422.23684210526335\n",
            "index--526, actual price--3000, predicted price--3406.131707317073, diff--406.13170731707305\n",
            "index--527, actual price--11600, predicted price--5396.983193277311, diff--6203.016806722689\n",
            "index--529, actual price--250, predicted price--1214.405529953917, diff--964.405529953917\n",
            "index--530, actual price--2690, predicted price--3406.131707317073, diff--716.131707317073\n",
            "index--531, actual price--950, predicted price--1319.9939698492462, diff--369.99396984924624\n",
            "index--534, actual price--8600, predicted price--10324.53596287703, diff--1724.5359628770293\n",
            "index--535, actual price--2750, predicted price--2122.8367911479945, diff--627.1632088520055\n",
            "index--536, actual price--5800, predicted price--3089.0481927710844, diff--2710.9518072289156\n",
            "index--537, actual price--1800, predicted price--2122.8367911479945, diff--322.8367911479945\n",
            "index--538, actual price--4950, predicted price--3572.879802955665, diff--1377.1201970443349\n",
            "index--539, actual price--6200, predicted price--9683.333333333334, diff--3483.333333333334\n",
            "index--540, actual price--1900, predicted price--2263.2727272727275, diff--363.2727272727275\n",
            "index--541, actual price--1900, predicted price--2437.8387978142077, diff--537.8387978142077\n",
            "index--542, actual price--15400, predicted price--17120.178571428572, diff--1720.1785714285725\n",
            "index--543, actual price--3990, predicted price--3360.602409638554, diff--629.397590361446\n",
            "index--544, actual price--2500, predicted price--1253.931945556445, diff--1246.068054443555\n",
            "index--546, actual price--5990, predicted price--5517.2770330652365, diff--472.72296693476346\n",
            "index--547, actual price--4450, predicted price--2627.1209103840683, diff--1822.8790896159317\n",
            "index--548, actual price--2999, predicted price--5396.983193277311, diff--2397.9831932773113\n",
            "index--551, actual price--10500, predicted price--8892.96590909091, diff--1607.03409090909\n",
            "index--552, actual price--10450, predicted price--9650.639705882353, diff--799.3602941176468\n",
            "index--553, actual price--4800, predicted price--1447.4829268292683, diff--3352.5170731707317\n",
            "index--554, actual price--4000, predicted price--2396.8625954198474, diff--1603.1374045801526\n",
            "index--555, actual price--7900, predicted price--7093.9925093632955, diff--806.0074906367045\n",
            "index--556, actual price--5899, predicted price--6673.695652173913, diff--774.695652173913\n",
            "index--557, actual price--13700, predicted price--11854.441860465116, diff--1845.5581395348836\n",
            "index--558, actual price--6700, predicted price--7032.681318681319, diff--332.68131868131877\n",
            "index--559, actual price--1000, predicted price--1422.410727406319, diff--422.410727406319\n",
            "index--560, actual price--6990, predicted price--6306.348360655737, diff--683.6516393442625\n",
            "index--561, actual price--20700, predicted price--18008.808510638297, diff--2691.191489361703\n",
            "index--562, actual price--3999, predicted price--2517.734375, diff--1481.265625\n",
            "index--563, actual price--2500, predicted price--1891.3874345549739, diff--608.6125654450261\n",
            "index--564, actual price--2400, predicted price--1881.3459335624284, diff--518.6540664375716\n",
            "index--565, actual price--1300, predicted price--1097.5972027972027, diff--202.40279720279727\n",
            "index--566, actual price--2600, predicted price--4335.263157894737, diff--1735.2631578947367\n",
            "index--567, actual price--4000, predicted price--7582.056962025316, diff--3582.0569620253164\n",
            "index--568, actual price--7500, predicted price--5517.2770330652365, diff--1982.7229669347635\n",
            "index--570, actual price--4500, predicted price--5082.0300751879695, diff--582.0300751879695\n",
            "index--571, actual price--3390, predicted price--4244.748888888889, diff--854.7488888888893\n",
            "index--572, actual price--350, predicted price--1319.9939698492462, diff--969.9939698492462\n",
            "index--574, actual price--2100, predicted price--3913.6987447698743, diff--1813.6987447698743\n",
            "index--575, actual price--1600, predicted price--2032.5737298636927, diff--432.57372986369273\n",
            "index--576, actual price--2399, predicted price--3360.602409638554, diff--961.602409638554\n",
            "index--577, actual price--2000, predicted price--1319.9939698492462, diff--680.0060301507538\n",
            "index--578, actual price--15799, predicted price--11784.850877192983, diff--4014.149122807017\n",
            "index--579, actual price--3650, predicted price--3406.131707317073, diff--243.86829268292695\n",
            "index--580, actual price--7500, predicted price--5919.2307692307695, diff--1580.7692307692305\n",
            "index--581, actual price--799, predicted price--999.469964664311, diff--200.46996466431096\n",
            "index--582, actual price--8500, predicted price--8117.095541401274, diff--382.9044585987258\n",
            "index--584, actual price--15700, predicted price--17811.41935483871, diff--2111.4193548387084\n",
            "index--585, actual price--8200, predicted price--7378.034115138593, diff--821.9658848614072\n",
            "index--586, actual price--8990, predicted price--5595.395744680851, diff--3394.604255319149\n",
            "index--588, actual price--5900, predicted price--5517.2770330652365, diff--382.72296693476346\n",
            "index--591, actual price--2500, predicted price--3406.131707317073, diff--906.131707317073\n",
            "index--592, actual price--6800, predicted price--7617.311627906976, diff--817.3116279069764\n",
            "index--593, actual price--4200, predicted price--5420.733333333334, diff--1220.7333333333336\n",
            "index--597, actual price--2400, predicted price--2686.3655462184875, diff--286.36554621848745\n",
            "index--598, actual price--8600, predicted price--7253.484126984127, diff--1346.5158730158728\n",
            "index--600, actual price--2100, predicted price--6023.040816326531, diff--3923.040816326531\n",
            "index--601, actual price--3790, predicted price--3224.4698630136986, diff--565.5301369863014\n",
            "index--602, actual price--6750, predicted price--7582.056962025316, diff--832.0569620253164\n",
            "index--603, actual price--11990, predicted price--11252.51282051282, diff--737.4871794871797\n",
            "index--604, actual price--550, predicted price--1253.931945556445, diff--703.931945556445\n",
            "index--605, actual price--9600, predicted price--8016.570048309179, diff--1583.4299516908213\n",
            "index--606, actual price--9990, predicted price--10995.982456140351, diff--1005.9824561403511\n",
            "index--607, actual price--6650, predicted price--7378.034115138593, diff--728.0341151385928\n",
            "index--608, actual price--1800, predicted price--3913.6987447698743, diff--2113.6987447698743\n",
            "index--609, actual price--900, predicted price--1734.795294117647, diff--834.795294117647\n",
            "index--610, actual price--9000, predicted price--11784.533333333333, diff--2784.533333333333\n",
            "index--611, actual price--5299, predicted price--6134.253968253968, diff--835.2539682539682\n",
            "index--612, actual price--8000, predicted price--4015.7854251012145, diff--3984.2145748987855\n",
            "index--613, actual price--1600, predicted price--1129.7238095238095, diff--470.27619047619055\n",
            "index--614, actual price--2700, predicted price--1033.891304347826, diff--1666.108695652174\n",
            "index--615, actual price--11999, predicted price--10324.53596287703, diff--1674.4640371229707\n",
            "index--616, actual price--6250, predicted price--8117.095541401274, diff--1867.0955414012742\n",
            "index--617, actual price--500, predicted price--840.5571428571428, diff--340.5571428571428\n",
            "index--618, actual price--6350, predicted price--4447.4016563147, diff--1902.5983436853003\n",
            "index--619, actual price--2700, predicted price--1243.7794561933536, diff--1456.2205438066464\n",
            "index--620, actual price--8499, predicted price--7032.681318681319, diff--1466.3186813186812\n",
            "index--621, actual price--3300, predicted price--3913.6987447698743, diff--613.6987447698743\n",
            "index--623, actual price--4290, predicted price--2829.2490706319704, diff--1460.7509293680296\n",
            "index--625, actual price--6100, predicted price--5369.986666666667, diff--730.0133333333333\n",
            "index--626, actual price--7950, predicted price--9901.03125, diff--1951.03125\n",
            "index--627, actual price--3250, predicted price--2627.1209103840683, diff--622.8790896159317\n",
            "index--628, actual price--4800, predicted price--2639.198515769944, diff--2160.801484230056\n",
            "index--631, actual price--4500, predicted price--3780.118902439024, diff--719.8810975609758\n",
            "index--632, actual price--4400, predicted price--5459.588235294118, diff--1059.588235294118\n",
            "index--636, actual price--18200, predicted price--13874.92857142857, diff--4325.071428571429\n",
            "index--637, actual price--15799, predicted price--12405.6625, diff--3393.3374999999996\n",
            "index--638, actual price--3500, predicted price--3179.768115942029, diff--320.231884057971\n",
            "index--639, actual price--2800, predicted price--2563.126819126819, diff--236.8731808731809\n",
            "index--640, actual price--2990, predicted price--4076.809210526316, diff--1086.8092105263158\n",
            "index--641, actual price--15000, predicted price--16341.857142857143, diff--1341.8571428571431\n",
            "index--642, actual price--5000, predicted price--3744.1304347826085, diff--1255.8695652173915\n",
            "index--643, actual price--3299, predicted price--3780.118902439024, diff--481.11890243902417\n",
            "index--644, actual price--3499, predicted price--2542.973544973545, diff--956.0264550264551\n",
            "index--645, actual price--1999, predicted price--1253.931945556445, diff--745.068054443555\n",
            "index--646, actual price--4950, predicted price--6369.435624394966, diff--1419.435624394966\n",
            "index--647, actual price--2300, predicted price--2517.734375, diff--217.734375\n",
            "index--648, actual price--5499, predicted price--4654.821052631579, diff--844.1789473684212\n",
            "index--649, actual price--500, predicted price--1891.3874345549739, diff--1391.3874345549739\n",
            "index--650, actual price--11000, predicted price--9287.4, diff--1712.6000000000004\n",
            "index--651, actual price--1500, predicted price--1800.3805309734514, diff--300.3805309734514\n",
            "index--652, actual price--900, predicted price--1422.410727406319, diff--522.410727406319\n",
            "index--653, actual price--14990, predicted price--10281.60792079208, diff--4708.392079207921\n",
            "index--655, actual price--8500, predicted price--10647.260563380281, diff--2147.2605633802814\n",
            "index--656, actual price--3950, predicted price--3713.777777777778, diff--236.22222222222217\n",
            "index--657, actual price--750, predicted price--1243.7794561933536, diff--493.77945619335355\n",
            "index--659, actual price--2900, predicted price--3224.4698630136986, diff--324.4698630136986\n",
            "index--660, actual price--2000, predicted price--3879.1176470588234, diff--1879.1176470588234\n",
            "index--661, actual price--5250, predicted price--6409.4, diff--1159.3999999999996\n",
            "index--662, actual price--7500, predicted price--10663.9125, diff--3163.9125000000004\n",
            "index--663, actual price--650, predicted price--1319.9939698492462, diff--669.9939698492462\n",
            "index--664, actual price--3199, predicted price--3883.2747252747254, diff--684.2747252747254\n",
            "index--665, actual price--9900, predicted price--9650.639705882353, diff--249.36029411764684\n",
            "index--667, actual price--1500, predicted price--5158.565217391304, diff--3658.565217391304\n",
            "index--668, actual price--11390, predicted price--11601.526315789473, diff--211.5263157894733\n",
            "index--669, actual price--3790, predicted price--3333.70703125, diff--456.29296875\n",
            "index--671, actual price--4200, predicted price--3035.3383458646617, diff--1164.6616541353383\n",
            "index--672, actual price--2000, predicted price--3883.2747252747254, diff--1883.2747252747254\n",
            "index--673, actual price--9990, predicted price--8958.5, diff--1031.5\n",
            "index--674, actual price--800, predicted price--1214.405529953917, diff--414.40552995391704\n",
            "index--675, actual price--4650, predicted price--6101.933333333333, diff--1451.9333333333334\n",
            "index--676, actual price--4499, predicted price--5991.348076923077, diff--1492.3480769230773\n",
            "index--677, actual price--600, predicted price--1891.3874345549739, diff--1291.3874345549739\n",
            "index--678, actual price--9200, predicted price--10663.9125, diff--1463.9125000000004\n",
            "index--679, actual price--700, predicted price--1541.8957575757577, diff--841.8957575757577\n",
            "index--680, actual price--6800, predicted price--3882.1293103448274, diff--2917.8706896551726\n",
            "index--681, actual price--5900, predicted price--5694.75, diff--205.25\n",
            "index--682, actual price--1990, predicted price--1773.9166666666667, diff--216.08333333333326\n",
            "index--683, actual price--5490, predicted price--4961.92, diff--528.0799999999999\n",
            "index--684, actual price--2800, predicted price--6195.962962962963, diff--3395.9629629629626\n",
            "index--686, actual price--14000, predicted price--19727.661616161615, diff--5727.661616161615\n",
            "index--688, actual price--500, predicted price--1319.9939698492462, diff--819.9939698492462\n",
            "index--689, actual price--800, predicted price--3572.879802955665, diff--2772.879802955665\n",
            "index--690, actual price--15750, predicted price--14155.945945945947, diff--1594.0540540540533\n",
            "index--691, actual price--8990, predicted price--10281.60792079208, diff--1291.6079207920793\n",
            "index--693, actual price--3200, predicted price--3572.879802955665, diff--372.8798029556651\n",
            "index--694, actual price--180, predicted price--1319.9939698492462, diff--1139.9939698492462\n",
            "index--696, actual price--200, predicted price--840.5571428571428, diff--640.5571428571428\n",
            "index--698, actual price--2799, predicted price--1936.6869565217391, diff--862.3130434782609\n",
            "index--699, actual price--2550, predicted price--1422.410727406319, diff--1127.589272593681\n",
            "index--700, actual price--400, predicted price--1097.5972027972027, diff--697.5972027972027\n",
            "index--701, actual price--4100, predicted price--5374.401869158878, diff--1274.401869158878\n",
            "index--702, actual price--1650, predicted price--999.469964664311, diff--650.530035335689\n",
            "index--703, actual price--1150, predicted price--1584.37, diff--434.3699999999999\n",
            "index--704, actual price--20399, predicted price--14155.945945945947, diff--6243.054054054053\n",
            "index--705, actual price--3500, predicted price--3224.4698630136986, diff--275.5301369863014\n",
            "index--706, actual price--2500, predicted price--3224.4698630136986, diff--724.4698630136986\n",
            "index--707, actual price--12400, predicted price--11099.763157894737, diff--1300.2368421052633\n",
            "index--708, actual price--1500, predicted price--840.5571428571428, diff--659.4428571428572\n",
            "index--709, actual price--3490, predicted price--4076.809210526316, diff--586.8092105263158\n",
            "index--710, actual price--3650, predicted price--5517.2770330652365, diff--1867.2770330652365\n",
            "index--711, actual price--3330, predicted price--7943.333333333333, diff--4613.333333333333\n",
            "index--712, actual price--2800, predicted price--1800.3805309734514, diff--999.6194690265486\n",
            "index--714, actual price--9950, predicted price--7645.714942528735, diff--2304.2850574712647\n",
            "index--715, actual price--2000, predicted price--1786.7448979591836, diff--213.25510204081638\n",
            "index--717, actual price--2200, predicted price--2426.0036764705883, diff--226.0036764705883\n",
            "index--718, actual price--3800, predicted price--4244.748888888889, diff--444.74888888888927\n",
            "index--719, actual price--3900, predicted price--2596.7256097560976, diff--1303.2743902439024\n",
            "index--720, actual price--15150, predicted price--15497.315789473685, diff--347.3157894736851\n",
            "index--721, actual price--11400, predicted price--10281.60792079208, diff--1118.3920792079207\n",
            "index--722, actual price--2250, predicted price--1319.9939698492462, diff--930.0060301507538\n",
            "index--723, actual price--9950, predicted price--9650.639705882353, diff--299.36029411764684\n",
            "index--725, actual price--1349, predicted price--1701.2047619047619, diff--352.2047619047619\n",
            "index--726, actual price--5950, predicted price--7645.714942528735, diff--1695.7149425287353\n",
            "index--729, actual price--1200, predicted price--1701.2047619047619, diff--501.2047619047619\n",
            "index--730, actual price--5000, predicted price--2802.7906976744184, diff--2197.2093023255816\n",
            "index--731, actual price--14900, predicted price--15238.513888888889, diff--338.5138888888887\n",
            "index--732, actual price--2840, predicted price--1551.1866952789699, diff--1288.8133047210301\n",
            "index--734, actual price--5030, predicted price--3883.2747252747254, diff--1146.7252747252746\n",
            "index--736, actual price--1795, predicted price--1504.27868852459, diff--290.72131147540995\n",
            "index--737, actual price--5400, predicted price--4015.7854251012145, diff--1384.2145748987855\n",
            "index--738, actual price--12190, predicted price--13628.4, diff--1438.3999999999996\n",
            "index--739, actual price--200, predicted price--1534.1756756756756, diff--1334.1756756756756\n",
            "index--740, actual price--1150, predicted price--1422.410727406319, diff--272.410727406319\n",
            "index--742, actual price--1150, predicted price--1598.8840579710145, diff--448.8840579710145\n",
            "index--743, actual price--2999, predicted price--2563.126819126819, diff--435.8731808731809\n",
            "index--744, actual price--8100, predicted price--7378.034115138593, diff--721.9658848614072\n",
            "index--745, actual price--2350, predicted price--2578.943396226415, diff--228.9433962264152\n",
            "index--746, actual price--2999, predicted price--3882.1293103448274, diff--883.1293103448274\n",
            "index--747, actual price--13500, predicted price--10995.982456140351, diff--2504.017543859649\n",
            "index--748, actual price--8950, predicted price--7004.23125, diff--1945.7687500000002\n",
            "index--749, actual price--3200, predicted price--5420.733333333334, diff--2220.7333333333336\n",
            "index--750, actual price--13500, predicted price--9150.214743589744, diff--4349.785256410256\n",
            "index--751, actual price--3400, predicted price--2572.5810810810813, diff--827.4189189189187\n",
            "index--752, actual price--13000, predicted price--12487.8, diff--512.2000000000007\n",
            "index--753, actual price--600, predicted price--840.5571428571428, diff--240.55714285714282\n",
            "index--754, actual price--7250, predicted price--4821.555555555556, diff--2428.4444444444443\n",
            "index--755, actual price--5990, predicted price--5517.2770330652365, diff--472.72296693476346\n",
            "index--756, actual price--1000, predicted price--1319.9939698492462, diff--319.99396984924624\n",
            "index--758, actual price--550, predicted price--840.5571428571428, diff--290.5571428571428\n",
            "index--759, actual price--14200, predicted price--11601.526315789473, diff--2598.4736842105267\n",
            "index--760, actual price--250, predicted price--2032.5737298636927, diff--1782.5737298636927\n",
            "index--761, actual price--9900, predicted price--8127.6766169154225, diff--1772.3233830845775\n",
            "index--762, actual price--1540, predicted price--4275.022727272727, diff--2735.022727272727\n",
            "index--763, actual price--9500, predicted price--7378.034115138593, diff--2121.965884861407\n",
            "index--764, actual price--900, predicted price--1422.410727406319, diff--522.410727406319\n",
            "index--765, actual price--2800, predicted price--2007.2065217391305, diff--792.7934782608695\n",
            "index--766, actual price--999, predicted price--1214.405529953917, diff--215.40552995391704\n",
            "index--768, actual price--5000, predicted price--6296.8378378378375, diff--1296.8378378378375\n",
            "index--769, actual price--6500, predicted price--5595.395744680851, diff--904.6042553191492\n",
            "index--770, actual price--275, predicted price--2003.851581508516, diff--1728.851581508516\n",
            "index--771, actual price--8999, predicted price--8406.785714285714, diff--592.2142857142862\n",
            "index--772, actual price--2500, predicted price--4076.809210526316, diff--1576.8092105263158\n",
            "index--773, actual price--2599, predicted price--2122.8367911479945, diff--476.1632088520055\n",
            "index--775, actual price--4950, predicted price--4447.4016563147, diff--502.5983436853003\n",
            "index--776, actual price--850, predicted price--1253.931945556445, diff--403.93194555644504\n",
            "index--778, actual price--4990, predicted price--3883.2747252747254, diff--1106.7252747252746\n",
            "index--780, actual price--7500, predicted price--8117.095541401274, diff--617.0955414012742\n",
            "index--781, actual price--3700, predicted price--3017.3225806451615, diff--682.6774193548385\n",
            "index--782, actual price--8000, predicted price--5831.932989690722, diff--2168.067010309278\n",
            "index--783, actual price--9500, predicted price--9243.222222222223, diff--256.7777777777774\n",
            "index--784, actual price--500, predicted price--1319.9939698492462, diff--819.9939698492462\n",
            "index--785, actual price--4000, predicted price--2590.0204081632655, diff--1409.9795918367345\n",
            "index--786, actual price--13750, predicted price--15275.30459770115, diff--1525.3045977011498\n",
            "index--787, actual price--1750, predicted price--2596.7256097560976, diff--846.7256097560976\n",
            "index--788, actual price--2250, predicted price--4275.022727272727, diff--2025.022727272727\n",
            "index--789, actual price--1300, predicted price--1566.5792349726776, diff--266.57923497267757\n",
            "index--790, actual price--650, predicted price--1097.5972027972027, diff--447.5972027972027\n",
            "index--791, actual price--3900, predicted price--3452.5434782608695, diff--447.4565217391305\n",
            "index--792, actual price--10000, predicted price--9607.9609375, diff--392.0390625\n",
            "index--793, actual price--3850, predicted price--4100.0, diff--250.0\n",
            "index--795, actual price--5700, predicted price--6655.264637002342, diff--955.2646370023422\n",
            "index--796, actual price--2450, predicted price--1983.8695652173913, diff--466.13043478260875\n",
            "index--797, actual price--8900, predicted price--13043.260869565218, diff--4143.260869565218\n",
            "index--799, actual price--6500, predicted price--6101.933333333333, diff--398.0666666666666\n",
            "index--800, actual price--17800, predicted price--18217.138211382113, diff--417.1382113821128\n",
            "index--801, actual price--1400, predicted price--4370.158139534884, diff--2970.158139534884\n",
            "index--802, actual price--3900, predicted price--3393.3333333333335, diff--506.6666666666665\n",
            "index--803, actual price--1650, predicted price--1319.9939698492462, diff--330.00603015075376\n",
            "index--804, actual price--400, predicted price--1319.9939698492462, diff--919.9939698492462\n",
            "index--806, actual price--5900, predicted price--6134.253968253968, diff--234.2539682539682\n",
            "index--808, actual price--2350, predicted price--1881.3459335624284, diff--468.6540664375716\n",
            "index--809, actual price--3000, predicted price--2786.942367601246, diff--213.05763239875387\n",
            "index--811, actual price--890, predicted price--1891.3874345549739, diff--1001.3874345549739\n",
            "index--812, actual price--2350, predicted price--2122.8367911479945, diff--227.16320885200548\n",
            "index--813, actual price--850, predicted price--1214.405529953917, diff--364.40552995391704\n",
            "index--814, actual price--950, predicted price--1898.7065217391305, diff--948.7065217391305\n",
            "index--815, actual price--4990, predicted price--7358.8378378378375, diff--2368.8378378378375\n",
            "index--816, actual price--3000, predicted price--1551.1866952789699, diff--1448.8133047210301\n",
            "index--817, actual price--13000, predicted price--10681.7, diff--2318.2999999999993\n",
            "index--818, actual price--300, predicted price--840.5571428571428, diff--540.5571428571428\n",
            "index--820, actual price--2150, predicted price--2627.1209103840683, diff--477.12091038406834\n",
            "index--821, actual price--1499, predicted price--1243.7794561933536, diff--255.22054380664645\n",
            "index--822, actual price--1300, predicted price--1734.795294117647, diff--434.795294117647\n",
            "index--824, actual price--2600, predicted price--1566.5792349726776, diff--1033.4207650273224\n",
            "index--825, actual price--1999, predicted price--1551.1866952789699, diff--447.81330472103014\n",
            "index--826, actual price--5400, predicted price--4637.42, diff--762.5799999999999\n",
            "index--827, actual price--15500, predicted price--13420.171428571428, diff--2079.828571428572\n",
            "index--828, actual price--722, predicted price--1319.9939698492462, diff--597.9939698492462\n",
            "index--829, actual price--1750, predicted price--1214.405529953917, diff--535.594470046083\n",
            "index--830, actual price--2500, predicted price--3882.1293103448274, diff--1382.1293103448274\n",
            "index--831, actual price--2400, predicted price--3406.131707317073, diff--1006.131707317073\n",
            "index--832, actual price--9500, predicted price--7378.034115138593, diff--2121.965884861407\n",
            "index--833, actual price--160, predicted price--840.5571428571428, diff--680.5571428571428\n",
            "index--834, actual price--5599, predicted price--3224.4698630136986, diff--2374.5301369863014\n",
            "index--836, actual price--6900, predicted price--7371.878048780488, diff--471.8780487804879\n",
            "index--837, actual price--7200, predicted price--8117.095541401274, diff--917.0955414012742\n",
            "index--839, actual price--2499, predicted price--2732.954954954955, diff--233.95495495495516\n",
            "index--841, actual price--5350, predicted price--5595.395744680851, diff--245.39574468085084\n",
            "index--842, actual price--500, predicted price--1376.8028985507246, diff--876.8028985507246\n",
            "index--843, actual price--1000, predicted price--1304.6340206185566, diff--304.63402061855663\n",
            "index--844, actual price--7350, predicted price--5991.348076923077, diff--1358.6519230769227\n",
            "index--845, actual price--6150, predicted price--6841.5, diff--691.5\n",
            "index--846, actual price--4899, predicted price--4447.4016563147, diff--451.5983436853003\n",
            "index--847, actual price--12900, predicted price--12135.859437751003, diff--764.1405622489965\n",
            "index--848, actual price--4990, predicted price--4275.022727272727, diff--714.977272727273\n",
            "index--849, actual price--4999, predicted price--4275.022727272727, diff--723.977272727273\n",
            "index--850, actual price--1100, predicted price--2032.5737298636927, diff--932.5737298636927\n",
            "index--851, actual price--14200, predicted price--8158.607142857143, diff--6041.392857142857\n",
            "index--852, actual price--2899, predicted price--2129.131868131868, diff--769.868131868132\n",
            "index--853, actual price--1400, predicted price--2032.5737298636927, diff--632.5737298636927\n",
            "index--854, actual price--4900, predicted price--4447.4016563147, diff--452.5983436853003\n",
            "index--855, actual price--6250, predicted price--5517.2770330652365, diff--732.7229669347635\n",
            "index--856, actual price--1750, predicted price--2786.942367601246, diff--1036.9423676012461\n",
            "index--857, actual price--1000, predicted price--1422.410727406319, diff--422.410727406319\n",
            "index--858, actual price--13500, predicted price--7378.034115138593, diff--6121.965884861407\n",
            "index--859, actual price--1650, predicted price--1422.410727406319, diff--227.58927259368102\n",
            "index--861, actual price--2400, predicted price--2032.5737298636927, diff--367.42627013630727\n",
            "index--862, actual price--1000, predicted price--2786.942367601246, diff--1786.9423676012461\n",
            "index--863, actual price--7300, predicted price--6655.264637002342, diff--644.7353629976578\n",
            "index--864, actual price--1350, predicted price--2786.942367601246, diff--1436.9423676012461\n",
            "index--865, actual price--22900, predicted price--19727.661616161615, diff--3172.338383838385\n",
            "index--866, actual price--1100, predicted price--4076.809210526316, diff--2976.809210526316\n",
            "index--867, actual price--1600, predicted price--2007.2065217391305, diff--407.2065217391305\n",
            "index--869, actual price--2700, predicted price--3224.4698630136986, diff--524.4698630136986\n",
            "index--870, actual price--4500, predicted price--4821.555555555556, diff--321.55555555555566\n",
            "index--871, actual price--850, predicted price--3224.4698630136986, diff--2374.4698630136986\n",
            "index--873, actual price--2700, predicted price--3883.2747252747254, diff--1183.2747252747254\n",
            "index--875, actual price--2950, predicted price--3671.943396226415, diff--721.9433962264152\n",
            "index--877, actual price--998, predicted price--1701.2047619047619, diff--703.2047619047619\n",
            "index--878, actual price--11300, predicted price--9711.565656565657, diff--1588.4343434343427\n",
            "index--879, actual price--15000, predicted price--17666.081632653062, diff--2666.081632653062\n",
            "index--880, actual price--3600, predicted price--2003.851581508516, diff--1596.148418491484\n",
            "index--881, actual price--6850, predicted price--6195.962962962963, diff--654.0370370370374\n",
            "index--882, actual price--12499, predicted price--7093.9925093632955, diff--5405.0074906367045\n",
            "index--883, actual price--2699, predicted price--1253.931945556445, diff--1445.068054443555\n",
            "index--884, actual price--1850, predicted price--1097.5972027972027, diff--752.4027972027973\n",
            "index--885, actual price--3600, predicted price--3035.3383458646617, diff--564.6616541353383\n",
            "index--887, actual price--550, predicted price--1967.2765531062125, diff--1417.2765531062125\n",
            "index--889, actual price--8950, predicted price--7645.714942528735, diff--1304.2850574712647\n",
            "index--890, actual price--749, predicted price--1936.6869565217391, diff--1187.6869565217391\n",
            "index--891, actual price--16190, predicted price--12596.52752293578, diff--3593.4724770642206\n",
            "index--892, actual price--4500, predicted price--5464.053691275168, diff--964.0536912751677\n",
            "index--893, actual price--999, predicted price--1467.928057553957, diff--468.92805755395693\n",
            "index--895, actual price--13900, predicted price--10281.60792079208, diff--3618.3920792079207\n",
            "index--896, actual price--900, predicted price--2122.8367911479945, diff--1222.8367911479945\n",
            "index--898, actual price--3500, predicted price--4076.809210526316, diff--576.8092105263158\n",
            "index--899, actual price--1550, predicted price--2517.734375, diff--967.734375\n",
            "index--900, actual price--15500, predicted price--17079.166666666668, diff--1579.1666666666679\n",
            "index--901, actual price--12999, predicted price--10274.333333333334, diff--2724.666666666666\n",
            "index--902, actual price--900, predicted price--1891.3874345549739, diff--991.3874345549739\n",
            "index--903, actual price--2250, predicted price--3035.3383458646617, diff--785.3383458646617\n",
            "index--904, actual price--14900, predicted price--14002.149171270717, diff--897.8508287292825\n",
            "index--905, actual price--2500, predicted price--1551.1866952789699, diff--948.8133047210301\n",
            "index--906, actual price--7500, predicted price--8728.941176470587, diff--1228.9411764705874\n",
            "index--907, actual price--15000, predicted price--14496.19512195122, diff--503.80487804878067\n",
            "index--908, actual price--1590, predicted price--1881.3459335624284, diff--291.3459335624284\n",
            "index--909, actual price--3800, predicted price--4654.821052631579, diff--854.8210526315788\n",
            "index--910, actual price--850, predicted price--1541.8957575757577, diff--691.8957575757577\n",
            "index--913, actual price--8000, predicted price--7645.714942528735, diff--354.28505747126474\n",
            "index--914, actual price--2250, predicted price--1467.928057553957, diff--782.0719424460431\n",
            "index--915, actual price--799, predicted price--999.469964664311, diff--200.46996466431096\n",
            "index--916, actual price--600, predicted price--840.5571428571428, diff--240.55714285714282\n",
            "index--917, actual price--19499, predicted price--16919.473684210527, diff--2579.5263157894733\n",
            "index--918, actual price--3490, predicted price--2627.1209103840683, diff--862.8790896159317\n",
            "index--920, actual price--16999, predicted price--13628.4, diff--3370.6000000000004\n",
            "index--921, actual price--1950, predicted price--1422.410727406319, diff--527.589272593681\n",
            "index--922, actual price--5400, predicted price--4480.618357487922, diff--919.3816425120776\n",
            "index--923, actual price--2000, predicted price--1598.8840579710145, diff--401.1159420289855\n",
            "index--924, actual price--1899, predicted price--1109.6785714285713, diff--789.3214285714287\n",
            "index--925, actual price--8800, predicted price--9208.68, diff--408.6800000000003\n",
            "index--926, actual price--5890, predicted price--3572.879802955665, diff--2317.120197044335\n",
            "index--927, actual price--7000, predicted price--7658.137254901961, diff--658.1372549019607\n",
            "index--929, actual price--8400, predicted price--7617.311627906976, diff--782.6883720930236\n",
            "index--930, actual price--5500, predicted price--2596.7256097560976, diff--2903.2743902439024\n",
            "index--931, actual price--5200, predicted price--4244.748888888889, diff--955.2511111111107\n",
            "index--932, actual price--1150, predicted price--1995.0118343195265, diff--845.0118343195265\n",
            "index--933, actual price--3850, predicted price--4480.618357487922, diff--630.6183574879224\n",
            "index--934, actual price--2300, predicted price--1881.3459335624284, diff--418.6540664375716\n",
            "index--935, actual price--500, predicted price--1033.891304347826, diff--533.891304347826\n",
            "index--936, actual price--1000, predicted price--1800.3805309734514, diff--800.3805309734514\n",
            "index--937, actual price--1690, predicted price--1983.8695652173913, diff--293.86956521739125\n",
            "index--938, actual price--1600, predicted price--6308.298076923077, diff--4708.298076923077\n",
            "index--939, actual price--7900, predicted price--3406.131707317073, diff--4493.868292682927\n",
            "index--940, actual price--10950, predicted price--12405.6625, diff--1455.6625000000004\n",
            "index--941, actual price--8990, predicted price--7378.034115138593, diff--1611.9658848614072\n",
            "index--942, actual price--12900, predicted price--10647.260563380281, diff--2252.7394366197186\n",
            "index--943, actual price--1390, predicted price--1881.3459335624284, diff--491.3459335624284\n",
            "index--944, actual price--1500, predicted price--2639.198515769944, diff--1139.1985157699442\n",
            "index--945, actual price--1200, predicted price--840.5571428571428, diff--359.4428571428572\n",
            "index--946, actual price--650, predicted price--2032.5737298636927, diff--1382.5737298636927\n",
            "index--949, actual price--18950, predicted price--18217.138211382113, diff--732.8617886178872\n",
            "index--950, actual price--3000, predicted price--6306.348360655737, diff--3306.3483606557375\n",
            "index--951, actual price--2100, predicted price--2968.7906976744184, diff--868.7906976744184\n",
            "index--952, actual price--1300, predicted price--1851.0535714285713, diff--551.0535714285713\n",
            "index--953, actual price--12900, predicted price--9711.565656565657, diff--3188.4343434343427\n",
            "index--954, actual price--1199, predicted price--1734.795294117647, diff--535.795294117647\n",
            "index--955, actual price--5900, predicted price--2592.2360248447203, diff--3307.7639751552797\n",
            "index--957, actual price--1500, predicted price--2122.8367911479945, diff--622.8367911479945\n",
            "index--958, actual price--2600, predicted price--1701.2047619047619, diff--898.7952380952381\n",
            "index--959, actual price--4999, predicted price--5517.2770330652365, diff--518.2770330652365\n",
            "index--960, actual price--1650, predicted price--1422.410727406319, diff--227.58927259368102\n",
            "index--961, actual price--3000, predicted price--2437.8387978142077, diff--562.1612021857923\n",
            "index--962, actual price--5700, predicted price--4905.628099173554, diff--794.3719008264461\n",
            "index--963, actual price--11300, predicted price--8886.17578125, diff--2413.82421875\n",
            "index--964, actual price--4000, predicted price--2032.5737298636927, diff--1967.4262701363073\n",
            "index--965, actual price--1700, predicted price--2122.8367911479945, diff--422.8367911479945\n",
            "index--966, actual price--1199, predicted price--1467.928057553957, diff--268.92805755395693\n",
            "index--967, actual price--2750, predicted price--2437.8387978142077, diff--312.16120218579226\n",
            "index--968, actual price--8200, predicted price--9025.9, diff--825.8999999999996\n",
            "index--969, actual price--7649, predicted price--9150.214743589744, diff--1501.214743589744\n",
            "index--970, actual price--1300, predicted price--2122.8367911479945, diff--822.8367911479945\n",
            "index--971, actual price--1250, predicted price--3572.879802955665, diff--2322.879802955665\n",
            "index--972, actual price--1450, predicted price--1109.6785714285713, diff--340.32142857142867\n",
            "index--973, actual price--2900, predicted price--2032.5737298636927, diff--867.4262701363073\n",
            "index--974, actual price--13500, predicted price--14075.263157894737, diff--575.2631578947367\n",
            "index--975, actual price--2250, predicted price--3315.344827586207, diff--1065.344827586207\n",
            "index--976, actual price--6700, predicted price--4558.287128712871, diff--2141.712871287129\n",
            "index--977, actual price--1250, predicted price--1467.928057553957, diff--217.92805755395693\n",
            "index--978, actual price--1950, predicted price--1243.7794561933536, diff--706.2205438066464\n",
            "index--979, actual price--6500, predicted price--1422.410727406319, diff--5077.589272593681\n",
            "index--980, actual price--760, predicted price--1534.1756756756756, diff--774.1756756756756\n",
            "index--981, actual price--7900, predicted price--9150.214743589744, diff--1250.214743589744\n",
            "index--982, actual price--7300, predicted price--7582.056962025316, diff--282.05696202531635\n",
            "index--983, actual price--1600, predicted price--1253.931945556445, diff--346.06805444355496\n",
            "index--984, actual price--8900, predicted price--9607.9609375, diff--707.9609375\n",
            "index--986, actual price--7700, predicted price--5517.2770330652365, diff--2182.7229669347635\n",
            "index--987, actual price--5200, predicted price--4076.809210526316, diff--1123.1907894736842\n",
            "index--988, actual price--2600, predicted price--4654.821052631579, diff--2054.821052631579\n",
            "index--989, actual price--2800, predicted price--4654.821052631579, diff--1854.8210526315788\n",
            "index--990, actual price--1500, predicted price--2007.2065217391305, diff--507.2065217391305\n",
            "index--991, actual price--2450, predicted price--2032.5737298636927, diff--417.42627013630727\n",
            "index--992, actual price--3700, predicted price--8033.977272727273, diff--4333.977272727273\n",
            "index--993, actual price--5000, predicted price--2639.198515769944, diff--2360.801484230056\n",
            "index--994, actual price--5600, predicted price--3035.3383458646617, diff--2564.6616541353383\n",
            "index--995, actual price--9500, predicted price--6978.392857142857, diff--2521.607142857143\n",
            "index--996, actual price--7200, predicted price--9092.970588235294, diff--1892.9705882352937\n",
            "index--997, actual price--3600, predicted price--2396.8625954198474, diff--1203.1374045801526\n",
            "index--998, actual price--450, predicted price--1376.8028985507246, diff--926.8028985507246\n",
            "index--999, actual price--2995, predicted price--4857.828571428571, diff--1862.8285714285712\n",
            "871\n"
          ],
          "name": "stdout"
        }
      ]
    }
  ]
}