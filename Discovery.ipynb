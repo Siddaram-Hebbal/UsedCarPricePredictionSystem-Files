{
  "nbformat": 4,
  "nbformat_minor": 0,
  "metadata": {
    "colab": {
      "name": "Discovery.ipynb",
      "provenance": [],
      "collapsed_sections": [],
      "mount_file_id": "1LlaXw5bQ5ppQ5dOJCcQWN_lPK8YUQFxC",
      "authorship_tag": "ABX9TyP5zcIXUDJDjiVSQv62MsYE",
      "include_colab_link": true
    },
    "kernelspec": {
      "name": "python3",
      "display_name": "Python 3"
    }
  },
  "cells": [
    {
      "cell_type": "markdown",
      "metadata": {
        "id": "view-in-github",
        "colab_type": "text"
      },
      "source": [
        "<a href=\"https://colab.research.google.com/github/Tanu-N-Prabhu/UsedCarPricePredictionSystem-Files/blob/master/Discovery.ipynb\" target=\"_parent\"><img src=\"https://colab.research.google.com/assets/colab-badge.svg\" alt=\"Open In Colab\"/></a>"
      ]
    },
    {
      "cell_type": "markdown",
      "metadata": {
        "id": "AArj9GkyY_Iz",
        "colab_type": "text"
      },
      "source": [
        "# **Discovery**\n",
        "\n",
        "### The discovery is the first phase in the data analytic lifecycle given below.\n",
        "![alt text](https://i.imgur.com/082QelH.png)"
      ]
    },
    {
      "cell_type": "markdown",
      "metadata": {
        "id": "cPVulMpAaUo-",
        "colab_type": "text"
      },
      "source": [
        "## **Problem Statement**\n",
        "\n",
        "Used car prices are an important refection of the economy and they greatly interest both buyers and sellers. The used car market is large and strategically very important for car manufacturers. Since the secondhand car market is closely related to the new car business in various aspects. A prediction model that estimates resale price based on car attributes and features is much more needed today. This prediction system would be helpful for a buyer who doesn't have any idea how much to spend on a used car. Similarly, the seller who does not understand about the price to sell his/her car for. As we all know many factors contribute to predicting the price of the used car based on the features of the car. My analysis aims to determine which features of the car in the data set may have the\n",
        "strongest statistical correlation with the price of the car. With the help of the model we can come to know the variables on which the price depends, and to what degree those variables justify a car's price.\n",
        "\n",
        "\n",
        "**It would be helpful for both:**\n",
        "\n",
        "\n",
        "\n",
        "1.   Buyers\n",
        "2.   Sellers\n",
        "\n"
      ]
    },
    {
      "cell_type": "markdown",
      "metadata": {
        "id": "vXZ2zXeFakoP",
        "colab_type": "text"
      },
      "source": [
        "#### **Buyer**\n",
        "\n",
        "\n",
        "<img src=\"https://gravyanalytics.com/wp-content/uploads/2018/11/AutoBuyer_FI.jpg\" alt=\"Drawing\" width=\"300\"/>\n",
        "\n",
        "\n",
        "Doesn't have any idea how much to spend on a used car"
      ]
    },
    {
      "cell_type": "markdown",
      "metadata": {
        "id": "Ll0toyzHasq_",
        "colab_type": "text"
      },
      "source": [
        "#### **Seller**\n",
        "\n",
        "\n",
        "<img src=\"data:image/jpeg;base64,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\" alt=\"Drawing\" width=\"300\"/>\n",
        "\n",
        "\n",
        "Doesn't know how much to sell his/her car for."
      ]
    },
    {
      "cell_type": "markdown",
      "metadata": {
        "id": "70zYUlQC2wOQ",
        "colab_type": "text"
      },
      "source": [
        "## **Current Situation**\n",
        "\n",
        "![alt text](https://i.imgur.com/IAbwypv.png)"
      ]
    },
    {
      "cell_type": "markdown",
      "metadata": {
        "id": "2jjxaxLa25vL",
        "colab_type": "text"
      },
      "source": [
        "## **Desired Situation**\n",
        "\n",
        "![alt text](https://i.imgur.com/KICI2Tz.png)\n"
      ]
    }
  ]
}