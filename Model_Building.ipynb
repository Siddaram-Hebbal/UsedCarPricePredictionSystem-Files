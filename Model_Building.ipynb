{
  "nbformat": 4,
  "nbformat_minor": 0,
  "metadata": {
    "colab": {
      "name": "Model Building.ipynb",
      "provenance": [],
      "collapsed_sections": [],
      "mount_file_id": "1r-F1d_WkTHiZXQgCEoNzvhZstDxSyIfz",
      "authorship_tag": "ABX9TyOn1c5eaW7KwkHv++6h1d1d",
      "include_colab_link": true
    },
    "kernelspec": {
      "name": "python3",
      "display_name": "Python 3"
    }
  },
  "cells": [
    {
      "cell_type": "markdown",
      "metadata": {
        "id": "view-in-github",
        "colab_type": "text"
      },
      "source": [
        "<a href=\"https://colab.research.google.com/github/Tanu-N-Prabhu/UsedCarPricePredictionSystem-Files/blob/master/Model_Building.ipynb\" target=\"_parent\"><img src=\"https://colab.research.google.com/assets/colab-badge.svg\" alt=\"Open In Colab\"/></a>"
      ]
    },
    {
      "cell_type": "markdown",
      "metadata": {
        "id": "ZPDl5wwYWrwx",
        "colab_type": "text"
      },
      "source": [
        "# **Model Building**\n",
        "\n",
        "The model building phase includes splittingthe data sets into 3 sets, choosing the model, checking for overfitting and underfittingconditions and the hyperparameter tuning.\n",
        "\n",
        "![alt text](https://i.imgur.com/8a898lH.png)\n",
        "\n",
        "\n",
        "\n"
      ]
    },
    {
      "cell_type": "code",
      "metadata": {
        "id": "cjLGW6yZXKjK",
        "colab_type": "code",
        "colab": {}
      },
      "source": [
        "import pandas as pd    \n",
        "from sklearn.preprocessing import StandardScaler\n",
        "from sklearn.pipeline import Pipeline\n",
        "from sklearn.ensemble import RandomForestRegressor\n",
        "from sklearn.tree import DecisionTreeRegressor\n",
        "from sklearn.linear_model import LinearRegression\n",
        "from sklearn import svm\n",
        "import seaborn as sns\n",
        "from sklearn.preprocessing import StandardScaler\n",
        "from sklearn.pipeline import Pipeline\n",
        "from sklearn.metrics import r2_score     \n",
        "from sklearn.metrics import mean_absolute_error\n",
        "from sklearn.metrics import mean_squared_error           # Loading the dataset into a dataframe and performing the desired operations\n",
        "from sklearn.model_selection import train_test_split\n",
        "import time                                          # Used to measure the time taken to load the data as a dataframe\n",
        "import matplotlib.pyplot as plt\n",
        "    "
      ],
      "execution_count": 0,
      "outputs": []
    },
    {
      "cell_type": "code",
      "metadata": {
        "id": "BHcvY3cVXntR",
        "colab_type": "code",
        "outputId": "349ccee6-dd53-4b96-c41f-adfb97f4811c",
        "colab": {
          "base_uri": "https://localhost:8080/",
          "height": 222
        }
      },
      "source": [
        "# Storing the dataset (CSV file) as a pandas dataframe\n",
        "\n",
        "df = pd.read_csv(\"/content/drive/My Drive/Dataset/CleanedData.csv\")   # Storing the CSV file into a dataframe\n",
        "df.head(5)"
      ],
      "execution_count": 94,
      "outputs": [
        {
          "output_type": "execute_result",
          "data": {
            "text/html": [
              "<div>\n",
              "<style scoped>\n",
              "    .dataframe tbody tr th:only-of-type {\n",
              "        vertical-align: middle;\n",
              "    }\n",
              "\n",
              "    .dataframe tbody tr th {\n",
              "        vertical-align: top;\n",
              "    }\n",
              "\n",
              "    .dataframe thead th {\n",
              "        text-align: right;\n",
              "    }\n",
              "</style>\n",
              "<table border=\"1\" class=\"dataframe\">\n",
              "  <thead>\n",
              "    <tr style=\"text-align: right;\">\n",
              "      <th></th>\n",
              "      <th>price</th>\n",
              "      <th>yearOfRegistration</th>\n",
              "      <th>powerPS</th>\n",
              "      <th>model</th>\n",
              "      <th>kilometer</th>\n",
              "      <th>monthOfRegistration</th>\n",
              "      <th>fuelType</th>\n",
              "      <th>brand</th>\n",
              "      <th>postalCode</th>\n",
              "      <th>vehicleType_0</th>\n",
              "      <th>vehicleType_1</th>\n",
              "      <th>vehicleType_2</th>\n",
              "      <th>vehicleType_3</th>\n",
              "      <th>vehicleType_4</th>\n",
              "      <th>vehicleType_5</th>\n",
              "      <th>vehicleType_6</th>\n",
              "      <th>vehicleType_7</th>\n",
              "      <th>gearbox_0</th>\n",
              "      <th>gearbox_1</th>\n",
              "    </tr>\n",
              "  </thead>\n",
              "  <tbody>\n",
              "    <tr>\n",
              "      <th>0</th>\n",
              "      <td>650</td>\n",
              "      <td>1995</td>\n",
              "      <td>102</td>\n",
              "      <td>11</td>\n",
              "      <td>150000</td>\n",
              "      <td>10</td>\n",
              "      <td>1</td>\n",
              "      <td>2</td>\n",
              "      <td>33775</td>\n",
              "      <td>0</td>\n",
              "      <td>0</td>\n",
              "      <td>0</td>\n",
              "      <td>0</td>\n",
              "      <td>0</td>\n",
              "      <td>0</td>\n",
              "      <td>1</td>\n",
              "      <td>0</td>\n",
              "      <td>0</td>\n",
              "      <td>1</td>\n",
              "    </tr>\n",
              "    <tr>\n",
              "      <th>1</th>\n",
              "      <td>2000</td>\n",
              "      <td>2004</td>\n",
              "      <td>105</td>\n",
              "      <td>10</td>\n",
              "      <td>150000</td>\n",
              "      <td>12</td>\n",
              "      <td>1</td>\n",
              "      <td>19</td>\n",
              "      <td>96224</td>\n",
              "      <td>0</td>\n",
              "      <td>0</td>\n",
              "      <td>0</td>\n",
              "      <td>0</td>\n",
              "      <td>0</td>\n",
              "      <td>0</td>\n",
              "      <td>1</td>\n",
              "      <td>0</td>\n",
              "      <td>0</td>\n",
              "      <td>1</td>\n",
              "    </tr>\n",
              "    <tr>\n",
              "      <th>2</th>\n",
              "      <td>2799</td>\n",
              "      <td>2005</td>\n",
              "      <td>140</td>\n",
              "      <td>160</td>\n",
              "      <td>150000</td>\n",
              "      <td>12</td>\n",
              "      <td>3</td>\n",
              "      <td>37</td>\n",
              "      <td>57290</td>\n",
              "      <td>0</td>\n",
              "      <td>0</td>\n",
              "      <td>0</td>\n",
              "      <td>0</td>\n",
              "      <td>0</td>\n",
              "      <td>1</td>\n",
              "      <td>0</td>\n",
              "      <td>0</td>\n",
              "      <td>0</td>\n",
              "      <td>1</td>\n",
              "    </tr>\n",
              "    <tr>\n",
              "      <th>3</th>\n",
              "      <td>999</td>\n",
              "      <td>1995</td>\n",
              "      <td>115</td>\n",
              "      <td>160</td>\n",
              "      <td>150000</td>\n",
              "      <td>11</td>\n",
              "      <td>1</td>\n",
              "      <td>37</td>\n",
              "      <td>37269</td>\n",
              "      <td>0</td>\n",
              "      <td>0</td>\n",
              "      <td>0</td>\n",
              "      <td>0</td>\n",
              "      <td>0</td>\n",
              "      <td>1</td>\n",
              "      <td>0</td>\n",
              "      <td>0</td>\n",
              "      <td>0</td>\n",
              "      <td>1</td>\n",
              "    </tr>\n",
              "    <tr>\n",
              "      <th>4</th>\n",
              "      <td>2500</td>\n",
              "      <td>2004</td>\n",
              "      <td>131</td>\n",
              "      <td>160</td>\n",
              "      <td>150000</td>\n",
              "      <td>2</td>\n",
              "      <td>1</td>\n",
              "      <td>37</td>\n",
              "      <td>90762</td>\n",
              "      <td>0</td>\n",
              "      <td>0</td>\n",
              "      <td>0</td>\n",
              "      <td>0</td>\n",
              "      <td>0</td>\n",
              "      <td>1</td>\n",
              "      <td>0</td>\n",
              "      <td>0</td>\n",
              "      <td>0</td>\n",
              "      <td>1</td>\n",
              "    </tr>\n",
              "  </tbody>\n",
              "</table>\n",
              "</div>"
            ],
            "text/plain": [
              "   price  yearOfRegistration  powerPS  ...  vehicleType_7  gearbox_0  gearbox_1\n",
              "0    650                1995      102  ...              0          0          1\n",
              "1   2000                2004      105  ...              0          0          1\n",
              "2   2799                2005      140  ...              0          0          1\n",
              "3    999                1995      115  ...              0          0          1\n",
              "4   2500                2004      131  ...              0          0          1\n",
              "\n",
              "[5 rows x 19 columns]"
            ]
          },
          "metadata": {
            "tags": []
          },
          "execution_count": 94
        }
      ]
    },
    {
      "cell_type": "code",
      "metadata": {
        "id": "XD9fF0kuXqmI",
        "colab_type": "code",
        "colab": {}
      },
      "source": [
        "selectedFeatures = ['yearOfRegistration','powerPS','model','kilometer','monthOfRegistration','fuelType','brand','postalCode','vehicleType_0','vehicleType_1','vehicleType_2','vehicleType_3','vehicleType_4','vehicleType_5','vehicleType_6','vehicleType_7','gearbox_0','gearbox_1']"
      ],
      "execution_count": 0,
      "outputs": []
    },
    {
      "cell_type": "code",
      "metadata": {
        "id": "66xDryJUXrzo",
        "colab_type": "code",
        "colab": {}
      },
      "source": [
        "X = df[selectedFeatures]\n",
        "y = df['price']"
      ],
      "execution_count": 0,
      "outputs": []
    },
    {
      "cell_type": "markdown",
      "metadata": {
        "id": "imC3dj45X2sE",
        "colab_type": "text"
      },
      "source": [
        "## **Splitting the dataset into three sets**\n",
        "\n",
        "The  data  set  will  be  splitted  into  three  distinct  sets  of  labeled  examples  as  shownbelow:\n",
        "\n",
        "1.   Training set\n",
        "\n",
        "2.   Validation set\n",
        "\n",
        "3. Testing set\n",
        "\n",
        "The holdout sets in this case will be the validation and testing set.  Since this is not a big data, 80% will be the training set, 10% will be validation and 10% will be testing set.\n",
        "\n",
        "\n",
        "\n",
        "1.   The training will be only used for building (training) the model. The training set can be located [here](https://github.com/Tanu-N-Prabhu/UsedCarPricePredictionSystem-Files/tree/master/Training\\%20set)\n",
        "2.   Validation set will be used to choose the learning algorithm, find the best values of hyper-parameters. The validation set can be located [here](https://github.com/Tanu-N-Prabhu/UsedCarPricePredictionSystem-Files/tree/master/Validation\\%20set)\n",
        "\n",
        "3. Testing set will be used when the model is deployed in production, or for testing purpose. The testing set can be located [here](https://github.com/Tanu-N-Prabhu/UsedCarPricePredictionSystem-Files/tree/master/Testing\\%20set)\n",
        "\n",
        "The `sklearn.model_selection.train_test_split` twice to split the data set into three sets. First to split to train, test and then split train again into validation and train.\n",
        "\n",
        "\n",
        "\n"
      ]
    },
    {
      "cell_type": "code",
      "metadata": {
        "id": "BevLDatrXs8n",
        "colab_type": "code",
        "colab": {}
      },
      "source": [
        "X_train, X_test, y_train, y_test = train_test_split(X, y, test_size=0.1, random_state=1)\n",
        "X_train, X_val, y_train, y_val = train_test_split(X_train, y_train, test_size=0.15, random_state=1) # 0.25 x 0.8 = 0.2"
      ],
      "execution_count": 0,
      "outputs": []
    },
    {
      "cell_type": "code",
      "metadata": {
        "id": "7tUrf8tWXvJ6",
        "colab_type": "code",
        "outputId": "6cfb0578-aa39-4f6f-e8da-6c8d97c9165d",
        "colab": {
          "base_uri": "https://localhost:8080/",
          "height": 35
        }
      },
      "source": [
        "X_train.shape"
      ],
      "execution_count": 0,
      "outputs": [
        {
          "output_type": "execute_result",
          "data": {
            "text/plain": [
              "(76266, 18)"
            ]
          },
          "metadata": {
            "tags": []
          },
          "execution_count": 23
        }
      ]
    },
    {
      "cell_type": "code",
      "metadata": {
        "id": "gb5c-JmeXwYi",
        "colab_type": "code",
        "outputId": "3c45e9fe-fbdf-4391-a370-38e3e4f29030",
        "colab": {
          "base_uri": "https://localhost:8080/",
          "height": 35
        }
      },
      "source": [
        "y_test.shape"
      ],
      "execution_count": 0,
      "outputs": [
        {
          "output_type": "execute_result",
          "data": {
            "text/plain": [
              "(9416,)"
            ]
          },
          "metadata": {
            "tags": []
          },
          "execution_count": 24
        }
      ]
    },
    {
      "cell_type": "code",
      "metadata": {
        "id": "5aQLJyd_Xxdr",
        "colab_type": "code",
        "outputId": "c27ae359-b727-409b-cdbd-771c0a576416",
        "colab": {
          "base_uri": "https://localhost:8080/",
          "height": 35
        }
      },
      "source": [
        "X_val.shape"
      ],
      "execution_count": 0,
      "outputs": [
        {
          "output_type": "execute_result",
          "data": {
            "text/plain": [
              "(8475, 18)"
            ]
          },
          "metadata": {
            "tags": []
          },
          "execution_count": 25
        }
      ]
    },
    {
      "cell_type": "code",
      "metadata": {
        "id": "B6TC_iF-XynH",
        "colab_type": "code",
        "outputId": "21903d27-fa6a-4fd0-ae42-63930104b556",
        "colab": {
          "base_uri": "https://localhost:8080/",
          "height": 35
        }
      },
      "source": [
        "y_val.shape"
      ],
      "execution_count": 0,
      "outputs": [
        {
          "output_type": "execute_result",
          "data": {
            "text/plain": [
              "(8475,)"
            ]
          },
          "metadata": {
            "tags": []
          },
          "execution_count": 26
        }
      ]
    },
    {
      "cell_type": "code",
      "metadata": {
        "id": "BZnkGtszXz7I",
        "colab_type": "code",
        "outputId": "a318fa80-1239-4100-f935-787441898c98",
        "colab": {
          "base_uri": "https://localhost:8080/",
          "height": 35
        }
      },
      "source": [
        "X_test.shape"
      ],
      "execution_count": 0,
      "outputs": [
        {
          "output_type": "execute_result",
          "data": {
            "text/plain": [
              "(9416, 18)"
            ]
          },
          "metadata": {
            "tags": []
          },
          "execution_count": 27
        }
      ]
    },
    {
      "cell_type": "markdown",
      "metadata": {
        "id": "fJf6wa3VY7Xd",
        "colab_type": "text"
      },
      "source": [
        "\n",
        "\n",
        "---\n",
        "\n"
      ]
    },
    {
      "cell_type": "markdown",
      "metadata": {
        "id": "AJiHtuywY71b",
        "colab_type": "text"
      },
      "source": [
        "## **Choosing the best learning algorithm by using validation set**\n",
        "\n",
        "### **Pipelining**\n",
        "\n",
        "The main reason for using pipelining is that training different models and testing on the validation sets was easy to perform. Here, at a time 4 different regression models were builded (trained) and tested. All the models were together placed inside the pipeline function such that they were trained and tested simultaneously.\n",
        "\n",
        "\n",
        "Different regression algorithms will be implemented by using the validation set. The validation set will be specifically used here to choose the best alogorithm (score). \n",
        "1. Linear Regression\n",
        "2. Random Forest Regressor\n",
        "3. Decision Tree Regressor\n",
        "4. Support Vector Regressor"
      ]
    },
    {
      "cell_type": "code",
      "metadata": {
        "id": "utdDcDkmZNHZ",
        "colab_type": "code",
        "colab": {}
      },
      "source": [
        "## Pipelines Creation\n",
        "## 1. Data Preprocessing by using Standard Scaler\n",
        "## 2. Apply  Regressor"
      ],
      "execution_count": 0,
      "outputs": []
    },
    {
      "cell_type": "code",
      "metadata": {
        "id": "dxg4vp5AZUoF",
        "colab_type": "code",
        "colab": {}
      },
      "source": [
        "# Creating the pipelines\n",
        "pipeline_rf=Pipeline([('scalar1', StandardScaler()),\n",
        "                     ('rf_regressor',RandomForestRegressor(n_estimators= 250, max_depth= 12, max_features = 17, min_samples_leaf = 9))])\n",
        "\n",
        "pipeline_dt=Pipeline([('scalar2', StandardScaler()),\n",
        "                     ('dt_regressor',DecisionTreeRegressor())])\n",
        "\n",
        "pipeline_lr=Pipeline([('scalar3', StandardScaler()),\n",
        "                     ('lr_regressor',LinearRegression())])\n",
        "\n",
        "pipeline_svm=Pipeline([('scalar4', StandardScaler()),\n",
        "                     ('svr_regressor',svm.SVR())])\n",
        "\n",
        "# List to store all the model results\n",
        "pipelines = [pipeline_rf, pipeline_dt, pipeline_lr, pipeline_svm]"
      ],
      "execution_count": 0,
      "outputs": []
    },
    {
      "cell_type": "code",
      "metadata": {
        "id": "1Lyk2GJRZp6J",
        "colab_type": "code",
        "outputId": "4d8c8132-1c32-4604-f05f-1c93de1b973d",
        "colab": {
          "base_uri": "https://localhost:8080/",
          "height": 104
        }
      },
      "source": [
        "start_time = time.time()                                  \n",
        "\n",
        "# Dictionary of pipelines and Regression types for ease of reference\n",
        "pipe_dict = {0: 'Random Forest Regression', 1: 'Decision Tree Regressor', 2: 'Linear Regression', 3: 'Support Vector Regression'}\n",
        "# Fit the pipelines\n",
        "for pipe in pipelines:\n",
        "\tpipe.fit(X_train, y_train)\n",
        " \n",
        "for i,model in enumerate(pipelines):\n",
        "    pred = model.predict(X_val)\n",
        "    print(\"{} Model Accuracy: {}\".format(pipe_dict[i],r2_score(y_val, pred)* 100))\n",
        "\n",
        "print(\"--- %s seconds ---\" % (time.time() - start_time))   # Displaying the time in seconds"
      ],
      "execution_count": 0,
      "outputs": [
        {
          "output_type": "stream",
          "text": [
            "Random Forest Regression Model Accuracy: 84.56441462355644\n",
            "Decision Tree Regressor Model Accuracy: 73.63043257596635\n",
            "Linear Regression Model Accuracy: 55.75289988835126\n",
            "Support Vector Regression Model Accuracy: 29.220779313595603\n",
            "--- 627.6641225814819 seconds ---\n"
          ],
          "name": "stdout"
        }
      ]
    },
    {
      "cell_type": "markdown",
      "metadata": {
        "id": "YCJzKneUcef7",
        "colab_type": "text"
      },
      "source": [
        "As seen from the above accuracy results, Random Forest Regression and DecisionTree Regression have far better results.  In fact, Random Forest Regression has the highest and better accuracy.\n",
        "\n",
        "\n",
        "\n",
        "\n",
        "\n",
        "\n",
        "---\n",
        "\n"
      ]
    },
    {
      "cell_type": "markdown",
      "metadata": {
        "id": "wgeLG00ctLhg",
        "colab_type": "text"
      },
      "source": [
        "\n",
        "### **Without Pipelining**"
      ]
    },
    {
      "cell_type": "code",
      "metadata": {
        "id": "iE9lenmWtIDS",
        "colab_type": "code",
        "colab": {
          "base_uri": "https://localhost:8080/",
          "height": 52
        },
        "outputId": "b699ff06-6748-47fb-cf91-edbfd2b483c3"
      },
      "source": [
        "start_time = time.time()                                                                                  # Calculating the time taken to convert the dataset from CSV to dataframe\n",
        "\n",
        "from sklearn.ensemble import RandomForestRegressor\n",
        "rfr = RandomForestRegressor().fit(X_train, y_train)\n",
        "pred = rfr.predict(X_val)\n",
        "print(r2_score(y_val, pred))\n",
        "\n",
        "print(\"--- %s seconds ---\" % (time.time() - start_time))                                                  # Displaying the time in seconds"
      ],
      "execution_count": 97,
      "outputs": [
        {
          "output_type": "stream",
          "text": [
            "0.843830769909487\n",
            "--- 45.22931528091431 seconds ---\n"
          ],
          "name": "stdout"
        }
      ]
    },
    {
      "cell_type": "code",
      "metadata": {
        "id": "H004rCCDtRLT",
        "colab_type": "code",
        "colab": {
          "base_uri": "https://localhost:8080/",
          "height": 52
        },
        "outputId": "75eafc44-fc49-4d05-b19a-ea35c2d0ab7a"
      },
      "source": [
        "start_time = time.time()                                                                                  # Calculating the time taken to convert the dataset from CSV to dataframe\n",
        "\n",
        "rfr = DecisionTreeRegressor().fit(X_train, y_train)\n",
        "pred = rfr.predict(X_val)\n",
        "print(r2_score(y_val, pred))\n",
        "\n",
        "print(\"--- %s seconds ---\" % (time.time() - start_time))                                                  # Displaying the time in seconds"
      ],
      "execution_count": 98,
      "outputs": [
        {
          "output_type": "stream",
          "text": [
            "0.7281891205703128\n",
            "--- 0.5952768325805664 seconds ---\n"
          ],
          "name": "stdout"
        }
      ]
    },
    {
      "cell_type": "code",
      "metadata": {
        "id": "EI7DFxa_tSeR",
        "colab_type": "code",
        "colab": {
          "base_uri": "https://localhost:8080/",
          "height": 52
        },
        "outputId": "b7e8a8b3-eeda-4eba-8240-2b1607f81f10"
      },
      "source": [
        "start_time = time.time()                                                                                  # Calculating the time taken to convert the dataset from CSV to dataframe\n",
        "\n",
        "rfr = LinearRegression().fit(X_train, y_train)\n",
        "pred = rfr.predict(X_val)\n",
        "print(r2_score(y_val, pred))\n",
        "\n",
        "print(\"--- %s seconds ---\" % (time.time() - start_time))                                                  # Displaying the time in seconds"
      ],
      "execution_count": 99,
      "outputs": [
        {
          "output_type": "stream",
          "text": [
            "0.5608017549363011\n",
            "--- 0.07018089294433594 seconds ---\n"
          ],
          "name": "stdout"
        }
      ]
    },
    {
      "cell_type": "code",
      "metadata": {
        "id": "KNwdY1dVtTrh",
        "colab_type": "code",
        "colab": {
          "base_uri": "https://localhost:8080/",
          "height": 52
        },
        "outputId": "e8eb88d2-e37d-4f78-b4f7-0f8e17d1c93b"
      },
      "source": [
        "start_time = time.time()                                                                                  # Calculating the time taken to convert the dataset from CSV to dataframe\n",
        "\n",
        "rfr = svm.SVR().fit(X_train, y_train)\n",
        "pred = rfr.predict(X_val)\n",
        "print(r2_score(y_val, pred))\n",
        "\n",
        "print(\"--- %s seconds ---\" % (time.time() - start_time))                                                  # Displaying the time in seconds"
      ],
      "execution_count": 100,
      "outputs": [
        {
          "output_type": "stream",
          "text": [
            "-0.05348582993281803\n",
            "--- 548.5961494445801 seconds ---\n"
          ],
          "name": "stdout"
        }
      ]
    },
    {
      "cell_type": "markdown",
      "metadata": {
        "id": "mOm4YvVfckCF",
        "colab_type": "text"
      },
      "source": [
        "## **Underfitting**\n",
        "\n",
        "A model has a low bias if it predicts well the labels of the training data. If the same model makes many mistakes on the training data, then the model is prone to have a high bias or the model is definitely under-fitting"
      ]
    },
    {
      "cell_type": "markdown",
      "metadata": {
        "id": "UkFDqbFtc8df",
        "colab_type": "text"
      },
      "source": [
        "**Random forest regression - Predicting the labels of training data**"
      ]
    },
    {
      "cell_type": "code",
      "metadata": {
        "id": "ErsOwB4Ic778",
        "colab_type": "code",
        "colab": {}
      },
      "source": [
        "# Feature Scaling\n",
        "sc = StandardScaler()\n",
        "X_train = sc.fit_transform(X_train)\n",
        "X_test = sc.transform(X_test)"
      ],
      "execution_count": 0,
      "outputs": []
    },
    {
      "cell_type": "code",
      "metadata": {
        "id": "0I7GRvoRchie",
        "colab_type": "code",
        "outputId": "ffcfa1c4-b6c4-42e7-c826-1de216cad5a9",
        "colab": {
          "base_uri": "https://localhost:8080/",
          "height": 52
        }
      },
      "source": [
        "start_time = time.time()                                  \n",
        "\n",
        "rfr = RandomForestRegressor().fit(X_train, y_train)\n",
        "pred = rfr.predict(X_train)\n",
        "print(r2_score(y_train, pred)* 100)\n",
        "\n",
        "print(\"--- %s seconds ---\" % (time.time() - start_time))   # Displaying the time in seconds"
      ],
      "execution_count": 0,
      "outputs": [
        {
          "output_type": "stream",
          "text": [
            "97.93959526405982\n",
            "--- 38.97345018386841 seconds ---\n"
          ],
          "name": "stdout"
        }
      ]
    },
    {
      "cell_type": "code",
      "metadata": {
        "id": "n7gOxb8VdHNy",
        "colab_type": "code",
        "outputId": "e7d6edf8-1aff-4f0c-9f3d-96ebd88b95d3",
        "colab": {
          "base_uri": "https://localhost:8080/",
          "height": 415
        }
      },
      "source": [
        "df = pd.DataFrame({'Actual': y_train, 'Predicted': pred})\n",
        "df"
      ],
      "execution_count": 0,
      "outputs": [
        {
          "output_type": "execute_result",
          "data": {
            "text/html": [
              "<div>\n",
              "<style scoped>\n",
              "    .dataframe tbody tr th:only-of-type {\n",
              "        vertical-align: middle;\n",
              "    }\n",
              "\n",
              "    .dataframe tbody tr th {\n",
              "        vertical-align: top;\n",
              "    }\n",
              "\n",
              "    .dataframe thead th {\n",
              "        text-align: right;\n",
              "    }\n",
              "</style>\n",
              "<table border=\"1\" class=\"dataframe\">\n",
              "  <thead>\n",
              "    <tr style=\"text-align: right;\">\n",
              "      <th></th>\n",
              "      <th>Actual</th>\n",
              "      <th>Predicted</th>\n",
              "    </tr>\n",
              "  </thead>\n",
              "  <tbody>\n",
              "    <tr>\n",
              "      <th>8985</th>\n",
              "      <td>1300</td>\n",
              "      <td>1215.618500</td>\n",
              "    </tr>\n",
              "    <tr>\n",
              "      <th>62827</th>\n",
              "      <td>2390</td>\n",
              "      <td>2373.248333</td>\n",
              "    </tr>\n",
              "    <tr>\n",
              "      <th>37582</th>\n",
              "      <td>1300</td>\n",
              "      <td>1549.593810</td>\n",
              "    </tr>\n",
              "    <tr>\n",
              "      <th>46838</th>\n",
              "      <td>6500</td>\n",
              "      <td>5844.000000</td>\n",
              "    </tr>\n",
              "    <tr>\n",
              "      <th>53938</th>\n",
              "      <td>850</td>\n",
              "      <td>989.350000</td>\n",
              "    </tr>\n",
              "    <tr>\n",
              "      <th>...</th>\n",
              "      <td>...</td>\n",
              "      <td>...</td>\n",
              "    </tr>\n",
              "    <tr>\n",
              "      <th>1962</th>\n",
              "      <td>1200</td>\n",
              "      <td>1388.143333</td>\n",
              "    </tr>\n",
              "    <tr>\n",
              "      <th>82051</th>\n",
              "      <td>10199</td>\n",
              "      <td>8991.860000</td>\n",
              "    </tr>\n",
              "    <tr>\n",
              "      <th>88392</th>\n",
              "      <td>1900</td>\n",
              "      <td>2205.600000</td>\n",
              "    </tr>\n",
              "    <tr>\n",
              "      <th>55772</th>\n",
              "      <td>799</td>\n",
              "      <td>720.356667</td>\n",
              "    </tr>\n",
              "    <tr>\n",
              "      <th>76918</th>\n",
              "      <td>2500</td>\n",
              "      <td>2070.670000</td>\n",
              "    </tr>\n",
              "  </tbody>\n",
              "</table>\n",
              "<p>76266 rows × 2 columns</p>\n",
              "</div>"
            ],
            "text/plain": [
              "       Actual    Predicted\n",
              "8985     1300  1215.618500\n",
              "62827    2390  2373.248333\n",
              "37582    1300  1549.593810\n",
              "46838    6500  5844.000000\n",
              "53938     850   989.350000\n",
              "...       ...          ...\n",
              "1962     1200  1388.143333\n",
              "82051   10199  8991.860000\n",
              "88392    1900  2205.600000\n",
              "55772     799   720.356667\n",
              "76918    2500  2070.670000\n",
              "\n",
              "[76266 rows x 2 columns]"
            ]
          },
          "metadata": {
            "tags": []
          },
          "execution_count": 44
        }
      ]
    },
    {
      "cell_type": "code",
      "metadata": {
        "id": "Ru38KmZpdJ0o",
        "colab_type": "code",
        "outputId": "e2f35a1b-7678-4a19-ffbb-427830b12d31",
        "colab": {
          "base_uri": "https://localhost:8080/",
          "height": 369
        }
      },
      "source": [
        "df1 = df.head(35)\n",
        "df1.plot(kind='bar',figsize=(10,5.5))\n",
        "plt.grid(which='major', linestyle='-', linewidth='0.5', color='green')\n",
        "plt.grid(which='minor', linestyle=':', linewidth='0.5', color='black')\n",
        "plt.show()"
      ],
      "execution_count": 0,
      "outputs": [
        {
          "output_type": "display_data",
          "data": {
            "image/png": "[encoded data removed]",
            "text/plain": [
              "<Figure size 720x396 with 1 Axes>"
            ]
          },
          "metadata": {
            "tags": []
          }
        }
      ]
    },
    {
      "cell_type": "markdown",
      "metadata": {
        "id": "QCTjZ7wSdgMX",
        "colab_type": "text"
      },
      "source": [
        "Since the accuracy is almost 98%, it means that the model is not making manymistakes while predicting the training labels. Because there is not much of a differencebetween the actual and the predicted values as seen above.  Hence the random forestmodel is not under fitting"
      ]
    },
    {
      "cell_type": "markdown",
      "metadata": {
        "id": "5zGpNlLxdiIt",
        "colab_type": "text"
      },
      "source": [
        "\n",
        "\n",
        "---\n",
        "\n"
      ]
    },
    {
      "cell_type": "markdown",
      "metadata": {
        "id": "AjVrrGjqdimh",
        "colab_type": "text"
      },
      "source": [
        "**Decision Tree regression - Predicting the labels of training data**"
      ]
    },
    {
      "cell_type": "code",
      "metadata": {
        "id": "nDj3YTjtdfsm",
        "colab_type": "code",
        "outputId": "a01224a0-615e-43ad-d083-a887b3ab704f",
        "colab": {
          "base_uri": "https://localhost:8080/",
          "height": 52
        }
      },
      "source": [
        "start_time = time.time()                                  \n",
        "\n",
        "dtr = DecisionTreeRegressor()\n",
        "dtr.fit(X_train, y_train)\n",
        "pred = dtr.predict(X_train)\n",
        "print(r2_score(y_train, pred) * 100)\n",
        "\n",
        "print(\"--- %s seconds ---\" % (time.time() - start_time))   # Displaying the time in seconds"
      ],
      "execution_count": 0,
      "outputs": [
        {
          "output_type": "stream",
          "text": [
            "99.36118948282913\n",
            "--- 0.5616326332092285 seconds ---\n"
          ],
          "name": "stdout"
        }
      ]
    },
    {
      "cell_type": "code",
      "metadata": {
        "id": "wDR0OTuqfapa",
        "colab_type": "code",
        "outputId": "10e61028-4e43-4453-a371-7a30e1e7c0ad",
        "colab": {
          "base_uri": "https://localhost:8080/",
          "height": 415
        }
      },
      "source": [
        "df = pd.DataFrame({'Actual': y_train, 'Predicted': pred})\n",
        "df"
      ],
      "execution_count": 0,
      "outputs": [
        {
          "output_type": "execute_result",
          "data": {
            "text/html": [
              "<div>\n",
              "<style scoped>\n",
              "    .dataframe tbody tr th:only-of-type {\n",
              "        vertical-align: middle;\n",
              "    }\n",
              "\n",
              "    .dataframe tbody tr th {\n",
              "        vertical-align: top;\n",
              "    }\n",
              "\n",
              "    .dataframe thead th {\n",
              "        text-align: right;\n",
              "    }\n",
              "</style>\n",
              "<table border=\"1\" class=\"dataframe\">\n",
              "  <thead>\n",
              "    <tr style=\"text-align: right;\">\n",
              "      <th></th>\n",
              "      <th>Actual</th>\n",
              "      <th>Predicted</th>\n",
              "    </tr>\n",
              "  </thead>\n",
              "  <tbody>\n",
              "    <tr>\n",
              "      <th>8985</th>\n",
              "      <td>1300</td>\n",
              "      <td>1463.335526</td>\n",
              "    </tr>\n",
              "    <tr>\n",
              "      <th>62827</th>\n",
              "      <td>2390</td>\n",
              "      <td>2140.000000</td>\n",
              "    </tr>\n",
              "    <tr>\n",
              "      <th>37582</th>\n",
              "      <td>1300</td>\n",
              "      <td>1266.666667</td>\n",
              "    </tr>\n",
              "    <tr>\n",
              "      <th>46838</th>\n",
              "      <td>6500</td>\n",
              "      <td>6500.000000</td>\n",
              "    </tr>\n",
              "    <tr>\n",
              "      <th>53938</th>\n",
              "      <td>850</td>\n",
              "      <td>850.000000</td>\n",
              "    </tr>\n",
              "    <tr>\n",
              "      <th>...</th>\n",
              "      <td>...</td>\n",
              "      <td>...</td>\n",
              "    </tr>\n",
              "    <tr>\n",
              "      <th>1962</th>\n",
              "      <td>1200</td>\n",
              "      <td>1200.000000</td>\n",
              "    </tr>\n",
              "    <tr>\n",
              "      <th>82051</th>\n",
              "      <td>10199</td>\n",
              "      <td>10199.000000</td>\n",
              "    </tr>\n",
              "    <tr>\n",
              "      <th>88392</th>\n",
              "      <td>1900</td>\n",
              "      <td>1900.000000</td>\n",
              "    </tr>\n",
              "    <tr>\n",
              "      <th>55772</th>\n",
              "      <td>799</td>\n",
              "      <td>1043.800000</td>\n",
              "    </tr>\n",
              "    <tr>\n",
              "      <th>76918</th>\n",
              "      <td>2500</td>\n",
              "      <td>2500.000000</td>\n",
              "    </tr>\n",
              "  </tbody>\n",
              "</table>\n",
              "<p>76266 rows × 2 columns</p>\n",
              "</div>"
            ],
            "text/plain": [
              "       Actual     Predicted\n",
              "8985     1300   1463.335526\n",
              "62827    2390   2140.000000\n",
              "37582    1300   1266.666667\n",
              "46838    6500   6500.000000\n",
              "53938     850    850.000000\n",
              "...       ...           ...\n",
              "1962     1200   1200.000000\n",
              "82051   10199  10199.000000\n",
              "88392    1900   1900.000000\n",
              "55772     799   1043.800000\n",
              "76918    2500   2500.000000\n",
              "\n",
              "[76266 rows x 2 columns]"
            ]
          },
          "metadata": {
            "tags": []
          },
          "execution_count": 52
        }
      ]
    },
    {
      "cell_type": "code",
      "metadata": {
        "id": "BlZm_HZpf66J",
        "colab_type": "code",
        "outputId": "5047af2e-8e59-4867-c967-7fdc7e11d042",
        "colab": {
          "base_uri": "https://localhost:8080/",
          "height": 369
        }
      },
      "source": [
        "df1 = df.head(35)\n",
        "df1.plot(kind='bar',figsize=(10,5.5))\n",
        "plt.grid(which='major', linestyle='-', linewidth='0.5', color='green')\n",
        "plt.grid(which='minor', linestyle=':', linewidth='0.5', color='black')\n",
        "plt.show()"
      ],
      "execution_count": 0,
      "outputs": [
        {
          "output_type": "display_data",
          "data": {
            "image/png": "[encoded data removed]",
            "text/plain": [
              "<Figure size 720x396 with 1 Axes>"
            ]
          },
          "metadata": {
            "tags": []
          }
        }
      ]
    },
    {
      "cell_type": "markdown",
      "metadata": {
        "id": "XvLeJ78Yf_M0",
        "colab_type": "text"
      },
      "source": [
        "The accuracy of the decision tree regression is  99%, it means that the model is not making any mistakes while predicting the training labels (Almost a perfect score). Because there hardly a difference between the actual and the predicted values as seen above.  Hence the decision tree regression is not under fitting.\n",
        "\n",
        "\n",
        "Overall as seen from the above results both the model did not underfit. Both the models were trained well on the training sets and both predicted the training labels very well."
      ]
    },
    {
      "cell_type": "markdown",
      "metadata": {
        "id": "u6Yfy747gDiI",
        "colab_type": "text"
      },
      "source": [
        "\n",
        "\n",
        "---\n",
        "\n"
      ]
    },
    {
      "cell_type": "markdown",
      "metadata": {
        "id": "bnMPBH5zgEBi",
        "colab_type": "text"
      },
      "source": [
        "## **Overfitting**\n",
        "\n",
        "In the case of overfitting the model that overfits predicts very well the training data but poorly the data from at least one of the two holdout sets."
      ]
    },
    {
      "cell_type": "markdown",
      "metadata": {
        "id": "sfLNaexagM49",
        "colab_type": "text"
      },
      "source": [
        "**Random Forest Regression**"
      ]
    },
    {
      "cell_type": "code",
      "metadata": {
        "id": "lIkAiOHTgMn0",
        "colab_type": "code",
        "outputId": "70cacbf6-9b4d-47a1-a7c3-b1aaefc0984a",
        "colab": {
          "base_uri": "https://localhost:8080/",
          "height": 52
        }
      },
      "source": [
        "from sklearn.ensemble import RandomForestRegressor\n",
        "start_time = time.time()   \n",
        "\n",
        "rfr = RandomForestRegressor().fit(X_train, y_train)\n",
        "pred = rfr.predict(X_test)\n",
        "print(r2_score(y_test, pred)* 100)\n",
        "print(\"--- %s seconds ---\" % (time.time() - start_time))     "
      ],
      "execution_count": 0,
      "outputs": [
        {
          "output_type": "stream",
          "text": [
            "84.56992310069393\n",
            "--- 35.167516469955444 seconds ---\n"
          ],
          "name": "stdout"
        }
      ]
    },
    {
      "cell_type": "markdown",
      "metadata": {
        "id": "1G1fjks8go5h",
        "colab_type": "text"
      },
      "source": [
        "**Decision Tree Regression**\n"
      ]
    },
    {
      "cell_type": "code",
      "metadata": {
        "id": "1Vmm7J3NgKGz",
        "colab_type": "code",
        "outputId": "2657a4e4-d996-4025-8198-e8b34e1b0819",
        "colab": {
          "base_uri": "https://localhost:8080/",
          "height": 52
        }
      },
      "source": [
        "start_time = time.time()                                  \n",
        "\n",
        "dtr = DecisionTreeRegressor().fit(X_train, y_train)\n",
        "pred = dtr.predict(X_test)\n",
        "print(r2_score(y_test, pred) * 100)\n",
        "\n",
        "print(\"--- %s seconds ---\" % (time.time() - start_time))   # Displaying the time in seconds"
      ],
      "execution_count": 0,
      "outputs": [
        {
          "output_type": "stream",
          "text": [
            "74.01567377059317\n",
            "--- 0.5693495273590088 seconds ---\n"
          ],
          "name": "stdout"
        }
      ]
    },
    {
      "cell_type": "markdown",
      "metadata": {
        "id": "aZXUZ1FGhHUM",
        "colab_type": "text"
      },
      "source": [
        "As seen above the results of decision tree is lower than the Random forest regression.Further hyper parameter tuning will be performed to increase the accuracy as well aschoose the best parameters for random forest regression."
      ]
    },
    {
      "cell_type": "markdown",
      "metadata": {
        "id": "xjFQqGhTiR7M",
        "colab_type": "text"
      },
      "source": [
        "##  **Hyper parameter tuning**\n",
        "\n",
        "Hyperparameter optimization or tuning is the problem of choosing a set of optimalhyperparameters for a learning algorithm.  Usually a hyper parameter’s value is usedto control a learning algorithm.\n",
        "\n",
        "\n",
        "\n",
        "> **Note:** The shown below might change every time you run, and this particulars results might differ too. So to see the original results which was conducted intially can be found in my [GitHub](https://github.com/Tanu-N-Prabhu/UsedCarPricePredictionSystem-Files/blob/master/Random_Forest_Manual_tuning_of_parameters.ipynb). I have uploaded a sepaeate notebook, the same results are reported in the project report.\n",
        "\n",
        "\n",
        "\n",
        "**Manual tuning of parameters**"
      ]
    },
    {
      "cell_type": "code",
      "metadata": {
        "id": "yXpYIs_nisy6",
        "colab_type": "code",
        "colab": {}
      },
      "source": [
        "sc = StandardScaler()\n",
        "X_train = sc.fit_transform(X_train)\n",
        "X_test = sc.transform(X_test)"
      ],
      "execution_count": 0,
      "outputs": []
    },
    {
      "cell_type": "code",
      "metadata": {
        "id": "HbR0uPzlibR_",
        "colab_type": "code",
        "outputId": "7d37fc79-ecc3-44bb-f237-70fac0611035",
        "colab": {
          "base_uri": "https://localhost:8080/",
          "height": 52
        }
      },
      "source": [
        "start_time = time.time()                                                                                  # Calculating the time taken to convert the dataset from CSV to dataframe\n",
        "rfr = RandomForestRegressor(n_estimators= 100, max_depth= 5, max_features = 10, min_samples_leaf = 2).fit(X_train, y_train)\n",
        "pred = rfr.predict(X_test)\n",
        "print(r2_score(y_test, pred)* 100)\n",
        "print(\"--- %s seconds ---\" % (time.time() - start_time))                                                  # Displaying the time in seconds"
      ],
      "execution_count": 0,
      "outputs": [
        {
          "output_type": "stream",
          "text": [
            "76.67203081274758\n",
            "--- 5.616417169570923 seconds ---\n"
          ],
          "name": "stdout"
        }
      ]
    },
    {
      "cell_type": "code",
      "metadata": {
        "id": "UEh3O35CijPh",
        "colab_type": "code",
        "outputId": "f30d5746-946a-4607-8010-c4453659a275",
        "colab": {
          "base_uri": "https://localhost:8080/",
          "height": 69
        }
      },
      "source": [
        "print(\"Mean Absolute Error is :\", mean_absolute_error(y_test, pred))\n",
        "print(\" — — — — — — — — — — — — — — — — — — — — — — — \")\n",
        "print(\"Mean Squared Error is :\", mean_squared_error(y_test, pred))"
      ],
      "execution_count": 0,
      "outputs": [
        {
          "output_type": "stream",
          "text": [
            "Mean Absolute Error is : 1475.8595680548713\n",
            " — — — — — — — — — — — — — — — — — — — — — — — \n",
            "Mean Squared Error is : 4388937.31570005\n"
          ],
          "name": "stdout"
        }
      ]
    },
    {
      "cell_type": "code",
      "metadata": {
        "id": "NEq7JJcdjL8i",
        "colab_type": "code",
        "outputId": "f549449b-c153-473f-a86a-d882f1ee0dc2",
        "colab": {
          "base_uri": "https://localhost:8080/",
          "height": 52
        }
      },
      "source": [
        "from sklearn.ensemble import RandomForestRegressor\n",
        "start_time = time.time()                                                                                  # Calculating the time taken to convert the dataset from CSV to dataframe\n",
        "\n",
        "rfr = RandomForestRegressor(n_estimators= 150, max_depth= 6, max_features = 11, min_samples_leaf = 3).fit(X_train, y_train)\n",
        "pred = rfr.predict(X_test)\n",
        "print(r2_score(y_test, pred)* 100)\n",
        "print(\"--- %s seconds ---\" % (time.time() - start_time))                                                  # Displaying the time in seconds"
      ],
      "execution_count": 0,
      "outputs": [
        {
          "output_type": "stream",
          "text": [
            "79.72178413257973\n",
            "--- 10.596860885620117 seconds ---\n"
          ],
          "name": "stdout"
        }
      ]
    },
    {
      "cell_type": "code",
      "metadata": {
        "id": "uBkrlXDRjP9r",
        "colab_type": "code",
        "outputId": "ca15ae5b-7ca9-4854-bb5e-580f0ef737c5",
        "colab": {
          "base_uri": "https://localhost:8080/",
          "height": 69
        }
      },
      "source": [
        "print(\"Mean Absolute Error is :\", mean_absolute_error(y_test, pred))\n",
        "print(\" — — — — — — — — — — — — — — — — — — — — — — — \")\n",
        "print(\"Mean Squared Error is :\", mean_squared_error(y_test, pred))"
      ],
      "execution_count": 0,
      "outputs": [
        {
          "output_type": "stream",
          "text": [
            "Mean Absolute Error is : 1380.4905833220866\n",
            " — — — — — — — — — — — — — — — — — — — — — — — \n",
            "Mean Squared Error is : 3890831.1890781033\n"
          ],
          "name": "stdout"
        }
      ]
    },
    {
      "cell_type": "code",
      "metadata": {
        "id": "SOJsLbe4jRHc",
        "colab_type": "code",
        "outputId": "9e392463-bbc6-4987-ebce-d9d2f847b95a",
        "colab": {
          "base_uri": "https://localhost:8080/",
          "height": 52
        }
      },
      "source": [
        "from sklearn.ensemble import RandomForestRegressor\n",
        "start_time = time.time()                                                                                  # Calculating the time taken to convert the dataset from CSV to dataframe\n",
        "\n",
        "rfr = RandomForestRegressor(n_estimators= 200, max_depth= 7, max_features = 12, min_samples_leaf = 4).fit(X_train, y_train)\n",
        "pred = rfr.predict(X_test)\n",
        "print(r2_score(y_test, pred)* 100)\n",
        "print(\"--- %s seconds ---\" % (time.time() - start_time))                                                  # Displaying the time in seconds"
      ],
      "execution_count": 0,
      "outputs": [
        {
          "output_type": "stream",
          "text": [
            "81.44417143688383\n",
            "--- 17.121926069259644 seconds ---\n"
          ],
          "name": "stdout"
        }
      ]
    },
    {
      "cell_type": "code",
      "metadata": {
        "id": "W16AcnvajVSE",
        "colab_type": "code",
        "outputId": "14a75ced-279f-441c-9d41-06d5bb38698f",
        "colab": {
          "base_uri": "https://localhost:8080/",
          "height": 69
        }
      },
      "source": [
        "print(\"Mean Absolute Error is :\", mean_absolute_error(y_test, pred))\n",
        "print(\" — — — — — — — — — — — — — — — — — — — — — — — \")\n",
        "print(\"Mean Squared Error is :\", mean_squared_error(y_test, pred))"
      ],
      "execution_count": 0,
      "outputs": [
        {
          "output_type": "stream",
          "text": [
            "Mean Absolute Error is : 1308.7075321957743\n",
            " — — — — — — — — — — — — — — — — — — — — — — — \n",
            "Mean Squared Error is : 3560352.497704399\n"
          ],
          "name": "stdout"
        }
      ]
    },
    {
      "cell_type": "code",
      "metadata": {
        "id": "QzpIt-hFjaae",
        "colab_type": "code",
        "outputId": "e12c1377-4ee0-4345-eb1f-ea6812ba9f23",
        "colab": {
          "base_uri": "https://localhost:8080/",
          "height": 52
        }
      },
      "source": [
        "from sklearn.ensemble import RandomForestRegressor\n",
        "start_time = time.time()                                                                                  # Calculating the time taken to convert the dataset from CSV to dataframe\n",
        "\n",
        "rfr = RandomForestRegressor(n_estimators= 210, max_depth= 8, max_features = 13, min_samples_leaf = 5).fit(X_train, y_train)\n",
        "pred = rfr.predict(X_test)\n",
        "print(r2_score(y_test, pred)* 100)\n",
        "print(\"--- %s seconds ---\" % (time.time() - start_time))                                                  # Displaying the time in seconds"
      ],
      "execution_count": 0,
      "outputs": [
        {
          "output_type": "stream",
          "text": [
            "82.76755243204815\n",
            "--- 21.724732398986816 seconds ---\n"
          ],
          "name": "stdout"
        }
      ]
    },
    {
      "cell_type": "code",
      "metadata": {
        "id": "_WSgpSlrjcG9",
        "colab_type": "code",
        "outputId": "51e8858a-28f0-4325-8ccb-24bf0b2e0ead",
        "colab": {
          "base_uri": "https://localhost:8080/",
          "height": 69
        }
      },
      "source": [
        "print(\"Mean Absolute Error is :\", mean_absolute_error(y_test, pred))\n",
        "print(\" — — — — — — — — — — — — — — — — — — — — — — — \")\n",
        "print(\"Mean Squared Error is :\", mean_squared_error(y_test, pred))"
      ],
      "execution_count": 0,
      "outputs": [
        {
          "output_type": "stream",
          "text": [
            "Mean Absolute Error is : 1252.373634323158\n",
            " — — — — — — — — — — — — — — — — — — — — — — — \n",
            "Mean Squared Error is : 3306432.1289360994\n"
          ],
          "name": "stdout"
        }
      ]
    },
    {
      "cell_type": "code",
      "metadata": {
        "id": "QO7p2AIujdH2",
        "colab_type": "code",
        "outputId": "024be345-1160-4ede-c962-497b73125de7",
        "colab": {
          "base_uri": "https://localhost:8080/",
          "height": 52
        }
      },
      "source": [
        "from sklearn.ensemble import RandomForestRegressor\n",
        "start_time = time.time()                                                                                  # Calculating the time taken to convert the dataset from CSV to dataframe\n",
        "\n",
        "rfr = RandomForestRegressor(n_estimators= 220, max_depth= 9, max_features = 14, min_samples_leaf = 6).fit(X_train, y_train)\n",
        "pred = rfr.predict(X_test)\n",
        "print(r2_score(y_test, pred)* 100)\n",
        "print(\"--- %s seconds ---\" % (time.time() - start_time))                                                  # Displaying the time in seconds"
      ],
      "execution_count": 0,
      "outputs": [
        {
          "output_type": "stream",
          "text": [
            "83.67134179574155\n",
            "--- 26.774303197860718 seconds ---\n"
          ],
          "name": "stdout"
        }
      ]
    },
    {
      "cell_type": "code",
      "metadata": {
        "id": "PIo74MOrjeRW",
        "colab_type": "code",
        "outputId": "fbd49ef4-4c53-4058-c0b4-8ad169c6a55b",
        "colab": {
          "base_uri": "https://localhost:8080/",
          "height": 69
        }
      },
      "source": [
        "print(\"Mean Absolute Error is :\", mean_absolute_error(y_test, pred))\n",
        "print(\" — — — — — — — — — — — — — — — — — — — — — — — \")\n",
        "print(\"Mean Squared Error is :\", mean_squared_error(y_test, pred))"
      ],
      "execution_count": 0,
      "outputs": [
        {
          "output_type": "stream",
          "text": [
            "Mean Absolute Error is : 1213.525547101698\n",
            " — — — — — — — — — — — — — — — — — — — — — — — \n",
            "Mean Squared Error is : 3133019.839235353\n"
          ],
          "name": "stdout"
        }
      ]
    },
    {
      "cell_type": "code",
      "metadata": {
        "id": "uXS3TSWljquq",
        "colab_type": "code",
        "outputId": "e3d51a40-9bbe-4a94-82bb-ce03af68cfd1",
        "colab": {
          "base_uri": "https://localhost:8080/",
          "height": 52
        }
      },
      "source": [
        "from sklearn.ensemble import RandomForestRegressor\n",
        "start_time = time.time()                                                                                  # Calculating the time taken to convert the dataset from CSV to dataframe\n",
        "\n",
        "rfr = RandomForestRegressor(n_estimators= 230, max_depth= 10, max_features = 15, min_samples_leaf = 7).fit(X_train, y_train)\n",
        "pred = rfr.predict(X_test)\n",
        "print(r2_score(y_test, pred)* 100)\n",
        "print(\"--- %s seconds ---\" % (time.time() - start_time))                                                  # Displaying the time in seconds"
      ],
      "execution_count": 0,
      "outputs": [
        {
          "output_type": "stream",
          "text": [
            "84.45818386198273\n",
            "--- 32.217385053634644 seconds ---\n"
          ],
          "name": "stdout"
        }
      ]
    },
    {
      "cell_type": "code",
      "metadata": {
        "id": "0DdcrXsAjslC",
        "colab_type": "code",
        "outputId": "f5cb9a10-9eb7-42bf-b8f7-2edb1c6bc27c",
        "colab": {
          "base_uri": "https://localhost:8080/",
          "height": 69
        }
      },
      "source": [
        "print(\"Mean Absolute Error is :\", mean_absolute_error(y_test, pred))\n",
        "print(\" — — — — — — — — — — — — — — — — — — — — — — — \")\n",
        "print(\"Mean Squared Error is :\", mean_squared_error(y_test, pred))"
      ],
      "execution_count": 0,
      "outputs": [
        {
          "output_type": "stream",
          "text": [
            "Mean Absolute Error is : 1179.5231680156317\n",
            " — — — — — — — — — — — — — — — — — — — — — — — \n",
            "Mean Squared Error is : 2982046.515338129\n"
          ],
          "name": "stdout"
        }
      ]
    },
    {
      "cell_type": "code",
      "metadata": {
        "id": "ErvFiepijtMp",
        "colab_type": "code",
        "outputId": "0bbeac63-30fc-4ace-fbb6-206dd14f9c19",
        "colab": {
          "base_uri": "https://localhost:8080/",
          "height": 52
        }
      },
      "source": [
        "from sklearn.ensemble import RandomForestRegressor\n",
        "start_time = time.time()                                                                                  # Calculating the time taken to convert the dataset from CSV to dataframe\n",
        "\n",
        "rfr = RandomForestRegressor(n_estimators= 240, max_depth= 11, max_features = 16, min_samples_leaf = 8).fit(X_train, y_train)\n",
        "pred = rfr.predict(X_test)\n",
        "print(r2_score(y_test, pred)* 100)\n",
        "print(\"--- %s seconds ---\" % (time.time() - start_time))                                                  # Displaying the time in seconds"
      ],
      "execution_count": 0,
      "outputs": [
        {
          "output_type": "stream",
          "text": [
            "84.97160397986423\n",
            "--- 38.55518341064453 seconds ---\n"
          ],
          "name": "stdout"
        }
      ]
    },
    {
      "cell_type": "code",
      "metadata": {
        "id": "CJgOs5FIjuxM",
        "colab_type": "code",
        "outputId": "5500bb89-12c2-4a06-85fd-0f6435fb9850",
        "colab": {
          "base_uri": "https://localhost:8080/",
          "height": 69
        }
      },
      "source": [
        "print(\"Mean Absolute Error is :\", mean_absolute_error(y_test, pred))\n",
        "print(\" — — — — — — — — — — — — — — — — — — — — — — — \")\n",
        "print(\"Mean Squared Error is :\", mean_squared_error(y_test, pred))"
      ],
      "execution_count": 0,
      "outputs": [
        {
          "output_type": "stream",
          "text": [
            "Mean Absolute Error is : 1156.2514017045623\n",
            " — — — — — — — — — — — — — — — — — — — — — — — \n",
            "Mean Squared Error is : 2883535.333643741\n"
          ],
          "name": "stdout"
        }
      ]
    },
    {
      "cell_type": "code",
      "metadata": {
        "id": "5pWzPQg0jxEi",
        "colab_type": "code",
        "outputId": "e4bc5c0d-752c-4866-f722-7abaf282e489",
        "colab": {
          "base_uri": "https://localhost:8080/",
          "height": 52
        }
      },
      "source": [
        "from sklearn.ensemble import RandomForestRegressor\n",
        "start_time = time.time()                                                                                  # Calculating the time taken to convert the dataset from CSV to dataframe\n",
        "\n",
        "rfr = RandomForestRegressor(n_estimators= 250, max_depth= 12, max_features = 17, min_samples_leaf = 9).fit(X_train, y_train)\n",
        "pred = rfr.predict(X_test)\n",
        "print(r2_score(y_test, pred)* 100)\n",
        "print(\"--- %s seconds ---\" % (time.time() - start_time))                                                  # Displaying the time in seconds"
      ],
      "execution_count": 0,
      "outputs": [
        {
          "output_type": "stream",
          "text": [
            "85.25824455689505\n",
            "--- 44.99290895462036 seconds ---\n"
          ],
          "name": "stdout"
        }
      ]
    },
    {
      "cell_type": "code",
      "metadata": {
        "id": "fV4BChFljxq9",
        "colab_type": "code",
        "outputId": "c4016be5-0f83-425c-b514-528091e3d137",
        "colab": {
          "base_uri": "https://localhost:8080/",
          "height": 69
        }
      },
      "source": [
        "print(\"Mean Absolute Error is :\", mean_absolute_error(y_test, pred))\n",
        "print(\" — — — — — — — — — — — — — — — — — — — — — — — \")\n",
        "print(\"Mean Squared Error is :\", mean_squared_error(y_test, pred))"
      ],
      "execution_count": 0,
      "outputs": [
        {
          "output_type": "stream",
          "text": [
            "Mean Absolute Error is : 1142.7032152659826\n",
            " — — — — — — — — — — — — — — — — — — — — — — — \n",
            "Mean Squared Error is : 2828536.9006228796\n"
          ],
          "name": "stdout"
        }
      ]
    },
    {
      "cell_type": "code",
      "metadata": {
        "id": "CtLRhebYj3g_",
        "colab_type": "code",
        "outputId": "00070bd5-f395-4e7f-e670-3b1a8062777f",
        "colab": {
          "base_uri": "https://localhost:8080/",
          "height": 52
        }
      },
      "source": [
        "from sklearn.ensemble import RandomForestRegressor\n",
        "start_time = time.time()                                                                                  # Calculating the time taken to convert the dataset from CSV to dataframe\n",
        "\n",
        "rfr = RandomForestRegressor(n_estimators= 260, max_depth= 13, max_features = 18, min_samples_leaf = 10).fit(X_train, y_train)\n",
        "pred = rfr.predict(X_test)\n",
        "print(r2_score(y_test, pred)* 100)\n",
        "print(\"--- %s seconds ---\" % (time.time() - start_time))                                                  # Displaying the time in seconds"
      ],
      "execution_count": 0,
      "outputs": [
        {
          "output_type": "stream",
          "text": [
            "85.3899333299735\n",
            "--- 53.49248218536377 seconds ---\n"
          ],
          "name": "stdout"
        }
      ]
    },
    {
      "cell_type": "code",
      "metadata": {
        "id": "xo7PX-udj4h0",
        "colab_type": "code",
        "outputId": "70a03caf-bf30-41e2-a571-8620628a5dd3",
        "colab": {
          "base_uri": "https://localhost:8080/",
          "height": 69
        }
      },
      "source": [
        "print(\"Mean Absolute Error is :\", mean_absolute_error(y_test, pred))\n",
        "print(\" — — — — — — — — — — — — — — — — — — — — — — — \")\n",
        "print(\"Mean Squared Error is :\", mean_squared_error(y_test, pred))"
      ],
      "execution_count": 0,
      "outputs": [
        {
          "output_type": "stream",
          "text": [
            "Mean Absolute Error is : 1134.9671288139848\n",
            " — — — — — — — — — — — — — — — — — — — — — — — \n",
            "Mean Squared Error is : 2803269.451607887\n"
          ],
          "name": "stdout"
        }
      ]
    },
    {
      "cell_type": "code",
      "metadata": {
        "id": "arxXJMIIj5s0",
        "colab_type": "code",
        "outputId": "542f506c-fe75-4ac2-aa6b-3608e67b1f5f",
        "colab": {
          "base_uri": "https://localhost:8080/",
          "height": 52
        }
      },
      "source": [
        "from sklearn.ensemble import RandomForestRegressor\n",
        "start_time = time.time()                                                                                  # Calculating the time taken to convert the dataset from CSV to dataframe\n",
        "\n",
        "rfr = RandomForestRegressor(n_estimators= 270, max_depth= 14, max_features = 18, min_samples_leaf = 11).fit(X_train, y_train)\n",
        "pred = rfr.predict(X_test)\n",
        "print(r2_score(y_test, pred)* 100)\n",
        "print(\"--- %s seconds ---\" % (time.time() - start_time))                                                  # Displaying the time in seconds"
      ],
      "execution_count": 0,
      "outputs": [
        {
          "output_type": "stream",
          "text": [
            "85.44200757691713\n",
            "--- 55.09322762489319 seconds ---\n"
          ],
          "name": "stdout"
        }
      ]
    },
    {
      "cell_type": "code",
      "metadata": {
        "id": "DEmKlvHsj6r1",
        "colab_type": "code",
        "outputId": "eef63e3f-9763-4ee0-d356-63f40dae7829",
        "colab": {
          "base_uri": "https://localhost:8080/",
          "height": 69
        }
      },
      "source": [
        "print(\"Mean Absolute Error is :\", mean_absolute_error(y_test, pred))\n",
        "print(\" — — — — — — — — — — — — — — — — — — — — — — — \")\n",
        "print(\"Mean Squared Error is :\", mean_squared_error(y_test, pred))"
      ],
      "execution_count": 0,
      "outputs": [
        {
          "output_type": "stream",
          "text": [
            "Mean Absolute Error is : 1131.146757947394\n",
            " — — — — — — — — — — — — — — — — — — — — — — — \n",
            "Mean Squared Error is : 2793277.837676922\n"
          ],
          "name": "stdout"
        }
      ]
    },
    {
      "cell_type": "code",
      "metadata": {
        "id": "HfVWhTZLj7xr",
        "colab_type": "code",
        "outputId": "215b13a1-36f9-432b-9c77-320ee509de8f",
        "colab": {
          "base_uri": "https://localhost:8080/",
          "height": 52
        }
      },
      "source": [
        "from sklearn.ensemble import RandomForestRegressor\n",
        "start_time = time.time()                                                                                  # Calculating the time taken to convert the dataset from CSV to dataframe\n",
        "\n",
        "rfr = RandomForestRegressor(n_estimators= 280, max_depth= 15, max_features = 18, min_samples_leaf = 12).fit(X_train, y_train)\n",
        "pred = rfr.predict(X_test)\n",
        "print(r2_score(y_test, pred)* 100)\n",
        "print(\"--- %s seconds ---\" % (time.time() - start_time))                                                  # Displaying the time in seconds"
      ],
      "execution_count": 0,
      "outputs": [
        {
          "output_type": "stream",
          "text": [
            "85.42756029467287\n",
            "--- 58.34374523162842 seconds ---\n"
          ],
          "name": "stdout"
        }
      ]
    },
    {
      "cell_type": "code",
      "metadata": {
        "id": "U7kXhSJcj9CF",
        "colab_type": "code",
        "outputId": "9ab015bb-58bb-443d-bdcd-8e40c69b1961",
        "colab": {
          "base_uri": "https://localhost:8080/",
          "height": 69
        }
      },
      "source": [
        "print(\"Mean Absolute Error is :\", mean_absolute_error(y_test, pred))\n",
        "print(\" — — — — — — — — — — — — — — — — — — — — — — — \")\n",
        "print(\"Mean Squared Error is :\", mean_squared_error(y_test, pred))"
      ],
      "execution_count": 0,
      "outputs": [
        {
          "output_type": "stream",
          "text": [
            "Mean Absolute Error is : 1130.5164312858003\n",
            " — — — — — — — — — — — — — — — — — — — — — — — \n",
            "Mean Squared Error is : 2796049.8732800973\n"
          ],
          "name": "stdout"
        }
      ]
    },
    {
      "cell_type": "markdown",
      "metadata": {
        "id": "Bg5J8LuJl_kK",
        "colab_type": "text"
      },
      "source": [
        "As seen from the above results,  at one point the accuracy of the model started to  be  same  and  the  gradually  decrease.   This  was  the  point  where  the  model  was stopped  from  further  predicting  the  test  labels.   So  by  performing  manual  tuning of  hyper  parameters  the  best  parameters  are  `n_estimators`  =  270,  `max_dept`  =  14,`max_features`  =  18,  `min_samplesleaf`  =  11.   These are the best parameters obtained from manual tuning.\n",
        "\n",
        "\n",
        "\n",
        "---\n",
        "\n"
      ]
    },
    {
      "cell_type": "markdown",
      "metadata": {
        "id": "yOB4ln6amoQZ",
        "colab_type": "text"
      },
      "source": [
        "## **Using Grid search CV to choose the best parameters**\n",
        "\n",
        "\n",
        "\n",
        "\n",
        "\n"
      ]
    },
    {
      "cell_type": "markdown",
      "metadata": {
        "id": "LLpZQFLMxi4V",
        "colab_type": "text"
      },
      "source": [
        "The actual grid search result notebook is in my [GitHub repository](https://github.com/Tanu-N-Prabhu/UsedCarPricePredictionSystem-Files/blob/master/Random_Forest_Using_Grid_Search_CV.ipynb) this was done to main consistency. Because putting everything in a single notebook is not a good way."
      ]
    },
    {
      "cell_type": "code",
      "metadata": {
        "id": "qRX585kcxiXq",
        "colab_type": "code",
        "colab": {}
      },
      "source": [
        "from sklearn.model_selection import GridSearchCV\n",
        "from sklearn.ensemble import RandomForestRegressor\n",
        "\n",
        "start_time = time.time()                                                                                \n",
        "rfr = RandomForestRegressor()\n",
        "# Parameter of Random Forest Regression\n",
        "parameters = {\n",
        "                    \"n_estimators\":[5,50,150,250,350],\n",
        "                    \"max_depth\":[2,4,8,16,None],\n",
        "                    \"max_features\":[10, 11, 12, 13, 14],\n",
        "                    \"min_samples_leaf\": [2, 3, 4, 5, 6]\n",
        "             }\n",
        "cv = GridSearchCV(rfr,parameters,cv=2)\n",
        "cv.fit(X_train, y_train.values.ravel())\n",
        "print(\"--- %s seconds ---\" % (time.time() - start_time))  \n",
        "\n",
        "def display(results):\n",
        "    print(f'Best parameters are: {results.best_params_}')\n",
        "    print(\"\\n\")\n",
        "    mean_score = results.cv_results_['mean_test_score']\n",
        "    std_score = results.cv_results_['std_test_score']\n",
        "    params = results.cv_results_['params']\n",
        "    for mean,std,params in zip(mean_score,std_score,params):\n",
        "        print(f'{round(mean,3)} + or -{round(std,3)} for the {params}')\n",
        "display(cv)                                               "
      ],
      "execution_count": 0,
      "outputs": []
    },
    {
      "cell_type": "markdown",
      "metadata": {
        "id": "PVi2pevcyDwl",
        "colab_type": "text"
      },
      "source": [
        "So by tuning of hyper parameters using grid search the best parameters are n_estimators = 350, max_dept = 16, max_features = 10, min_samples_leaf = 2."
      ]
    },
    {
      "cell_type": "markdown",
      "metadata": {
        "id": "ua-FtYYyyHov",
        "colab_type": "text"
      },
      "source": [
        "\n",
        "\n",
        "---\n",
        "\n"
      ]
    },
    {
      "cell_type": "markdown",
      "metadata": {
        "id": "jVd2_TxRyIWn",
        "colab_type": "text"
      },
      "source": [
        "## **Regularization**\n",
        "\n",
        "Further the concept of regularization was implemented for testing purpose to see ifthere is any new findings.  The two most widely used types of regularization are calledL1 and L2 regularization.  L1 is knows as Lasso and L2 is known as Ridge regression."
      ]
    },
    {
      "cell_type": "markdown",
      "metadata": {
        "id": "OPh73dGbyRmf",
        "colab_type": "text"
      },
      "source": [
        "### **L1 Regularization (Lasso)**"
      ]
    },
    {
      "cell_type": "code",
      "metadata": {
        "id": "LMwsAiF_y6tW",
        "colab_type": "code",
        "colab": {}
      },
      "source": [
        "sc = StandardScaler()\n",
        "X_train = sc.fit_transform(X_train)\n",
        "X_test = sc.transform(X_test)"
      ],
      "execution_count": 0,
      "outputs": []
    },
    {
      "cell_type": "markdown",
      "metadata": {
        "id": "DZ63tgKbzIxO",
        "colab_type": "text"
      },
      "source": [
        "**alpha = 10000**"
      ]
    },
    {
      "cell_type": "code",
      "metadata": {
        "id": "jwrlkLTCyPPw",
        "colab_type": "code",
        "colab": {
          "base_uri": "https://localhost:8080/",
          "height": 52
        },
        "outputId": "8df4d445-4a6b-4437-bf8e-5f8890bdb737"
      },
      "source": [
        "from sklearn.linear_model import Lasso\n",
        "start_time = time.time()                                                                                  # Calculating the time taken to convert the dataset from CSV to dataframe\n",
        "\n",
        "rr = Lasso(alpha = 10000)\n",
        "rr.fit(X_train, y_train)\n",
        "pred = rr.predict(X_test)\n",
        "print(r2_score(y_test, pred) * 100)\n",
        "print(\"--- %s seconds ---\" % (time.time() - start_time))                                                  # Displaying the time in seconds"
      ],
      "execution_count": 109,
      "outputs": [
        {
          "output_type": "stream",
          "text": [
            "-0.0042252399236941685\n",
            "--- 0.020809650421142578 seconds ---\n"
          ],
          "name": "stdout"
        }
      ]
    },
    {
      "cell_type": "markdown",
      "metadata": {
        "id": "2nAVjxQYzMv_",
        "colab_type": "text"
      },
      "source": [
        "**alpha = 1000**"
      ]
    },
    {
      "cell_type": "code",
      "metadata": {
        "id": "m7oMkD7KyvvS",
        "colab_type": "code",
        "colab": {
          "base_uri": "https://localhost:8080/",
          "height": 52
        },
        "outputId": "54650eee-dd72-4856-cf0e-bbd3fbac0173"
      },
      "source": [
        "from sklearn.linear_model import Lasso\n",
        "start_time = time.time()                                                                                  # Calculating the time taken to convert the dataset from CSV to dataframe\n",
        "\n",
        "rr = Lasso(alpha = 1000)\n",
        "rr.fit(X_train, y_train)\n",
        "pred = rr.predict(X_test)\n",
        "print(r2_score(y_test, pred) * 100)\n",
        "print(\"--- %s seconds ---\" % (time.time() - start_time))                                                  # Displaying the time in seconds"
      ],
      "execution_count": 110,
      "outputs": [
        {
          "output_type": "stream",
          "text": [
            "40.188960421043895\n",
            "--- 0.023313045501708984 seconds ---\n"
          ],
          "name": "stdout"
        }
      ]
    },
    {
      "cell_type": "markdown",
      "metadata": {
        "id": "sU6wceAHzN_V",
        "colab_type": "text"
      },
      "source": [
        "**alpha = 100**"
      ]
    },
    {
      "cell_type": "code",
      "metadata": {
        "id": "MXl0iAxOzBFm",
        "colab_type": "code",
        "colab": {
          "base_uri": "https://localhost:8080/",
          "height": 52
        },
        "outputId": "382bd8f6-fd24-4560-9315-bf7b501fe54f"
      },
      "source": [
        "from sklearn.linear_model import Lasso\n",
        "start_time = time.time()                                                                                  # Calculating the time taken to convert the dataset from CSV to dataframe\n",
        "\n",
        "rr = Lasso(alpha = 100)\n",
        "rr.fit(X_train, y_train)\n",
        "pred = rr.predict(X_test)\n",
        "print(r2_score(y_test, pred) * 100)\n",
        "print(\"--- %s seconds ---\" % (time.time() - start_time))                                                  # Displaying the time in seconds"
      ],
      "execution_count": 111,
      "outputs": [
        {
          "output_type": "stream",
          "text": [
            "56.53602625199379\n",
            "--- 0.025652647018432617 seconds ---\n"
          ],
          "name": "stdout"
        }
      ]
    },
    {
      "cell_type": "markdown",
      "metadata": {
        "id": "qCNYsnfJzPaL",
        "colab_type": "text"
      },
      "source": [
        "**alpha = 10**"
      ]
    },
    {
      "cell_type": "code",
      "metadata": {
        "id": "EHaBtzbgzCm5",
        "colab_type": "code",
        "colab": {
          "base_uri": "https://localhost:8080/",
          "height": 52
        },
        "outputId": "8ab7dcc9-21eb-4190-957b-f4a81f1c140e"
      },
      "source": [
        "from sklearn.linear_model import Lasso\n",
        "start_time = time.time()                                                                                  # Calculating the time taken to convert the dataset from CSV to dataframe\n",
        "\n",
        "rr = Lasso(alpha = 10)\n",
        "rr.fit(X_train, y_train)\n",
        "pred = rr.predict(X_test)\n",
        "print(r2_score(y_test, pred) * 100)\n",
        "print(\"--- %s seconds ---\" % (time.time() - start_time))                                                  # Displaying the time in seconds"
      ],
      "execution_count": 112,
      "outputs": [
        {
          "output_type": "stream",
          "text": [
            "56.872121216214076\n",
            "--- 0.028223752975463867 seconds ---\n"
          ],
          "name": "stdout"
        }
      ]
    },
    {
      "cell_type": "markdown",
      "metadata": {
        "id": "7rTpy1gczQjR",
        "colab_type": "text"
      },
      "source": [
        "**alpha = 1**"
      ]
    },
    {
      "cell_type": "code",
      "metadata": {
        "id": "Vdp3NLn2zETx",
        "colab_type": "code",
        "colab": {
          "base_uri": "https://localhost:8080/",
          "height": 52
        },
        "outputId": "abd911e9-7e72-41a8-ea63-046281f67370"
      },
      "source": [
        "from sklearn.linear_model import Lasso\n",
        "start_time = time.time()                                                                                  # Calculating the time taken to convert the dataset from CSV to dataframe\n",
        "\n",
        "rr = Lasso(alpha = 1)\n",
        "rr.fit(X_train, y_train)\n",
        "pred = rr.predict(X_test)\n",
        "print(r2_score(y_test, pred) * 100)\n",
        "print(\"--- %s seconds ---\" % (time.time() - start_time))                                                  # Displaying the time in seconds"
      ],
      "execution_count": 113,
      "outputs": [
        {
          "output_type": "stream",
          "text": [
            "56.88514458882089\n",
            "--- 0.02813410758972168 seconds ---\n"
          ],
          "name": "stdout"
        }
      ]
    },
    {
      "cell_type": "markdown",
      "metadata": {
        "id": "6LAmf2YhzSBP",
        "colab_type": "text"
      },
      "source": [
        "**alpha = 0.1**"
      ]
    },
    {
      "cell_type": "code",
      "metadata": {
        "id": "axk60xuEzFk0",
        "colab_type": "code",
        "colab": {
          "base_uri": "https://localhost:8080/",
          "height": 52
        },
        "outputId": "8dc2a074-efd6-44b3-b245-422d981af823"
      },
      "source": [
        "from sklearn.linear_model import Lasso\n",
        "start_time = time.time()                                                                                  # Calculating the time taken to convert the dataset from CSV to dataframe\n",
        "\n",
        "rr = Lasso(alpha = 0.1)\n",
        "rr.fit(X_train, y_train)\n",
        "pred = rr.predict(X_test)\n",
        "print(r2_score(y_test, pred) * 100)\n",
        "print(\"--- %s seconds ---\" % (time.time() - start_time))                                                  # Displaying the time in seconds"
      ],
      "execution_count": 114,
      "outputs": [
        {
          "output_type": "stream",
          "text": [
            "56.88610417645656\n",
            "--- 0.03151345252990723 seconds ---\n"
          ],
          "name": "stdout"
        }
      ]
    },
    {
      "cell_type": "markdown",
      "metadata": {
        "id": "hDZjxB7OzTYx",
        "colab_type": "text"
      },
      "source": [
        "\n",
        "\n",
        "---\n",
        "\n"
      ]
    },
    {
      "cell_type": "markdown",
      "metadata": {
        "id": "x2X7AOF7zUP-",
        "colab_type": "text"
      },
      "source": [
        "### **L2 Regularization (Ridge)**"
      ]
    },
    {
      "cell_type": "markdown",
      "metadata": {
        "id": "ku4EOpnFzg5V",
        "colab_type": "text"
      },
      "source": [
        "**alpha = 10000**"
      ]
    },
    {
      "cell_type": "code",
      "metadata": {
        "id": "k5FgSUxAzZnS",
        "colab_type": "code",
        "colab": {
          "base_uri": "https://localhost:8080/",
          "height": 52
        },
        "outputId": "44ecb708-04c5-4d00-de16-027eb4ac6b01"
      },
      "source": [
        "from sklearn.linear_model import Ridge\n",
        "start_time = time.time()                                                                                  # Calculating the time taken to convert the dataset from CSV to dataframe\n",
        "\n",
        "rr = Ridge(alpha = 10000)\n",
        "rr.fit(X_train, y_train)\n",
        "pred = rr.predict(X_test)\n",
        "print(r2_score(y_test, pred) * 100)\n",
        "print(\"--- %s seconds ---\" % (time.time() - start_time))                                                  # Displaying the time in seconds"
      ],
      "execution_count": 115,
      "outputs": [
        {
          "output_type": "stream",
          "text": [
            "56.005916173458516\n",
            "--- 0.01839733123779297 seconds ---\n"
          ],
          "name": "stdout"
        }
      ]
    },
    {
      "cell_type": "markdown",
      "metadata": {
        "id": "1TCHEJmazsZ7",
        "colab_type": "text"
      },
      "source": [
        "**alpha = 1000**"
      ]
    },
    {
      "cell_type": "code",
      "metadata": {
        "id": "R038nipDzjo5",
        "colab_type": "code",
        "colab": {
          "base_uri": "https://localhost:8080/",
          "height": 52
        },
        "outputId": "a2889869-33dd-4b57-a6e8-0ba80cafaafd"
      },
      "source": [
        "from sklearn.linear_model import Ridge\n",
        "start_time = time.time()                                                                                  # Calculating the time taken to convert the dataset from CSV to dataframe\n",
        "\n",
        "rr = Ridge(alpha = 1000)\n",
        "rr.fit(X_train, y_train)\n",
        "pred = rr.predict(X_test)\n",
        "print(r2_score(y_test, pred) * 100)\n",
        "print(\"--- %s seconds ---\" % (time.time() - start_time))                                                  # Displaying the time in seconds"
      ],
      "execution_count": 116,
      "outputs": [
        {
          "output_type": "stream",
          "text": [
            "56.862126442879735\n",
            "--- 0.017227649688720703 seconds ---\n"
          ],
          "name": "stdout"
        }
      ]
    },
    {
      "cell_type": "markdown",
      "metadata": {
        "id": "p23sKgg0ztOw",
        "colab_type": "text"
      },
      "source": [
        "**alpha = 100**"
      ]
    },
    {
      "cell_type": "code",
      "metadata": {
        "id": "4r8zdgulzlwT",
        "colab_type": "code",
        "colab": {
          "base_uri": "https://localhost:8080/",
          "height": 52
        },
        "outputId": "e450581b-7420-42cc-bc8c-7d57981ffc48"
      },
      "source": [
        "from sklearn.linear_model import Ridge\n",
        "start_time = time.time()                                                                                  # Calculating the time taken to convert the dataset from CSV to dataframe\n",
        "\n",
        "rr = Ridge(alpha = 100)\n",
        "rr.fit(X_train, y_train)\n",
        "pred = rr.predict(X_test)\n",
        "print(r2_score(y_test, pred) * 100)\n",
        "print(\"--- %s seconds ---\" % (time.time() - start_time))                                                  # Displaying the time in seconds"
      ],
      "execution_count": 117,
      "outputs": [
        {
          "output_type": "stream",
          "text": [
            "56.88466608809992\n",
            "--- 0.02250051498413086 seconds ---\n"
          ],
          "name": "stdout"
        }
      ]
    },
    {
      "cell_type": "markdown",
      "metadata": {
        "id": "G1vx6bOdzuC_",
        "colab_type": "text"
      },
      "source": [
        "**alpha = 10**"
      ]
    },
    {
      "cell_type": "code",
      "metadata": {
        "id": "bLVERg8mzm9O",
        "colab_type": "code",
        "colab": {
          "base_uri": "https://localhost:8080/",
          "height": 52
        },
        "outputId": "0adfb809-fe1a-407f-80bf-f6ba75479bee"
      },
      "source": [
        "from sklearn.linear_model import Ridge\n",
        "start_time = time.time()                                                                                  # Calculating the time taken to convert the dataset from CSV to dataframe\n",
        "\n",
        "rr = Ridge(alpha = 10)\n",
        "rr.fit(X_train, y_train)\n",
        "pred = rr.predict(X_test)\n",
        "print(r2_score(y_test, pred) * 100)\n",
        "print(\"--- %s seconds ---\" % (time.time() - start_time))                                                  # Displaying the time in seconds"
      ],
      "execution_count": 118,
      "outputs": [
        {
          "output_type": "stream",
          "text": [
            "56.88605350312452\n",
            "--- 0.017293214797973633 seconds ---\n"
          ],
          "name": "stdout"
        }
      ]
    },
    {
      "cell_type": "markdown",
      "metadata": {
        "id": "9vLO2pk3zvQr",
        "colab_type": "text"
      },
      "source": [
        "**alpha = 1**"
      ]
    },
    {
      "cell_type": "code",
      "metadata": {
        "id": "fWSgVDQlzoYc",
        "colab_type": "code",
        "colab": {
          "base_uri": "https://localhost:8080/",
          "height": 52
        },
        "outputId": "4b56e477-27ba-405a-9fe0-a8cfa4170af3"
      },
      "source": [
        "from sklearn.linear_model import Ridge\n",
        "start_time = time.time()                                                                                  # Calculating the time taken to convert the dataset from CSV to dataframe\n",
        "\n",
        "rr = Ridge(alpha = 1)\n",
        "rr.fit(X_train, y_train)\n",
        "pred = rr.predict(X_test)\n",
        "print(r2_score(y_test, pred) * 100)\n",
        "print(\"--- %s seconds ---\" % (time.time() - start_time))                                                  # Displaying the time in seconds"
      ],
      "execution_count": 119,
      "outputs": [
        {
          "output_type": "stream",
          "text": [
            "56.88618326663119\n",
            "--- 0.020845651626586914 seconds ---\n"
          ],
          "name": "stdout"
        }
      ]
    },
    {
      "cell_type": "markdown",
      "metadata": {
        "id": "sostbvW7zxBz",
        "colab_type": "text"
      },
      "source": [
        "**alpha = 0.1**"
      ]
    },
    {
      "cell_type": "code",
      "metadata": {
        "id": "-VbEOG7Qzpup",
        "colab_type": "code",
        "colab": {
          "base_uri": "https://localhost:8080/",
          "height": 52
        },
        "outputId": "d79fb97a-b4c4-4cec-c962-a575aa385dc0"
      },
      "source": [
        "from sklearn.linear_model import Ridge\n",
        "start_time = time.time()                                                                                  # Calculating the time taken to convert the dataset from CSV to dataframe\n",
        "\n",
        "rr = Ridge(alpha = 0.1)\n",
        "rr.fit(X_train, y_train)\n",
        "pred = rr.predict(X_test)\n",
        "print(r2_score(y_test, pred) * 100)\n",
        "print(\"--- %s seconds ---\" % (time.time() - start_time))                                                  # Displaying the time in seconds"
      ],
      "execution_count": 120,
      "outputs": [
        {
          "output_type": "stream",
          "text": [
            "56.88619615287895\n",
            "--- 0.019679546356201172 seconds ---\n"
          ],
          "name": "stdout"
        }
      ]
    },
    {
      "cell_type": "markdown",
      "metadata": {
        "id": "hYoYRXpszyjW",
        "colab_type": "text"
      },
      "source": [
        "\n",
        "\n",
        "---\n",
        "\n"
      ]
    },
    {
      "cell_type": "markdown",
      "metadata": {
        "id": "mUD0o9WWzzLK",
        "colab_type": "text"
      },
      "source": [
        "## **MSE test vs MSE Train**\n",
        "\n",
        "This is one of the test used to check overfitting. The mean squared error (MSE) for the training, and, separately, for the test data is computed. If the MSE of the model on the test data is substantially higher than the MSE obtained on the training data, this is a sign of overfitting "
      ]
    },
    {
      "cell_type": "markdown",
      "metadata": {
        "id": "zTEH60PT0FCT",
        "colab_type": "text"
      },
      "source": [
        "**Training MSE**"
      ]
    },
    {
      "cell_type": "code",
      "metadata": {
        "id": "GQjb4hd1z_8Y",
        "colab_type": "code",
        "colab": {}
      },
      "source": [
        "from sklearn.ensemble import RandomForestRegressor\n",
        "clf = RandomForestRegressor()\n",
        "clf.fit(X_train, y_train)\n",
        "pred = clf.predict(X_train)"
      ],
      "execution_count": 0,
      "outputs": []
    },
    {
      "cell_type": "code",
      "metadata": {
        "id": "ZQuEpuFL0Rwi",
        "colab_type": "code",
        "colab": {
          "base_uri": "https://localhost:8080/",
          "height": 104
        },
        "outputId": "f7b3e5e2-ad0d-4e94-8149-ad42833fe8cf"
      },
      "source": [
        "print(\"Mean Absolute Error is :\", mean_absolute_error(y_train, pred))\n",
        "print(\" — — — — — — — — — — — — — — — — — — — — — — — \")\n",
        "print(\"Mean Squared Error is :\", mean_squared_error(y_train, pred))\n",
        "print(\" — — — — — — — — — — — — — — — — — — — — — — — \")\n",
        "print(\"The R2 square value of Random Forest Regression is :\",clf.score(X_train, y_train)* 100)"
      ],
      "execution_count": 122,
      "outputs": [
        {
          "output_type": "stream",
          "text": [
            "Mean Absolute Error is : 425.933145314979\n",
            " — — — — — — — — — — — — — — — — — — — — — — — \n",
            "Mean Squared Error is : 409102.6184415157\n",
            " — — — — — — — — — — — — — — — — — — — — — — — \n",
            "The R2 square value of Random Forest Regression is : 97.86171715541867\n"
          ],
          "name": "stdout"
        }
      ]
    },
    {
      "cell_type": "markdown",
      "metadata": {
        "id": "gd05OWf10WzY",
        "colab_type": "text"
      },
      "source": [
        "**Testing MSE**"
      ]
    },
    {
      "cell_type": "code",
      "metadata": {
        "id": "frZWdixZ0UuP",
        "colab_type": "code",
        "colab": {}
      },
      "source": [
        "from sklearn.ensemble import RandomForestRegressor\n",
        "clf = RandomForestRegressor()\n",
        "clf.fit(X_test, y_test)\n",
        "pred = clf.predict(X_test)"
      ],
      "execution_count": 0,
      "outputs": []
    },
    {
      "cell_type": "code",
      "metadata": {
        "id": "-NQBYvhB0cw2",
        "colab_type": "code",
        "colab": {
          "base_uri": "https://localhost:8080/",
          "height": 104
        },
        "outputId": "09285106-289d-441c-e7b9-7b74e2513f82"
      },
      "source": [
        "print(\"Mean Absolute Error is :\", mean_absolute_error(y_test, pred))\n",
        "print(\" — — — — — — — — — — — — — — — — — — — — — — — \")\n",
        "print(\"Mean Squared Error is :\", mean_squared_error(y_test, pred))\n",
        "print(\" — — — — — — — — — — — — — — — — — — — — — — — \")\n",
        "print(\"The R2 square value of Random Forest Regression is :\",clf.score(X_test, y_test)* 100)"
      ],
      "execution_count": 125,
      "outputs": [
        {
          "output_type": "stream",
          "text": [
            "Mean Absolute Error is : 452.12478346760327\n",
            " — — — — — — — — — — — — — — — — — — — — — — — \n",
            "Mean Squared Error is : 451208.3471292572\n",
            " — — — — — — — — — — — — — — — — — — — — — — — \n",
            "The R2 square value of Random Forest Regression is : 97.66177512764297\n"
          ],
          "name": "stdout"
        }
      ]
    },
    {
      "cell_type": "markdown",
      "metadata": {
        "id": "ERiO0vIU0s-j",
        "colab_type": "text"
      },
      "source": [
        "As seen from above both the MSE and MAE of training set is not significantly higher  than  the  training  set.   Also,  to  support  let’s  perform  T-test  to  check  the difference between the MSE values of training and testing set."
      ]
    },
    {
      "cell_type": "markdown",
      "metadata": {
        "id": "aqcSvEby0xet",
        "colab_type": "text"
      },
      "source": [
        "\n",
        "\n",
        "---\n",
        "\n"
      ]
    },
    {
      "cell_type": "markdown",
      "metadata": {
        "id": "2ibswGfI0x8Y",
        "colab_type": "text"
      },
      "source": [
        "**T-test**"
      ]
    },
    {
      "cell_type": "code",
      "metadata": {
        "id": "X5isGApt1NK-",
        "colab_type": "code",
        "colab": {
          "base_uri": "https://localhost:8080/",
          "height": 52
        },
        "outputId": "d22ba2e7-3025-4e8d-d320-ea28cb7bf4b3"
      },
      "source": [
        "## Import the packages\n",
        "import numpy as np\n",
        "from scipy import stats\n",
        "\n",
        "\n",
        "## Define 2 random distributions\n",
        "#Sample Size\n",
        "N = 10\n",
        "a = np.array ([409055.7933 ,  411257.5183 ,  410579.1215])\n",
        "b = np.array ([455373.9379 ,  455426.4436 ,  455794.1234])\n",
        "\n",
        "## Calculate the Standard Deviation\n",
        "#Calculate the variance to get the standard deviation\n",
        "\n",
        "#For unbiased max likelihood estimate we have to divide the var by N-1, and therefore the parameter ddof = 1\n",
        "var_a = a.var(ddof=1)\n",
        "var_b = b.var(ddof=1)\n",
        "\n",
        "#std deviation\n",
        "s = np.sqrt((var_a + var_b)/2)\n",
        "s\n",
        "\n",
        "\n",
        "\n",
        "## Calculate the t-statistics\n",
        "t = (a.mean() - b.mean())/(s*np.sqrt(2/N))\n",
        "\n",
        "\n",
        "\n",
        "## Compare with the critical t-value\n",
        "#Degrees of freedom\n",
        "df = 2*N - 2\n",
        "\n",
        "#p-value after comparison with the t \n",
        "p = 1 - stats.t.cdf(t,df=df)\n",
        "\n",
        "\n",
        "print(\"t = \" + str(t))\n",
        "print(\"p = \" + str(2*p/100))\n",
        "### You can see that after comparing the t statistic with the critical t value (computed internally) we get a good p value of 0.0005 and thus we reject the null hypothesis and thus it proves that the mean of the two distributions are different and statistically significant.\n",
        "\n"
      ],
      "execution_count": 126,
      "outputs": [
        {
          "output_type": "stream",
          "text": [
            "t = -124.32337778426184\n",
            "p = 0.02\n"
          ],
          "name": "stdout"
        }
      ]
    },
    {
      "cell_type": "markdown",
      "metadata": {
        "id": "-JQ-EZI51caU",
        "colab_type": "text"
      },
      "source": [
        "As seen from the above results the t-test and p value are significantly low.  This indicates that the model is not overfitting."
      ]
    },
    {
      "cell_type": "markdown",
      "metadata": {
        "id": "09W6hfFe1d8_",
        "colab_type": "text"
      },
      "source": [
        "\n",
        "\n",
        "---\n",
        "\n"
      ]
    },
    {
      "cell_type": "markdown",
      "metadata": {
        "id": "qTtBvKjq1jkv",
        "colab_type": "text"
      },
      "source": [
        "## **Model Performance Assessment**\n",
        "\n",
        "The model shown above is trained and tested well. The test set contains the examples that the learning algorithm has never seen before, so if our model performs well on predicting the labels of the examples from the test set, we can say that our model generalizes well or, simply, that it’s good. All the parameters were chosen from the grid search cv results.\n"
      ]
    },
    {
      "cell_type": "code",
      "metadata": {
        "id": "Tq2-3u0x2Zz7",
        "colab_type": "code",
        "colab": {
          "base_uri": "https://localhost:8080/",
          "height": 52
        },
        "outputId": "04d7431b-0159-4d2a-c318-881a78a25ee9"
      },
      "source": [
        "from sklearn.ensemble import RandomForestRegressor\n",
        "start_time = time.time()                                                                                  # Calculating the time taken to convert the dataset from CSV to dataframe\n",
        "\n",
        "rfr = RandomForestRegressor(max_depth= 16, max_features=10, min_samples_leaf=2, n_estimators=350).fit(X_train, y_train)\n",
        "pred = rfr.predict(X_test)\n",
        "print(r2_score(y_test, pred)* 100)\n",
        "print(\"--- %s seconds ---\" % (time.time() - start_time))           "
      ],
      "execution_count": 130,
      "outputs": [
        {
          "output_type": "stream",
          "text": [
            "85.99503962884634\n",
            "--- 40.58843374252319 seconds ---\n"
          ],
          "name": "stdout"
        }
      ]
    },
    {
      "cell_type": "code",
      "metadata": {
        "id": "XWdNrkxZ16na",
        "colab_type": "code",
        "colab": {
          "base_uri": "https://localhost:8080/",
          "height": 69
        },
        "outputId": "3cd1db88-7df5-4b24-f4e2-c9e7bc183346"
      },
      "source": [
        "print(\"Mean Absolute Error is :\", mean_absolute_error(y_test, pred))\n",
        "print(\" — — — — — — — — — — — — — — — — — — — — — — — \")\n",
        "print(\"Mean Squared Error is :\", mean_squared_error(y_test, pred))"
      ],
      "execution_count": 131,
      "outputs": [
        {
          "output_type": "stream",
          "text": [
            "Mean Absolute Error is : 1108.9950075720315\n",
            " — — — — — — — — — — — — — — — — — — — — — — — \n",
            "Mean Squared Error is : 2702543.7524787914\n"
          ],
          "name": "stdout"
        }
      ]
    },
    {
      "cell_type": "code",
      "metadata": {
        "id": "llvkbQJq2sS8",
        "colab_type": "code",
        "colab": {
          "base_uri": "https://localhost:8080/",
          "height": 415
        },
        "outputId": "36122dca-5568-4c85-d62e-c6495b8e032d"
      },
      "source": [
        "df = pd.DataFrame({'Actual': y_test, 'Predicted': pred})\n",
        "df"
      ],
      "execution_count": 133,
      "outputs": [
        {
          "output_type": "execute_result",
          "data": {
            "text/html": [
              "<div>\n",
              "<style scoped>\n",
              "    .dataframe tbody tr th:only-of-type {\n",
              "        vertical-align: middle;\n",
              "    }\n",
              "\n",
              "    .dataframe tbody tr th {\n",
              "        vertical-align: top;\n",
              "    }\n",
              "\n",
              "    .dataframe thead th {\n",
              "        text-align: right;\n",
              "    }\n",
              "</style>\n",
              "<table border=\"1\" class=\"dataframe\">\n",
              "  <thead>\n",
              "    <tr style=\"text-align: right;\">\n",
              "      <th></th>\n",
              "      <th>Actual</th>\n",
              "      <th>Predicted</th>\n",
              "    </tr>\n",
              "  </thead>\n",
              "  <tbody>\n",
              "    <tr>\n",
              "      <th>69709</th>\n",
              "      <td>3500</td>\n",
              "      <td>3691.371671</td>\n",
              "    </tr>\n",
              "    <tr>\n",
              "      <th>94102</th>\n",
              "      <td>6990</td>\n",
              "      <td>7190.659175</td>\n",
              "    </tr>\n",
              "    <tr>\n",
              "      <th>75249</th>\n",
              "      <td>5350</td>\n",
              "      <td>10160.498855</td>\n",
              "    </tr>\n",
              "    <tr>\n",
              "      <th>20486</th>\n",
              "      <td>3499</td>\n",
              "      <td>3483.088415</td>\n",
              "    </tr>\n",
              "    <tr>\n",
              "      <th>1100</th>\n",
              "      <td>15900</td>\n",
              "      <td>10565.029122</td>\n",
              "    </tr>\n",
              "    <tr>\n",
              "      <th>...</th>\n",
              "      <td>...</td>\n",
              "      <td>...</td>\n",
              "    </tr>\n",
              "    <tr>\n",
              "      <th>32463</th>\n",
              "      <td>5500</td>\n",
              "      <td>3613.505765</td>\n",
              "    </tr>\n",
              "    <tr>\n",
              "      <th>82985</th>\n",
              "      <td>18777</td>\n",
              "      <td>18838.251637</td>\n",
              "    </tr>\n",
              "    <tr>\n",
              "      <th>26207</th>\n",
              "      <td>1399</td>\n",
              "      <td>1021.315200</td>\n",
              "    </tr>\n",
              "    <tr>\n",
              "      <th>65972</th>\n",
              "      <td>2499</td>\n",
              "      <td>5842.200440</td>\n",
              "    </tr>\n",
              "    <tr>\n",
              "      <th>53083</th>\n",
              "      <td>7000</td>\n",
              "      <td>9262.167416</td>\n",
              "    </tr>\n",
              "  </tbody>\n",
              "</table>\n",
              "<p>18832 rows × 2 columns</p>\n",
              "</div>"
            ],
            "text/plain": [
              "       Actual     Predicted\n",
              "69709    3500   3691.371671\n",
              "94102    6990   7190.659175\n",
              "75249    5350  10160.498855\n",
              "20486    3499   3483.088415\n",
              "1100    15900  10565.029122\n",
              "...       ...           ...\n",
              "32463    5500   3613.505765\n",
              "82985   18777  18838.251637\n",
              "26207    1399   1021.315200\n",
              "65972    2499   5842.200440\n",
              "53083    7000   9262.167416\n",
              "\n",
              "[18832 rows x 2 columns]"
            ]
          },
          "metadata": {
            "tags": []
          },
          "execution_count": 133
        }
      ]
    },
    {
      "cell_type": "code",
      "metadata": {
        "id": "GdPQio5720Tq",
        "colab_type": "code",
        "colab": {
          "base_uri": "https://localhost:8080/",
          "height": 369
        },
        "outputId": "62f56a67-4acb-41cc-8fb0-e9cfe011471f"
      },
      "source": [
        "df1 = df.head(35)\n",
        "df1.plot(kind='bar',figsize=(10,5.5))\n",
        "plt.grid(which='major', linestyle='-', linewidth='0.5', color='green')\n",
        "plt.grid(which='minor', linestyle=':', linewidth='0.5', color='black')\n",
        "plt.show()"
      ],
      "execution_count": 134,
      "outputs": [
        {
          "output_type": "display_data",
          "data": {
            "image/png": "[encoded data removed]",
            "text/plain": [
              "<Figure size 720x396 with 1 Axes>"
            ]
          },
          "metadata": {
            "tags": []
          }
        }
      ]
    },
    {
      "cell_type": "markdown",
      "metadata": {
        "id": "YU6_QhMV23dW",
        "colab_type": "text"
      },
      "source": [
        "\n",
        "\n",
        "---\n",
        "\n"
      ]
    }
  ]
}